{
  "nbformat": 4,
  "nbformat_minor": 0,
  "metadata": {
    "colab": {
      "provenance": [],
      "authorship_tag": "ABX9TyM2H6Mjj+iGs6EM1NBgg1r1",
      "include_colab_link": true
    },
    "kernelspec": {
      "name": "python3",
      "display_name": "Python 3"
    },
    "language_info": {
      "name": "python"
    }
  },
  "cells": [
    {
      "cell_type": "markdown",
      "metadata": {
        "id": "view-in-github",
        "colab_type": "text"
      },
      "source": [
        "<a href=\"https://colab.research.google.com/github/PosgradoMNA/actividades-de-aprendizaje-JoelOrlandoHR/blob/main/Notas_IBM_Module_2.ipynb\" target=\"_parent\"><img src=\"https://colab.research.google.com/assets/colab-badge.svg\" alt=\"Open In Colab\"/></a>"
      ]
    },
    {
      "cell_type": "code",
      "execution_count": 8,
      "metadata": {
        "colab": {
          "base_uri": "https://localhost:8080/"
        },
        "id": "6t05ccBdPSHY",
        "outputId": "5cd65978-aed8-43a3-eae2-0dd08ea2619f"
      },
      "outputs": [
        {
          "output_type": "execute_result",
          "data": {
            "text/plain": [
              "['b', 'c']"
            ]
          },
          "metadata": {},
          "execution_count": 8
        }
      ],
      "source": [
        "#IBM Lists and Tuples\n",
        "\n",
        "    #Tuples is an ordered sequence separate by commas.\n",
        "    #Tuples can be formed by different types of variables (float, integer, etc.)\n",
        "    #Tuples type is tuple. Indexes can be used in tuples as well.\n",
        "    #Tuples are inmutable. Therefore, if you want to change a tuple you have to create a new one.\n",
        "    #Tuples can be inside tuples. It is called nesting\n",
        "    #You can access the elements and characters inside a tuple. Just like a tree.\n",
        "    #Tuples are represented by ()\n",
        "\n",
        "    #Lists are also ordered\n",
        "    #Represented by []\n",
        "    #Lists are mutable\n",
        "    #Lists are mutable therefore you can concatenate by using + or Lists.extend\n",
        "    #Lists.append add to the list ONE element.\n",
        "    #Lists can be deleted with \"del\" and also splited with split() or split(\",\")\n",
        "\n",
        "\n",
        "A=(0,1,2,4)\n",
        "A[-1]\n",
        "\n",
        "B=[\"a\",\"b\",\"c\"]\n",
        "B[1:]\n",
        "\n",
        "a_list=[1,\"hello\",[1,2,3],True]\n",
        "a_list\n",
        "\n",
        "a_list[1:4]\n",
        "\n",
        "C = [1, 'a']\n",
        "D = [2, 1, 'd']\n",
        "E = A+B\n",
        "E"
      ]
    },
    {
      "cell_type": "code",
      "source": [
        "#IBM Sets\n",
        "\n",
        "    #Sets are unordered. They are delimited by brakets {}.\n",
        "    #They have unique elements. A list can be converted to a set by using set()\n",
        "    #You can do several mathematical operations in a set. Like .add or .remove \n",
        "    #You can also look for a \"Word\" in a Set. \n",
        "    #You can use logical operators like \"and\" to get the repeated elements between two sets\n",
        "    #You can use \"union\" to create one set containing all elements.\n",
        "    #You can use \".issubset\" to see if one set is inside of another. \n",
        "\n",
        "S={'A','B','C'}\n",
        "\n",
        "U={'A','Z','C'}\n",
        "\n",
        "U.union(S)\n",
        "print(S&U)\n",
        "\n",
        "A = [1, 2, 2, 1]  \n",
        "B = set([1, 2, 2, 1])\n",
        "print(\"the sum of A is:\", sum(A))\n",
        "print(\"the sum of B is:\", sum(B))\n",
        "\n",
        "album_set1 = set([\"Thriller\", 'AC/DC', 'Back in Black'])\n",
        "album_set2 = set([ \"AC/DC\", \"Back in Black\", \"The Dark Side of the Moon\"])\n",
        "album_set3 = album_set1.union(album_set2)\n",
        "album_set3\n",
        "\n",
        "album_set1.issubset(album_set3)\n"
      ],
      "metadata": {
        "colab": {
          "base_uri": "https://localhost:8080/"
        },
        "id": "Uo9i8ra1UQWr",
        "outputId": "1d3162d6-41f7-4960-ffe5-19c548ad5f82"
      },
      "execution_count": 10,
      "outputs": [
        {
          "output_type": "stream",
          "name": "stdout",
          "text": [
            "{'C', 'A'}\n"
          ]
        }
      ]
    },
    {
      "cell_type": "code",
      "source": [
        "#IBM Dictonaries\n",
        "\n",
        "    #Dictonaries are created by using curly brackets. \n",
        "    #The difference with a list is that instead of using indexes we use keys\n",
        "    #Keys are similar to indexes but they can be any character. They are used to locate a value\n",
        "    #Entries in the dictonary can be added or deleted.\n",
        "    #You can use the function find to know whether that entry exists or not.\n",
        "    #YOu can use the method .keys() to display all keys. \n",
        "    #same for .values()\n",
        "\n",
        "D = {'a':0,'b':1,'c':2}\n",
        "\n",
        "D.values()\n",
        "\n",
        "D['b']\n",
        "\n",
        "soundtrack_dic = {\"The Bodyguard\":\"1992\", \"Saturday Night Fever\":\"1977\"}\n",
        "soundtrack_dic \n",
        "soundtrack_dic.keys()\n",
        "soundtrack_dic.values()\n",
        "\n",
        "\n",
        "album_sales_dic={\"Back in Black\":\"50\", \"The Bodyguard\":\"50\", \"Thriller\":\"65\"}\n",
        "album_sales_dic[\"Thriller\"]\n",
        "album_sales_dic.values()\n",
        "album_sales_dic.keys()"
      ],
      "metadata": {
        "colab": {
          "base_uri": "https://localhost:8080/"
        },
        "id": "VVJUrt2Cg4So",
        "outputId": "b1e24971-87c6-42f0-f7a5-79b2697d8eab"
      },
      "execution_count": 13,
      "outputs": [
        {
          "output_type": "execute_result",
          "data": {
            "text/plain": [
              "dict_values([0, 1, 2])"
            ]
          },
          "metadata": {},
          "execution_count": 13
        }
      ]
    },
    {
      "cell_type": "code",
      "source": [
        "#REVIEW QUESTIONS \n",
        "\n",
        "A = ('a','b','c')\n",
        "\n",
        "print(A[0])\n",
        "\n",
        "L=['a','b','c']\n",
        "\n",
        "L.append(['a','b'])\n",
        "\n",
        "print(L)\n",
        "\n",
        "Dict={\"A\":1,\"B\":\"2\",\"C\":[3,3,3],\"D\":(4,4,4),'E':5,'F':6}"
      ],
      "metadata": {
        "colab": {
          "base_uri": "https://localhost:8080/"
        },
        "id": "O-VbYT27hNwI",
        "outputId": "e3b6a14f-3755-4064-fa20-4f57e07c5ce3"
      },
      "execution_count": 21,
      "outputs": [
        {
          "output_type": "stream",
          "name": "stdout",
          "text": [
            "a\n",
            "['a', 'b', 'c', ['a', 'b']]\n"
          ]
        }
      ]
    }
  ]
}