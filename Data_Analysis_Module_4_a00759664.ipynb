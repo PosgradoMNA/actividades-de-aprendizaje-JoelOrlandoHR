{
  "cells": [
    {
      "cell_type": "markdown",
      "metadata": {
        "id": "view-in-github",
        "colab_type": "text"
      },
      "source": [
        "<a href=\"https://colab.research.google.com/github/PosgradoMNA/actividades-de-aprendizaje-JoelOrlandoHR/blob/main/Data_Analysis_Module_4_a00759664.ipynb\" target=\"_parent\"><img src=\"https://colab.research.google.com/assets/colab-badge.svg\" alt=\"Open In Colab\"/></a>"
      ]
    },
    {
      "cell_type": "markdown",
      "source": [
        "#**Maestría en Inteligencia Artificial Aplicada**\n",
        "##**Curso: Ciencia y analítica de datos**\n",
        "###Tecnológico de Monterrey\n",
        "### **Semana 7** - **Data Analysis with Python- Módulo 4**\n",
        "###Prof Jobish Vallikavungal Devassia\n",
        "<br>\n",
        "\n",
        "###Alumno: Joel Orlando Hernández Ramos\n",
        "###Matrícula: A00759664\n",
        "\n",
        "\n",
        "\n",
        "Fecha de entrega: Noviembre 1, 2022"
      ],
      "metadata": {
        "id": "Dix_3RB8n2HP"
      }
    },
    {
      "cell_type": "markdown",
      "source": [
        "# VIDEOS SUMMARY\n",
        "\n",
        "A model or estimator can be thought of as a mathematical equation used to predict a value given one or more other values.\n",
        "\n",
        "##Simple and Multiple Linear Regression (First Video Summary)\n",
        "\n",
        "Linear Regression refers to one independent variable to make a prediction. A method to help understand the relationship between the independent variable X - the predictor, and the dependent variable Y - the target. \n",
        "\n",
        "Ŷ = b0 + b1x   ;   where b0 = intercept and b1 = the slope \n",
        "\n",
        "If we assume, there is a linear relationship between the variables, we can use this relationship to formulate a model to obtain a prediction. \n",
        "It starts with a set of training points, and these training points can be used to fit or train the model and get parameters, considering a level of uncertainty by assuming a small random value (noise) is added to the points, that is why it is only considered an estimate, which is represented with Ŷ.\n",
        "\n",
        "Function lm = linear_model() used to create a linear regression object.\n",
        "Function lm.fit(X,Y)used to  fit the model and find the parameters b0 and b1.\n",
        "Method lm.predict() used to obtain a prediction as an array.\n",
        "lm.intercept_ to view b0 \n",
        "lm.coef_ to view b1\n",
        "\n",
        "Multiple Linear Regression refers to multiple independent variables to make a prediction, one continuous target (Y) variable, and -2 or more predictor (X) variables.\n",
        "\n",
        "Y = b0 + b1x + b2x2 + b3x3 … + bnxn  \n",
        "The predictor variables have to be extracted and stored as a new variable before repeating the fitting and predicting steps:\n",
        "\n",
        "Z = df (“x1”, …,”xn”)\n",
        "\n",
        "The output of the model is again an array, but this time with the same number of elements as number of samples.\n",
        "\n",
        "##Model Evaluation using Visualization   (Second Video Summary)\n",
        "\n",
        "Regression plots are a good estimate of the relationship between two variables, the strength of the correlation, and the direction of the relationship (positive or negative).\n",
        "\n",
        "Function regplot(x, y, data) from the seaborn library is a simple way to plot a regression plot.\n",
        "\n",
        "The residual plot represents the error between the actual values. It is expected to see the distributed evenly and randomly around the x axis with similar variance and no pattern or curvature, suggesting that a linear assumption is appropriate.\n",
        "\n",
        "Function residplot(df(feature), df(target)) from the seaborn library is a simple way to plot a residual plot.\n",
        "\n",
        "A distribution plot counts the predicted value versus the actual value, useful for visualizing models with more than one independent variable or feature.\n",
        "\n",
        "sns.distplot(df(actual values), hist=False, color, label)\n",
        "\n",
        "The predicted values are included for the second plot.\n",
        "sns.distplot(Ŷ, hist=False, color, label, ax=(predicted values)).\n",
        "\n",
        "\n",
        "##Polynomial Regression and Pipelines (Third Video Summary)\n",
        "\n",
        "Polynomial regression is a special case of the general linear regression, beneficial for describing curvilinear relationships, especially when a linear model is not the best fit for our data.\n",
        "\n",
        "Curvilinear relationship it’s what you get by squaring or setting higher-order terms of the predictor variables by transforming the data. In all cases, the relationship between the variable and the parameter is always linear.\n",
        "\n",
        "np.polyfit(x,y,order) \n",
        "function generates a polynomial regression model.\n",
        "\n",
        "For a multi-dimensional polynomial linear regression, the preprocessing library is used to create a polynomial feature object.\n",
        "The constructor PolynomialFeatures takes the degree of the polynomial as a parameter.\n",
        "\n",
        "The fit_transform method transforms the features into a polynomial feature\n",
        "StandardScaler method helps to simplify tasks, multiple features can be normalized and standardized simultaneously.\n",
        "\n",
        "Pipelines can simplify our code by using a pipeline library. They sequentially perform a series of transformations and only need one last step that carries out a prediction.\n",
        "\n",
        "Pipeline(Input)\n",
        "\n",
        "The input elements are the modules discussed before:\n",
        "\n",
        "Scale = StandardScaler()\n",
        "Polynomial = PolynomialFeatures(degree,)\n",
        "Model = LinearRegression()\n",
        "\n",
        "We can train the pipeline and also produce a prediction as well with Pipe.train()and Pipe.predict()\n",
        "\n",
        "\n",
        "##R-squared and MSE for In-Sample Evaluation  (Fourth Video Summary)\n",
        "\n",
        "Numerically determinations and measures of how good the model fits on our data.\n",
        "\n",
        "Mean Square Error (MSE), finds the difference between the actual value Y and the predicted value Ŷ then square it. Then we take the average of all the errors by adding then all together and dividing by the number of samples.\n",
        "\n",
        "mean_squared_error() function gets two inputs: the actual and predicted value of the target variable.\n",
        "\n",
        "R-squared, also called the coefficient of determination, measures how close the data is to the fitted regression line. If the variable x is a good predictor the model should perform much better than using just the mean.\n",
        "\n",
        "R2 value is usually between 0 - 1\n",
        "\n",
        "lm.score() method in the linear regression gives us the approximation that the simple linear model can actually explain.\n",
        "\n",
        "##Prediction and Decision Making(Fifth Video)\n",
        "\n",
        "Steps to determine if our model is correct: visualization, numerical evaluation, and model comparison.\n",
        "When the model produces values that don't make sense, this could be because the values in that range are not realistic, the linear assumption is incorrect, or we don't have data in that range.\n",
        "New values can be created with the np.range(starting point, end point, step size) function to generate a sequence of values in a specified range when we have missing data.\n",
        "Things to have to have in mind for data analysis:\n",
        "\n",
        "•\tUse a regression plot to visualize your data, looking for data trends and non-linear behaviors.\n",
        "\n",
        "•\tExamine the Residual plot looking for curvatures.\n",
        "\n",
        "•\tDistribution plots are a good method for Multiple Linear Regression.\n",
        "\n",
        "•\tThe MSE is the most intuitive Numerical measure, as the square error increases, the targets get further from the predicted points.\n",
        "\n",
        "•\tMSE for an MLR model will be smaller than the MSE for an SLR model.\n",
        "\n",
        "•\tPolynomial regression will also have a smaller MSE than the Regular Regression.\n",
        "\n",
        "•\tA similar inverse relationship holds for R2.\n",
        "\n",
        "\n"
      ],
      "metadata": {
        "id": "fo2PpuLwJ5te"
      }
    },
    {
      "cell_type": "markdown",
      "source": [
        "# LABORATORY FOR MODULE 4\n",
        "\n",
        "This was imported directly from the course. Then it was modified with my notes/comments and solved. "
      ],
      "metadata": {
        "id": "wk9v_z1oKsv2"
      }
    },
    {
      "cell_type": "markdown",
      "source": [
        "<center>\n",
        "    <img src=\"https://cf-courses-data.s3.us.cloud-object-storage.appdomain.cloud/IBMDeveloperSkillsNetwork-DA0101EN-SkillsNetwork/labs/Module%204/images/IDSNlogo.png\" width=\"300\" alt=\"cognitiveclass.ai logo\"  />\n",
        "</center>\n",
        "\n",
        "# Model Development\n",
        "\n",
        "Estimated time needed: **30** minutes\n",
        "\n",
        "## Objectives\n",
        "\n",
        "After completing this lab you will be able to:\n",
        "\n",
        "*   Develop prediction models\n"
      ],
      "metadata": {
        "id": "0Ov_v_ik0IUl"
      }
    },
    {
      "cell_type": "markdown",
      "source": [
        "<p>In this section, we will develop several models that will predict the price of the car using the variables or features. This is just an estimate but should give us an objective idea of how much the car should cost.</p>\n"
      ],
      "metadata": {
        "id": "-MP7-w3b0IUr"
      }
    },
    {
      "cell_type": "markdown",
      "source": [
        "Some questions we want to ask in this module\n",
        "\n",
        "<ul>\n",
        "    <li>Do I know if the dealer is offering fair value for my trade-in?</li>\n",
        "    <li>Do I know if I put a fair value on my car?</li>\n",
        "</ul>\n",
        "<p>In data analytics, we often use <b>Model Development</b> to help us predict future observations from the data we have.</p>\n",
        "\n",
        "<p>A model will help us understand the exact relationship between different variables and how these variables are used to predict the result.</p>\n"
      ],
      "metadata": {
        "id": "58bxuzhR0IUu"
      }
    },
    {
      "cell_type": "markdown",
      "source": [
        "<h4>Setup</h4>\n"
      ],
      "metadata": {
        "id": "tdMH6xEZ0IUx"
      }
    },
    {
      "cell_type": "markdown",
      "source": [
        "Import libraries:\n"
      ],
      "metadata": {
        "id": "0ti9qe6I0IUz"
      }
    },
    {
      "cell_type": "code",
      "source": [
        "import pandas as pd\n",
        "import numpy as np\n",
        "import matplotlib.pyplot as plt"
      ],
      "metadata": {
        "trusted": true,
        "id": "LL2JK0tk0IVB"
      },
      "execution_count": 1,
      "outputs": []
    },
    {
      "cell_type": "code",
      "source": [
        "path = 'https://cf-courses-data.s3.us.cloud-object-storage.appdomain.cloud/IBMDeveloperSkillsNetwork-DA0101EN-SkillsNetwork/labs/Data%20files/automobileEDA.csv'"
      ],
      "metadata": {
        "trusted": true,
        "id": "ZZJnXzRH0IVJ"
      },
      "execution_count": 2,
      "outputs": []
    },
    {
      "cell_type": "markdown",
      "source": [
        "Load the data and store it in dataframe `df`:\n"
      ],
      "metadata": {
        "id": "jipw3hWb0IVN"
      }
    },
    {
      "cell_type": "code",
      "source": [
        "\n",
        "df = pd.read_csv(path)\n",
        "df.head()"
      ],
      "metadata": {
        "trusted": true,
        "id": "1tcPIZPY0IVP",
        "colab": {
          "base_uri": "https://localhost:8080/",
          "height": 386
        },
        "outputId": "5942aeb4-a67a-415b-a6b5-a774451f34ee"
      },
      "execution_count": 3,
      "outputs": [
        {
          "output_type": "execute_result",
          "data": {
            "text/plain": [
              "   symboling  normalized-losses         make aspiration num-of-doors  \\\n",
              "0          3                122  alfa-romero        std          two   \n",
              "1          3                122  alfa-romero        std          two   \n",
              "2          1                122  alfa-romero        std          two   \n",
              "3          2                164         audi        std         four   \n",
              "4          2                164         audi        std         four   \n",
              "\n",
              "    body-style drive-wheels engine-location  wheel-base    length  ...  \\\n",
              "0  convertible          rwd           front        88.6  0.811148  ...   \n",
              "1  convertible          rwd           front        88.6  0.811148  ...   \n",
              "2    hatchback          rwd           front        94.5  0.822681  ...   \n",
              "3        sedan          fwd           front        99.8  0.848630  ...   \n",
              "4        sedan          4wd           front        99.4  0.848630  ...   \n",
              "\n",
              "   compression-ratio  horsepower  peak-rpm city-mpg highway-mpg    price  \\\n",
              "0                9.0       111.0    5000.0       21          27  13495.0   \n",
              "1                9.0       111.0    5000.0       21          27  16500.0   \n",
              "2                9.0       154.0    5000.0       19          26  16500.0   \n",
              "3               10.0       102.0    5500.0       24          30  13950.0   \n",
              "4                8.0       115.0    5500.0       18          22  17450.0   \n",
              "\n",
              "  city-L/100km  horsepower-binned  diesel  gas  \n",
              "0    11.190476             Medium       0    1  \n",
              "1    11.190476             Medium       0    1  \n",
              "2    12.368421             Medium       0    1  \n",
              "3     9.791667             Medium       0    1  \n",
              "4    13.055556             Medium       0    1  \n",
              "\n",
              "[5 rows x 29 columns]"
            ],
            "text/html": [
              "\n",
              "  <div id=\"df-11260df5-7a9c-4a6b-ae42-eeac8619bcbc\">\n",
              "    <div class=\"colab-df-container\">\n",
              "      <div>\n",
              "<style scoped>\n",
              "    .dataframe tbody tr th:only-of-type {\n",
              "        vertical-align: middle;\n",
              "    }\n",
              "\n",
              "    .dataframe tbody tr th {\n",
              "        vertical-align: top;\n",
              "    }\n",
              "\n",
              "    .dataframe thead th {\n",
              "        text-align: right;\n",
              "    }\n",
              "</style>\n",
              "<table border=\"1\" class=\"dataframe\">\n",
              "  <thead>\n",
              "    <tr style=\"text-align: right;\">\n",
              "      <th></th>\n",
              "      <th>symboling</th>\n",
              "      <th>normalized-losses</th>\n",
              "      <th>make</th>\n",
              "      <th>aspiration</th>\n",
              "      <th>num-of-doors</th>\n",
              "      <th>body-style</th>\n",
              "      <th>drive-wheels</th>\n",
              "      <th>engine-location</th>\n",
              "      <th>wheel-base</th>\n",
              "      <th>length</th>\n",
              "      <th>...</th>\n",
              "      <th>compression-ratio</th>\n",
              "      <th>horsepower</th>\n",
              "      <th>peak-rpm</th>\n",
              "      <th>city-mpg</th>\n",
              "      <th>highway-mpg</th>\n",
              "      <th>price</th>\n",
              "      <th>city-L/100km</th>\n",
              "      <th>horsepower-binned</th>\n",
              "      <th>diesel</th>\n",
              "      <th>gas</th>\n",
              "    </tr>\n",
              "  </thead>\n",
              "  <tbody>\n",
              "    <tr>\n",
              "      <th>0</th>\n",
              "      <td>3</td>\n",
              "      <td>122</td>\n",
              "      <td>alfa-romero</td>\n",
              "      <td>std</td>\n",
              "      <td>two</td>\n",
              "      <td>convertible</td>\n",
              "      <td>rwd</td>\n",
              "      <td>front</td>\n",
              "      <td>88.6</td>\n",
              "      <td>0.811148</td>\n",
              "      <td>...</td>\n",
              "      <td>9.0</td>\n",
              "      <td>111.0</td>\n",
              "      <td>5000.0</td>\n",
              "      <td>21</td>\n",
              "      <td>27</td>\n",
              "      <td>13495.0</td>\n",
              "      <td>11.190476</td>\n",
              "      <td>Medium</td>\n",
              "      <td>0</td>\n",
              "      <td>1</td>\n",
              "    </tr>\n",
              "    <tr>\n",
              "      <th>1</th>\n",
              "      <td>3</td>\n",
              "      <td>122</td>\n",
              "      <td>alfa-romero</td>\n",
              "      <td>std</td>\n",
              "      <td>two</td>\n",
              "      <td>convertible</td>\n",
              "      <td>rwd</td>\n",
              "      <td>front</td>\n",
              "      <td>88.6</td>\n",
              "      <td>0.811148</td>\n",
              "      <td>...</td>\n",
              "      <td>9.0</td>\n",
              "      <td>111.0</td>\n",
              "      <td>5000.0</td>\n",
              "      <td>21</td>\n",
              "      <td>27</td>\n",
              "      <td>16500.0</td>\n",
              "      <td>11.190476</td>\n",
              "      <td>Medium</td>\n",
              "      <td>0</td>\n",
              "      <td>1</td>\n",
              "    </tr>\n",
              "    <tr>\n",
              "      <th>2</th>\n",
              "      <td>1</td>\n",
              "      <td>122</td>\n",
              "      <td>alfa-romero</td>\n",
              "      <td>std</td>\n",
              "      <td>two</td>\n",
              "      <td>hatchback</td>\n",
              "      <td>rwd</td>\n",
              "      <td>front</td>\n",
              "      <td>94.5</td>\n",
              "      <td>0.822681</td>\n",
              "      <td>...</td>\n",
              "      <td>9.0</td>\n",
              "      <td>154.0</td>\n",
              "      <td>5000.0</td>\n",
              "      <td>19</td>\n",
              "      <td>26</td>\n",
              "      <td>16500.0</td>\n",
              "      <td>12.368421</td>\n",
              "      <td>Medium</td>\n",
              "      <td>0</td>\n",
              "      <td>1</td>\n",
              "    </tr>\n",
              "    <tr>\n",
              "      <th>3</th>\n",
              "      <td>2</td>\n",
              "      <td>164</td>\n",
              "      <td>audi</td>\n",
              "      <td>std</td>\n",
              "      <td>four</td>\n",
              "      <td>sedan</td>\n",
              "      <td>fwd</td>\n",
              "      <td>front</td>\n",
              "      <td>99.8</td>\n",
              "      <td>0.848630</td>\n",
              "      <td>...</td>\n",
              "      <td>10.0</td>\n",
              "      <td>102.0</td>\n",
              "      <td>5500.0</td>\n",
              "      <td>24</td>\n",
              "      <td>30</td>\n",
              "      <td>13950.0</td>\n",
              "      <td>9.791667</td>\n",
              "      <td>Medium</td>\n",
              "      <td>0</td>\n",
              "      <td>1</td>\n",
              "    </tr>\n",
              "    <tr>\n",
              "      <th>4</th>\n",
              "      <td>2</td>\n",
              "      <td>164</td>\n",
              "      <td>audi</td>\n",
              "      <td>std</td>\n",
              "      <td>four</td>\n",
              "      <td>sedan</td>\n",
              "      <td>4wd</td>\n",
              "      <td>front</td>\n",
              "      <td>99.4</td>\n",
              "      <td>0.848630</td>\n",
              "      <td>...</td>\n",
              "      <td>8.0</td>\n",
              "      <td>115.0</td>\n",
              "      <td>5500.0</td>\n",
              "      <td>18</td>\n",
              "      <td>22</td>\n",
              "      <td>17450.0</td>\n",
              "      <td>13.055556</td>\n",
              "      <td>Medium</td>\n",
              "      <td>0</td>\n",
              "      <td>1</td>\n",
              "    </tr>\n",
              "  </tbody>\n",
              "</table>\n",
              "<p>5 rows × 29 columns</p>\n",
              "</div>\n",
              "      <button class=\"colab-df-convert\" onclick=\"convertToInteractive('df-11260df5-7a9c-4a6b-ae42-eeac8619bcbc')\"\n",
              "              title=\"Convert this dataframe to an interactive table.\"\n",
              "              style=\"display:none;\">\n",
              "        \n",
              "  <svg xmlns=\"http://www.w3.org/2000/svg\" height=\"24px\"viewBox=\"0 0 24 24\"\n",
              "       width=\"24px\">\n",
              "    <path d=\"M0 0h24v24H0V0z\" fill=\"none\"/>\n",
              "    <path d=\"M18.56 5.44l.94 2.06.94-2.06 2.06-.94-2.06-.94-.94-2.06-.94 2.06-2.06.94zm-11 1L8.5 8.5l.94-2.06 2.06-.94-2.06-.94L8.5 2.5l-.94 2.06-2.06.94zm10 10l.94 2.06.94-2.06 2.06-.94-2.06-.94-.94-2.06-.94 2.06-2.06.94z\"/><path d=\"M17.41 7.96l-1.37-1.37c-.4-.4-.92-.59-1.43-.59-.52 0-1.04.2-1.43.59L10.3 9.45l-7.72 7.72c-.78.78-.78 2.05 0 2.83L4 21.41c.39.39.9.59 1.41.59.51 0 1.02-.2 1.41-.59l7.78-7.78 2.81-2.81c.8-.78.8-2.07 0-2.86zM5.41 20L4 18.59l7.72-7.72 1.47 1.35L5.41 20z\"/>\n",
              "  </svg>\n",
              "      </button>\n",
              "      \n",
              "  <style>\n",
              "    .colab-df-container {\n",
              "      display:flex;\n",
              "      flex-wrap:wrap;\n",
              "      gap: 12px;\n",
              "    }\n",
              "\n",
              "    .colab-df-convert {\n",
              "      background-color: #E8F0FE;\n",
              "      border: none;\n",
              "      border-radius: 50%;\n",
              "      cursor: pointer;\n",
              "      display: none;\n",
              "      fill: #1967D2;\n",
              "      height: 32px;\n",
              "      padding: 0 0 0 0;\n",
              "      width: 32px;\n",
              "    }\n",
              "\n",
              "    .colab-df-convert:hover {\n",
              "      background-color: #E2EBFA;\n",
              "      box-shadow: 0px 1px 2px rgba(60, 64, 67, 0.3), 0px 1px 3px 1px rgba(60, 64, 67, 0.15);\n",
              "      fill: #174EA6;\n",
              "    }\n",
              "\n",
              "    [theme=dark] .colab-df-convert {\n",
              "      background-color: #3B4455;\n",
              "      fill: #D2E3FC;\n",
              "    }\n",
              "\n",
              "    [theme=dark] .colab-df-convert:hover {\n",
              "      background-color: #434B5C;\n",
              "      box-shadow: 0px 1px 3px 1px rgba(0, 0, 0, 0.15);\n",
              "      filter: drop-shadow(0px 1px 2px rgba(0, 0, 0, 0.3));\n",
              "      fill: #FFFFFF;\n",
              "    }\n",
              "  </style>\n",
              "\n",
              "      <script>\n",
              "        const buttonEl =\n",
              "          document.querySelector('#df-11260df5-7a9c-4a6b-ae42-eeac8619bcbc button.colab-df-convert');\n",
              "        buttonEl.style.display =\n",
              "          google.colab.kernel.accessAllowed ? 'block' : 'none';\n",
              "\n",
              "        async function convertToInteractive(key) {\n",
              "          const element = document.querySelector('#df-11260df5-7a9c-4a6b-ae42-eeac8619bcbc');\n",
              "          const dataTable =\n",
              "            await google.colab.kernel.invokeFunction('convertToInteractive',\n",
              "                                                     [key], {});\n",
              "          if (!dataTable) return;\n",
              "\n",
              "          const docLinkHtml = 'Like what you see? Visit the ' +\n",
              "            '<a target=\"_blank\" href=https://colab.research.google.com/notebooks/data_table.ipynb>data table notebook</a>'\n",
              "            + ' to learn more about interactive tables.';\n",
              "          element.innerHTML = '';\n",
              "          dataTable['output_type'] = 'display_data';\n",
              "          await google.colab.output.renderOutput(dataTable, element);\n",
              "          const docLink = document.createElement('div');\n",
              "          docLink.innerHTML = docLinkHtml;\n",
              "          element.appendChild(docLink);\n",
              "        }\n",
              "      </script>\n",
              "    </div>\n",
              "  </div>\n",
              "  "
            ]
          },
          "metadata": {},
          "execution_count": 3
        }
      ]
    },
    {
      "cell_type": "markdown",
      "source": [
        "<h2>1. Linear Regression and Multiple Linear Regression</h2>\n"
      ],
      "metadata": {
        "id": "uB7zEYEz0IVQ"
      }
    },
    {
      "cell_type": "markdown",
      "source": [
        "<h4>Linear Regression</h4>\n"
      ],
      "metadata": {
        "id": "h6LLHhNL0IVR"
      }
    },
    {
      "cell_type": "markdown",
      "source": [
        "<p>One example of a Data  Model that we will be using is:</p>\n",
        "<b>Simple Linear Regression</b>\n",
        "\n",
        "<br>\n",
        "<p>Simple Linear Regression is a method to help us understand the relationship between two variables:</p>\n",
        "<ul>\n",
        "    <li>The predictor/independent variable (X)</li>\n",
        "    <li>The response/dependent variable (that we want to predict)(Y)</li>\n",
        "</ul>\n",
        "\n",
        "<p>The result of Linear Regression is a <b>linear function</b> that predicts the response (dependent) variable as a function of the predictor (independent) variable.</p>\n"
      ],
      "metadata": {
        "id": "xENOXUQT0IVS"
      }
    },
    {
      "cell_type": "markdown",
      "source": [
        "$$\n",
        "Y: Response \\ Variable\\\\\\\\\\\\\\\\\\\\\n",
        "X: Predictor \\ Variables\n",
        "$$\n"
      ],
      "metadata": {
        "id": "bm4DFJ1_0IVU"
      }
    },
    {
      "cell_type": "markdown",
      "source": [
        "<b>Linear Function</b>\n",
        "$$\n",
        "Yhat = a + b  X\n",
        "$$\n"
      ],
      "metadata": {
        "id": "jEg-ZFTv0IVV"
      }
    },
    {
      "cell_type": "markdown",
      "source": [
        "<ul>\n",
        "    <li>a refers to the <b>intercept</b> of the regression line, in other words: the value of Y when X is 0</li>\n",
        "    <li>b refers to the <b>slope</b> of the regression line, in other words: the value with which Y changes when X increases by 1 unit</li>\n",
        "</ul>\n"
      ],
      "metadata": {
        "id": "94fJ-TdR0IVW"
      }
    },
    {
      "cell_type": "markdown",
      "source": [
        "<h4>Let's load the modules for linear regression:</h4>\n"
      ],
      "metadata": {
        "id": "XyBtMEDB0IVX"
      }
    },
    {
      "cell_type": "code",
      "source": [
        "from sklearn.linear_model import LinearRegression"
      ],
      "metadata": {
        "trusted": true,
        "id": "Df0CGz990IVY"
      },
      "execution_count": 4,
      "outputs": []
    },
    {
      "cell_type": "markdown",
      "source": [
        "<h4>Create the linear regression object:</h4>\n"
      ],
      "metadata": {
        "id": "CzES-pY40IVZ"
      }
    },
    {
      "cell_type": "code",
      "source": [
        "lm = LinearRegression()\n",
        "lm"
      ],
      "metadata": {
        "trusted": true,
        "id": "wGM4xPk30IVa",
        "colab": {
          "base_uri": "https://localhost:8080/"
        },
        "outputId": "a908b382-76e0-4196-8b89-6a73f40ef472"
      },
      "execution_count": 5,
      "outputs": [
        {
          "output_type": "execute_result",
          "data": {
            "text/plain": [
              "LinearRegression()"
            ]
          },
          "metadata": {},
          "execution_count": 5
        }
      ]
    },
    {
      "cell_type": "markdown",
      "source": [
        "<h4>How could \"highway-mpg\" help us predict car price?</h4>\n"
      ],
      "metadata": {
        "id": "5DCbRVh00IVb"
      }
    },
    {
      "cell_type": "markdown",
      "source": [
        "For this example, we want to look at how highway-mpg can help us predict car price.\n",
        "Using simple linear regression, we will create a linear function with \"highway-mpg\" as the predictor variable and the \"price\" as the response variable.\n"
      ],
      "metadata": {
        "id": "SCV3WZez0IVb"
      }
    },
    {
      "cell_type": "code",
      "source": [
        "X = df[['highway-mpg']]\n",
        "Y = df['price']"
      ],
      "metadata": {
        "trusted": true,
        "id": "CV1agb6N0IVc"
      },
      "execution_count": 7,
      "outputs": []
    },
    {
      "cell_type": "markdown",
      "source": [
        "Fit the linear model using highway-mpg:\n"
      ],
      "metadata": {
        "id": "NoLeeKlC0IVd"
      }
    },
    {
      "cell_type": "code",
      "source": [
        "lm.fit(X,Y)"
      ],
      "metadata": {
        "trusted": true,
        "id": "yXgFqBg10IVe",
        "colab": {
          "base_uri": "https://localhost:8080/"
        },
        "outputId": "47b19959-5974-4919-f00b-7ed3bfbf0732"
      },
      "execution_count": 8,
      "outputs": [
        {
          "output_type": "execute_result",
          "data": {
            "text/plain": [
              "LinearRegression()"
            ]
          },
          "metadata": {},
          "execution_count": 8
        }
      ]
    },
    {
      "cell_type": "markdown",
      "source": [
        "We can output a prediction:\n"
      ],
      "metadata": {
        "id": "imyQpN1W0IVf"
      }
    },
    {
      "cell_type": "code",
      "source": [
        "Yhat=lm.predict(X)\n",
        "Yhat[0:5]   "
      ],
      "metadata": {
        "trusted": true,
        "id": "x9XVkRHD0IVf",
        "colab": {
          "base_uri": "https://localhost:8080/"
        },
        "outputId": "70dbef9f-c966-48ef-b693-8623a46af879"
      },
      "execution_count": 9,
      "outputs": [
        {
          "output_type": "execute_result",
          "data": {
            "text/plain": [
              "array([16236.50464347, 16236.50464347, 17058.23802179, 13771.3045085 ,\n",
              "       20345.17153508])"
            ]
          },
          "metadata": {},
          "execution_count": 9
        }
      ]
    },
    {
      "cell_type": "markdown",
      "source": [
        "<h4>What is the value of the intercept (a)?</h4>\n"
      ],
      "metadata": {
        "id": "VVJ2ncPE0IVg"
      }
    },
    {
      "cell_type": "code",
      "source": [
        "lm.intercept_"
      ],
      "metadata": {
        "trusted": true,
        "id": "EjLE94PI0IVh",
        "colab": {
          "base_uri": "https://localhost:8080/"
        },
        "outputId": "b7095d18-b33e-471b-8011-ad8669aa0f6f"
      },
      "execution_count": 10,
      "outputs": [
        {
          "output_type": "execute_result",
          "data": {
            "text/plain": [
              "38423.3058581574"
            ]
          },
          "metadata": {},
          "execution_count": 10
        }
      ]
    },
    {
      "cell_type": "markdown",
      "source": [
        "<h4>What is the value of the slope (b)?</h4>\n"
      ],
      "metadata": {
        "id": "_WJ_xlWX0IVh"
      }
    },
    {
      "cell_type": "code",
      "source": [
        "lm.coef_"
      ],
      "metadata": {
        "scrolled": true,
        "trusted": true,
        "id": "eBT0Fdcd0IVi",
        "colab": {
          "base_uri": "https://localhost:8080/"
        },
        "outputId": "d0c62bd5-4232-4c2b-d034-b152f68eeeff"
      },
      "execution_count": 11,
      "outputs": [
        {
          "output_type": "execute_result",
          "data": {
            "text/plain": [
              "array([-821.73337832])"
            ]
          },
          "metadata": {},
          "execution_count": 11
        }
      ]
    },
    {
      "cell_type": "markdown",
      "source": [
        "<h3>What is the final estimated linear model we get?</h3>\n"
      ],
      "metadata": {
        "id": "HrSIWQvz0IVj"
      }
    },
    {
      "cell_type": "markdown",
      "source": [
        "As we saw above, we should get a final linear model with the structure:\n"
      ],
      "metadata": {
        "id": "aUxQJhP30IVj"
      }
    },
    {
      "cell_type": "markdown",
      "source": [
        "$$\n",
        "Yhat = a + b  X\n",
        "$$\n"
      ],
      "metadata": {
        "id": "-ofb_IqM0IVk"
      }
    },
    {
      "cell_type": "markdown",
      "source": [
        "Plugging in the actual values we get:\n"
      ],
      "metadata": {
        "id": "RIVsaEbY0IVk"
      }
    },
    {
      "cell_type": "markdown",
      "source": [
        "<b>Price</b> = 38423.31 - 821.73 x <b>highway-mpg</b>\n"
      ],
      "metadata": {
        "id": "3k7P8hJh0IVl"
      }
    },
    {
      "cell_type": "markdown",
      "source": [
        "<div class=\"alert alert-danger alertdanger\" style=\"margin-top: 20px\">\n",
        "<h1>Question #1 a): </h1>\n",
        "\n",
        "<b>Create a linear regression object called \"lm1\".</b>\n",
        "\n",
        "</div>\n"
      ],
      "metadata": {
        "id": "A6gJaU5e0IVm"
      }
    },
    {
      "cell_type": "code",
      "source": [
        "# Write your code below and press Shift+Enter to execute \n",
        "lm1 = LinearRegression()\n",
        "lm1"
      ],
      "metadata": {
        "trusted": true,
        "id": "tneXbFUy0IVm",
        "colab": {
          "base_uri": "https://localhost:8080/"
        },
        "outputId": "f08bf268-f3ec-475f-add6-ac3cafc25b2c"
      },
      "execution_count": 62,
      "outputs": [
        {
          "output_type": "execute_result",
          "data": {
            "text/plain": [
              "LinearRegression()"
            ]
          },
          "metadata": {},
          "execution_count": 62
        }
      ]
    },
    {
      "cell_type": "markdown",
      "source": [
        "<div class=\"alert alert-danger alertdanger\" style=\"margin-top: 20px\">\n",
        "<h1> Question #1 b): </h1>\n",
        "\n",
        "<b>Train the model using \"engine-size\" as the independent variable and \"price\" as the dependent variable?</b>\n",
        "\n",
        "</div>\n"
      ],
      "metadata": {
        "id": "LATzFBD_0IVo"
      }
    },
    {
      "cell_type": "code",
      "source": [
        "# Write your code below and press Shift+Enter to execute \n",
        "lm1.fit(df[['engine-size']], df[['price']])\n",
        "lm1"
      ],
      "metadata": {
        "trusted": true,
        "id": "R5MDy9l30IVp",
        "colab": {
          "base_uri": "https://localhost:8080/"
        },
        "outputId": "b75ba696-ecf4-454c-edf4-be23647d2e46"
      },
      "execution_count": 63,
      "outputs": [
        {
          "output_type": "execute_result",
          "data": {
            "text/plain": [
              "LinearRegression()"
            ]
          },
          "metadata": {},
          "execution_count": 63
        }
      ]
    },
    {
      "cell_type": "markdown",
      "source": [
        "<div class=\"alert alert-danger alertdanger\" style=\"margin-top: 20px\">\n",
        "<h1>Question #1 c):</h1>\n",
        "\n",
        "<b>Find the slope and intercept of the model.</b>\n",
        "\n",
        "</div>\n"
      ],
      "metadata": {
        "id": "QuZ8TbHi0IVq"
      }
    },
    {
      "cell_type": "markdown",
      "source": [
        "<h4>Slope</h4>\n"
      ],
      "metadata": {
        "id": "jAshS6_p0IVq"
      }
    },
    {
      "cell_type": "code",
      "source": [
        "# Write your code below and press Shift+Enter to execute \n",
        "lm1.coef_"
      ],
      "metadata": {
        "trusted": true,
        "id": "2sbOw_dI0IVr",
        "colab": {
          "base_uri": "https://localhost:8080/"
        },
        "outputId": "4e177ef4-062a-437b-a890-0201ba33b82c"
      },
      "execution_count": 64,
      "outputs": [
        {
          "output_type": "execute_result",
          "data": {
            "text/plain": [
              "array([[166.86001569]])"
            ]
          },
          "metadata": {},
          "execution_count": 64
        }
      ]
    },
    {
      "cell_type": "markdown",
      "source": [
        "<h4>Intercept</h4>\n"
      ],
      "metadata": {
        "id": "mVxqY2Ec0IVs"
      }
    },
    {
      "cell_type": "code",
      "source": [
        "# Write your code below and press Shift+Enter to execute \n",
        "lm1.intercept_"
      ],
      "metadata": {
        "trusted": true,
        "id": "NqJHSM3w0IVt",
        "colab": {
          "base_uri": "https://localhost:8080/"
        },
        "outputId": "2f1b4484-48ac-42e9-abef-d9c4a4533b28"
      },
      "execution_count": 65,
      "outputs": [
        {
          "output_type": "execute_result",
          "data": {
            "text/plain": [
              "array([-7963.33890628])"
            ]
          },
          "metadata": {},
          "execution_count": 65
        }
      ]
    },
    {
      "cell_type": "markdown",
      "source": [
        "<div class=\"alert alert-danger alertdanger\" style=\"margin-top: 20px\">\n",
        "<h1>Question #1 d): </h1>\n",
        "\n",
        "<b>What is the equation of the predicted line? You can use x and yhat or \"engine-size\" or \"price\".</b>\n",
        "\n",
        "</div>\n"
      ],
      "metadata": {
        "id": "7s-Lla2M0IVu"
      }
    },
    {
      "cell_type": "code",
      "source": [
        "# Write your code below and press Shift+Enter to execute \n",
        "# using X and Y  \n",
        "Yhat=-7963.34 + 166.86*X\n",
        "\n",
        "Price=-7963.34 + 166.86*df['engine-size']"
      ],
      "metadata": {
        "trusted": true,
        "id": "Jexrtqw90IVu"
      },
      "execution_count": 66,
      "outputs": []
    },
    {
      "cell_type": "markdown",
      "source": [
        "<h4>Multiple Linear Regression</h4>\n"
      ],
      "metadata": {
        "id": "VQdl0WbH0IVw"
      }
    },
    {
      "cell_type": "markdown",
      "source": [
        "<p>What if we want to predict car price using more than one variable?</p>\n",
        "\n",
        "<p>If we want to use more variables in our model to predict car price, we can use <b>Multiple Linear Regression</b>.\n",
        "Multiple Linear Regression is very similar to Simple Linear Regression, but this method is used to explain the relationship between one continuous response (dependent) variable and <b>two or more</b> predictor (independent) variables.\n",
        "Most of the real-world regression models involve multiple predictors. We will illustrate the structure by using four predictor variables, but these results can generalize to any integer:</p>\n"
      ],
      "metadata": {
        "id": "-DoK7IGX0IVw"
      }
    },
    {
      "cell_type": "markdown",
      "source": [
        "$$\n",
        "Y: Response \\ Variable\\\\\\\\\\\\\\\\\\\\\n",
        "X\\_1 :Predictor\\ Variable \\ 1\\\\\\\\\n",
        "X\\_2: Predictor\\ Variable \\ 2\\\\\\\\\n",
        "X\\_3: Predictor\\ Variable \\ 3\\\\\\\\\n",
        "X\\_4: Predictor\\ Variable \\ 4\\\\\\\\\n",
        "$$\n"
      ],
      "metadata": {
        "id": "tTmFicJI0IVx"
      }
    },
    {
      "cell_type": "markdown",
      "source": [
        "$$\n",
        "a: intercept\\\\\\\\\\\\\\\\\\\\\n",
        "b\\_1 :coefficients \\ of\\ Variable \\ 1\\\\\\\\\n",
        "b\\_2: coefficients \\ of\\ Variable \\ 2\\\\\\\\\n",
        "b\\_3: coefficients \\ of\\ Variable \\ 3\\\\\\\\\n",
        "b\\_4: coefficients \\ of\\ Variable \\ 4\\\\\\\\\n",
        "$$\n"
      ],
      "metadata": {
        "id": "Bb7OIE_t0IVy"
      }
    },
    {
      "cell_type": "markdown",
      "source": [
        "The equation is given by:\n"
      ],
      "metadata": {
        "id": "DdDJzl3e0IVy"
      }
    },
    {
      "cell_type": "markdown",
      "source": [
        "$$\n",
        "Yhat = a + b\\_1 X\\_1 + b\\_2 X\\_2 + b\\_3 X\\_3 + b\\_4 X\\_4\n",
        "$$\n"
      ],
      "metadata": {
        "id": "Yn3yjF9Z0IVz"
      }
    },
    {
      "cell_type": "markdown",
      "source": [
        "<p>From the previous section  we know that other good predictors of price could be:</p>\n",
        "<ul>\n",
        "    <li>Horsepower</li>\n",
        "    <li>Curb-weight</li>\n",
        "    <li>Engine-size</li>\n",
        "    <li>Highway-mpg</li>\n",
        "</ul>\n",
        "Let's develop a model using these variables as the predictor variables.\n"
      ],
      "metadata": {
        "id": "o7RE1anQ0IV0"
      }
    },
    {
      "cell_type": "code",
      "source": [
        "Z = df[['horsepower', 'curb-weight', 'engine-size', 'highway-mpg']]"
      ],
      "metadata": {
        "trusted": true,
        "id": "GYyFA_xH0IV0"
      },
      "execution_count": 17,
      "outputs": []
    },
    {
      "cell_type": "markdown",
      "source": [
        "Fit the linear model using the four above-mentioned variables.\n"
      ],
      "metadata": {
        "id": "6kS5nFML0IV1"
      }
    },
    {
      "cell_type": "code",
      "source": [
        "lm.fit(Z, df['price'])"
      ],
      "metadata": {
        "trusted": true,
        "id": "3BZayGFW0IV1",
        "colab": {
          "base_uri": "https://localhost:8080/"
        },
        "outputId": "a4d08019-928a-4f5f-ef08-87aff5d138ee"
      },
      "execution_count": 18,
      "outputs": [
        {
          "output_type": "execute_result",
          "data": {
            "text/plain": [
              "LinearRegression()"
            ]
          },
          "metadata": {},
          "execution_count": 18
        }
      ]
    },
    {
      "cell_type": "markdown",
      "source": [
        "What is the value of the intercept(a)?\n"
      ],
      "metadata": {
        "id": "Exg1CQWJ0IV2"
      }
    },
    {
      "cell_type": "code",
      "source": [
        "lm.intercept_"
      ],
      "metadata": {
        "trusted": true,
        "id": "xDhxaFio0IV2",
        "colab": {
          "base_uri": "https://localhost:8080/"
        },
        "outputId": "922cb224-4077-4cc2-dde4-4aa2ffb5973f"
      },
      "execution_count": 19,
      "outputs": [
        {
          "output_type": "execute_result",
          "data": {
            "text/plain": [
              "-15806.62462632922"
            ]
          },
          "metadata": {},
          "execution_count": 19
        }
      ]
    },
    {
      "cell_type": "markdown",
      "source": [
        "What are the values of the coefficients (b1, b2, b3, b4)?\n"
      ],
      "metadata": {
        "id": "DSLxGD5F0IV3"
      }
    },
    {
      "cell_type": "code",
      "source": [
        "lm.coef_"
      ],
      "metadata": {
        "trusted": true,
        "id": "hWvS3JMD0IV4",
        "colab": {
          "base_uri": "https://localhost:8080/"
        },
        "outputId": "ccf95198-6c7e-43e9-daea-c150c0851cff"
      },
      "execution_count": 20,
      "outputs": [
        {
          "output_type": "execute_result",
          "data": {
            "text/plain": [
              "array([53.49574423,  4.70770099, 81.53026382, 36.05748882])"
            ]
          },
          "metadata": {},
          "execution_count": 20
        }
      ]
    },
    {
      "cell_type": "markdown",
      "source": [
        "What is the final estimated linear model that we get?\n"
      ],
      "metadata": {
        "id": "vqDhocd80IV4"
      }
    },
    {
      "cell_type": "markdown",
      "source": [
        "As we saw above, we should get a final linear function with the structure:\n",
        "\n",
        "$$\n",
        "Yhat = a + b\\_1 X\\_1 + b\\_2 X\\_2 + b\\_3 X\\_3 + b\\_4 X\\_4\n",
        "$$\n",
        "\n",
        "What is the linear function we get in this example?\n"
      ],
      "metadata": {
        "id": "YL5aMNxU0IV5"
      }
    },
    {
      "cell_type": "markdown",
      "source": [
        "<b>Price</b> = -15678.742628061467 + 52.65851272 x <b>horsepower</b> + 4.69878948 x <b>curb-weight</b> + 81.95906216 x <b>engine-size</b> + 33.58258185 x <b>highway-mpg</b>\n"
      ],
      "metadata": {
        "id": "qRk3h05E0IV5"
      }
    },
    {
      "cell_type": "markdown",
      "source": [
        "<div class=\"alert alert-danger alertdanger\" style=\"margin-top: 20px\">\n",
        "<h1> Question  #2 a): </h1>\n",
        "Create and train a Multiple Linear Regression model \"lm2\" where the response variable is \"price\", and the predictor variable is \"normalized-losses\" and  \"highway-mpg\".\n",
        "</div>\n"
      ],
      "metadata": {
        "id": "zZ_9Xj2a0IV6"
      }
    },
    {
      "cell_type": "code",
      "source": [
        "# Write your code below and press Shift+Enter to execute \n",
        "lm2 = LinearRegression()\n",
        "lm2.fit(df[['normalized-losses' , 'highway-mpg']],df['price'])"
      ],
      "metadata": {
        "trusted": true,
        "id": "lPa-QmED0IV7",
        "colab": {
          "base_uri": "https://localhost:8080/"
        },
        "outputId": "f17c7936-7c85-4baf-84f0-f950a8e15467"
      },
      "execution_count": 67,
      "outputs": [
        {
          "output_type": "execute_result",
          "data": {
            "text/plain": [
              "LinearRegression()"
            ]
          },
          "metadata": {},
          "execution_count": 67
        }
      ]
    },
    {
      "cell_type": "markdown",
      "source": [
        "<div class=\"alert alert-danger alertdanger\" style=\"margin-top: 20px\">\n",
        "<h1>Question  #2 b): </h1>\n",
        "<b>Find the coefficient of the model.</b>\n",
        "</div>\n"
      ],
      "metadata": {
        "id": "3WBJVDnz0IV8"
      }
    },
    {
      "cell_type": "code",
      "source": [
        "# Write your code below and press Shift+Enter to execute \n",
        "lm2.coef_"
      ],
      "metadata": {
        "trusted": true,
        "id": "6E48QVNQ0IV9",
        "colab": {
          "base_uri": "https://localhost:8080/"
        },
        "outputId": "f474511a-a769-420a-faab-841d54307dd4"
      },
      "execution_count": 68,
      "outputs": [
        {
          "output_type": "execute_result",
          "data": {
            "text/plain": [
              "array([   1.49789586, -820.45434016])"
            ]
          },
          "metadata": {},
          "execution_count": 68
        }
      ]
    },
    {
      "cell_type": "markdown",
      "source": [
        "<h2>2. Model Evaluation Using Visualization</h2>\n"
      ],
      "metadata": {
        "id": "_QFBUBvx0IV-"
      }
    },
    {
      "cell_type": "markdown",
      "source": [
        "Now that we've developed some models, how do we evaluate our models and choose the best one? One way to do this is by using a visualization.\n"
      ],
      "metadata": {
        "id": "kGbFUNbs0IV_"
      }
    },
    {
      "cell_type": "markdown",
      "source": [
        "Import the visualization package, seaborn:\n"
      ],
      "metadata": {
        "id": "mPB_U1gB0IV_"
      }
    },
    {
      "cell_type": "code",
      "source": [
        "# import the visualization package: seaborn\n",
        "import seaborn as sns\n",
        "%matplotlib inline "
      ],
      "metadata": {
        "trusted": true,
        "id": "YJ--tn_i0IWA"
      },
      "execution_count": 23,
      "outputs": []
    },
    {
      "cell_type": "markdown",
      "source": [
        "<h3>Regression Plot</h3>\n"
      ],
      "metadata": {
        "id": "ur0bE5nB0IWB"
      }
    },
    {
      "cell_type": "markdown",
      "source": [
        "<p>When it comes to simple linear regression, an excellent way to visualize the fit of our model is by using <b>regression plots</b>.</p>\n",
        "\n",
        "<p>This plot will show a combination of a scattered data points (a <b>scatterplot</b>), as well as the fitted <b>linear regression</b> line going through the data. This will give us a reasonable estimate of the relationship between the two variables, the strength of the correlation, as well as the direction (positive or negative correlation).</p>\n"
      ],
      "metadata": {
        "id": "ub6gduJ_0IWB"
      }
    },
    {
      "cell_type": "markdown",
      "source": [
        "Let's visualize **highway-mpg** as potential predictor variable of price:\n"
      ],
      "metadata": {
        "id": "FcNgxSar0IWC"
      }
    },
    {
      "cell_type": "code",
      "source": [
        "width = 12\n",
        "height = 10\n",
        "plt.figure(figsize=(width, height))\n",
        "sns.regplot(x=\"highway-mpg\", y=\"price\", data=df)\n",
        "plt.ylim(0,)"
      ],
      "metadata": {
        "trusted": true,
        "id": "A9TEbQDN0IWC",
        "colab": {
          "base_uri": "https://localhost:8080/",
          "height": 623
        },
        "outputId": "7e5cfb51-12cb-47c0-c562-aa58f846dee2"
      },
      "execution_count": 24,
      "outputs": [
        {
          "output_type": "execute_result",
          "data": {
            "text/plain": [
              "(0.0, 48151.76262888769)"
            ]
          },
          "metadata": {},
          "execution_count": 24
        },
        {
          "output_type": "display_data",
          "data": {
            "text/plain": [
              "<Figure size 864x720 with 1 Axes>"
            ],
            "image/png": "[encoded data removed]"
          },
          "metadata": {
            "needs_background": "light"
          }
        }
      ]
    },
    {
      "cell_type": "markdown",
      "source": [
        "<p>We can see from this plot that price is negatively correlated to highway-mpg since the regression slope is negative.\n",
        "\n",
        "One thing to keep in mind when looking at a regression plot is to pay attention to how scattered the data points are around the regression line. This will give you a good indication of the variance of the data and whether a linear model would be the best fit or not. If the data is too far off from the line, this linear model might not be the best model for this data.\n",
        "\n",
        "Let's compare this plot to the regression plot of \"peak-rpm\".</p>\n"
      ],
      "metadata": {
        "id": "KEtDPhR00IWD"
      }
    },
    {
      "cell_type": "code",
      "source": [
        "plt.figure(figsize=(width, height))\n",
        "sns.regplot(x=\"peak-rpm\", y=\"price\", data=df)\n",
        "plt.ylim(0,)"
      ],
      "metadata": {
        "trusted": true,
        "id": "HWQp3z3W0IWD",
        "colab": {
          "base_uri": "https://localhost:8080/",
          "height": 623
        },
        "outputId": "44caa7cc-c7d5-4ecb-accf-4bfc1a21838c"
      },
      "execution_count": 25,
      "outputs": [
        {
          "output_type": "execute_result",
          "data": {
            "text/plain": [
              "(0.0, 47414.1)"
            ]
          },
          "metadata": {},
          "execution_count": 25
        },
        {
          "output_type": "display_data",
          "data": {
            "text/plain": [
              "<Figure size 864x720 with 1 Axes>"
            ],
            "image/png": "[encoded data removed]"
          },
          "metadata": {
            "needs_background": "light"
          }
        }
      ]
    },
    {
      "cell_type": "markdown",
      "source": [
        "<p>Comparing the regression plot of \"peak-rpm\" and \"highway-mpg\", we see that the points for \"highway-mpg\" are much closer to the generated line and, on average, decrease. The points for \"peak-rpm\" have more spread around the predicted line and it is much harder to determine if the points are decreasing or increasing as the \"peak-rpm\" increases.</p>\n"
      ],
      "metadata": {
        "id": "U9lqdL6h0IWE"
      }
    },
    {
      "cell_type": "markdown",
      "source": [
        "<div class=\"alert alert-danger alertdanger\" style=\"margin-top: 20px\">\n",
        "<h1>Question #3:</h1>\n",
        "<b>Given the regression plots above, is \"peak-rpm\" or \"highway-mpg\" more strongly correlated with \"price\"? Use the method  \".corr()\" to verify your answer.</b>\n",
        "</div>\n"
      ],
      "metadata": {
        "id": "MPy3rDbD0IWE"
      }
    },
    {
      "cell_type": "code",
      "source": [
        "# Write your code below and press Shift+Enter to execute \n",
        "df[[\"peak-rpm\",\"highway-mpg\",\"price\"]].corr()"
      ],
      "metadata": {
        "trusted": true,
        "id": "J9lK6FVi0IWF",
        "colab": {
          "base_uri": "https://localhost:8080/",
          "height": 143
        },
        "outputId": "3631d5cf-210e-4d83-96ae-815a6b01556e"
      },
      "execution_count": 69,
      "outputs": [
        {
          "output_type": "execute_result",
          "data": {
            "text/plain": [
              "             peak-rpm  highway-mpg     price\n",
              "peak-rpm     1.000000    -0.058598 -0.101616\n",
              "highway-mpg -0.058598     1.000000 -0.704692\n",
              "price       -0.101616    -0.704692  1.000000"
            ],
            "text/html": [
              "\n",
              "  <div id=\"df-984cfe20-75ca-4ec3-a948-56552f6cdb77\">\n",
              "    <div class=\"colab-df-container\">\n",
              "      <div>\n",
              "<style scoped>\n",
              "    .dataframe tbody tr th:only-of-type {\n",
              "        vertical-align: middle;\n",
              "    }\n",
              "\n",
              "    .dataframe tbody tr th {\n",
              "        vertical-align: top;\n",
              "    }\n",
              "\n",
              "    .dataframe thead th {\n",
              "        text-align: right;\n",
              "    }\n",
              "</style>\n",
              "<table border=\"1\" class=\"dataframe\">\n",
              "  <thead>\n",
              "    <tr style=\"text-align: right;\">\n",
              "      <th></th>\n",
              "      <th>peak-rpm</th>\n",
              "      <th>highway-mpg</th>\n",
              "      <th>price</th>\n",
              "    </tr>\n",
              "  </thead>\n",
              "  <tbody>\n",
              "    <tr>\n",
              "      <th>peak-rpm</th>\n",
              "      <td>1.000000</td>\n",
              "      <td>-0.058598</td>\n",
              "      <td>-0.101616</td>\n",
              "    </tr>\n",
              "    <tr>\n",
              "      <th>highway-mpg</th>\n",
              "      <td>-0.058598</td>\n",
              "      <td>1.000000</td>\n",
              "      <td>-0.704692</td>\n",
              "    </tr>\n",
              "    <tr>\n",
              "      <th>price</th>\n",
              "      <td>-0.101616</td>\n",
              "      <td>-0.704692</td>\n",
              "      <td>1.000000</td>\n",
              "    </tr>\n",
              "  </tbody>\n",
              "</table>\n",
              "</div>\n",
              "      <button class=\"colab-df-convert\" onclick=\"convertToInteractive('df-984cfe20-75ca-4ec3-a948-56552f6cdb77')\"\n",
              "              title=\"Convert this dataframe to an interactive table.\"\n",
              "              style=\"display:none;\">\n",
              "        \n",
              "  <svg xmlns=\"http://www.w3.org/2000/svg\" height=\"24px\"viewBox=\"0 0 24 24\"\n",
              "       width=\"24px\">\n",
              "    <path d=\"M0 0h24v24H0V0z\" fill=\"none\"/>\n",
              "    <path d=\"M18.56 5.44l.94 2.06.94-2.06 2.06-.94-2.06-.94-.94-2.06-.94 2.06-2.06.94zm-11 1L8.5 8.5l.94-2.06 2.06-.94-2.06-.94L8.5 2.5l-.94 2.06-2.06.94zm10 10l.94 2.06.94-2.06 2.06-.94-2.06-.94-.94-2.06-.94 2.06-2.06.94z\"/><path d=\"M17.41 7.96l-1.37-1.37c-.4-.4-.92-.59-1.43-.59-.52 0-1.04.2-1.43.59L10.3 9.45l-7.72 7.72c-.78.78-.78 2.05 0 2.83L4 21.41c.39.39.9.59 1.41.59.51 0 1.02-.2 1.41-.59l7.78-7.78 2.81-2.81c.8-.78.8-2.07 0-2.86zM5.41 20L4 18.59l7.72-7.72 1.47 1.35L5.41 20z\"/>\n",
              "  </svg>\n",
              "      </button>\n",
              "      \n",
              "  <style>\n",
              "    .colab-df-container {\n",
              "      display:flex;\n",
              "      flex-wrap:wrap;\n",
              "      gap: 12px;\n",
              "    }\n",
              "\n",
              "    .colab-df-convert {\n",
              "      background-color: #E8F0FE;\n",
              "      border: none;\n",
              "      border-radius: 50%;\n",
              "      cursor: pointer;\n",
              "      display: none;\n",
              "      fill: #1967D2;\n",
              "      height: 32px;\n",
              "      padding: 0 0 0 0;\n",
              "      width: 32px;\n",
              "    }\n",
              "\n",
              "    .colab-df-convert:hover {\n",
              "      background-color: #E2EBFA;\n",
              "      box-shadow: 0px 1px 2px rgba(60, 64, 67, 0.3), 0px 1px 3px 1px rgba(60, 64, 67, 0.15);\n",
              "      fill: #174EA6;\n",
              "    }\n",
              "\n",
              "    [theme=dark] .colab-df-convert {\n",
              "      background-color: #3B4455;\n",
              "      fill: #D2E3FC;\n",
              "    }\n",
              "\n",
              "    [theme=dark] .colab-df-convert:hover {\n",
              "      background-color: #434B5C;\n",
              "      box-shadow: 0px 1px 3px 1px rgba(0, 0, 0, 0.15);\n",
              "      filter: drop-shadow(0px 1px 2px rgba(0, 0, 0, 0.3));\n",
              "      fill: #FFFFFF;\n",
              "    }\n",
              "  </style>\n",
              "\n",
              "      <script>\n",
              "        const buttonEl =\n",
              "          document.querySelector('#df-984cfe20-75ca-4ec3-a948-56552f6cdb77 button.colab-df-convert');\n",
              "        buttonEl.style.display =\n",
              "          google.colab.kernel.accessAllowed ? 'block' : 'none';\n",
              "\n",
              "        async function convertToInteractive(key) {\n",
              "          const element = document.querySelector('#df-984cfe20-75ca-4ec3-a948-56552f6cdb77');\n",
              "          const dataTable =\n",
              "            await google.colab.kernel.invokeFunction('convertToInteractive',\n",
              "                                                     [key], {});\n",
              "          if (!dataTable) return;\n",
              "\n",
              "          const docLinkHtml = 'Like what you see? Visit the ' +\n",
              "            '<a target=\"_blank\" href=https://colab.research.google.com/notebooks/data_table.ipynb>data table notebook</a>'\n",
              "            + ' to learn more about interactive tables.';\n",
              "          element.innerHTML = '';\n",
              "          dataTable['output_type'] = 'display_data';\n",
              "          await google.colab.output.renderOutput(dataTable, element);\n",
              "          const docLink = document.createElement('div');\n",
              "          docLink.innerHTML = docLinkHtml;\n",
              "          element.appendChild(docLink);\n",
              "        }\n",
              "      </script>\n",
              "    </div>\n",
              "  </div>\n",
              "  "
            ]
          },
          "metadata": {},
          "execution_count": 69
        }
      ]
    },
    {
      "cell_type": "markdown",
      "source": [
        "<h3>Residual Plot</h3>\n",
        "\n",
        "<p>A good way to visualize the variance of the data is to use a residual plot.</p>\n",
        "\n",
        "<p>What is a <b>residual</b>?</p>\n",
        "\n",
        "<p>The difference between the observed value (y) and the predicted value (Yhat) is called the residual (e). When we look at a regression plot, the residual is the distance from the data point to the fitted regression line.</p>\n",
        "\n",
        "<p>So what is a <b>residual plot</b>?</p>\n",
        "\n",
        "<p>A residual plot is a graph that shows the residuals on the vertical y-axis and the independent variable on the horizontal x-axis.</p>\n",
        "\n",
        "<p>What do we pay attention to when looking at a residual plot?</p>\n",
        "\n",
        "<p>We look at the spread of the residuals:</p>\n",
        "\n",
        "<p>- If the points in a residual plot are <b>randomly spread out around the x-axis</b>, then a <b>linear model is appropriate</b> for the data.\n",
        "\n",
        "Why is that? Randomly spread out residuals means that the variance is constant, and thus the linear model is a good fit for this data.</p>\n"
      ],
      "metadata": {
        "id": "JhOzKE2_0IWG"
      }
    },
    {
      "cell_type": "code",
      "source": [
        "width = 12\n",
        "height = 10\n",
        "plt.figure(figsize=(width, height))\n",
        "sns.residplot(x=df['highway-mpg'],y=df['price'])\n",
        "plt.show()"
      ],
      "metadata": {
        "trusted": true,
        "id": "AzwNLPu00IWH",
        "colab": {
          "base_uri": "https://localhost:8080/",
          "height": 606
        },
        "outputId": "e11340ef-2e85-4e35-a1a2-3fd1b5c9cdfd"
      },
      "execution_count": 27,
      "outputs": [
        {
          "output_type": "display_data",
          "data": {
            "text/plain": [
              "<Figure size 864x720 with 1 Axes>"
            ],
            "image/png": "[encoded data removed]"
          },
          "metadata": {
            "needs_background": "light"
          }
        }
      ]
    },
    {
      "cell_type": "markdown",
      "source": [
        "<i>What is this plot telling us?</i>\n",
        "\n",
        "<p>We can see from this residual plot that the residuals are not randomly spread around the x-axis, leading us to believe that maybe a non-linear model is more appropriate for this data.</p>\n"
      ],
      "metadata": {
        "id": "TS0mVwzE0IWH"
      }
    },
    {
      "cell_type": "markdown",
      "source": [
        "<h3>Multiple Linear Regression</h3>\n"
      ],
      "metadata": {
        "id": "JPOUNu250IWI"
      }
    },
    {
      "cell_type": "markdown",
      "source": [
        "<p>How do we visualize a model for Multiple Linear Regression? This gets a bit more complicated because you can't visualize it with regression or residual plot.</p>\n",
        "\n",
        "<p>One way to look at the fit of the model is by looking at the <b>distribution plot</b>. We can look at the distribution of the fitted values that result from the model and compare it to the distribution of the actual values.</p>\n"
      ],
      "metadata": {
        "id": "NPpeAG5N0IWI"
      }
    },
    {
      "cell_type": "markdown",
      "source": [
        "First, let's make a prediction:\n"
      ],
      "metadata": {
        "id": "wVdTqeTT0IWJ"
      }
    },
    {
      "cell_type": "code",
      "source": [
        "Y_hat = lm.predict(Z)\n"
      ],
      "metadata": {
        "trusted": true,
        "id": "dIFzuhqw0IWK"
      },
      "execution_count": 28,
      "outputs": []
    },
    {
      "cell_type": "code",
      "source": [
        "plt.figure(figsize=(width, height))\n",
        "\n",
        "\n",
        "ax1 = sns.distplot(df['price'], hist=False, color=\"r\", label=\"Actual Value\")\n",
        "sns.distplot(Y_hat, hist=False, color=\"b\", label=\"Fitted Values\" , ax=ax1)\n",
        "\n",
        "\n",
        "plt.title('Actual vs Fitted Values for Price')\n",
        "plt.xlabel('Price (in dollars)')\n",
        "plt.ylabel('Proportion of Cars')\n",
        "\n",
        "plt.show()\n",
        "plt.close()"
      ],
      "metadata": {
        "trusted": true,
        "id": "2OMZdS610IWK",
        "colab": {
          "base_uri": "https://localhost:8080/",
          "height": 710
        },
        "outputId": "12605dcb-f440-4819-ca0f-e8be0cc7dbe2"
      },
      "execution_count": 29,
      "outputs": [
        {
          "output_type": "stream",
          "name": "stderr",
          "text": [
            "/usr/local/lib/python3.7/dist-packages/seaborn/distributions.py:2619: FutureWarning: `distplot` is a deprecated function and will be removed in a future version. Please adapt your code to use either `displot` (a figure-level function with similar flexibility) or `kdeplot` (an axes-level function for kernel density plots).\n",
            "  warnings.warn(msg, FutureWarning)\n",
            "/usr/local/lib/python3.7/dist-packages/seaborn/distributions.py:2619: FutureWarning: `distplot` is a deprecated function and will be removed in a future version. Please adapt your code to use either `displot` (a figure-level function with similar flexibility) or `kdeplot` (an axes-level function for kernel density plots).\n",
            "  warnings.warn(msg, FutureWarning)\n"
          ]
        },
        {
          "output_type": "display_data",
          "data": {
            "text/plain": [
              "<Figure size 864x720 with 1 Axes>"
            ],
            "image/png": "[encoded data removed]"
          },
          "metadata": {
            "needs_background": "light"
          }
        }
      ]
    },
    {
      "cell_type": "markdown",
      "source": [
        "<p>We can see that the fitted values are reasonably close to the actual values since the two distributions overlap a bit. However, there is definitely some room for improvement.</p>\n"
      ],
      "metadata": {
        "id": "v-2nclzz0IWL"
      }
    },
    {
      "cell_type": "markdown",
      "source": [
        "<h2>3. Polynomial Regression and Pipelines</h2>\n"
      ],
      "metadata": {
        "id": "7Ngw_rdG0IWL"
      }
    },
    {
      "cell_type": "markdown",
      "source": [
        "<p><b>Polynomial regression</b> is a particular case of the general linear regression model or multiple linear regression models.</p> \n",
        "<p>We get non-linear relationships by squaring or setting higher-order terms of the predictor variables.</p>\n",
        "\n",
        "<p>There are different orders of polynomial regression:</p>\n"
      ],
      "metadata": {
        "id": "nw0e0C300IWM"
      }
    },
    {
      "cell_type": "markdown",
      "source": [
        "<center><b>Quadratic - 2nd Order</b></center>\n",
        "$$\n",
        "Yhat = a + b_1 X +b_2 X^2 \n",
        "$$\n",
        "\n",
        "<center><b>Cubic - 3rd Order</b></center>\n",
        "$$\n",
        "Yhat = a + b_1 X +b_2 X^2 +b_3 X^3\\\\\\\\\\\\\\\\\\\\\n",
        "$$\n",
        "\n",
        "<center><b>Higher-Order</b>:</center>\n",
        "$$\n",
        "Y = a + b_1 X +b_2 X^2 +b_3 X^3 ....\\\\\\\\\n",
        "$$\n"
      ],
      "metadata": {
        "id": "F-zzmuXl0IWM"
      }
    },
    {
      "cell_type": "markdown",
      "source": [
        "<p>We saw earlier that a linear model did not provide the best fit while using \"highway-mpg\" as the predictor variable. Let's see if we can try fitting a polynomial model to the data instead.</p>\n"
      ],
      "metadata": {
        "id": "AA4DHQvf0IWN"
      }
    },
    {
      "cell_type": "markdown",
      "source": [
        "<p>We will use the following function to plot the data:</p>\n"
      ],
      "metadata": {
        "id": "3g0WxW_M0IWO"
      }
    },
    {
      "cell_type": "code",
      "source": [
        "def PlotPolly(model, independent_variable, dependent_variabble, Name):\n",
        "    x_new = np.linspace(15, 55, 100)\n",
        "    y_new = model(x_new)\n",
        "\n",
        "    plt.plot(independent_variable, dependent_variabble, '.', x_new, y_new, '-')\n",
        "    plt.title('Polynomial Fit with Matplotlib for Price ~ Length')\n",
        "    ax = plt.gca()\n",
        "    ax.set_facecolor((0.898, 0.898, 0.898))\n",
        "    fig = plt.gcf()\n",
        "    plt.xlabel(Name)\n",
        "    plt.ylabel('Price of Cars')\n",
        "\n",
        "    plt.show()\n",
        "    plt.close()"
      ],
      "metadata": {
        "trusted": true,
        "id": "hqksGFgi0IWO"
      },
      "execution_count": 30,
      "outputs": []
    },
    {
      "cell_type": "markdown",
      "source": [
        "Let's get the variables:\n"
      ],
      "metadata": {
        "id": "oKMJtJGJ0IWP"
      }
    },
    {
      "cell_type": "code",
      "source": [
        "x = df['highway-mpg']\n",
        "y = df['price']"
      ],
      "metadata": {
        "trusted": true,
        "id": "Iy84f36Q0IWP"
      },
      "execution_count": 31,
      "outputs": []
    },
    {
      "cell_type": "markdown",
      "source": [
        "Let's fit the polynomial using the function <b>polyfit</b>, then use the function <b>poly1d</b> to display the polynomial function.\n"
      ],
      "metadata": {
        "id": "XPe4yGEe0IWQ"
      }
    },
    {
      "cell_type": "code",
      "source": [
        "# Here we use a polynomial of the 3rd order (cubic) \n",
        "f = np.polyfit(x, y, 3)\n",
        "p = np.poly1d(f)\n",
        "print(p)"
      ],
      "metadata": {
        "trusted": true,
        "id": "BgNy0AIB0IWQ",
        "colab": {
          "base_uri": "https://localhost:8080/"
        },
        "outputId": "a06631bd-3371-4da2-b223-1a294d16cdbd"
      },
      "execution_count": 32,
      "outputs": [
        {
          "output_type": "stream",
          "name": "stdout",
          "text": [
            "        3         2\n",
            "-1.557 x + 204.8 x - 8965 x + 1.379e+05\n"
          ]
        }
      ]
    },
    {
      "cell_type": "markdown",
      "source": [
        "Let's plot the function:\n"
      ],
      "metadata": {
        "id": "h1MPSLiL0IWR"
      }
    },
    {
      "cell_type": "code",
      "source": [
        "PlotPolly(p, x, y, 'highway-mpg')"
      ],
      "metadata": {
        "trusted": true,
        "id": "9SAvwJVv0IWR",
        "colab": {
          "base_uri": "https://localhost:8080/",
          "height": 295
        },
        "outputId": "b178b645-49c4-442c-8eb8-7be9ef6d37f3"
      },
      "execution_count": 33,
      "outputs": [
        {
          "output_type": "display_data",
          "data": {
            "text/plain": [
              "<Figure size 432x288 with 1 Axes>"
            ],
            "image/png": "[encoded data removed]"
          },
          "metadata": {
            "needs_background": "light"
          }
        }
      ]
    },
    {
      "cell_type": "code",
      "source": [
        "np.polyfit(x, y, 3)"
      ],
      "metadata": {
        "trusted": true,
        "id": "WRvOM9P70IWS",
        "colab": {
          "base_uri": "https://localhost:8080/"
        },
        "outputId": "45909695-56db-4609-c0d5-bdf0e67c18d4"
      },
      "execution_count": 34,
      "outputs": [
        {
          "output_type": "execute_result",
          "data": {
            "text/plain": [
              "array([-1.55663829e+00,  2.04754306e+02, -8.96543312e+03,  1.37923594e+05])"
            ]
          },
          "metadata": {},
          "execution_count": 34
        }
      ]
    },
    {
      "cell_type": "markdown",
      "source": [
        "<p>We can already see from plotting that this polynomial model performs better than the linear model. This is because the generated polynomial function  \"hits\" more of the data points.</p>\n"
      ],
      "metadata": {
        "id": "Zu7unygm0IWS"
      }
    },
    {
      "cell_type": "markdown",
      "source": [
        "<div class=\"alert alert-danger alertdanger\" style=\"margin-top: 20px\">\n",
        "<h1>Question  #4:</h1>\n",
        "<b>Create 11 order polynomial model with the variables x and y from above.</b>\n",
        "</div>\n"
      ],
      "metadata": {
        "id": "fzJNSNoe0IWT"
      }
    },
    {
      "cell_type": "code",
      "source": [
        "# Write your code below and press Shift+Enter to execute \n",
        "f1 = np.polyfit(x, y, 11)\n",
        "p1 = np.poly1d(f1)\n",
        "print(p1)\n",
        "PlotPolly(p1,x,y, 'Highway MPG')"
      ],
      "metadata": {
        "trusted": true,
        "id": "1aatPo6t0IWT",
        "colab": {
          "base_uri": "https://localhost:8080/",
          "height": 364
        },
        "outputId": "c276ae62-a44e-48ab-e72e-eae83b0f6b6f"
      },
      "execution_count": 70,
      "outputs": [
        {
          "output_type": "stream",
          "name": "stdout",
          "text": [
            "            11             10             9           8         7\n",
            "-1.243e-08 x  + 4.722e-06 x  - 0.0008028 x + 0.08056 x - 5.297 x\n",
            "          6        5             4             3             2\n",
            " + 239.5 x - 7588 x + 1.684e+05 x - 2.565e+06 x + 2.551e+07 x - 1.491e+08 x + 3.879e+08\n"
          ]
        },
        {
          "output_type": "display_data",
          "data": {
            "text/plain": [
              "<Figure size 432x288 with 1 Axes>"
            ],
            "image/png": "[encoded data removed]"
          },
          "metadata": {
            "needs_background": "light"
          }
        }
      ]
    },
    {
      "cell_type": "markdown",
      "source": [
        "<p>The analytical expression for Multivariate Polynomial function gets complicated. For example, the expression for a second-order (degree=2) polynomial with two variables is given by:</p>\n"
      ],
      "metadata": {
        "id": "PJDhVqd70IWV"
      }
    },
    {
      "cell_type": "markdown",
      "source": [
        "$$\n",
        "Yhat = a + b\\_1 X\\_1 +b\\_2 X\\_2 +b\\_3 X\\_1 X\\_2+b\\_4 X\\_1^2+b\\_5 X\\_2^2\n",
        "$$\n"
      ],
      "metadata": {
        "id": "k1z5CK2-0IWV"
      }
    },
    {
      "cell_type": "markdown",
      "source": [
        "We can perform a polynomial transform on multiple features. First, we import the module:\n"
      ],
      "metadata": {
        "id": "xna8hMYA0IWV"
      }
    },
    {
      "cell_type": "code",
      "source": [
        "from sklearn.preprocessing import PolynomialFeatures"
      ],
      "metadata": {
        "trusted": true,
        "id": "eNRHbygX0IWW"
      },
      "execution_count": 36,
      "outputs": []
    },
    {
      "cell_type": "markdown",
      "source": [
        "We create a <b>PolynomialFeatures</b> object of degree 2:\n"
      ],
      "metadata": {
        "id": "3zr6CKUY0IWW"
      }
    },
    {
      "cell_type": "code",
      "source": [
        "pr=PolynomialFeatures(degree=2)\n",
        "pr"
      ],
      "metadata": {
        "trusted": true,
        "id": "mhERbnu30IWX",
        "colab": {
          "base_uri": "https://localhost:8080/"
        },
        "outputId": "416bf8c5-b6b2-47ac-88ac-ca33bbef6fed"
      },
      "execution_count": 37,
      "outputs": [
        {
          "output_type": "execute_result",
          "data": {
            "text/plain": [
              "PolynomialFeatures()"
            ]
          },
          "metadata": {},
          "execution_count": 37
        }
      ]
    },
    {
      "cell_type": "code",
      "source": [
        "Z_pr=pr.fit_transform(Z)"
      ],
      "metadata": {
        "trusted": true,
        "id": "BW9Bxsj50IWX"
      },
      "execution_count": 38,
      "outputs": []
    },
    {
      "cell_type": "markdown",
      "source": [
        "In the original data, there are 201 samples and 4 features.\n"
      ],
      "metadata": {
        "id": "idmVFiG-0IWY"
      }
    },
    {
      "cell_type": "code",
      "source": [
        "Z.shape"
      ],
      "metadata": {
        "trusted": true,
        "id": "UFKLxk0U0IWY",
        "colab": {
          "base_uri": "https://localhost:8080/"
        },
        "outputId": "3812b9a1-b217-4be2-8619-11406aa1d2c2"
      },
      "execution_count": 39,
      "outputs": [
        {
          "output_type": "execute_result",
          "data": {
            "text/plain": [
              "(201, 4)"
            ]
          },
          "metadata": {},
          "execution_count": 39
        }
      ]
    },
    {
      "cell_type": "markdown",
      "source": [
        "After the transformation, there are 201 samples and 15 features.\n"
      ],
      "metadata": {
        "id": "g0rNsIsQ0IWZ"
      }
    },
    {
      "cell_type": "code",
      "source": [
        "Z_pr.shape"
      ],
      "metadata": {
        "trusted": true,
        "id": "ibxY5KjE0IWZ",
        "colab": {
          "base_uri": "https://localhost:8080/"
        },
        "outputId": "7beff4e4-b58e-478f-c62f-2341f830fd9f"
      },
      "execution_count": 40,
      "outputs": [
        {
          "output_type": "execute_result",
          "data": {
            "text/plain": [
              "(201, 15)"
            ]
          },
          "metadata": {},
          "execution_count": 40
        }
      ]
    },
    {
      "cell_type": "markdown",
      "source": [
        "<h2>Pipeline</h2>\n"
      ],
      "metadata": {
        "id": "0C1ZOJRG0IWa"
      }
    },
    {
      "cell_type": "markdown",
      "source": [
        "<p>Data Pipelines simplify the steps of processing the data. We use the module <b>Pipeline</b> to create a pipeline. We also use <b>StandardScaler</b> as a step in our pipeline.</p>\n"
      ],
      "metadata": {
        "id": "9odsiHLi0IWb"
      }
    },
    {
      "cell_type": "code",
      "source": [
        "from sklearn.pipeline import Pipeline\n",
        "from sklearn.preprocessing import StandardScaler"
      ],
      "metadata": {
        "trusted": true,
        "id": "OAJtzRTG0IWb"
      },
      "execution_count": 41,
      "outputs": []
    },
    {
      "cell_type": "markdown",
      "source": [
        "We create the pipeline by creating a list of tuples including the name of the model or estimator and its corresponding constructor.\n"
      ],
      "metadata": {
        "id": "rs3ywGUz0IWb"
      }
    },
    {
      "cell_type": "code",
      "source": [
        "Input=[('scale',StandardScaler()), ('polynomial', PolynomialFeatures(include_bias=False)), ('model',LinearRegression())]"
      ],
      "metadata": {
        "trusted": true,
        "id": "SbO-fm_A0IWc"
      },
      "execution_count": 42,
      "outputs": []
    },
    {
      "cell_type": "markdown",
      "source": [
        "We input the list as an argument to the pipeline constructor:\n"
      ],
      "metadata": {
        "id": "hh76Q0xO0IWd"
      }
    },
    {
      "cell_type": "code",
      "source": [
        "pipe=Pipeline(Input)\n",
        "pipe"
      ],
      "metadata": {
        "trusted": true,
        "id": "F8pfW7kD0IWd",
        "colab": {
          "base_uri": "https://localhost:8080/"
        },
        "outputId": "8dc49586-f711-4f9a-d58f-9d00c0e69a57"
      },
      "execution_count": 43,
      "outputs": [
        {
          "output_type": "execute_result",
          "data": {
            "text/plain": [
              "Pipeline(steps=[('scale', StandardScaler()),\n",
              "                ('polynomial', PolynomialFeatures(include_bias=False)),\n",
              "                ('model', LinearRegression())])"
            ]
          },
          "metadata": {},
          "execution_count": 43
        }
      ]
    },
    {
      "cell_type": "markdown",
      "source": [
        "First, we convert the data type Z to type float to avoid conversion warnings that may appear as a result of StandardScaler taking float inputs.\n",
        "\n",
        "Then, we can normalize the data,  perform a transform and fit the model simultaneously.\n"
      ],
      "metadata": {
        "id": "lf6OCevM0IWe"
      }
    },
    {
      "cell_type": "code",
      "source": [
        "Z = Z.astype(float)\n",
        "pipe.fit(Z,y)"
      ],
      "metadata": {
        "trusted": true,
        "id": "5_FJgJlz0IWe",
        "colab": {
          "base_uri": "https://localhost:8080/"
        },
        "outputId": "4305947a-456e-46a3-a368-27732865dbc1"
      },
      "execution_count": 44,
      "outputs": [
        {
          "output_type": "execute_result",
          "data": {
            "text/plain": [
              "Pipeline(steps=[('scale', StandardScaler()),\n",
              "                ('polynomial', PolynomialFeatures(include_bias=False)),\n",
              "                ('model', LinearRegression())])"
            ]
          },
          "metadata": {},
          "execution_count": 44
        }
      ]
    },
    {
      "cell_type": "markdown",
      "source": [
        "Similarly,  we can normalize the data, perform a transform and produce a prediction  simultaneously.\n"
      ],
      "metadata": {
        "id": "AjAnouvo0IWf"
      }
    },
    {
      "cell_type": "code",
      "source": [
        "ypipe=pipe.predict(Z)\n",
        "ypipe[0:4]"
      ],
      "metadata": {
        "trusted": true,
        "id": "_ElAFdA_0IWf",
        "colab": {
          "base_uri": "https://localhost:8080/"
        },
        "outputId": "e01caf64-addd-41e4-b87e-adb187dd92f2"
      },
      "execution_count": 45,
      "outputs": [
        {
          "output_type": "execute_result",
          "data": {
            "text/plain": [
              "array([13102.74784201, 13102.74784201, 18225.54572197, 10390.29636555])"
            ]
          },
          "metadata": {},
          "execution_count": 45
        }
      ]
    },
    {
      "cell_type": "markdown",
      "source": [
        "<div class=\"alert alert-danger alertdanger\" style=\"margin-top: 20px\">\n",
        "<h1>Question #5:</h1>\n",
        "<b>Create a pipeline that standardizes the data, then produce a prediction using a linear regression model using the features Z and target y.</b>\n",
        "</div>\n"
      ],
      "metadata": {
        "id": "Ps3pCLOn0IWg"
      }
    },
    {
      "cell_type": "code",
      "source": [
        "# Write your code below and press Shift+Enter to execute \n",
        "Input=[('scale',StandardScaler()),('model',LinearRegression())]\n",
        "\n",
        "pipe=Pipeline(Input)\n",
        "\n",
        "pipe.fit(Z,y)\n",
        "\n",
        "ypipe=pipe.predict(Z)\n",
        "ypipe[0:10]"
      ],
      "metadata": {
        "trusted": true,
        "id": "Dd_xbYf50IWg",
        "colab": {
          "base_uri": "https://localhost:8080/"
        },
        "outputId": "c9110699-cad2-476d-b18d-3c6c7fb62660"
      },
      "execution_count": 71,
      "outputs": [
        {
          "output_type": "execute_result",
          "data": {
            "text/plain": [
              "array([13699.11161184, 13699.11161184, 19051.65470233, 10620.36193015,\n",
              "       15521.31420211, 13869.66673213, 15456.16196732, 15974.00907672,\n",
              "       17612.35917161, 10722.32509097])"
            ]
          },
          "metadata": {},
          "execution_count": 71
        }
      ]
    },
    {
      "cell_type": "markdown",
      "source": [
        "<h2>4. Measures for In-Sample Evaluation</h2>\n"
      ],
      "metadata": {
        "id": "CGf0yg9h0IWh"
      }
    },
    {
      "cell_type": "markdown",
      "source": [
        "<p>When evaluating our models, not only do we want to visualize the results, but we also want a quantitative measure to determine how accurate the model is.</p>\n",
        "\n",
        "<p>Two very important measures that are often used in Statistics to determine the accuracy of a model are:</p>\n",
        "<ul>\n",
        "    <li><b>R^2 / R-squared</b></li>\n",
        "    <li><b>Mean Squared Error (MSE)</b></li>\n",
        "</ul>\n",
        "\n",
        "<b>R-squared</b>\n",
        "\n",
        "<p>R squared, also known as the coefficient of determination, is a measure to indicate how close the data is to the fitted regression line.</p>\n",
        "\n",
        "<p>The value of the R-squared is the percentage of variation of the response variable (y) that is explained by a linear model.</p>\n",
        "\n",
        "<b>Mean Squared Error (MSE)</b>\n",
        "\n",
        "<p>The Mean Squared Error measures the average of the squares of errors. That is, the difference between actual value (y) and the estimated value (ŷ).</p>\n"
      ],
      "metadata": {
        "id": "FD9jgTOB0IWi"
      }
    },
    {
      "cell_type": "markdown",
      "source": [
        "<h3>Model 1: Simple Linear Regression</h3>\n"
      ],
      "metadata": {
        "id": "THhmDW2k0IWi"
      }
    },
    {
      "cell_type": "markdown",
      "source": [
        "Let's calculate the R^2:\n"
      ],
      "metadata": {
        "id": "zS7nbS8q0IWj"
      }
    },
    {
      "cell_type": "code",
      "source": [
        "#highway_mpg_fit\n",
        "lm.fit(X, Y)\n",
        "# Find the R^2\n",
        "print('The R-square is: ', lm.score(X, Y))"
      ],
      "metadata": {
        "scrolled": true,
        "trusted": true,
        "id": "7bQO1GrO0IWj",
        "colab": {
          "base_uri": "https://localhost:8080/"
        },
        "outputId": "f0d2487b-3dd4-44f1-d795-726f96efcc39"
      },
      "execution_count": 47,
      "outputs": [
        {
          "output_type": "stream",
          "name": "stdout",
          "text": [
            "The R-square is:  0.4965911884339176\n"
          ]
        }
      ]
    },
    {
      "cell_type": "markdown",
      "source": [
        "We can say that \\~49.659% of the variation of the price is explained by this simple linear model \"horsepower_fit\".\n"
      ],
      "metadata": {
        "id": "hMGNmOdq0IWk"
      }
    },
    {
      "cell_type": "markdown",
      "source": [
        "Let's calculate the MSE:\n"
      ],
      "metadata": {
        "id": "VDzkFcfm0IWk"
      }
    },
    {
      "cell_type": "markdown",
      "source": [
        "We can predict the output i.e., \"yhat\" using the predict method, where X is the input variable:\n"
      ],
      "metadata": {
        "id": "YtEIxtVm0IWl"
      }
    },
    {
      "cell_type": "code",
      "source": [
        "Yhat=lm.predict(X)\n",
        "print('The output of the first four predicted value is: ', Yhat[0:4])"
      ],
      "metadata": {
        "trusted": true,
        "id": "TD4u9ZiX0IWl",
        "colab": {
          "base_uri": "https://localhost:8080/"
        },
        "outputId": "2f448c1f-a479-4c47-dbfa-3c28746d7de3"
      },
      "execution_count": 48,
      "outputs": [
        {
          "output_type": "stream",
          "name": "stdout",
          "text": [
            "The output of the first four predicted value is:  [16236.50464347 16236.50464347 17058.23802179 13771.3045085 ]\n"
          ]
        }
      ]
    },
    {
      "cell_type": "markdown",
      "source": [
        "Let's import the function <b>mean_squared_error</b> from the module <b>metrics</b>:\n"
      ],
      "metadata": {
        "id": "XVr07ZcG0IWm"
      }
    },
    {
      "cell_type": "code",
      "source": [
        "from sklearn.metrics import mean_squared_error"
      ],
      "metadata": {
        "trusted": true,
        "id": "tIFzisJv0IWn"
      },
      "execution_count": 49,
      "outputs": []
    },
    {
      "cell_type": "markdown",
      "source": [
        "We can compare the predicted results with the actual results:\n"
      ],
      "metadata": {
        "id": "iR2e-O4j0IWn"
      }
    },
    {
      "cell_type": "code",
      "source": [
        "mse = mean_squared_error(df['price'], Yhat)\n",
        "print('The mean square error of price and predicted value is: ', mse)"
      ],
      "metadata": {
        "trusted": true,
        "id": "1Yr3T9aN0IWo",
        "colab": {
          "base_uri": "https://localhost:8080/"
        },
        "outputId": "41bef2fb-a343-4ead-a2f9-403751835501"
      },
      "execution_count": 50,
      "outputs": [
        {
          "output_type": "stream",
          "name": "stdout",
          "text": [
            "The mean square error of price and predicted value is:  31635042.944639888\n"
          ]
        }
      ]
    },
    {
      "cell_type": "markdown",
      "source": [
        "<h3>Model 2: Multiple Linear Regression</h3>\n"
      ],
      "metadata": {
        "id": "YpjgJxLC0IWp"
      }
    },
    {
      "cell_type": "markdown",
      "source": [
        "Let's calculate the R^2:\n"
      ],
      "metadata": {
        "id": "Iug45OUV0IWp"
      }
    },
    {
      "cell_type": "code",
      "source": [
        "# fit the model \n",
        "lm.fit(Z, df['price'])\n",
        "# Find the R^2\n",
        "print('The R-square is: ', lm.score(Z, df['price']))"
      ],
      "metadata": {
        "trusted": true,
        "id": "Rfy0Z2ra0IWp",
        "colab": {
          "base_uri": "https://localhost:8080/"
        },
        "outputId": "03a8cecf-8ba2-4352-f11c-a3fff1b2f40e"
      },
      "execution_count": 51,
      "outputs": [
        {
          "output_type": "stream",
          "name": "stdout",
          "text": [
            "The R-square is:  0.8093562806577457\n"
          ]
        }
      ]
    },
    {
      "cell_type": "markdown",
      "source": [
        "We can say that \\~80.896 % of the variation of price is explained by this multiple linear regression \"multi_fit\".\n"
      ],
      "metadata": {
        "id": "GYYRAsXG0IWq"
      }
    },
    {
      "cell_type": "markdown",
      "source": [
        "Let's calculate the MSE.\n"
      ],
      "metadata": {
        "id": "fE8AjMkc0IWr"
      }
    },
    {
      "cell_type": "markdown",
      "source": [
        "We produce a prediction:\n"
      ],
      "metadata": {
        "id": "zy7zOD4_0IWr"
      }
    },
    {
      "cell_type": "code",
      "source": [
        "Y_predict_multifit = lm.predict(Z)"
      ],
      "metadata": {
        "trusted": true,
        "id": "QMAF0y840IWr"
      },
      "execution_count": 52,
      "outputs": []
    },
    {
      "cell_type": "markdown",
      "source": [
        "We compare the predicted results with the actual results:\n"
      ],
      "metadata": {
        "id": "lCtL1iUH0IWs"
      }
    },
    {
      "cell_type": "code",
      "source": [
        "print('The mean square error of price and predicted value using multifit is: ', \\\n",
        "      mean_squared_error(df['price'], Y_predict_multifit))"
      ],
      "metadata": {
        "trusted": true,
        "id": "mNIH1ogJ0IWs",
        "colab": {
          "base_uri": "https://localhost:8080/"
        },
        "outputId": "9a577694-296f-4e98-e2b1-6fdf88acde83"
      },
      "execution_count": 53,
      "outputs": [
        {
          "output_type": "stream",
          "name": "stdout",
          "text": [
            "The mean square error of price and predicted value using multifit is:  11980366.87072649\n"
          ]
        }
      ]
    },
    {
      "cell_type": "markdown",
      "source": [
        "<h3>Model 3: Polynomial Fit</h3>\n"
      ],
      "metadata": {
        "id": "61WhFiZC0IWt"
      }
    },
    {
      "cell_type": "markdown",
      "source": [
        "Let's calculate the R^2.\n"
      ],
      "metadata": {
        "id": "u0ptrvkF0IWt"
      }
    },
    {
      "cell_type": "markdown",
      "source": [
        "Let’s import the function <b>r2\\_score</b> from the module <b>metrics</b> as we are using a different function.\n"
      ],
      "metadata": {
        "id": "iMeM_XC80IWu"
      }
    },
    {
      "cell_type": "code",
      "source": [
        "from sklearn.metrics import r2_score"
      ],
      "metadata": {
        "trusted": true,
        "id": "xBAGCDp80IWu"
      },
      "execution_count": 54,
      "outputs": []
    },
    {
      "cell_type": "markdown",
      "source": [
        "We apply the function to get the value of R^2:\n"
      ],
      "metadata": {
        "id": "hEqNmBIY0IWv"
      }
    },
    {
      "cell_type": "code",
      "source": [
        "r_squared = r2_score(y, p(x))\n",
        "print('The R-square value is: ', r_squared)"
      ],
      "metadata": {
        "trusted": true,
        "id": "1pe2Z5RS0IWv",
        "colab": {
          "base_uri": "https://localhost:8080/"
        },
        "outputId": "0f903155-1e80-4aa1-efb0-035759b18baf"
      },
      "execution_count": 55,
      "outputs": [
        {
          "output_type": "stream",
          "name": "stdout",
          "text": [
            "The R-square value is:  0.674194666390652\n"
          ]
        }
      ]
    },
    {
      "cell_type": "markdown",
      "source": [
        "We can say that \\~67.419 % of the variation of price is explained by this polynomial fit.\n"
      ],
      "metadata": {
        "id": "d4ZeIqRD0IWv"
      }
    },
    {
      "cell_type": "markdown",
      "source": [
        "<h3>MSE</h3>\n"
      ],
      "metadata": {
        "id": "3lApXwBo0IWw"
      }
    },
    {
      "cell_type": "markdown",
      "source": [
        "We can also calculate the MSE:\n"
      ],
      "metadata": {
        "id": "j8C730Z70IWw"
      }
    },
    {
      "cell_type": "code",
      "source": [
        "mean_squared_error(df['price'], p(x))"
      ],
      "metadata": {
        "trusted": true,
        "id": "MnDCvw7m0IWw",
        "colab": {
          "base_uri": "https://localhost:8080/"
        },
        "outputId": "8ffe8c44-a76e-4627-e92e-b36a3bbd765c"
      },
      "execution_count": 56,
      "outputs": [
        {
          "output_type": "execute_result",
          "data": {
            "text/plain": [
              "20474146.426361218"
            ]
          },
          "metadata": {},
          "execution_count": 56
        }
      ]
    },
    {
      "cell_type": "markdown",
      "source": [
        "<h2>5. Prediction and Decision Making</h2>\n",
        "<h3>Prediction</h3>\n",
        "\n",
        "<p>In the previous section, we trained the model using the method <b>fit</b>. Now we will use the method <b>predict</b> to produce a prediction. Lets import <b>pyplot</b> for plotting; we will also be using some functions from numpy.</p>\n"
      ],
      "metadata": {
        "id": "EaAugvEJ0IWx"
      }
    },
    {
      "cell_type": "code",
      "source": [
        "import matplotlib.pyplot as plt\n",
        "import numpy as np\n",
        "\n",
        "%matplotlib inline "
      ],
      "metadata": {
        "trusted": true,
        "id": "3N217u6_0IWx"
      },
      "execution_count": 57,
      "outputs": []
    },
    {
      "cell_type": "markdown",
      "source": [
        "Create a new input:\n"
      ],
      "metadata": {
        "id": "si8LZm_b0IWy"
      }
    },
    {
      "cell_type": "code",
      "source": [
        "new_input=np.arange(1, 100, 1).reshape(-1, 1)"
      ],
      "metadata": {
        "trusted": true,
        "id": "vA8F1XBD0IWy"
      },
      "execution_count": 58,
      "outputs": []
    },
    {
      "cell_type": "markdown",
      "source": [
        "Fit the model:\n"
      ],
      "metadata": {
        "id": "vda2r_gp0IWy"
      }
    },
    {
      "cell_type": "code",
      "source": [
        "lm.fit(X, Y)\n",
        "lm"
      ],
      "metadata": {
        "trusted": true,
        "id": "HyDPlXGi0IWz",
        "colab": {
          "base_uri": "https://localhost:8080/"
        },
        "outputId": "c8766bc5-f790-44d3-aef0-731287289fbc"
      },
      "execution_count": 59,
      "outputs": [
        {
          "output_type": "execute_result",
          "data": {
            "text/plain": [
              "LinearRegression()"
            ]
          },
          "metadata": {},
          "execution_count": 59
        }
      ]
    },
    {
      "cell_type": "markdown",
      "source": [
        "Produce a prediction:\n"
      ],
      "metadata": {
        "id": "f-ckrC0v0IWz"
      }
    },
    {
      "cell_type": "code",
      "source": [
        "yhat=lm.predict(new_input)\n",
        "yhat[0:5]"
      ],
      "metadata": {
        "trusted": true,
        "id": "MehgzUt00IW0",
        "colab": {
          "base_uri": "https://localhost:8080/"
        },
        "outputId": "194081d7-c06c-44e6-d35e-6e0b98de6f16"
      },
      "execution_count": 60,
      "outputs": [
        {
          "output_type": "stream",
          "name": "stderr",
          "text": [
            "/usr/local/lib/python3.7/dist-packages/sklearn/base.py:451: UserWarning: X does not have valid feature names, but LinearRegression was fitted with feature names\n",
            "  \"X does not have valid feature names, but\"\n"
          ]
        },
        {
          "output_type": "execute_result",
          "data": {
            "text/plain": [
              "array([37601.57247984, 36779.83910151, 35958.10572319, 35136.37234487,\n",
              "       34314.63896655])"
            ]
          },
          "metadata": {},
          "execution_count": 60
        }
      ]
    },
    {
      "cell_type": "markdown",
      "source": [
        "We can plot the data:\n"
      ],
      "metadata": {
        "id": "1hIs0IKA0IW0"
      }
    },
    {
      "cell_type": "code",
      "source": [
        "plt.plot(new_input, yhat)\n",
        "plt.show()"
      ],
      "metadata": {
        "trusted": true,
        "id": "RCD-eyK30IW1",
        "colab": {
          "base_uri": "https://localhost:8080/",
          "height": 265
        },
        "outputId": "37641848-78e0-41f1-bf99-8b3a2b73715c"
      },
      "execution_count": 61,
      "outputs": [
        {
          "output_type": "display_data",
          "data": {
            "text/plain": [
              "<Figure size 432x288 with 1 Axes>"
            ],
            "image/png": "[encoded data removed]"
          },
          "metadata": {
            "needs_background": "light"
          }
        }
      ]
    },
    {
      "cell_type": "markdown",
      "source": [
        "<h3>Decision Making: Determining a Good Model Fit</h3>\n"
      ],
      "metadata": {
        "id": "_H4SIoB00IW1"
      }
    },
    {
      "cell_type": "markdown",
      "source": [
        "<p>Now that we have visualized the different models, and generated the R-squared and MSE values for the fits, how do we determine a good model fit?\n",
        "<ul>\n",
        "    <li><i>What is a good R-squared value?</i></li>\n",
        "</ul>\n",
        "</p>\n",
        "\n",
        "<p>When comparing models, <b>the model with the higher R-squared value is a better fit</b> for the data.\n",
        "<ul>\n",
        "    <li><i>What is a good MSE?</i></li>\n",
        "</ul>\n",
        "</p>\n",
        "\n",
        "<p>When comparing models, <b>the model with the smallest MSE value is a better fit</b> for the data.</p>\n",
        "\n",
        "<h4>Let's take a look at the values for the different models.</h4>\n",
        "<p>Simple Linear Regression: Using Highway-mpg as a Predictor Variable of Price.\n",
        "<ul>\n",
        "    <li>R-squared: 0.49659118843391759</li>\n",
        "    <li>MSE: 3.16 x10^7</li>\n",
        "</ul>\n",
        "</p>\n",
        "\n",
        "<p>Multiple Linear Regression: Using Horsepower, Curb-weight, Engine-size, and Highway-mpg as Predictor Variables of Price.\n",
        "<ul>\n",
        "    <li>R-squared: 0.80896354913783497</li>\n",
        "    <li>MSE: 1.2 x10^7</li>\n",
        "</ul>\n",
        "</p>\n",
        "\n",
        "<p>Polynomial Fit: Using Highway-mpg as a Predictor Variable of Price.\n",
        "<ul>\n",
        "    <li>R-squared: 0.6741946663906514</li>\n",
        "    <li>MSE: 2.05 x 10^7</li>\n",
        "</ul>\n",
        "</p>\n"
      ],
      "metadata": {
        "id": "p0bFh0DK0IW1"
      }
    },
    {
      "cell_type": "markdown",
      "source": [
        "<h3>Simple Linear Regression Model (SLR) vs Multiple Linear Regression Model (MLR)</h3>\n"
      ],
      "metadata": {
        "id": "WmBvX6Ez0IW2"
      }
    },
    {
      "cell_type": "markdown",
      "source": [
        "<p>Usually, the more variables you have, the better your model is at predicting, but this is not always true. Sometimes you may not have enough data, you may run into numerical problems, or many of the variables may not be useful and even act as noise. As a result, you should always check the MSE and R^2.</p>\n",
        "\n",
        "<p>In order to compare the results of the MLR vs SLR models, we look at a combination of both the R-squared and MSE to make the best conclusion about the fit of the model.\n",
        "<ul>\n",
        "    <li><b>MSE</b>: The MSE of SLR is  3.16x10^7  while MLR has an MSE of 1.2 x10^7.  The MSE of MLR is much smaller.</li>\n",
        "    <li><b>R-squared</b>: In this case, we can also see that there is a big difference between the R-squared of the SLR and the R-squared of the MLR. The R-squared for the SLR (~0.497) is very small compared to the R-squared for the MLR (~0.809).</li>\n",
        "</ul>\n",
        "</p>\n",
        "\n",
        "This R-squared in combination with the MSE show that MLR seems like the better model fit in this case compared to SLR.\n"
      ],
      "metadata": {
        "id": "NH1IKXS60IW3"
      }
    },
    {
      "cell_type": "markdown",
      "source": [
        "<h3>Simple Linear Model (SLR) vs. Polynomial Fit</h3>\n"
      ],
      "metadata": {
        "id": "5LBUeHC20IW3"
      }
    },
    {
      "cell_type": "markdown",
      "source": [
        "<ul>\n",
        "    <li><b>MSE</b>: We can see that Polynomial Fit brought down the MSE, since this MSE is smaller than the one from the SLR.</li> \n",
        "    <li><b>R-squared</b>: The R-squared for the Polynomial Fit is larger than the R-squared for the SLR, so the Polynomial Fit also brought up the R-squared quite a bit.</li>\n",
        "</ul>\n",
        "<p>Since the Polynomial Fit resulted in a lower MSE and a higher R-squared, we can conclude that this was a better fit model than the simple linear regression for predicting \"price\" with \"highway-mpg\" as a predictor variable.</p>\n"
      ],
      "metadata": {
        "id": "0QsbLOer0IW4"
      }
    },
    {
      "cell_type": "markdown",
      "source": [
        "<h3>Multiple Linear Regression (MLR) vs. Polynomial Fit</h3>\n"
      ],
      "metadata": {
        "id": "ZuqLe6p30IW4"
      }
    },
    {
      "cell_type": "markdown",
      "source": [
        "<ul>\n",
        "    <li><b>MSE</b>: The MSE for the MLR is smaller than the MSE for the Polynomial Fit.</li>\n",
        "    <li><b>R-squared</b>: The R-squared for the MLR is also much larger than for the Polynomial Fit.</li>\n",
        "</ul>\n"
      ],
      "metadata": {
        "id": "HpuRu39q0IW5"
      }
    },
    {
      "cell_type": "markdown",
      "source": [
        "<h2>Conclusion</h2>\n"
      ],
      "metadata": {
        "id": "kSIm3cGK0IW5"
      }
    },
    {
      "cell_type": "markdown",
      "source": [
        "<p>Comparing these three models, we conclude that <b>the MLR model is the best model</b> to be able to predict price from our dataset. This result makes sense since we have 27 variables in total and we know that more than one of those variables are potential predictors of the final car price.</p>\n"
      ],
      "metadata": {
        "id": "fRHLWFJU0IW6"
      }
    },
    {
      "cell_type": "markdown",
      "source": [
        "### Thank you for completing this lab!\n",
        "\n",
        "## Author\n",
        "\n",
        "<a href=\"https://www.linkedin.com/in/joseph-s-50398b136/?utm_medium=Exinfluencer&utm_source=Exinfluencer&utm_content=000026UJ&utm_term=10006555&utm_id=NA-SkillsNetwork-Channel-SkillsNetworkCoursesIBMDeveloperSkillsNetworkDA0101ENSkillsNetwork20235326-2021-01-01\" target=\"_blank\">Joseph Santarcangelo</a>\n",
        "\n",
        "### Other Contributors\n",
        "\n",
        "<a href=\"https://www.linkedin.com/in/mahdi-noorian-58219234/?utm_medium=Exinfluencer&utm_source=Exinfluencer&utm_content=000026UJ&utm_term=10006555&utm_id=NA-SkillsNetwork-Channel-SkillsNetworkCoursesIBMDeveloperSkillsNetworkDA0101ENSkillsNetwork20235326-2021-01-01\" target=\"_blank\">Mahdi Noorian PhD</a>\n",
        "\n",
        "Bahare Talayian\n",
        "\n",
        "Eric Xiao\n",
        "\n",
        "Steven Dong\n",
        "\n",
        "Parizad\n",
        "\n",
        "Hima Vasudevan\n",
        "\n",
        "<a href=\"https://www.linkedin.com/in/fiorellawever/?utm_medium=Exinfluencer&utm_source=Exinfluencer&utm_content=000026UJ&utm_term=10006555&utm_id=NA-SkillsNetwork-Channel-SkillsNetworkCoursesIBMDeveloperSkillsNetworkDA0101ENSkillsNetwork20235326-2021-01-01\" target=\"_blank\">Fiorella Wenver</a>\n",
        "\n",
        "<a href=\"https:// https://www.linkedin.com/in/yi-leng-yao-84451275/ \" target=\"_blank\" >Yi Yao</a>.\n",
        "\n",
        "## Change Log\n",
        "\n",
        "| Date (YYYY-MM-DD) | Version | Changed By | Change Description                            |\n",
        "| ----------------- | ------- | ---------- | --------------------------------------------- |\n",
        "| 2020-10-30        | 2.2     | Lakshmi    | Changed url of csv                            |\n",
        "| 2020-09-09        | 2.1     | Lakshmi    | Fixes made in Polynomial Regression Equations |\n",
        "| 2020-08-27        | 2.0     | Lavanya    | Moved lab to course repo in GitLab            |\n",
        "\n",
        "<hr>\n",
        "\n",
        "## <h3 align=\"center\"> © IBM Corporation 2020. All rights reserved. <h3/>\n"
      ],
      "metadata": {
        "id": "M2TpE6dt0IW6"
      }
    },
    {
      "cell_type": "markdown",
      "source": [
        "#QUESTIONS MODULE 4\n",
        "\n",
        "Question 1\n",
        "\n",
        "Let X be a dataframe with 100 rows and 5 columns. Let y be the target with 100 samples. Assuming all the relevant libraries and data have been imported, the following line of code has been executed:\n",
        "\n",
        "100\n",
        "\n",
        "Question 2\n",
        "\n",
        "What value of R^2 (coefficient of determination) indicates your model performs best?\n",
        "\n",
        "1\n",
        "\n",
        "Question 3\n",
        "\n",
        "Which statement is true about polynomial linear regression?\n",
        "\n",
        "Although the predictor variables of polynomial linear regression are not linear, the relationship between the parameters or coefficients is linear.\n",
        "\n",
        "Question 4\n",
        "\n",
        "The larger the mean squared error, the better your model performs:\n",
        "FALSE\n",
        "\n",
        "Question 5 \n",
        "\n",
        "What is the Pearson correlation between variables X and Y if X=Y:Assume all the libraries are imported. y is the target and X is the features or dependent variables. Consider the following lines of code:\n",
        "\n",
        "Input=[('scale',StandardScaler()),('model',LinearRegression())]\n",
        "\n",
        "pipe=Pipeline(Input)\n",
        "\n",
        "pipe.fit(X,y)\n",
        "\n",
        "ypipe=pipe.predict(X)\n",
        "\n",
        "\n",
        "Standardize the data, then perform prediction using a linear regression model.\n",
        "\n",
        "\n"
      ],
      "metadata": {
        "id": "KZf_UOK0NMKq"
      }
    },
    {
      "cell_type": "markdown",
      "source": [
        "##MODULO 4 FINALIZADO CON EXITO\n",
        "\n",
        "![MODELE 4 ANALYST.PNG](data:image/png;base64,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)"
      ],
      "metadata": {
        "id": "0Dmq15pD4HgD"
      }
    }
  ],
  "metadata": {
    "anaconda-cloud": {},
    "kernelspec": {
      "display_name": "Python 3",
      "language": "python",
      "name": "python3"
    },
    "language_info": {
      "codemirror_mode": {
        "name": "ipython",
        "version": 3
      },
      "file_extension": ".py",
      "mimetype": "text/x-python",
      "name": "python",
      "nbconvert_exporter": "python",
      "pygments_lexer": "ipython3",
      "version": "3.7.6"
    },
    "colab": {
      "provenance": [],
      "include_colab_link": true
    }
  },
  "nbformat": 4,
  "nbformat_minor": 0
}