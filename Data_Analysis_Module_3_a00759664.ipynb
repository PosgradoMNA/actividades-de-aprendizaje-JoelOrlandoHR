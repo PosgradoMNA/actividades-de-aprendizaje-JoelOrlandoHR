{
  "cells": [
    {
      "cell_type": "markdown",
      "metadata": {
        "id": "view-in-github",
        "colab_type": "text"
      },
      "source": [
        "<a href=\"https://colab.research.google.com/github/PosgradoMNA/actividades-de-aprendizaje-JoelOrlandoHR/blob/main/Data_Analysis_Module_3_a00759664.ipynb\" target=\"_parent\"><img src=\"https://colab.research.google.com/assets/colab-badge.svg\" alt=\"Open In Colab\"/></a>"
      ]
    },
    {
      "cell_type": "markdown",
      "source": [
        "#**Maestría en Inteligencia Artificial Aplicada**\n",
        "##**Curso: Ciencia y analítica de datos**\n",
        "###Tecnológico de Monterrey\n",
        "### **Semana 6** - **Data Analysis with Python- Módulo 3**\n",
        "###Prof Jobish Vallikavungal Devassia\n",
        "<br>\n",
        "\n",
        "###Alumno: Joel Orlando Hernández Ramos\n",
        "###Matrícula: A00759664\n",
        "\n",
        "\n",
        "\n",
        "Fecha de entrega: Octubre 25, 2022"
      ],
      "metadata": {
        "id": "Dix_3RB8n2HP"
      }
    },
    {
      "cell_type": "markdown",
      "source": [
        "# VIDEOS SUMMARY\n",
        "\n",
        "##Exploratory Data Analysis (First Video Summary)\n",
        "\n",
        "Exploratory Data Analysis, “EDA”, is an approach to analyze data in order to:\n",
        "- summarize main characteristics of the data\n",
        "- gain better understanding of the dataset,\n",
        "- uncover relationships between different variables, and\n",
        "- extract important variables for the problem we are trying to solve.\n",
        "\n",
        "In EDA, the main question is \"what are the characteristics that have the most impact on my target variable\" \n",
        "\n",
        "Therefore, to answer this question, we will learn:\n",
        "\n",
        "Descrpitive Statistics.\n",
        "GroupBy\n",
        "ANOVA\n",
        "Correlation\n",
        "Correlation-Statistics.\n",
        "\n",
        "##Descriptive Statistics.  (Second Video Summary)\n",
        "\n",
        "Descriptive statistical analysis helps to describe basic features of a dataset and obtains a short summary about the sample and measures\n",
        "of the data.  \n",
        "In pandas, the \"describe\" function automatically computes basic statistics forall numerical variables. It shows the mean, the total number of data\n",
        "points, the standard deviation, the quartiles and the minmax values. Important to consider that NaN values asre skipped.  \n",
        "\n",
        "When we have a feature that is a categorical value, we can use the \"value_counts\" method to summerize how many entries we have per category. \n",
        "\n",
        "Regardin Graphs we can describre the two following: \n",
        "\n",
        "Boxplots are a great way to visualize your data and easily spot outliers\n",
        "and also see the distribution and skewness of the data.\n",
        "The main features that the boxplot shows are:\n",
        "- the median of the data, which represents where the middle datapoint is. \n",
        "- The Upper Quartile shows where the 75th percentile is.\n",
        "- the Lower Quartile shows where the 25th percentile is. \n",
        "- The data between the Upper and Lower Quartile represents the Interquartile Range.\n",
        "- Next, you have the Lower and Upper Extremes. These are calculated as 1.5 times the interquartile range above the 75th percentile, and as 1.5 times the IQR below the 25th percentile.\n",
        "- Finally, boxplots also display outliers as individual dots that occur outside the upper and lower extremes.\n",
        "\n",
        "ScatterPlot.\n",
        "Each observation in a scatter plot is represented as a point. This plot shows the relationship between two variables (Predictor in the x axis and target un the y variable). \n",
        "\n",
        "##GroupBy in Python (Third Video Summary)\n",
        "\n",
        "The group by method is used on categorical variables. It groups the data into subsets according to the different categories of that variable. It can be either grouped by single or multiple variables. \n",
        "\n",
        "This help you get conclusions over a certain specific population of your sample. However, the method returns as an output a table that may be hard to understand. To make it easier to understand, we can transform this table to a pivot table by using the pivot method. A pivot table has one variable displayed along the columns and the other variable displayed along the rows.\n",
        "\n",
        "Heatmap are also a good way to visualize grouped data. Heatmap takes a rectangular grid of data and assigns a color intensity based on the data value at the grid points. In the example explained, we had three variables one in the x axis, another in the y axis and finally the color intensitiy was the third one.\n",
        "\n",
        "##Analysis of Variance ANOVA (Fourth Video Summary)\n",
        "\n",
        "The ANOVA answers this key question: how different categories\n",
        "of the Make feature (as a categorical variable) has impact on the price?\n",
        "\n",
        "ANOVA is a statistical test that stands for \"Analysis of Variance\". ANOVA can be used to find the correlation between different groups of a categorical variable. The ANOVA test returns two values: the F-test score and the p-value.\n",
        "\n",
        "- The F-test calculates the ratio of variation between the groups's mean over the variation within each of the sample groups. When the F-score is small, the correlation between the target variable and the\n",
        "groupings is weak. The ANOVA test can be performed in Python using the f_oneway method as the built-in function of the Scipy package.\n",
        "- The p-value shows whether the obtained result is statistically significant. We can assume that there is no significant difference if  p-value is larger than 0.05.\n",
        "\n",
        "##Correlation (Fifth Video)\n",
        "\n",
        "Correlation is a statistical metric for measuring to what extent different variables are interdependent. It is important to know that correlation doesn’t imply causation. To visualize the type of correlation, if any, between to variables we can use seaborn regplot() to create the scatter plot. For example, with this method we can visualize whether there is a positive linear correlation, negative linear correlation, weak or strong. We\n",
        "\n",
        "\n",
        "##Correlation - Statistics(Sixth Video)\n",
        "\n",
        "One way to measure the strength of the correlation between continuous numerical variables is by using a method called Pearson Correlation. The Pearson correlation method, will give you two values, the Correlation coefficient and the p-value.\n",
        "\n",
        "How to understand your results? \n",
        "\n",
        "1. For the correlation coefficient, a value close to 1 implies a large positive correlation, while a value close to -1 implies a large negative correlation and a value close to 0 implies no correlation between the variables. the p-value will tell us how certain we are about the correlation that we calculated.\n",
        "\n",
        "2. The p-value, a value less than 0.001 gives us a strong certainty about the correlation coefficient that we calculated. A value between 0.001 and 0.05 gives us moderate certainty, a value between 0.05 and 0.1 will give us a weak certainty and a p-value larger than 0.1 will give us no certainty of correlation at all.\n",
        "\n",
        "We can calculate the Pearson correlation by using the the Scipy stats package. stats.perasonr(). A good way to understand and visualize your correlation is using a heatmap as it gives us a good overview of how the different variables are related. "
      ],
      "metadata": {
        "id": "fo2PpuLwJ5te"
      }
    },
    {
      "cell_type": "markdown",
      "source": [
        "# LABORATORY FOR MODULE 3\n",
        "\n",
        "This was imported directly from the course. Then it was modified with my notes/comments and solved. "
      ],
      "metadata": {
        "id": "wk9v_z1oKsv2"
      }
    },
    {
      "cell_type": "markdown",
      "source": [
        "<center>\n",
        "    <img src=\"https://cf-courses-data.s3.us.cloud-object-storage.appdomain.cloud/IBMDeveloperSkillsNetwork-DA0101EN-SkillsNetwork/labs/Module%203/images/IDSNlogo.png\" width=\"300\" alt=\"cognitiveclass.ai logo\"  />\n",
        "</center>\n",
        "\n",
        "# Data Analysis with Python\n",
        "\n",
        "Estimated time needed: **30** minutes\n",
        "\n",
        "## Objectives\n",
        "\n",
        "After completing this lab you will be able to:\n",
        "\n",
        "*   Explore features or charecteristics to predict price of car\n"
      ],
      "metadata": {
        "id": "ifIdjQEe__Xz"
      }
    },
    {
      "cell_type": "markdown",
      "source": [
        "<h2>Table of Contents</h2>\n",
        "\n",
        "<div class=\"alert alert-block alert-info\" style=\"margin-top: 20px\">\n",
        "<ol>\n",
        "    <li><a href=\"https://#import_data\">Import Data from Module</a></li>\n",
        "    <li><a href=\"https://#pattern_visualization\">Analyzing Individual Feature Patterns using Visualization</a></li>\n",
        "    <li><a href=\"https://#discriptive_statistics\">Descriptive Statistical Analysis</a></li>\n",
        "    <li><a href=\"https://#basic_grouping\">Basics of Grouping</a></li>\n",
        "    <li><a href=\"https://#correlation_causation\">Correlation and Causation</a></li>\n",
        "    <li><a href=\"https://#anova\">ANOVA</a></li>\n",
        "</ol>\n",
        "\n",
        "</div>\n",
        "\n",
        "<hr>\n"
      ],
      "metadata": {
        "id": "RDThbYTG__X1"
      }
    },
    {
      "cell_type": "markdown",
      "source": [
        "<h3>What are the main characteristics that have the most impact on the car price?</h3>\n"
      ],
      "metadata": {
        "id": "gNmObI0J__X2"
      }
    },
    {
      "cell_type": "markdown",
      "source": [
        "<h2 id=\"import_data\">1. Import Data from Module 2</h2>\n"
      ],
      "metadata": {
        "id": "d0iBT3H1__X2"
      }
    },
    {
      "cell_type": "markdown",
      "source": [
        "<h4>Setup</h4>\n"
      ],
      "metadata": {
        "id": "3f2_eEZz__X2"
      }
    },
    {
      "cell_type": "markdown",
      "source": [
        "you are running the lab in your  browser, so we will install the libraries using `piplite`\n"
      ],
      "metadata": {
        "id": "IdKABe1U__X3"
      }
    },
    {
      "cell_type": "code",
      "source": [
        "import pandas as pd\n",
        "import numpy as np"
      ],
      "metadata": {
        "trusted": true,
        "id": "LtRuHblu__X4"
      },
      "execution_count": 2,
      "outputs": []
    },
    {
      "cell_type": "code",
      "source": [
        "path='https://cf-courses-data.s3.us.cloud-object-storage.appdomain.cloud/IBMDeveloperSkillsNetwork-DA0101EN-SkillsNetwork/labs/Data%20files/automobileEDA.csv'"
      ],
      "metadata": {
        "trusted": true,
        "id": "PDAbAiGI__X5"
      },
      "execution_count": 3,
      "outputs": []
    },
    {
      "cell_type": "code",
      "source": [
        "\n",
        "filename=path"
      ],
      "metadata": {
        "trusted": true,
        "id": "_aEFjXs1__X6"
      },
      "execution_count": 4,
      "outputs": []
    },
    {
      "cell_type": "code",
      "source": [
        "\n",
        "df = pd.read_csv(filename)\n",
        "df.head()"
      ],
      "metadata": {
        "trusted": true,
        "id": "_qBEOY7a__X6",
        "colab": {
          "base_uri": "https://localhost:8080/",
          "height": 386
        },
        "outputId": "d3ae0c99-a962-4ac9-aee1-25526711d280"
      },
      "execution_count": 5,
      "outputs": [
        {
          "output_type": "execute_result",
          "data": {
            "text/plain": [
              "   symboling  normalized-losses         make aspiration num-of-doors  \\\n",
              "0          3                122  alfa-romero        std          two   \n",
              "1          3                122  alfa-romero        std          two   \n",
              "2          1                122  alfa-romero        std          two   \n",
              "3          2                164         audi        std         four   \n",
              "4          2                164         audi        std         four   \n",
              "\n",
              "    body-style drive-wheels engine-location  wheel-base    length  ...  \\\n",
              "0  convertible          rwd           front        88.6  0.811148  ...   \n",
              "1  convertible          rwd           front        88.6  0.811148  ...   \n",
              "2    hatchback          rwd           front        94.5  0.822681  ...   \n",
              "3        sedan          fwd           front        99.8  0.848630  ...   \n",
              "4        sedan          4wd           front        99.4  0.848630  ...   \n",
              "\n",
              "   compression-ratio  horsepower  peak-rpm city-mpg highway-mpg    price  \\\n",
              "0                9.0       111.0    5000.0       21          27  13495.0   \n",
              "1                9.0       111.0    5000.0       21          27  16500.0   \n",
              "2                9.0       154.0    5000.0       19          26  16500.0   \n",
              "3               10.0       102.0    5500.0       24          30  13950.0   \n",
              "4                8.0       115.0    5500.0       18          22  17450.0   \n",
              "\n",
              "  city-L/100km  horsepower-binned  diesel  gas  \n",
              "0    11.190476             Medium       0    1  \n",
              "1    11.190476             Medium       0    1  \n",
              "2    12.368421             Medium       0    1  \n",
              "3     9.791667             Medium       0    1  \n",
              "4    13.055556             Medium       0    1  \n",
              "\n",
              "[5 rows x 29 columns]"
            ],
            "text/html": [
              "\n",
              "  <div id=\"df-6a17763a-7d47-4b8a-baae-4a19d81bb4d5\">\n",
              "    <div class=\"colab-df-container\">\n",
              "      <div>\n",
              "<style scoped>\n",
              "    .dataframe tbody tr th:only-of-type {\n",
              "        vertical-align: middle;\n",
              "    }\n",
              "\n",
              "    .dataframe tbody tr th {\n",
              "        vertical-align: top;\n",
              "    }\n",
              "\n",
              "    .dataframe thead th {\n",
              "        text-align: right;\n",
              "    }\n",
              "</style>\n",
              "<table border=\"1\" class=\"dataframe\">\n",
              "  <thead>\n",
              "    <tr style=\"text-align: right;\">\n",
              "      <th></th>\n",
              "      <th>symboling</th>\n",
              "      <th>normalized-losses</th>\n",
              "      <th>make</th>\n",
              "      <th>aspiration</th>\n",
              "      <th>num-of-doors</th>\n",
              "      <th>body-style</th>\n",
              "      <th>drive-wheels</th>\n",
              "      <th>engine-location</th>\n",
              "      <th>wheel-base</th>\n",
              "      <th>length</th>\n",
              "      <th>...</th>\n",
              "      <th>compression-ratio</th>\n",
              "      <th>horsepower</th>\n",
              "      <th>peak-rpm</th>\n",
              "      <th>city-mpg</th>\n",
              "      <th>highway-mpg</th>\n",
              "      <th>price</th>\n",
              "      <th>city-L/100km</th>\n",
              "      <th>horsepower-binned</th>\n",
              "      <th>diesel</th>\n",
              "      <th>gas</th>\n",
              "    </tr>\n",
              "  </thead>\n",
              "  <tbody>\n",
              "    <tr>\n",
              "      <th>0</th>\n",
              "      <td>3</td>\n",
              "      <td>122</td>\n",
              "      <td>alfa-romero</td>\n",
              "      <td>std</td>\n",
              "      <td>two</td>\n",
              "      <td>convertible</td>\n",
              "      <td>rwd</td>\n",
              "      <td>front</td>\n",
              "      <td>88.6</td>\n",
              "      <td>0.811148</td>\n",
              "      <td>...</td>\n",
              "      <td>9.0</td>\n",
              "      <td>111.0</td>\n",
              "      <td>5000.0</td>\n",
              "      <td>21</td>\n",
              "      <td>27</td>\n",
              "      <td>13495.0</td>\n",
              "      <td>11.190476</td>\n",
              "      <td>Medium</td>\n",
              "      <td>0</td>\n",
              "      <td>1</td>\n",
              "    </tr>\n",
              "    <tr>\n",
              "      <th>1</th>\n",
              "      <td>3</td>\n",
              "      <td>122</td>\n",
              "      <td>alfa-romero</td>\n",
              "      <td>std</td>\n",
              "      <td>two</td>\n",
              "      <td>convertible</td>\n",
              "      <td>rwd</td>\n",
              "      <td>front</td>\n",
              "      <td>88.6</td>\n",
              "      <td>0.811148</td>\n",
              "      <td>...</td>\n",
              "      <td>9.0</td>\n",
              "      <td>111.0</td>\n",
              "      <td>5000.0</td>\n",
              "      <td>21</td>\n",
              "      <td>27</td>\n",
              "      <td>16500.0</td>\n",
              "      <td>11.190476</td>\n",
              "      <td>Medium</td>\n",
              "      <td>0</td>\n",
              "      <td>1</td>\n",
              "    </tr>\n",
              "    <tr>\n",
              "      <th>2</th>\n",
              "      <td>1</td>\n",
              "      <td>122</td>\n",
              "      <td>alfa-romero</td>\n",
              "      <td>std</td>\n",
              "      <td>two</td>\n",
              "      <td>hatchback</td>\n",
              "      <td>rwd</td>\n",
              "      <td>front</td>\n",
              "      <td>94.5</td>\n",
              "      <td>0.822681</td>\n",
              "      <td>...</td>\n",
              "      <td>9.0</td>\n",
              "      <td>154.0</td>\n",
              "      <td>5000.0</td>\n",
              "      <td>19</td>\n",
              "      <td>26</td>\n",
              "      <td>16500.0</td>\n",
              "      <td>12.368421</td>\n",
              "      <td>Medium</td>\n",
              "      <td>0</td>\n",
              "      <td>1</td>\n",
              "    </tr>\n",
              "    <tr>\n",
              "      <th>3</th>\n",
              "      <td>2</td>\n",
              "      <td>164</td>\n",
              "      <td>audi</td>\n",
              "      <td>std</td>\n",
              "      <td>four</td>\n",
              "      <td>sedan</td>\n",
              "      <td>fwd</td>\n",
              "      <td>front</td>\n",
              "      <td>99.8</td>\n",
              "      <td>0.848630</td>\n",
              "      <td>...</td>\n",
              "      <td>10.0</td>\n",
              "      <td>102.0</td>\n",
              "      <td>5500.0</td>\n",
              "      <td>24</td>\n",
              "      <td>30</td>\n",
              "      <td>13950.0</td>\n",
              "      <td>9.791667</td>\n",
              "      <td>Medium</td>\n",
              "      <td>0</td>\n",
              "      <td>1</td>\n",
              "    </tr>\n",
              "    <tr>\n",
              "      <th>4</th>\n",
              "      <td>2</td>\n",
              "      <td>164</td>\n",
              "      <td>audi</td>\n",
              "      <td>std</td>\n",
              "      <td>four</td>\n",
              "      <td>sedan</td>\n",
              "      <td>4wd</td>\n",
              "      <td>front</td>\n",
              "      <td>99.4</td>\n",
              "      <td>0.848630</td>\n",
              "      <td>...</td>\n",
              "      <td>8.0</td>\n",
              "      <td>115.0</td>\n",
              "      <td>5500.0</td>\n",
              "      <td>18</td>\n",
              "      <td>22</td>\n",
              "      <td>17450.0</td>\n",
              "      <td>13.055556</td>\n",
              "      <td>Medium</td>\n",
              "      <td>0</td>\n",
              "      <td>1</td>\n",
              "    </tr>\n",
              "  </tbody>\n",
              "</table>\n",
              "<p>5 rows × 29 columns</p>\n",
              "</div>\n",
              "      <button class=\"colab-df-convert\" onclick=\"convertToInteractive('df-6a17763a-7d47-4b8a-baae-4a19d81bb4d5')\"\n",
              "              title=\"Convert this dataframe to an interactive table.\"\n",
              "              style=\"display:none;\">\n",
              "        \n",
              "  <svg xmlns=\"http://www.w3.org/2000/svg\" height=\"24px\"viewBox=\"0 0 24 24\"\n",
              "       width=\"24px\">\n",
              "    <path d=\"M0 0h24v24H0V0z\" fill=\"none\"/>\n",
              "    <path d=\"M18.56 5.44l.94 2.06.94-2.06 2.06-.94-2.06-.94-.94-2.06-.94 2.06-2.06.94zm-11 1L8.5 8.5l.94-2.06 2.06-.94-2.06-.94L8.5 2.5l-.94 2.06-2.06.94zm10 10l.94 2.06.94-2.06 2.06-.94-2.06-.94-.94-2.06-.94 2.06-2.06.94z\"/><path d=\"M17.41 7.96l-1.37-1.37c-.4-.4-.92-.59-1.43-.59-.52 0-1.04.2-1.43.59L10.3 9.45l-7.72 7.72c-.78.78-.78 2.05 0 2.83L4 21.41c.39.39.9.59 1.41.59.51 0 1.02-.2 1.41-.59l7.78-7.78 2.81-2.81c.8-.78.8-2.07 0-2.86zM5.41 20L4 18.59l7.72-7.72 1.47 1.35L5.41 20z\"/>\n",
              "  </svg>\n",
              "      </button>\n",
              "      \n",
              "  <style>\n",
              "    .colab-df-container {\n",
              "      display:flex;\n",
              "      flex-wrap:wrap;\n",
              "      gap: 12px;\n",
              "    }\n",
              "\n",
              "    .colab-df-convert {\n",
              "      background-color: #E8F0FE;\n",
              "      border: none;\n",
              "      border-radius: 50%;\n",
              "      cursor: pointer;\n",
              "      display: none;\n",
              "      fill: #1967D2;\n",
              "      height: 32px;\n",
              "      padding: 0 0 0 0;\n",
              "      width: 32px;\n",
              "    }\n",
              "\n",
              "    .colab-df-convert:hover {\n",
              "      background-color: #E2EBFA;\n",
              "      box-shadow: 0px 1px 2px rgba(60, 64, 67, 0.3), 0px 1px 3px 1px rgba(60, 64, 67, 0.15);\n",
              "      fill: #174EA6;\n",
              "    }\n",
              "\n",
              "    [theme=dark] .colab-df-convert {\n",
              "      background-color: #3B4455;\n",
              "      fill: #D2E3FC;\n",
              "    }\n",
              "\n",
              "    [theme=dark] .colab-df-convert:hover {\n",
              "      background-color: #434B5C;\n",
              "      box-shadow: 0px 1px 3px 1px rgba(0, 0, 0, 0.15);\n",
              "      filter: drop-shadow(0px 1px 2px rgba(0, 0, 0, 0.3));\n",
              "      fill: #FFFFFF;\n",
              "    }\n",
              "  </style>\n",
              "\n",
              "      <script>\n",
              "        const buttonEl =\n",
              "          document.querySelector('#df-6a17763a-7d47-4b8a-baae-4a19d81bb4d5 button.colab-df-convert');\n",
              "        buttonEl.style.display =\n",
              "          google.colab.kernel.accessAllowed ? 'block' : 'none';\n",
              "\n",
              "        async function convertToInteractive(key) {\n",
              "          const element = document.querySelector('#df-6a17763a-7d47-4b8a-baae-4a19d81bb4d5');\n",
              "          const dataTable =\n",
              "            await google.colab.kernel.invokeFunction('convertToInteractive',\n",
              "                                                     [key], {});\n",
              "          if (!dataTable) return;\n",
              "\n",
              "          const docLinkHtml = 'Like what you see? Visit the ' +\n",
              "            '<a target=\"_blank\" href=https://colab.research.google.com/notebooks/data_table.ipynb>data table notebook</a>'\n",
              "            + ' to learn more about interactive tables.';\n",
              "          element.innerHTML = '';\n",
              "          dataTable['output_type'] = 'display_data';\n",
              "          await google.colab.output.renderOutput(dataTable, element);\n",
              "          const docLink = document.createElement('div');\n",
              "          docLink.innerHTML = docLinkHtml;\n",
              "          element.appendChild(docLink);\n",
              "        }\n",
              "      </script>\n",
              "    </div>\n",
              "  </div>\n",
              "  "
            ]
          },
          "metadata": {},
          "execution_count": 5
        }
      ]
    },
    {
      "cell_type": "markdown",
      "source": [
        "<h2 id=\"pattern_visualization\">2. Analyzing Individual Feature Patterns Using Visualization</h2>\n"
      ],
      "metadata": {
        "id": "YoDG_T-K__X6"
      }
    },
    {
      "cell_type": "markdown",
      "source": [
        "To install Seaborn we use pip, the Python package manager.\n"
      ],
      "metadata": {
        "id": "IG9F8jfF__X7"
      }
    },
    {
      "cell_type": "markdown",
      "source": [
        "Import visualization packages \"Matplotlib\" and \"Seaborn\". Don't forget about \"%matplotlib inline\" to plot in a Jupyter notebook.\n"
      ],
      "metadata": {
        "id": "0KnWFwsw__X7"
      }
    },
    {
      "cell_type": "code",
      "source": [
        "import matplotlib.pyplot as plt\n",
        "import seaborn as sns\n",
        "%matplotlib inline "
      ],
      "metadata": {
        "trusted": true,
        "id": "89c_Hwu1__X7"
      },
      "execution_count": 6,
      "outputs": []
    },
    {
      "cell_type": "markdown",
      "source": [
        "<h4>How to choose the right visualization method?</h4>\n",
        "<p>When visualizing individual variables, it is important to first understand what type of variable you are dealing with. This will help us find the right visualization method for that variable.</p>\n"
      ],
      "metadata": {
        "id": "OtrcHbyi__X7"
      }
    },
    {
      "cell_type": "code",
      "source": [
        "# list the data types for each column\n",
        "print(df.dtypes)"
      ],
      "metadata": {
        "trusted": true,
        "id": "8bJMD-Vf__X7",
        "colab": {
          "base_uri": "https://localhost:8080/"
        },
        "outputId": "06b6aa70-a660-4fcb-e29f-ba171eb6339e"
      },
      "execution_count": 7,
      "outputs": [
        {
          "output_type": "stream",
          "name": "stdout",
          "text": [
            "symboling              int64\n",
            "normalized-losses      int64\n",
            "make                  object\n",
            "aspiration            object\n",
            "num-of-doors          object\n",
            "body-style            object\n",
            "drive-wheels          object\n",
            "engine-location       object\n",
            "wheel-base           float64\n",
            "length               float64\n",
            "width                float64\n",
            "height               float64\n",
            "curb-weight            int64\n",
            "engine-type           object\n",
            "num-of-cylinders      object\n",
            "engine-size            int64\n",
            "fuel-system           object\n",
            "bore                 float64\n",
            "stroke               float64\n",
            "compression-ratio    float64\n",
            "horsepower           float64\n",
            "peak-rpm             float64\n",
            "city-mpg               int64\n",
            "highway-mpg            int64\n",
            "price                float64\n",
            "city-L/100km         float64\n",
            "horsepower-binned     object\n",
            "diesel                 int64\n",
            "gas                    int64\n",
            "dtype: object\n"
          ]
        }
      ]
    },
    {
      "cell_type": "markdown",
      "source": [
        "<div class=\"alert alert-danger alertdanger\" style=\"margin-top: 20px\">\n",
        "<h3>Question  #1:</h3>\n",
        "\n",
        "<b>What is the data type of the column \"peak-rpm\"? </b>\n",
        "\n",
        "</div>\n"
      ],
      "metadata": {
        "id": "OT9FuYSt__X8"
      }
    },
    {
      "cell_type": "code",
      "source": [
        "# Write your code below and press Shift+Enter to execute \n",
        "df['peak-rpm'].dtypes"
      ],
      "metadata": {
        "trusted": true,
        "id": "44Znj0-0__X8",
        "colab": {
          "base_uri": "https://localhost:8080/"
        },
        "outputId": "af1dff1c-c7cd-4c04-d802-b5c500efd813"
      },
      "execution_count": 8,
      "outputs": [
        {
          "output_type": "execute_result",
          "data": {
            "text/plain": [
              "dtype('float64')"
            ]
          },
          "metadata": {},
          "execution_count": 8
        }
      ]
    },
    {
      "cell_type": "markdown",
      "source": [
        "For example, we can calculate the correlation between variables  of type \"int64\" or \"float64\" using the method \"corr\":\n"
      ],
      "metadata": {
        "id": "_l_FMnw9__X8"
      }
    },
    {
      "cell_type": "code",
      "source": [
        "df.corr()"
      ],
      "metadata": {
        "trusted": true,
        "id": "J29dD5Bc__X8",
        "colab": {
          "base_uri": "https://localhost:8080/",
          "height": 761
        },
        "outputId": "b0dea860-5a94-45e6-f388-e9685725c617"
      },
      "execution_count": 9,
      "outputs": [
        {
          "output_type": "execute_result",
          "data": {
            "text/plain": [
              "                   symboling  normalized-losses  wheel-base    length  \\\n",
              "symboling           1.000000           0.466264   -0.535987 -0.365404   \n",
              "normalized-losses   0.466264           1.000000   -0.056661  0.019424   \n",
              "wheel-base         -0.535987          -0.056661    1.000000  0.876024   \n",
              "length             -0.365404           0.019424    0.876024  1.000000   \n",
              "width              -0.242423           0.086802    0.814507  0.857170   \n",
              "height             -0.550160          -0.373737    0.590742  0.492063   \n",
              "curb-weight        -0.233118           0.099404    0.782097  0.880665   \n",
              "engine-size        -0.110581           0.112360    0.572027  0.685025   \n",
              "bore               -0.140019          -0.029862    0.493244  0.608971   \n",
              "stroke             -0.008245           0.055563    0.158502  0.124139   \n",
              "compression-ratio  -0.182196          -0.114713    0.250313  0.159733   \n",
              "horsepower          0.075819           0.217299    0.371147  0.579821   \n",
              "peak-rpm            0.279740           0.239543   -0.360305 -0.285970   \n",
              "city-mpg           -0.035527          -0.225016   -0.470606 -0.665192   \n",
              "highway-mpg         0.036233          -0.181877   -0.543304 -0.698142   \n",
              "price              -0.082391           0.133999    0.584642  0.690628   \n",
              "city-L/100km        0.066171           0.238567    0.476153  0.657373   \n",
              "diesel             -0.196735          -0.101546    0.307237  0.211187   \n",
              "gas                 0.196735           0.101546   -0.307237 -0.211187   \n",
              "\n",
              "                      width    height  curb-weight  engine-size      bore  \\\n",
              "symboling         -0.242423 -0.550160    -0.233118    -0.110581 -0.140019   \n",
              "normalized-losses  0.086802 -0.373737     0.099404     0.112360 -0.029862   \n",
              "wheel-base         0.814507  0.590742     0.782097     0.572027  0.493244   \n",
              "length             0.857170  0.492063     0.880665     0.685025  0.608971   \n",
              "width              1.000000  0.306002     0.866201     0.729436  0.544885   \n",
              "height             0.306002  1.000000     0.307581     0.074694  0.180449   \n",
              "curb-weight        0.866201  0.307581     1.000000     0.849072  0.644060   \n",
              "engine-size        0.729436  0.074694     0.849072     1.000000  0.572609   \n",
              "bore               0.544885  0.180449     0.644060     0.572609  1.000000   \n",
              "stroke             0.188829 -0.062704     0.167562     0.209523 -0.055390   \n",
              "compression-ratio  0.189867  0.259737     0.156433     0.028889  0.001263   \n",
              "horsepower         0.615077 -0.087027     0.757976     0.822676  0.566936   \n",
              "peak-rpm          -0.245800 -0.309974    -0.279361    -0.256733 -0.267392   \n",
              "city-mpg          -0.633531 -0.049800    -0.749543    -0.650546 -0.582027   \n",
              "highway-mpg       -0.680635 -0.104812    -0.794889    -0.679571 -0.591309   \n",
              "price              0.751265  0.135486     0.834415     0.872335  0.543155   \n",
              "city-L/100km       0.673363  0.003811     0.785353     0.745059  0.554610   \n",
              "diesel             0.244356  0.281578     0.221046     0.070779  0.054458   \n",
              "gas               -0.244356 -0.281578    -0.221046    -0.070779 -0.054458   \n",
              "\n",
              "                     stroke  compression-ratio  horsepower  peak-rpm  \\\n",
              "symboling         -0.008245          -0.182196    0.075819  0.279740   \n",
              "normalized-losses  0.055563          -0.114713    0.217299  0.239543   \n",
              "wheel-base         0.158502           0.250313    0.371147 -0.360305   \n",
              "length             0.124139           0.159733    0.579821 -0.285970   \n",
              "width              0.188829           0.189867    0.615077 -0.245800   \n",
              "height            -0.062704           0.259737   -0.087027 -0.309974   \n",
              "curb-weight        0.167562           0.156433    0.757976 -0.279361   \n",
              "engine-size        0.209523           0.028889    0.822676 -0.256733   \n",
              "bore              -0.055390           0.001263    0.566936 -0.267392   \n",
              "stroke             1.000000           0.187923    0.098462 -0.065713   \n",
              "compression-ratio  0.187923           1.000000   -0.214514 -0.435780   \n",
              "horsepower         0.098462          -0.214514    1.000000  0.107885   \n",
              "peak-rpm          -0.065713          -0.435780    0.107885  1.000000   \n",
              "city-mpg          -0.034696           0.331425   -0.822214 -0.115413   \n",
              "highway-mpg       -0.035201           0.268465   -0.804575 -0.058598   \n",
              "price              0.082310           0.071107    0.809575 -0.101616   \n",
              "city-L/100km       0.037300          -0.299372    0.889488  0.115830   \n",
              "diesel             0.241303           0.985231   -0.169053 -0.475812   \n",
              "gas               -0.241303          -0.985231    0.169053  0.475812   \n",
              "\n",
              "                   city-mpg  highway-mpg     price  city-L/100km    diesel  \\\n",
              "symboling         -0.035527     0.036233 -0.082391      0.066171 -0.196735   \n",
              "normalized-losses -0.225016    -0.181877  0.133999      0.238567 -0.101546   \n",
              "wheel-base        -0.470606    -0.543304  0.584642      0.476153  0.307237   \n",
              "length            -0.665192    -0.698142  0.690628      0.657373  0.211187   \n",
              "width             -0.633531    -0.680635  0.751265      0.673363  0.244356   \n",
              "height            -0.049800    -0.104812  0.135486      0.003811  0.281578   \n",
              "curb-weight       -0.749543    -0.794889  0.834415      0.785353  0.221046   \n",
              "engine-size       -0.650546    -0.679571  0.872335      0.745059  0.070779   \n",
              "bore              -0.582027    -0.591309  0.543155      0.554610  0.054458   \n",
              "stroke            -0.034696    -0.035201  0.082310      0.037300  0.241303   \n",
              "compression-ratio  0.331425     0.268465  0.071107     -0.299372  0.985231   \n",
              "horsepower        -0.822214    -0.804575  0.809575      0.889488 -0.169053   \n",
              "peak-rpm          -0.115413    -0.058598 -0.101616      0.115830 -0.475812   \n",
              "city-mpg           1.000000     0.972044 -0.686571     -0.949713  0.265676   \n",
              "highway-mpg        0.972044     1.000000 -0.704692     -0.930028  0.198690   \n",
              "price             -0.686571    -0.704692  1.000000      0.789898  0.110326   \n",
              "city-L/100km      -0.949713    -0.930028  0.789898      1.000000 -0.241282   \n",
              "diesel             0.265676     0.198690  0.110326     -0.241282  1.000000   \n",
              "gas               -0.265676    -0.198690 -0.110326      0.241282 -1.000000   \n",
              "\n",
              "                        gas  \n",
              "symboling          0.196735  \n",
              "normalized-losses  0.101546  \n",
              "wheel-base        -0.307237  \n",
              "length            -0.211187  \n",
              "width             -0.244356  \n",
              "height            -0.281578  \n",
              "curb-weight       -0.221046  \n",
              "engine-size       -0.070779  \n",
              "bore              -0.054458  \n",
              "stroke            -0.241303  \n",
              "compression-ratio -0.985231  \n",
              "horsepower         0.169053  \n",
              "peak-rpm           0.475812  \n",
              "city-mpg          -0.265676  \n",
              "highway-mpg       -0.198690  \n",
              "price             -0.110326  \n",
              "city-L/100km       0.241282  \n",
              "diesel            -1.000000  \n",
              "gas                1.000000  "
            ],
            "text/html": [
              "\n",
              "  <div id=\"df-d656a853-eb0c-4f36-9fc7-404c13e74005\">\n",
              "    <div class=\"colab-df-container\">\n",
              "      <div>\n",
              "<style scoped>\n",
              "    .dataframe tbody tr th:only-of-type {\n",
              "        vertical-align: middle;\n",
              "    }\n",
              "\n",
              "    .dataframe tbody tr th {\n",
              "        vertical-align: top;\n",
              "    }\n",
              "\n",
              "    .dataframe thead th {\n",
              "        text-align: right;\n",
              "    }\n",
              "</style>\n",
              "<table border=\"1\" class=\"dataframe\">\n",
              "  <thead>\n",
              "    <tr style=\"text-align: right;\">\n",
              "      <th></th>\n",
              "      <th>symboling</th>\n",
              "      <th>normalized-losses</th>\n",
              "      <th>wheel-base</th>\n",
              "      <th>length</th>\n",
              "      <th>width</th>\n",
              "      <th>height</th>\n",
              "      <th>curb-weight</th>\n",
              "      <th>engine-size</th>\n",
              "      <th>bore</th>\n",
              "      <th>stroke</th>\n",
              "      <th>compression-ratio</th>\n",
              "      <th>horsepower</th>\n",
              "      <th>peak-rpm</th>\n",
              "      <th>city-mpg</th>\n",
              "      <th>highway-mpg</th>\n",
              "      <th>price</th>\n",
              "      <th>city-L/100km</th>\n",
              "      <th>diesel</th>\n",
              "      <th>gas</th>\n",
              "    </tr>\n",
              "  </thead>\n",
              "  <tbody>\n",
              "    <tr>\n",
              "      <th>symboling</th>\n",
              "      <td>1.000000</td>\n",
              "      <td>0.466264</td>\n",
              "      <td>-0.535987</td>\n",
              "      <td>-0.365404</td>\n",
              "      <td>-0.242423</td>\n",
              "      <td>-0.550160</td>\n",
              "      <td>-0.233118</td>\n",
              "      <td>-0.110581</td>\n",
              "      <td>-0.140019</td>\n",
              "      <td>-0.008245</td>\n",
              "      <td>-0.182196</td>\n",
              "      <td>0.075819</td>\n",
              "      <td>0.279740</td>\n",
              "      <td>-0.035527</td>\n",
              "      <td>0.036233</td>\n",
              "      <td>-0.082391</td>\n",
              "      <td>0.066171</td>\n",
              "      <td>-0.196735</td>\n",
              "      <td>0.196735</td>\n",
              "    </tr>\n",
              "    <tr>\n",
              "      <th>normalized-losses</th>\n",
              "      <td>0.466264</td>\n",
              "      <td>1.000000</td>\n",
              "      <td>-0.056661</td>\n",
              "      <td>0.019424</td>\n",
              "      <td>0.086802</td>\n",
              "      <td>-0.373737</td>\n",
              "      <td>0.099404</td>\n",
              "      <td>0.112360</td>\n",
              "      <td>-0.029862</td>\n",
              "      <td>0.055563</td>\n",
              "      <td>-0.114713</td>\n",
              "      <td>0.217299</td>\n",
              "      <td>0.239543</td>\n",
              "      <td>-0.225016</td>\n",
              "      <td>-0.181877</td>\n",
              "      <td>0.133999</td>\n",
              "      <td>0.238567</td>\n",
              "      <td>-0.101546</td>\n",
              "      <td>0.101546</td>\n",
              "    </tr>\n",
              "    <tr>\n",
              "      <th>wheel-base</th>\n",
              "      <td>-0.535987</td>\n",
              "      <td>-0.056661</td>\n",
              "      <td>1.000000</td>\n",
              "      <td>0.876024</td>\n",
              "      <td>0.814507</td>\n",
              "      <td>0.590742</td>\n",
              "      <td>0.782097</td>\n",
              "      <td>0.572027</td>\n",
              "      <td>0.493244</td>\n",
              "      <td>0.158502</td>\n",
              "      <td>0.250313</td>\n",
              "      <td>0.371147</td>\n",
              "      <td>-0.360305</td>\n",
              "      <td>-0.470606</td>\n",
              "      <td>-0.543304</td>\n",
              "      <td>0.584642</td>\n",
              "      <td>0.476153</td>\n",
              "      <td>0.307237</td>\n",
              "      <td>-0.307237</td>\n",
              "    </tr>\n",
              "    <tr>\n",
              "      <th>length</th>\n",
              "      <td>-0.365404</td>\n",
              "      <td>0.019424</td>\n",
              "      <td>0.876024</td>\n",
              "      <td>1.000000</td>\n",
              "      <td>0.857170</td>\n",
              "      <td>0.492063</td>\n",
              "      <td>0.880665</td>\n",
              "      <td>0.685025</td>\n",
              "      <td>0.608971</td>\n",
              "      <td>0.124139</td>\n",
              "      <td>0.159733</td>\n",
              "      <td>0.579821</td>\n",
              "      <td>-0.285970</td>\n",
              "      <td>-0.665192</td>\n",
              "      <td>-0.698142</td>\n",
              "      <td>0.690628</td>\n",
              "      <td>0.657373</td>\n",
              "      <td>0.211187</td>\n",
              "      <td>-0.211187</td>\n",
              "    </tr>\n",
              "    <tr>\n",
              "      <th>width</th>\n",
              "      <td>-0.242423</td>\n",
              "      <td>0.086802</td>\n",
              "      <td>0.814507</td>\n",
              "      <td>0.857170</td>\n",
              "      <td>1.000000</td>\n",
              "      <td>0.306002</td>\n",
              "      <td>0.866201</td>\n",
              "      <td>0.729436</td>\n",
              "      <td>0.544885</td>\n",
              "      <td>0.188829</td>\n",
              "      <td>0.189867</td>\n",
              "      <td>0.615077</td>\n",
              "      <td>-0.245800</td>\n",
              "      <td>-0.633531</td>\n",
              "      <td>-0.680635</td>\n",
              "      <td>0.751265</td>\n",
              "      <td>0.673363</td>\n",
              "      <td>0.244356</td>\n",
              "      <td>-0.244356</td>\n",
              "    </tr>\n",
              "    <tr>\n",
              "      <th>height</th>\n",
              "      <td>-0.550160</td>\n",
              "      <td>-0.373737</td>\n",
              "      <td>0.590742</td>\n",
              "      <td>0.492063</td>\n",
              "      <td>0.306002</td>\n",
              "      <td>1.000000</td>\n",
              "      <td>0.307581</td>\n",
              "      <td>0.074694</td>\n",
              "      <td>0.180449</td>\n",
              "      <td>-0.062704</td>\n",
              "      <td>0.259737</td>\n",
              "      <td>-0.087027</td>\n",
              "      <td>-0.309974</td>\n",
              "      <td>-0.049800</td>\n",
              "      <td>-0.104812</td>\n",
              "      <td>0.135486</td>\n",
              "      <td>0.003811</td>\n",
              "      <td>0.281578</td>\n",
              "      <td>-0.281578</td>\n",
              "    </tr>\n",
              "    <tr>\n",
              "      <th>curb-weight</th>\n",
              "      <td>-0.233118</td>\n",
              "      <td>0.099404</td>\n",
              "      <td>0.782097</td>\n",
              "      <td>0.880665</td>\n",
              "      <td>0.866201</td>\n",
              "      <td>0.307581</td>\n",
              "      <td>1.000000</td>\n",
              "      <td>0.849072</td>\n",
              "      <td>0.644060</td>\n",
              "      <td>0.167562</td>\n",
              "      <td>0.156433</td>\n",
              "      <td>0.757976</td>\n",
              "      <td>-0.279361</td>\n",
              "      <td>-0.749543</td>\n",
              "      <td>-0.794889</td>\n",
              "      <td>0.834415</td>\n",
              "      <td>0.785353</td>\n",
              "      <td>0.221046</td>\n",
              "      <td>-0.221046</td>\n",
              "    </tr>\n",
              "    <tr>\n",
              "      <th>engine-size</th>\n",
              "      <td>-0.110581</td>\n",
              "      <td>0.112360</td>\n",
              "      <td>0.572027</td>\n",
              "      <td>0.685025</td>\n",
              "      <td>0.729436</td>\n",
              "      <td>0.074694</td>\n",
              "      <td>0.849072</td>\n",
              "      <td>1.000000</td>\n",
              "      <td>0.572609</td>\n",
              "      <td>0.209523</td>\n",
              "      <td>0.028889</td>\n",
              "      <td>0.822676</td>\n",
              "      <td>-0.256733</td>\n",
              "      <td>-0.650546</td>\n",
              "      <td>-0.679571</td>\n",
              "      <td>0.872335</td>\n",
              "      <td>0.745059</td>\n",
              "      <td>0.070779</td>\n",
              "      <td>-0.070779</td>\n",
              "    </tr>\n",
              "    <tr>\n",
              "      <th>bore</th>\n",
              "      <td>-0.140019</td>\n",
              "      <td>-0.029862</td>\n",
              "      <td>0.493244</td>\n",
              "      <td>0.608971</td>\n",
              "      <td>0.544885</td>\n",
              "      <td>0.180449</td>\n",
              "      <td>0.644060</td>\n",
              "      <td>0.572609</td>\n",
              "      <td>1.000000</td>\n",
              "      <td>-0.055390</td>\n",
              "      <td>0.001263</td>\n",
              "      <td>0.566936</td>\n",
              "      <td>-0.267392</td>\n",
              "      <td>-0.582027</td>\n",
              "      <td>-0.591309</td>\n",
              "      <td>0.543155</td>\n",
              "      <td>0.554610</td>\n",
              "      <td>0.054458</td>\n",
              "      <td>-0.054458</td>\n",
              "    </tr>\n",
              "    <tr>\n",
              "      <th>stroke</th>\n",
              "      <td>-0.008245</td>\n",
              "      <td>0.055563</td>\n",
              "      <td>0.158502</td>\n",
              "      <td>0.124139</td>\n",
              "      <td>0.188829</td>\n",
              "      <td>-0.062704</td>\n",
              "      <td>0.167562</td>\n",
              "      <td>0.209523</td>\n",
              "      <td>-0.055390</td>\n",
              "      <td>1.000000</td>\n",
              "      <td>0.187923</td>\n",
              "      <td>0.098462</td>\n",
              "      <td>-0.065713</td>\n",
              "      <td>-0.034696</td>\n",
              "      <td>-0.035201</td>\n",
              "      <td>0.082310</td>\n",
              "      <td>0.037300</td>\n",
              "      <td>0.241303</td>\n",
              "      <td>-0.241303</td>\n",
              "    </tr>\n",
              "    <tr>\n",
              "      <th>compression-ratio</th>\n",
              "      <td>-0.182196</td>\n",
              "      <td>-0.114713</td>\n",
              "      <td>0.250313</td>\n",
              "      <td>0.159733</td>\n",
              "      <td>0.189867</td>\n",
              "      <td>0.259737</td>\n",
              "      <td>0.156433</td>\n",
              "      <td>0.028889</td>\n",
              "      <td>0.001263</td>\n",
              "      <td>0.187923</td>\n",
              "      <td>1.000000</td>\n",
              "      <td>-0.214514</td>\n",
              "      <td>-0.435780</td>\n",
              "      <td>0.331425</td>\n",
              "      <td>0.268465</td>\n",
              "      <td>0.071107</td>\n",
              "      <td>-0.299372</td>\n",
              "      <td>0.985231</td>\n",
              "      <td>-0.985231</td>\n",
              "    </tr>\n",
              "    <tr>\n",
              "      <th>horsepower</th>\n",
              "      <td>0.075819</td>\n",
              "      <td>0.217299</td>\n",
              "      <td>0.371147</td>\n",
              "      <td>0.579821</td>\n",
              "      <td>0.615077</td>\n",
              "      <td>-0.087027</td>\n",
              "      <td>0.757976</td>\n",
              "      <td>0.822676</td>\n",
              "      <td>0.566936</td>\n",
              "      <td>0.098462</td>\n",
              "      <td>-0.214514</td>\n",
              "      <td>1.000000</td>\n",
              "      <td>0.107885</td>\n",
              "      <td>-0.822214</td>\n",
              "      <td>-0.804575</td>\n",
              "      <td>0.809575</td>\n",
              "      <td>0.889488</td>\n",
              "      <td>-0.169053</td>\n",
              "      <td>0.169053</td>\n",
              "    </tr>\n",
              "    <tr>\n",
              "      <th>peak-rpm</th>\n",
              "      <td>0.279740</td>\n",
              "      <td>0.239543</td>\n",
              "      <td>-0.360305</td>\n",
              "      <td>-0.285970</td>\n",
              "      <td>-0.245800</td>\n",
              "      <td>-0.309974</td>\n",
              "      <td>-0.279361</td>\n",
              "      <td>-0.256733</td>\n",
              "      <td>-0.267392</td>\n",
              "      <td>-0.065713</td>\n",
              "      <td>-0.435780</td>\n",
              "      <td>0.107885</td>\n",
              "      <td>1.000000</td>\n",
              "      <td>-0.115413</td>\n",
              "      <td>-0.058598</td>\n",
              "      <td>-0.101616</td>\n",
              "      <td>0.115830</td>\n",
              "      <td>-0.475812</td>\n",
              "      <td>0.475812</td>\n",
              "    </tr>\n",
              "    <tr>\n",
              "      <th>city-mpg</th>\n",
              "      <td>-0.035527</td>\n",
              "      <td>-0.225016</td>\n",
              "      <td>-0.470606</td>\n",
              "      <td>-0.665192</td>\n",
              "      <td>-0.633531</td>\n",
              "      <td>-0.049800</td>\n",
              "      <td>-0.749543</td>\n",
              "      <td>-0.650546</td>\n",
              "      <td>-0.582027</td>\n",
              "      <td>-0.034696</td>\n",
              "      <td>0.331425</td>\n",
              "      <td>-0.822214</td>\n",
              "      <td>-0.115413</td>\n",
              "      <td>1.000000</td>\n",
              "      <td>0.972044</td>\n",
              "      <td>-0.686571</td>\n",
              "      <td>-0.949713</td>\n",
              "      <td>0.265676</td>\n",
              "      <td>-0.265676</td>\n",
              "    </tr>\n",
              "    <tr>\n",
              "      <th>highway-mpg</th>\n",
              "      <td>0.036233</td>\n",
              "      <td>-0.181877</td>\n",
              "      <td>-0.543304</td>\n",
              "      <td>-0.698142</td>\n",
              "      <td>-0.680635</td>\n",
              "      <td>-0.104812</td>\n",
              "      <td>-0.794889</td>\n",
              "      <td>-0.679571</td>\n",
              "      <td>-0.591309</td>\n",
              "      <td>-0.035201</td>\n",
              "      <td>0.268465</td>\n",
              "      <td>-0.804575</td>\n",
              "      <td>-0.058598</td>\n",
              "      <td>0.972044</td>\n",
              "      <td>1.000000</td>\n",
              "      <td>-0.704692</td>\n",
              "      <td>-0.930028</td>\n",
              "      <td>0.198690</td>\n",
              "      <td>-0.198690</td>\n",
              "    </tr>\n",
              "    <tr>\n",
              "      <th>price</th>\n",
              "      <td>-0.082391</td>\n",
              "      <td>0.133999</td>\n",
              "      <td>0.584642</td>\n",
              "      <td>0.690628</td>\n",
              "      <td>0.751265</td>\n",
              "      <td>0.135486</td>\n",
              "      <td>0.834415</td>\n",
              "      <td>0.872335</td>\n",
              "      <td>0.543155</td>\n",
              "      <td>0.082310</td>\n",
              "      <td>0.071107</td>\n",
              "      <td>0.809575</td>\n",
              "      <td>-0.101616</td>\n",
              "      <td>-0.686571</td>\n",
              "      <td>-0.704692</td>\n",
              "      <td>1.000000</td>\n",
              "      <td>0.789898</td>\n",
              "      <td>0.110326</td>\n",
              "      <td>-0.110326</td>\n",
              "    </tr>\n",
              "    <tr>\n",
              "      <th>city-L/100km</th>\n",
              "      <td>0.066171</td>\n",
              "      <td>0.238567</td>\n",
              "      <td>0.476153</td>\n",
              "      <td>0.657373</td>\n",
              "      <td>0.673363</td>\n",
              "      <td>0.003811</td>\n",
              "      <td>0.785353</td>\n",
              "      <td>0.745059</td>\n",
              "      <td>0.554610</td>\n",
              "      <td>0.037300</td>\n",
              "      <td>-0.299372</td>\n",
              "      <td>0.889488</td>\n",
              "      <td>0.115830</td>\n",
              "      <td>-0.949713</td>\n",
              "      <td>-0.930028</td>\n",
              "      <td>0.789898</td>\n",
              "      <td>1.000000</td>\n",
              "      <td>-0.241282</td>\n",
              "      <td>0.241282</td>\n",
              "    </tr>\n",
              "    <tr>\n",
              "      <th>diesel</th>\n",
              "      <td>-0.196735</td>\n",
              "      <td>-0.101546</td>\n",
              "      <td>0.307237</td>\n",
              "      <td>0.211187</td>\n",
              "      <td>0.244356</td>\n",
              "      <td>0.281578</td>\n",
              "      <td>0.221046</td>\n",
              "      <td>0.070779</td>\n",
              "      <td>0.054458</td>\n",
              "      <td>0.241303</td>\n",
              "      <td>0.985231</td>\n",
              "      <td>-0.169053</td>\n",
              "      <td>-0.475812</td>\n",
              "      <td>0.265676</td>\n",
              "      <td>0.198690</td>\n",
              "      <td>0.110326</td>\n",
              "      <td>-0.241282</td>\n",
              "      <td>1.000000</td>\n",
              "      <td>-1.000000</td>\n",
              "    </tr>\n",
              "    <tr>\n",
              "      <th>gas</th>\n",
              "      <td>0.196735</td>\n",
              "      <td>0.101546</td>\n",
              "      <td>-0.307237</td>\n",
              "      <td>-0.211187</td>\n",
              "      <td>-0.244356</td>\n",
              "      <td>-0.281578</td>\n",
              "      <td>-0.221046</td>\n",
              "      <td>-0.070779</td>\n",
              "      <td>-0.054458</td>\n",
              "      <td>-0.241303</td>\n",
              "      <td>-0.985231</td>\n",
              "      <td>0.169053</td>\n",
              "      <td>0.475812</td>\n",
              "      <td>-0.265676</td>\n",
              "      <td>-0.198690</td>\n",
              "      <td>-0.110326</td>\n",
              "      <td>0.241282</td>\n",
              "      <td>-1.000000</td>\n",
              "      <td>1.000000</td>\n",
              "    </tr>\n",
              "  </tbody>\n",
              "</table>\n",
              "</div>\n",
              "      <button class=\"colab-df-convert\" onclick=\"convertToInteractive('df-d656a853-eb0c-4f36-9fc7-404c13e74005')\"\n",
              "              title=\"Convert this dataframe to an interactive table.\"\n",
              "              style=\"display:none;\">\n",
              "        \n",
              "  <svg xmlns=\"http://www.w3.org/2000/svg\" height=\"24px\"viewBox=\"0 0 24 24\"\n",
              "       width=\"24px\">\n",
              "    <path d=\"M0 0h24v24H0V0z\" fill=\"none\"/>\n",
              "    <path d=\"M18.56 5.44l.94 2.06.94-2.06 2.06-.94-2.06-.94-.94-2.06-.94 2.06-2.06.94zm-11 1L8.5 8.5l.94-2.06 2.06-.94-2.06-.94L8.5 2.5l-.94 2.06-2.06.94zm10 10l.94 2.06.94-2.06 2.06-.94-2.06-.94-.94-2.06-.94 2.06-2.06.94z\"/><path d=\"M17.41 7.96l-1.37-1.37c-.4-.4-.92-.59-1.43-.59-.52 0-1.04.2-1.43.59L10.3 9.45l-7.72 7.72c-.78.78-.78 2.05 0 2.83L4 21.41c.39.39.9.59 1.41.59.51 0 1.02-.2 1.41-.59l7.78-7.78 2.81-2.81c.8-.78.8-2.07 0-2.86zM5.41 20L4 18.59l7.72-7.72 1.47 1.35L5.41 20z\"/>\n",
              "  </svg>\n",
              "      </button>\n",
              "      \n",
              "  <style>\n",
              "    .colab-df-container {\n",
              "      display:flex;\n",
              "      flex-wrap:wrap;\n",
              "      gap: 12px;\n",
              "    }\n",
              "\n",
              "    .colab-df-convert {\n",
              "      background-color: #E8F0FE;\n",
              "      border: none;\n",
              "      border-radius: 50%;\n",
              "      cursor: pointer;\n",
              "      display: none;\n",
              "      fill: #1967D2;\n",
              "      height: 32px;\n",
              "      padding: 0 0 0 0;\n",
              "      width: 32px;\n",
              "    }\n",
              "\n",
              "    .colab-df-convert:hover {\n",
              "      background-color: #E2EBFA;\n",
              "      box-shadow: 0px 1px 2px rgba(60, 64, 67, 0.3), 0px 1px 3px 1px rgba(60, 64, 67, 0.15);\n",
              "      fill: #174EA6;\n",
              "    }\n",
              "\n",
              "    [theme=dark] .colab-df-convert {\n",
              "      background-color: #3B4455;\n",
              "      fill: #D2E3FC;\n",
              "    }\n",
              "\n",
              "    [theme=dark] .colab-df-convert:hover {\n",
              "      background-color: #434B5C;\n",
              "      box-shadow: 0px 1px 3px 1px rgba(0, 0, 0, 0.15);\n",
              "      filter: drop-shadow(0px 1px 2px rgba(0, 0, 0, 0.3));\n",
              "      fill: #FFFFFF;\n",
              "    }\n",
              "  </style>\n",
              "\n",
              "      <script>\n",
              "        const buttonEl =\n",
              "          document.querySelector('#df-d656a853-eb0c-4f36-9fc7-404c13e74005 button.colab-df-convert');\n",
              "        buttonEl.style.display =\n",
              "          google.colab.kernel.accessAllowed ? 'block' : 'none';\n",
              "\n",
              "        async function convertToInteractive(key) {\n",
              "          const element = document.querySelector('#df-d656a853-eb0c-4f36-9fc7-404c13e74005');\n",
              "          const dataTable =\n",
              "            await google.colab.kernel.invokeFunction('convertToInteractive',\n",
              "                                                     [key], {});\n",
              "          if (!dataTable) return;\n",
              "\n",
              "          const docLinkHtml = 'Like what you see? Visit the ' +\n",
              "            '<a target=\"_blank\" href=https://colab.research.google.com/notebooks/data_table.ipynb>data table notebook</a>'\n",
              "            + ' to learn more about interactive tables.';\n",
              "          element.innerHTML = '';\n",
              "          dataTable['output_type'] = 'display_data';\n",
              "          await google.colab.output.renderOutput(dataTable, element);\n",
              "          const docLink = document.createElement('div');\n",
              "          docLink.innerHTML = docLinkHtml;\n",
              "          element.appendChild(docLink);\n",
              "        }\n",
              "      </script>\n",
              "    </div>\n",
              "  </div>\n",
              "  "
            ]
          },
          "metadata": {},
          "execution_count": 9
        }
      ]
    },
    {
      "cell_type": "markdown",
      "source": [
        "The diagonal elements are always one; we will study correlation more precisely Pearson correlation in-depth at the end of the notebook.\n"
      ],
      "metadata": {
        "id": "za0psHWg__X8"
      }
    },
    {
      "cell_type": "markdown",
      "source": [
        "<div class=\"alert alert-danger alertdanger\" style=\"margin-top: 20px\">\n",
        "<h3> Question  #2: </h3>\n",
        "\n",
        "<p>Find the correlation between the following columns: bore, stroke, compression-ratio, and horsepower.</p>\n",
        "<p>Hint: if you would like to select those columns, use the following syntax: df[['bore','stroke','compression-ratio','horsepower']]</p>\n",
        "</div>\n"
      ],
      "metadata": {
        "id": "jTMQbr-U__X9"
      }
    },
    {
      "cell_type": "code",
      "source": [
        "# Write your code below and press Shift+Enter to execute \n",
        "df[['bore', 'stroke', 'compression-ratio', 'horsepower']].corr()"
      ],
      "metadata": {
        "trusted": true,
        "id": "pg75LxES__X9",
        "colab": {
          "base_uri": "https://localhost:8080/",
          "height": 175
        },
        "outputId": "c3412359-9b00-4e8c-92be-b29dfc8ffd8b"
      },
      "execution_count": 10,
      "outputs": [
        {
          "output_type": "execute_result",
          "data": {
            "text/plain": [
              "                       bore    stroke  compression-ratio  horsepower\n",
              "bore               1.000000 -0.055390           0.001263    0.566936\n",
              "stroke            -0.055390  1.000000           0.187923    0.098462\n",
              "compression-ratio  0.001263  0.187923           1.000000   -0.214514\n",
              "horsepower         0.566936  0.098462          -0.214514    1.000000"
            ],
            "text/html": [
              "\n",
              "  <div id=\"df-96a3aea8-d4ed-4297-8663-3066d0e3652b\">\n",
              "    <div class=\"colab-df-container\">\n",
              "      <div>\n",
              "<style scoped>\n",
              "    .dataframe tbody tr th:only-of-type {\n",
              "        vertical-align: middle;\n",
              "    }\n",
              "\n",
              "    .dataframe tbody tr th {\n",
              "        vertical-align: top;\n",
              "    }\n",
              "\n",
              "    .dataframe thead th {\n",
              "        text-align: right;\n",
              "    }\n",
              "</style>\n",
              "<table border=\"1\" class=\"dataframe\">\n",
              "  <thead>\n",
              "    <tr style=\"text-align: right;\">\n",
              "      <th></th>\n",
              "      <th>bore</th>\n",
              "      <th>stroke</th>\n",
              "      <th>compression-ratio</th>\n",
              "      <th>horsepower</th>\n",
              "    </tr>\n",
              "  </thead>\n",
              "  <tbody>\n",
              "    <tr>\n",
              "      <th>bore</th>\n",
              "      <td>1.000000</td>\n",
              "      <td>-0.055390</td>\n",
              "      <td>0.001263</td>\n",
              "      <td>0.566936</td>\n",
              "    </tr>\n",
              "    <tr>\n",
              "      <th>stroke</th>\n",
              "      <td>-0.055390</td>\n",
              "      <td>1.000000</td>\n",
              "      <td>0.187923</td>\n",
              "      <td>0.098462</td>\n",
              "    </tr>\n",
              "    <tr>\n",
              "      <th>compression-ratio</th>\n",
              "      <td>0.001263</td>\n",
              "      <td>0.187923</td>\n",
              "      <td>1.000000</td>\n",
              "      <td>-0.214514</td>\n",
              "    </tr>\n",
              "    <tr>\n",
              "      <th>horsepower</th>\n",
              "      <td>0.566936</td>\n",
              "      <td>0.098462</td>\n",
              "      <td>-0.214514</td>\n",
              "      <td>1.000000</td>\n",
              "    </tr>\n",
              "  </tbody>\n",
              "</table>\n",
              "</div>\n",
              "      <button class=\"colab-df-convert\" onclick=\"convertToInteractive('df-96a3aea8-d4ed-4297-8663-3066d0e3652b')\"\n",
              "              title=\"Convert this dataframe to an interactive table.\"\n",
              "              style=\"display:none;\">\n",
              "        \n",
              "  <svg xmlns=\"http://www.w3.org/2000/svg\" height=\"24px\"viewBox=\"0 0 24 24\"\n",
              "       width=\"24px\">\n",
              "    <path d=\"M0 0h24v24H0V0z\" fill=\"none\"/>\n",
              "    <path d=\"M18.56 5.44l.94 2.06.94-2.06 2.06-.94-2.06-.94-.94-2.06-.94 2.06-2.06.94zm-11 1L8.5 8.5l.94-2.06 2.06-.94-2.06-.94L8.5 2.5l-.94 2.06-2.06.94zm10 10l.94 2.06.94-2.06 2.06-.94-2.06-.94-.94-2.06-.94 2.06-2.06.94z\"/><path d=\"M17.41 7.96l-1.37-1.37c-.4-.4-.92-.59-1.43-.59-.52 0-1.04.2-1.43.59L10.3 9.45l-7.72 7.72c-.78.78-.78 2.05 0 2.83L4 21.41c.39.39.9.59 1.41.59.51 0 1.02-.2 1.41-.59l7.78-7.78 2.81-2.81c.8-.78.8-2.07 0-2.86zM5.41 20L4 18.59l7.72-7.72 1.47 1.35L5.41 20z\"/>\n",
              "  </svg>\n",
              "      </button>\n",
              "      \n",
              "  <style>\n",
              "    .colab-df-container {\n",
              "      display:flex;\n",
              "      flex-wrap:wrap;\n",
              "      gap: 12px;\n",
              "    }\n",
              "\n",
              "    .colab-df-convert {\n",
              "      background-color: #E8F0FE;\n",
              "      border: none;\n",
              "      border-radius: 50%;\n",
              "      cursor: pointer;\n",
              "      display: none;\n",
              "      fill: #1967D2;\n",
              "      height: 32px;\n",
              "      padding: 0 0 0 0;\n",
              "      width: 32px;\n",
              "    }\n",
              "\n",
              "    .colab-df-convert:hover {\n",
              "      background-color: #E2EBFA;\n",
              "      box-shadow: 0px 1px 2px rgba(60, 64, 67, 0.3), 0px 1px 3px 1px rgba(60, 64, 67, 0.15);\n",
              "      fill: #174EA6;\n",
              "    }\n",
              "\n",
              "    [theme=dark] .colab-df-convert {\n",
              "      background-color: #3B4455;\n",
              "      fill: #D2E3FC;\n",
              "    }\n",
              "\n",
              "    [theme=dark] .colab-df-convert:hover {\n",
              "      background-color: #434B5C;\n",
              "      box-shadow: 0px 1px 3px 1px rgba(0, 0, 0, 0.15);\n",
              "      filter: drop-shadow(0px 1px 2px rgba(0, 0, 0, 0.3));\n",
              "      fill: #FFFFFF;\n",
              "    }\n",
              "  </style>\n",
              "\n",
              "      <script>\n",
              "        const buttonEl =\n",
              "          document.querySelector('#df-96a3aea8-d4ed-4297-8663-3066d0e3652b button.colab-df-convert');\n",
              "        buttonEl.style.display =\n",
              "          google.colab.kernel.accessAllowed ? 'block' : 'none';\n",
              "\n",
              "        async function convertToInteractive(key) {\n",
              "          const element = document.querySelector('#df-96a3aea8-d4ed-4297-8663-3066d0e3652b');\n",
              "          const dataTable =\n",
              "            await google.colab.kernel.invokeFunction('convertToInteractive',\n",
              "                                                     [key], {});\n",
              "          if (!dataTable) return;\n",
              "\n",
              "          const docLinkHtml = 'Like what you see? Visit the ' +\n",
              "            '<a target=\"_blank\" href=https://colab.research.google.com/notebooks/data_table.ipynb>data table notebook</a>'\n",
              "            + ' to learn more about interactive tables.';\n",
              "          element.innerHTML = '';\n",
              "          dataTable['output_type'] = 'display_data';\n",
              "          await google.colab.output.renderOutput(dataTable, element);\n",
              "          const docLink = document.createElement('div');\n",
              "          docLink.innerHTML = docLinkHtml;\n",
              "          element.appendChild(docLink);\n",
              "        }\n",
              "      </script>\n",
              "    </div>\n",
              "  </div>\n",
              "  "
            ]
          },
          "metadata": {},
          "execution_count": 10
        }
      ]
    },
    {
      "cell_type": "markdown",
      "source": [
        "<h2>Continuous Numerical Variables:</h2> \n",
        "\n",
        "<p>Continuous numerical variables are variables that may contain any value within some range. They can be of type \"int64\" or \"float64\". A great way to visualize these variables is by using scatterplots with fitted lines.</p>\n",
        "\n",
        "<p>In order to start understanding the (linear) relationship between an individual variable and the price, we can use \"regplot\" which plots the scatterplot plus the fitted regression line for the data.</p>\n"
      ],
      "metadata": {
        "id": "-68tf66p__X9"
      }
    },
    {
      "cell_type": "markdown",
      "source": [
        "Let's see several examples of different linear relationships:\n"
      ],
      "metadata": {
        "id": "VIsL0p1D__X9"
      }
    },
    {
      "cell_type": "markdown",
      "source": [
        "<h3>Positive Linear Relationship</h4>\n"
      ],
      "metadata": {
        "id": "9aXq5Z-U__X9"
      }
    },
    {
      "cell_type": "markdown",
      "source": [
        "Let's find the scatterplot of \"engine-size\" and \"price\".\n"
      ],
      "metadata": {
        "id": "WuKN4x9J__X-"
      }
    },
    {
      "cell_type": "code",
      "source": [
        "# Engine size as potential predictor variable of price\n",
        "sns.regplot(x=\"engine-size\", y=\"price\", data=df)\n",
        "plt.ylim(0,)"
      ],
      "metadata": {
        "scrolled": true,
        "trusted": true,
        "id": "Sjo8NMgv__X-",
        "colab": {
          "base_uri": "https://localhost:8080/",
          "height": 296
        },
        "outputId": "120902a1-857c-460b-a0de-9d3c2d967fc8"
      },
      "execution_count": 11,
      "outputs": [
        {
          "output_type": "execute_result",
          "data": {
            "text/plain": [
              "(0.0, 53361.66257021474)"
            ]
          },
          "metadata": {},
          "execution_count": 11
        },
        {
          "output_type": "display_data",
          "data": {
            "text/plain": [
              "<Figure size 432x288 with 1 Axes>"
            ],
            "image/png": "[encoded data removed]"
          },
          "metadata": {
            "needs_background": "light"
          }
        }
      ]
    },
    {
      "cell_type": "markdown",
      "source": [
        "<p>As the engine-size goes up, the price goes up: this indicates a positive direct correlation between these two variables. Engine size seems like a pretty good predictor of price since the regression line is almost a perfect diagonal line.</p>\n"
      ],
      "metadata": {
        "id": "EoflbwL4__X-"
      }
    },
    {
      "cell_type": "markdown",
      "source": [
        "We can examine the correlation between 'engine-size' and 'price' and see that it's approximately 0.87.\n"
      ],
      "metadata": {
        "id": "mETj6BFV__X-"
      }
    },
    {
      "cell_type": "code",
      "source": [
        "df[[\"engine-size\", \"price\"]].corr()"
      ],
      "metadata": {
        "trusted": true,
        "id": "QEymIKwf__X-",
        "colab": {
          "base_uri": "https://localhost:8080/",
          "height": 112
        },
        "outputId": "6647a788-bbaf-4d4d-f7cb-efbda8ee8b1e"
      },
      "execution_count": 12,
      "outputs": [
        {
          "output_type": "execute_result",
          "data": {
            "text/plain": [
              "             engine-size     price\n",
              "engine-size     1.000000  0.872335\n",
              "price           0.872335  1.000000"
            ],
            "text/html": [
              "\n",
              "  <div id=\"df-639bacdd-7c0c-4812-aae6-9409261e8c86\">\n",
              "    <div class=\"colab-df-container\">\n",
              "      <div>\n",
              "<style scoped>\n",
              "    .dataframe tbody tr th:only-of-type {\n",
              "        vertical-align: middle;\n",
              "    }\n",
              "\n",
              "    .dataframe tbody tr th {\n",
              "        vertical-align: top;\n",
              "    }\n",
              "\n",
              "    .dataframe thead th {\n",
              "        text-align: right;\n",
              "    }\n",
              "</style>\n",
              "<table border=\"1\" class=\"dataframe\">\n",
              "  <thead>\n",
              "    <tr style=\"text-align: right;\">\n",
              "      <th></th>\n",
              "      <th>engine-size</th>\n",
              "      <th>price</th>\n",
              "    </tr>\n",
              "  </thead>\n",
              "  <tbody>\n",
              "    <tr>\n",
              "      <th>engine-size</th>\n",
              "      <td>1.000000</td>\n",
              "      <td>0.872335</td>\n",
              "    </tr>\n",
              "    <tr>\n",
              "      <th>price</th>\n",
              "      <td>0.872335</td>\n",
              "      <td>1.000000</td>\n",
              "    </tr>\n",
              "  </tbody>\n",
              "</table>\n",
              "</div>\n",
              "      <button class=\"colab-df-convert\" onclick=\"convertToInteractive('df-639bacdd-7c0c-4812-aae6-9409261e8c86')\"\n",
              "              title=\"Convert this dataframe to an interactive table.\"\n",
              "              style=\"display:none;\">\n",
              "        \n",
              "  <svg xmlns=\"http://www.w3.org/2000/svg\" height=\"24px\"viewBox=\"0 0 24 24\"\n",
              "       width=\"24px\">\n",
              "    <path d=\"M0 0h24v24H0V0z\" fill=\"none\"/>\n",
              "    <path d=\"M18.56 5.44l.94 2.06.94-2.06 2.06-.94-2.06-.94-.94-2.06-.94 2.06-2.06.94zm-11 1L8.5 8.5l.94-2.06 2.06-.94-2.06-.94L8.5 2.5l-.94 2.06-2.06.94zm10 10l.94 2.06.94-2.06 2.06-.94-2.06-.94-.94-2.06-.94 2.06-2.06.94z\"/><path d=\"M17.41 7.96l-1.37-1.37c-.4-.4-.92-.59-1.43-.59-.52 0-1.04.2-1.43.59L10.3 9.45l-7.72 7.72c-.78.78-.78 2.05 0 2.83L4 21.41c.39.39.9.59 1.41.59.51 0 1.02-.2 1.41-.59l7.78-7.78 2.81-2.81c.8-.78.8-2.07 0-2.86zM5.41 20L4 18.59l7.72-7.72 1.47 1.35L5.41 20z\"/>\n",
              "  </svg>\n",
              "      </button>\n",
              "      \n",
              "  <style>\n",
              "    .colab-df-container {\n",
              "      display:flex;\n",
              "      flex-wrap:wrap;\n",
              "      gap: 12px;\n",
              "    }\n",
              "\n",
              "    .colab-df-convert {\n",
              "      background-color: #E8F0FE;\n",
              "      border: none;\n",
              "      border-radius: 50%;\n",
              "      cursor: pointer;\n",
              "      display: none;\n",
              "      fill: #1967D2;\n",
              "      height: 32px;\n",
              "      padding: 0 0 0 0;\n",
              "      width: 32px;\n",
              "    }\n",
              "\n",
              "    .colab-df-convert:hover {\n",
              "      background-color: #E2EBFA;\n",
              "      box-shadow: 0px 1px 2px rgba(60, 64, 67, 0.3), 0px 1px 3px 1px rgba(60, 64, 67, 0.15);\n",
              "      fill: #174EA6;\n",
              "    }\n",
              "\n",
              "    [theme=dark] .colab-df-convert {\n",
              "      background-color: #3B4455;\n",
              "      fill: #D2E3FC;\n",
              "    }\n",
              "\n",
              "    [theme=dark] .colab-df-convert:hover {\n",
              "      background-color: #434B5C;\n",
              "      box-shadow: 0px 1px 3px 1px rgba(0, 0, 0, 0.15);\n",
              "      filter: drop-shadow(0px 1px 2px rgba(0, 0, 0, 0.3));\n",
              "      fill: #FFFFFF;\n",
              "    }\n",
              "  </style>\n",
              "\n",
              "      <script>\n",
              "        const buttonEl =\n",
              "          document.querySelector('#df-639bacdd-7c0c-4812-aae6-9409261e8c86 button.colab-df-convert');\n",
              "        buttonEl.style.display =\n",
              "          google.colab.kernel.accessAllowed ? 'block' : 'none';\n",
              "\n",
              "        async function convertToInteractive(key) {\n",
              "          const element = document.querySelector('#df-639bacdd-7c0c-4812-aae6-9409261e8c86');\n",
              "          const dataTable =\n",
              "            await google.colab.kernel.invokeFunction('convertToInteractive',\n",
              "                                                     [key], {});\n",
              "          if (!dataTable) return;\n",
              "\n",
              "          const docLinkHtml = 'Like what you see? Visit the ' +\n",
              "            '<a target=\"_blank\" href=https://colab.research.google.com/notebooks/data_table.ipynb>data table notebook</a>'\n",
              "            + ' to learn more about interactive tables.';\n",
              "          element.innerHTML = '';\n",
              "          dataTable['output_type'] = 'display_data';\n",
              "          await google.colab.output.renderOutput(dataTable, element);\n",
              "          const docLink = document.createElement('div');\n",
              "          docLink.innerHTML = docLinkHtml;\n",
              "          element.appendChild(docLink);\n",
              "        }\n",
              "      </script>\n",
              "    </div>\n",
              "  </div>\n",
              "  "
            ]
          },
          "metadata": {},
          "execution_count": 12
        }
      ]
    },
    {
      "cell_type": "markdown",
      "source": [
        "Highway mpg is a potential predictor variable of price. Let's find the scatterplot of \"highway-mpg\" and \"price\".\n"
      ],
      "metadata": {
        "id": "refFZFRR__X-"
      }
    },
    {
      "cell_type": "code",
      "source": [
        "sns.regplot(x=\"highway-mpg\", y=\"price\", data=df)"
      ],
      "metadata": {
        "trusted": true,
        "id": "uI2_8JR-__X-",
        "colab": {
          "base_uri": "https://localhost:8080/",
          "height": 296
        },
        "outputId": "88a9a948-e1d2-4c1b-9af5-21dddd94ab54"
      },
      "execution_count": 13,
      "outputs": [
        {
          "output_type": "execute_result",
          "data": {
            "text/plain": [
              "<matplotlib.axes._subplots.AxesSubplot at 0x7facedc39c90>"
            ]
          },
          "metadata": {},
          "execution_count": 13
        },
        {
          "output_type": "display_data",
          "data": {
            "text/plain": [
              "<Figure size 432x288 with 1 Axes>"
            ],
            "image/png": "[encoded data removed]"
          },
          "metadata": {
            "needs_background": "light"
          }
        }
      ]
    },
    {
      "cell_type": "markdown",
      "source": [
        "<p>As highway-mpg goes up, the price goes down: this indicates an inverse/negative relationship between these two variables. Highway mpg could potentially be a predictor of price.</p>\n"
      ],
      "metadata": {
        "id": "03Fw_EJ2__X_"
      }
    },
    {
      "cell_type": "markdown",
      "source": [
        "We can examine the correlation between 'highway-mpg' and 'price' and see it's approximately -0.704.\n"
      ],
      "metadata": {
        "id": "1ToF_Hx0__X_"
      }
    },
    {
      "cell_type": "code",
      "source": [
        "df[['highway-mpg', 'price']].corr()"
      ],
      "metadata": {
        "trusted": true,
        "id": "Y4cEdPS6__X_",
        "colab": {
          "base_uri": "https://localhost:8080/",
          "height": 112
        },
        "outputId": "8ae827cb-4947-4ddf-ba89-d1c735d63e30"
      },
      "execution_count": 14,
      "outputs": [
        {
          "output_type": "execute_result",
          "data": {
            "text/plain": [
              "             highway-mpg     price\n",
              "highway-mpg     1.000000 -0.704692\n",
              "price          -0.704692  1.000000"
            ],
            "text/html": [
              "\n",
              "  <div id=\"df-7cf35d7e-5b81-4bc0-b4e1-52a10111c5e1\">\n",
              "    <div class=\"colab-df-container\">\n",
              "      <div>\n",
              "<style scoped>\n",
              "    .dataframe tbody tr th:only-of-type {\n",
              "        vertical-align: middle;\n",
              "    }\n",
              "\n",
              "    .dataframe tbody tr th {\n",
              "        vertical-align: top;\n",
              "    }\n",
              "\n",
              "    .dataframe thead th {\n",
              "        text-align: right;\n",
              "    }\n",
              "</style>\n",
              "<table border=\"1\" class=\"dataframe\">\n",
              "  <thead>\n",
              "    <tr style=\"text-align: right;\">\n",
              "      <th></th>\n",
              "      <th>highway-mpg</th>\n",
              "      <th>price</th>\n",
              "    </tr>\n",
              "  </thead>\n",
              "  <tbody>\n",
              "    <tr>\n",
              "      <th>highway-mpg</th>\n",
              "      <td>1.000000</td>\n",
              "      <td>-0.704692</td>\n",
              "    </tr>\n",
              "    <tr>\n",
              "      <th>price</th>\n",
              "      <td>-0.704692</td>\n",
              "      <td>1.000000</td>\n",
              "    </tr>\n",
              "  </tbody>\n",
              "</table>\n",
              "</div>\n",
              "      <button class=\"colab-df-convert\" onclick=\"convertToInteractive('df-7cf35d7e-5b81-4bc0-b4e1-52a10111c5e1')\"\n",
              "              title=\"Convert this dataframe to an interactive table.\"\n",
              "              style=\"display:none;\">\n",
              "        \n",
              "  <svg xmlns=\"http://www.w3.org/2000/svg\" height=\"24px\"viewBox=\"0 0 24 24\"\n",
              "       width=\"24px\">\n",
              "    <path d=\"M0 0h24v24H0V0z\" fill=\"none\"/>\n",
              "    <path d=\"M18.56 5.44l.94 2.06.94-2.06 2.06-.94-2.06-.94-.94-2.06-.94 2.06-2.06.94zm-11 1L8.5 8.5l.94-2.06 2.06-.94-2.06-.94L8.5 2.5l-.94 2.06-2.06.94zm10 10l.94 2.06.94-2.06 2.06-.94-2.06-.94-.94-2.06-.94 2.06-2.06.94z\"/><path d=\"M17.41 7.96l-1.37-1.37c-.4-.4-.92-.59-1.43-.59-.52 0-1.04.2-1.43.59L10.3 9.45l-7.72 7.72c-.78.78-.78 2.05 0 2.83L4 21.41c.39.39.9.59 1.41.59.51 0 1.02-.2 1.41-.59l7.78-7.78 2.81-2.81c.8-.78.8-2.07 0-2.86zM5.41 20L4 18.59l7.72-7.72 1.47 1.35L5.41 20z\"/>\n",
              "  </svg>\n",
              "      </button>\n",
              "      \n",
              "  <style>\n",
              "    .colab-df-container {\n",
              "      display:flex;\n",
              "      flex-wrap:wrap;\n",
              "      gap: 12px;\n",
              "    }\n",
              "\n",
              "    .colab-df-convert {\n",
              "      background-color: #E8F0FE;\n",
              "      border: none;\n",
              "      border-radius: 50%;\n",
              "      cursor: pointer;\n",
              "      display: none;\n",
              "      fill: #1967D2;\n",
              "      height: 32px;\n",
              "      padding: 0 0 0 0;\n",
              "      width: 32px;\n",
              "    }\n",
              "\n",
              "    .colab-df-convert:hover {\n",
              "      background-color: #E2EBFA;\n",
              "      box-shadow: 0px 1px 2px rgba(60, 64, 67, 0.3), 0px 1px 3px 1px rgba(60, 64, 67, 0.15);\n",
              "      fill: #174EA6;\n",
              "    }\n",
              "\n",
              "    [theme=dark] .colab-df-convert {\n",
              "      background-color: #3B4455;\n",
              "      fill: #D2E3FC;\n",
              "    }\n",
              "\n",
              "    [theme=dark] .colab-df-convert:hover {\n",
              "      background-color: #434B5C;\n",
              "      box-shadow: 0px 1px 3px 1px rgba(0, 0, 0, 0.15);\n",
              "      filter: drop-shadow(0px 1px 2px rgba(0, 0, 0, 0.3));\n",
              "      fill: #FFFFFF;\n",
              "    }\n",
              "  </style>\n",
              "\n",
              "      <script>\n",
              "        const buttonEl =\n",
              "          document.querySelector('#df-7cf35d7e-5b81-4bc0-b4e1-52a10111c5e1 button.colab-df-convert');\n",
              "        buttonEl.style.display =\n",
              "          google.colab.kernel.accessAllowed ? 'block' : 'none';\n",
              "\n",
              "        async function convertToInteractive(key) {\n",
              "          const element = document.querySelector('#df-7cf35d7e-5b81-4bc0-b4e1-52a10111c5e1');\n",
              "          const dataTable =\n",
              "            await google.colab.kernel.invokeFunction('convertToInteractive',\n",
              "                                                     [key], {});\n",
              "          if (!dataTable) return;\n",
              "\n",
              "          const docLinkHtml = 'Like what you see? Visit the ' +\n",
              "            '<a target=\"_blank\" href=https://colab.research.google.com/notebooks/data_table.ipynb>data table notebook</a>'\n",
              "            + ' to learn more about interactive tables.';\n",
              "          element.innerHTML = '';\n",
              "          dataTable['output_type'] = 'display_data';\n",
              "          await google.colab.output.renderOutput(dataTable, element);\n",
              "          const docLink = document.createElement('div');\n",
              "          docLink.innerHTML = docLinkHtml;\n",
              "          element.appendChild(docLink);\n",
              "        }\n",
              "      </script>\n",
              "    </div>\n",
              "  </div>\n",
              "  "
            ]
          },
          "metadata": {},
          "execution_count": 14
        }
      ]
    },
    {
      "cell_type": "markdown",
      "source": [
        "<h3>Weak Linear Relationship</h3>\n"
      ],
      "metadata": {
        "id": "FTZh4-6U__X_"
      }
    },
    {
      "cell_type": "markdown",
      "source": [
        "Let's see if \"peak-rpm\" is a predictor variable of \"price\".\n"
      ],
      "metadata": {
        "id": "YEbUQ3xm__X_"
      }
    },
    {
      "cell_type": "code",
      "source": [
        "sns.regplot(x=\"peak-rpm\", y=\"price\", data=df)"
      ],
      "metadata": {
        "trusted": true,
        "id": "WbSMeC0g__YA",
        "colab": {
          "base_uri": "https://localhost:8080/",
          "height": 296
        },
        "outputId": "baaa711b-11d6-4995-a5a3-5379eb0741e8"
      },
      "execution_count": 15,
      "outputs": [
        {
          "output_type": "execute_result",
          "data": {
            "text/plain": [
              "<matplotlib.axes._subplots.AxesSubplot at 0x7faced731e90>"
            ]
          },
          "metadata": {},
          "execution_count": 15
        },
        {
          "output_type": "display_data",
          "data": {
            "text/plain": [
              "<Figure size 432x288 with 1 Axes>"
            ],
            "image/png": "[encoded data removed]"
          },
          "metadata": {
            "needs_background": "light"
          }
        }
      ]
    },
    {
      "cell_type": "markdown",
      "source": [
        "<p>Peak rpm does not seem like a good predictor of the price at all since the regression line is close to horizontal. Also, the data points are very scattered and far from the fitted line, showing lots of variability. Therefore, it's not a reliable variable.</p>\n"
      ],
      "metadata": {
        "id": "d8PwQNsp__YA"
      }
    },
    {
      "cell_type": "markdown",
      "source": [
        "We can examine the correlation between 'peak-rpm' and 'price' and see it's approximately -0.101616.\n"
      ],
      "metadata": {
        "id": "G28nwmKq__YA"
      }
    },
    {
      "cell_type": "code",
      "source": [
        "df[['peak-rpm','price']].corr()"
      ],
      "metadata": {
        "trusted": true,
        "id": "LqNgXAvW__YA",
        "colab": {
          "base_uri": "https://localhost:8080/",
          "height": 112
        },
        "outputId": "0dff8fbb-1435-474e-d0b2-1c6c0a65c609"
      },
      "execution_count": 16,
      "outputs": [
        {
          "output_type": "execute_result",
          "data": {
            "text/plain": [
              "          peak-rpm     price\n",
              "peak-rpm  1.000000 -0.101616\n",
              "price    -0.101616  1.000000"
            ],
            "text/html": [
              "\n",
              "  <div id=\"df-ce61d582-89bb-4c6a-8b0c-3376f903c645\">\n",
              "    <div class=\"colab-df-container\">\n",
              "      <div>\n",
              "<style scoped>\n",
              "    .dataframe tbody tr th:only-of-type {\n",
              "        vertical-align: middle;\n",
              "    }\n",
              "\n",
              "    .dataframe tbody tr th {\n",
              "        vertical-align: top;\n",
              "    }\n",
              "\n",
              "    .dataframe thead th {\n",
              "        text-align: right;\n",
              "    }\n",
              "</style>\n",
              "<table border=\"1\" class=\"dataframe\">\n",
              "  <thead>\n",
              "    <tr style=\"text-align: right;\">\n",
              "      <th></th>\n",
              "      <th>peak-rpm</th>\n",
              "      <th>price</th>\n",
              "    </tr>\n",
              "  </thead>\n",
              "  <tbody>\n",
              "    <tr>\n",
              "      <th>peak-rpm</th>\n",
              "      <td>1.000000</td>\n",
              "      <td>-0.101616</td>\n",
              "    </tr>\n",
              "    <tr>\n",
              "      <th>price</th>\n",
              "      <td>-0.101616</td>\n",
              "      <td>1.000000</td>\n",
              "    </tr>\n",
              "  </tbody>\n",
              "</table>\n",
              "</div>\n",
              "      <button class=\"colab-df-convert\" onclick=\"convertToInteractive('df-ce61d582-89bb-4c6a-8b0c-3376f903c645')\"\n",
              "              title=\"Convert this dataframe to an interactive table.\"\n",
              "              style=\"display:none;\">\n",
              "        \n",
              "  <svg xmlns=\"http://www.w3.org/2000/svg\" height=\"24px\"viewBox=\"0 0 24 24\"\n",
              "       width=\"24px\">\n",
              "    <path d=\"M0 0h24v24H0V0z\" fill=\"none\"/>\n",
              "    <path d=\"M18.56 5.44l.94 2.06.94-2.06 2.06-.94-2.06-.94-.94-2.06-.94 2.06-2.06.94zm-11 1L8.5 8.5l.94-2.06 2.06-.94-2.06-.94L8.5 2.5l-.94 2.06-2.06.94zm10 10l.94 2.06.94-2.06 2.06-.94-2.06-.94-.94-2.06-.94 2.06-2.06.94z\"/><path d=\"M17.41 7.96l-1.37-1.37c-.4-.4-.92-.59-1.43-.59-.52 0-1.04.2-1.43.59L10.3 9.45l-7.72 7.72c-.78.78-.78 2.05 0 2.83L4 21.41c.39.39.9.59 1.41.59.51 0 1.02-.2 1.41-.59l7.78-7.78 2.81-2.81c.8-.78.8-2.07 0-2.86zM5.41 20L4 18.59l7.72-7.72 1.47 1.35L5.41 20z\"/>\n",
              "  </svg>\n",
              "      </button>\n",
              "      \n",
              "  <style>\n",
              "    .colab-df-container {\n",
              "      display:flex;\n",
              "      flex-wrap:wrap;\n",
              "      gap: 12px;\n",
              "    }\n",
              "\n",
              "    .colab-df-convert {\n",
              "      background-color: #E8F0FE;\n",
              "      border: none;\n",
              "      border-radius: 50%;\n",
              "      cursor: pointer;\n",
              "      display: none;\n",
              "      fill: #1967D2;\n",
              "      height: 32px;\n",
              "      padding: 0 0 0 0;\n",
              "      width: 32px;\n",
              "    }\n",
              "\n",
              "    .colab-df-convert:hover {\n",
              "      background-color: #E2EBFA;\n",
              "      box-shadow: 0px 1px 2px rgba(60, 64, 67, 0.3), 0px 1px 3px 1px rgba(60, 64, 67, 0.15);\n",
              "      fill: #174EA6;\n",
              "    }\n",
              "\n",
              "    [theme=dark] .colab-df-convert {\n",
              "      background-color: #3B4455;\n",
              "      fill: #D2E3FC;\n",
              "    }\n",
              "\n",
              "    [theme=dark] .colab-df-convert:hover {\n",
              "      background-color: #434B5C;\n",
              "      box-shadow: 0px 1px 3px 1px rgba(0, 0, 0, 0.15);\n",
              "      filter: drop-shadow(0px 1px 2px rgba(0, 0, 0, 0.3));\n",
              "      fill: #FFFFFF;\n",
              "    }\n",
              "  </style>\n",
              "\n",
              "      <script>\n",
              "        const buttonEl =\n",
              "          document.querySelector('#df-ce61d582-89bb-4c6a-8b0c-3376f903c645 button.colab-df-convert');\n",
              "        buttonEl.style.display =\n",
              "          google.colab.kernel.accessAllowed ? 'block' : 'none';\n",
              "\n",
              "        async function convertToInteractive(key) {\n",
              "          const element = document.querySelector('#df-ce61d582-89bb-4c6a-8b0c-3376f903c645');\n",
              "          const dataTable =\n",
              "            await google.colab.kernel.invokeFunction('convertToInteractive',\n",
              "                                                     [key], {});\n",
              "          if (!dataTable) return;\n",
              "\n",
              "          const docLinkHtml = 'Like what you see? Visit the ' +\n",
              "            '<a target=\"_blank\" href=https://colab.research.google.com/notebooks/data_table.ipynb>data table notebook</a>'\n",
              "            + ' to learn more about interactive tables.';\n",
              "          element.innerHTML = '';\n",
              "          dataTable['output_type'] = 'display_data';\n",
              "          await google.colab.output.renderOutput(dataTable, element);\n",
              "          const docLink = document.createElement('div');\n",
              "          docLink.innerHTML = docLinkHtml;\n",
              "          element.appendChild(docLink);\n",
              "        }\n",
              "      </script>\n",
              "    </div>\n",
              "  </div>\n",
              "  "
            ]
          },
          "metadata": {},
          "execution_count": 16
        }
      ]
    },
    {
      "cell_type": "markdown",
      "source": [
        " <div class=\"alert alert-danger alertdanger\" style=\"margin-top: 20px\">\n",
        "<h1> Question  3 a): </h1>\n",
        "\n",
        "<p>Find the correlation  between x=\"stroke\" and y=\"price\".</p>\n",
        "<p>Hint: if you would like to select those columns, use the following syntax: df[[\"stroke\",\"price\"]].  </p>\n",
        "</div>\n"
      ],
      "metadata": {
        "id": "PndUET5c__YA"
      }
    },
    {
      "cell_type": "code",
      "source": [
        "# Write your code below and press Shift+Enter to execute\n",
        "df[[\"stroke\",\"price\"]].corr()"
      ],
      "metadata": {
        "trusted": true,
        "id": "ZoNIKqTe__YA",
        "colab": {
          "base_uri": "https://localhost:8080/",
          "height": 112
        },
        "outputId": "2011bc41-f9d2-4f0f-ca63-dd1264d05270"
      },
      "execution_count": 17,
      "outputs": [
        {
          "output_type": "execute_result",
          "data": {
            "text/plain": [
              "         stroke    price\n",
              "stroke  1.00000  0.08231\n",
              "price   0.08231  1.00000"
            ],
            "text/html": [
              "\n",
              "  <div id=\"df-59ee2017-cece-4121-b831-8e111463e6c6\">\n",
              "    <div class=\"colab-df-container\">\n",
              "      <div>\n",
              "<style scoped>\n",
              "    .dataframe tbody tr th:only-of-type {\n",
              "        vertical-align: middle;\n",
              "    }\n",
              "\n",
              "    .dataframe tbody tr th {\n",
              "        vertical-align: top;\n",
              "    }\n",
              "\n",
              "    .dataframe thead th {\n",
              "        text-align: right;\n",
              "    }\n",
              "</style>\n",
              "<table border=\"1\" class=\"dataframe\">\n",
              "  <thead>\n",
              "    <tr style=\"text-align: right;\">\n",
              "      <th></th>\n",
              "      <th>stroke</th>\n",
              "      <th>price</th>\n",
              "    </tr>\n",
              "  </thead>\n",
              "  <tbody>\n",
              "    <tr>\n",
              "      <th>stroke</th>\n",
              "      <td>1.00000</td>\n",
              "      <td>0.08231</td>\n",
              "    </tr>\n",
              "    <tr>\n",
              "      <th>price</th>\n",
              "      <td>0.08231</td>\n",
              "      <td>1.00000</td>\n",
              "    </tr>\n",
              "  </tbody>\n",
              "</table>\n",
              "</div>\n",
              "      <button class=\"colab-df-convert\" onclick=\"convertToInteractive('df-59ee2017-cece-4121-b831-8e111463e6c6')\"\n",
              "              title=\"Convert this dataframe to an interactive table.\"\n",
              "              style=\"display:none;\">\n",
              "        \n",
              "  <svg xmlns=\"http://www.w3.org/2000/svg\" height=\"24px\"viewBox=\"0 0 24 24\"\n",
              "       width=\"24px\">\n",
              "    <path d=\"M0 0h24v24H0V0z\" fill=\"none\"/>\n",
              "    <path d=\"M18.56 5.44l.94 2.06.94-2.06 2.06-.94-2.06-.94-.94-2.06-.94 2.06-2.06.94zm-11 1L8.5 8.5l.94-2.06 2.06-.94-2.06-.94L8.5 2.5l-.94 2.06-2.06.94zm10 10l.94 2.06.94-2.06 2.06-.94-2.06-.94-.94-2.06-.94 2.06-2.06.94z\"/><path d=\"M17.41 7.96l-1.37-1.37c-.4-.4-.92-.59-1.43-.59-.52 0-1.04.2-1.43.59L10.3 9.45l-7.72 7.72c-.78.78-.78 2.05 0 2.83L4 21.41c.39.39.9.59 1.41.59.51 0 1.02-.2 1.41-.59l7.78-7.78 2.81-2.81c.8-.78.8-2.07 0-2.86zM5.41 20L4 18.59l7.72-7.72 1.47 1.35L5.41 20z\"/>\n",
              "  </svg>\n",
              "      </button>\n",
              "      \n",
              "  <style>\n",
              "    .colab-df-container {\n",
              "      display:flex;\n",
              "      flex-wrap:wrap;\n",
              "      gap: 12px;\n",
              "    }\n",
              "\n",
              "    .colab-df-convert {\n",
              "      background-color: #E8F0FE;\n",
              "      border: none;\n",
              "      border-radius: 50%;\n",
              "      cursor: pointer;\n",
              "      display: none;\n",
              "      fill: #1967D2;\n",
              "      height: 32px;\n",
              "      padding: 0 0 0 0;\n",
              "      width: 32px;\n",
              "    }\n",
              "\n",
              "    .colab-df-convert:hover {\n",
              "      background-color: #E2EBFA;\n",
              "      box-shadow: 0px 1px 2px rgba(60, 64, 67, 0.3), 0px 1px 3px 1px rgba(60, 64, 67, 0.15);\n",
              "      fill: #174EA6;\n",
              "    }\n",
              "\n",
              "    [theme=dark] .colab-df-convert {\n",
              "      background-color: #3B4455;\n",
              "      fill: #D2E3FC;\n",
              "    }\n",
              "\n",
              "    [theme=dark] .colab-df-convert:hover {\n",
              "      background-color: #434B5C;\n",
              "      box-shadow: 0px 1px 3px 1px rgba(0, 0, 0, 0.15);\n",
              "      filter: drop-shadow(0px 1px 2px rgba(0, 0, 0, 0.3));\n",
              "      fill: #FFFFFF;\n",
              "    }\n",
              "  </style>\n",
              "\n",
              "      <script>\n",
              "        const buttonEl =\n",
              "          document.querySelector('#df-59ee2017-cece-4121-b831-8e111463e6c6 button.colab-df-convert');\n",
              "        buttonEl.style.display =\n",
              "          google.colab.kernel.accessAllowed ? 'block' : 'none';\n",
              "\n",
              "        async function convertToInteractive(key) {\n",
              "          const element = document.querySelector('#df-59ee2017-cece-4121-b831-8e111463e6c6');\n",
              "          const dataTable =\n",
              "            await google.colab.kernel.invokeFunction('convertToInteractive',\n",
              "                                                     [key], {});\n",
              "          if (!dataTable) return;\n",
              "\n",
              "          const docLinkHtml = 'Like what you see? Visit the ' +\n",
              "            '<a target=\"_blank\" href=https://colab.research.google.com/notebooks/data_table.ipynb>data table notebook</a>'\n",
              "            + ' to learn more about interactive tables.';\n",
              "          element.innerHTML = '';\n",
              "          dataTable['output_type'] = 'display_data';\n",
              "          await google.colab.output.renderOutput(dataTable, element);\n",
              "          const docLink = document.createElement('div');\n",
              "          docLink.innerHTML = docLinkHtml;\n",
              "          element.appendChild(docLink);\n",
              "        }\n",
              "      </script>\n",
              "    </div>\n",
              "  </div>\n",
              "  "
            ]
          },
          "metadata": {},
          "execution_count": 17
        }
      ]
    },
    {
      "cell_type": "markdown",
      "source": [
        "<div class=\"alert alert-danger alertdanger\" style=\"margin-top: 20px\">\n",
        "<h1>Question  3 b):</h1>\n",
        "\n",
        "<p>Given the correlation results between \"price\" and \"stroke\", do you expect a linear relationship?</p> \n",
        "<p>Verify your results using the function \"regplot()\".</p>\n",
        "</div>\n"
      ],
      "metadata": {
        "id": "Sp4iqOGc__YA"
      }
    },
    {
      "cell_type": "markdown",
      "source": [
        "There is a weak correlation between the variable 'stroke' and 'price'. Let's remember that they have 1 is max correlation"
      ],
      "metadata": {
        "id": "wAGcx02NBqWE"
      }
    },
    {
      "cell_type": "code",
      "source": [
        "# Write your code below and press Shift+Enter to execute \n",
        "sns.regplot(x=\"stroke\", y=\"price\", data=df)"
      ],
      "metadata": {
        "trusted": true,
        "id": "XwQIngm2__YB",
        "colab": {
          "base_uri": "https://localhost:8080/",
          "height": 296
        },
        "outputId": "d4f31cd5-f11c-45ea-82b5-5e0363167932"
      },
      "execution_count": 18,
      "outputs": [
        {
          "output_type": "execute_result",
          "data": {
            "text/plain": [
              "<matplotlib.axes._subplots.AxesSubplot at 0x7faced6c1250>"
            ]
          },
          "metadata": {},
          "execution_count": 18
        },
        {
          "output_type": "display_data",
          "data": {
            "text/plain": [
              "<Figure size 432x288 with 1 Axes>"
            ],
            "image/png": "[encoded data removed]"
          },
          "metadata": {
            "needs_background": "light"
          }
        }
      ]
    },
    {
      "cell_type": "markdown",
      "source": [
        "<h3>Categorical Variables</h3>\n",
        "\n",
        "<p>These are variables that describe a 'characteristic' of a data unit, and are selected from a small group of categories. The categorical variables can have the type \"object\" or \"int64\". A good way to visualize categorical variables is by using boxplots.</p>\n"
      ],
      "metadata": {
        "id": "MKc_GUqq__YB"
      }
    },
    {
      "cell_type": "markdown",
      "source": [
        "Let's look at the relationship between \"body-style\" and \"price\".\n"
      ],
      "metadata": {
        "id": "1FPNhybZ__YB"
      }
    },
    {
      "cell_type": "code",
      "source": [
        "sns.boxplot(x=\"body-style\", y=\"price\", data=df)"
      ],
      "metadata": {
        "scrolled": true,
        "trusted": true,
        "id": "2hhl7J8o__YB",
        "colab": {
          "base_uri": "https://localhost:8080/",
          "height": 296
        },
        "outputId": "d7071bfa-b729-41ae-fc33-919a08e9717e"
      },
      "execution_count": 19,
      "outputs": [
        {
          "output_type": "execute_result",
          "data": {
            "text/plain": [
              "<matplotlib.axes._subplots.AxesSubplot at 0x7faced62c4d0>"
            ]
          },
          "metadata": {},
          "execution_count": 19
        },
        {
          "output_type": "display_data",
          "data": {
            "text/plain": [
              "<Figure size 432x288 with 1 Axes>"
            ],
            "image/png": "[encoded data removed]"
          },
          "metadata": {
            "needs_background": "light"
          }
        }
      ]
    },
    {
      "cell_type": "markdown",
      "source": [
        "<p>We see that the distributions of price between the different body-style categories have a significant overlap, so body-style would not be a good predictor of price. Let's examine engine \"engine-location\" and \"price\":</p>\n"
      ],
      "metadata": {
        "id": "V3DPDdmN__YB"
      }
    },
    {
      "cell_type": "code",
      "source": [
        "sns.boxplot(x=\"engine-location\", y=\"price\", data=df)"
      ],
      "metadata": {
        "scrolled": true,
        "trusted": true,
        "id": "BFg5ju3d__YC",
        "colab": {
          "base_uri": "https://localhost:8080/",
          "height": 296
        },
        "outputId": "5ccbb759-291a-4f3b-fcdd-f7a4a5837745"
      },
      "execution_count": 20,
      "outputs": [
        {
          "output_type": "execute_result",
          "data": {
            "text/plain": [
              "<matplotlib.axes._subplots.AxesSubplot at 0x7faced594410>"
            ]
          },
          "metadata": {},
          "execution_count": 20
        },
        {
          "output_type": "display_data",
          "data": {
            "text/plain": [
              "<Figure size 432x288 with 1 Axes>"
            ],
            "image/png": "[encoded data removed]"
          },
          "metadata": {
            "needs_background": "light"
          }
        }
      ]
    },
    {
      "cell_type": "markdown",
      "source": [
        "<p>Here we see that the distribution of price between these two engine-location categories, front and rear, are distinct enough to take engine-location as a potential good predictor of price.</p>\n"
      ],
      "metadata": {
        "id": "KS-BlZ7d__YC"
      }
    },
    {
      "cell_type": "markdown",
      "source": [
        "Let's examine \"drive-wheels\" and \"price\".\n"
      ],
      "metadata": {
        "id": "wuEz763p__YC"
      }
    },
    {
      "cell_type": "code",
      "source": [
        "# drive-wheels\n",
        "sns.boxplot(x=\"drive-wheels\", y=\"price\", data=df)"
      ],
      "metadata": {
        "trusted": true,
        "id": "G_ILwTx1__YC",
        "colab": {
          "base_uri": "https://localhost:8080/",
          "height": 296
        },
        "outputId": "3644373f-23a0-468f-fd0b-b7a81eec9d78"
      },
      "execution_count": 21,
      "outputs": [
        {
          "output_type": "execute_result",
          "data": {
            "text/plain": [
              "<matplotlib.axes._subplots.AxesSubplot at 0x7faced51afd0>"
            ]
          },
          "metadata": {},
          "execution_count": 21
        },
        {
          "output_type": "display_data",
          "data": {
            "text/plain": [
              "<Figure size 432x288 with 1 Axes>"
            ],
            "image/png": "[encoded data removed]"
          },
          "metadata": {
            "needs_background": "light"
          }
        }
      ]
    },
    {
      "cell_type": "markdown",
      "source": [
        "<p>Here we see that the distribution of price between the different drive-wheels categories differs. As such, drive-wheels could potentially be a predictor of price.</p>\n"
      ],
      "metadata": {
        "id": "sMD2aqlK__YC"
      }
    },
    {
      "cell_type": "markdown",
      "source": [
        "<h2 id=\"discriptive_statistics\">3. Descriptive Statistical Analysis</h2>\n"
      ],
      "metadata": {
        "id": "56Lq9omp__YC"
      }
    },
    {
      "cell_type": "markdown",
      "source": [
        "<p>Let's first take a look at the variables by utilizing a description method.</p>\n",
        "\n",
        "<p>The <b>describe</b> function automatically computes basic statistics for all continuous variables. Any NaN values are automatically skipped in these statistics.</p>\n",
        "\n",
        "This will show:\n",
        "\n",
        "<ul>\n",
        "    <li>the count of that variable</li>\n",
        "    <li>the mean</li>\n",
        "    <li>the standard deviation (std)</li> \n",
        "    <li>the minimum value</li>\n",
        "    <li>the IQR (Interquartile Range: 25%, 50% and 75%)</li>\n",
        "    <li>the maximum value</li>\n",
        "<ul>\n"
      ],
      "metadata": {
        "id": "9xrgSEog__YD"
      }
    },
    {
      "cell_type": "markdown",
      "source": [
        "We can apply the method \"describe\" as follows:\n"
      ],
      "metadata": {
        "id": "3dot10Vv__YD"
      }
    },
    {
      "cell_type": "code",
      "source": [
        "df.describe()"
      ],
      "metadata": {
        "trusted": true,
        "id": "4zMeNKU5__YD",
        "colab": {
          "base_uri": "https://localhost:8080/",
          "height": 382
        },
        "outputId": "f605e88c-5235-44a3-99b5-8c718988e0a8"
      },
      "execution_count": 22,
      "outputs": [
        {
          "output_type": "execute_result",
          "data": {
            "text/plain": [
              "        symboling  normalized-losses  wheel-base      length       width  \\\n",
              "count  201.000000          201.00000  201.000000  201.000000  201.000000   \n",
              "mean     0.840796          122.00000   98.797015    0.837102    0.915126   \n",
              "std      1.254802           31.99625    6.066366    0.059213    0.029187   \n",
              "min     -2.000000           65.00000   86.600000    0.678039    0.837500   \n",
              "25%      0.000000          101.00000   94.500000    0.801538    0.890278   \n",
              "50%      1.000000          122.00000   97.000000    0.832292    0.909722   \n",
              "75%      2.000000          137.00000  102.400000    0.881788    0.925000   \n",
              "max      3.000000          256.00000  120.900000    1.000000    1.000000   \n",
              "\n",
              "           height  curb-weight  engine-size        bore      stroke  \\\n",
              "count  201.000000   201.000000   201.000000  201.000000  197.000000   \n",
              "mean    53.766667  2555.666667   126.875622    3.330692    3.256904   \n",
              "std      2.447822   517.296727    41.546834    0.268072    0.319256   \n",
              "min     47.800000  1488.000000    61.000000    2.540000    2.070000   \n",
              "25%     52.000000  2169.000000    98.000000    3.150000    3.110000   \n",
              "50%     54.100000  2414.000000   120.000000    3.310000    3.290000   \n",
              "75%     55.500000  2926.000000   141.000000    3.580000    3.410000   \n",
              "max     59.800000  4066.000000   326.000000    3.940000    4.170000   \n",
              "\n",
              "       compression-ratio  horsepower     peak-rpm    city-mpg  highway-mpg  \\\n",
              "count         201.000000  201.000000   201.000000  201.000000   201.000000   \n",
              "mean           10.164279  103.405534  5117.665368   25.179104    30.686567   \n",
              "std             4.004965   37.365700   478.113805    6.423220     6.815150   \n",
              "min             7.000000   48.000000  4150.000000   13.000000    16.000000   \n",
              "25%             8.600000   70.000000  4800.000000   19.000000    25.000000   \n",
              "50%             9.000000   95.000000  5125.369458   24.000000    30.000000   \n",
              "75%             9.400000  116.000000  5500.000000   30.000000    34.000000   \n",
              "max            23.000000  262.000000  6600.000000   49.000000    54.000000   \n",
              "\n",
              "              price  city-L/100km      diesel         gas  \n",
              "count    201.000000    201.000000  201.000000  201.000000  \n",
              "mean   13207.129353      9.944145    0.099502    0.900498  \n",
              "std     7947.066342      2.534599    0.300083    0.300083  \n",
              "min     5118.000000      4.795918    0.000000    0.000000  \n",
              "25%     7775.000000      7.833333    0.000000    1.000000  \n",
              "50%    10295.000000      9.791667    0.000000    1.000000  \n",
              "75%    16500.000000     12.368421    0.000000    1.000000  \n",
              "max    45400.000000     18.076923    1.000000    1.000000  "
            ],
            "text/html": [
              "\n",
              "  <div id=\"df-9e4d43c8-7066-49e5-81a1-a33c8e1778d1\">\n",
              "    <div class=\"colab-df-container\">\n",
              "      <div>\n",
              "<style scoped>\n",
              "    .dataframe tbody tr th:only-of-type {\n",
              "        vertical-align: middle;\n",
              "    }\n",
              "\n",
              "    .dataframe tbody tr th {\n",
              "        vertical-align: top;\n",
              "    }\n",
              "\n",
              "    .dataframe thead th {\n",
              "        text-align: right;\n",
              "    }\n",
              "</style>\n",
              "<table border=\"1\" class=\"dataframe\">\n",
              "  <thead>\n",
              "    <tr style=\"text-align: right;\">\n",
              "      <th></th>\n",
              "      <th>symboling</th>\n",
              "      <th>normalized-losses</th>\n",
              "      <th>wheel-base</th>\n",
              "      <th>length</th>\n",
              "      <th>width</th>\n",
              "      <th>height</th>\n",
              "      <th>curb-weight</th>\n",
              "      <th>engine-size</th>\n",
              "      <th>bore</th>\n",
              "      <th>stroke</th>\n",
              "      <th>compression-ratio</th>\n",
              "      <th>horsepower</th>\n",
              "      <th>peak-rpm</th>\n",
              "      <th>city-mpg</th>\n",
              "      <th>highway-mpg</th>\n",
              "      <th>price</th>\n",
              "      <th>city-L/100km</th>\n",
              "      <th>diesel</th>\n",
              "      <th>gas</th>\n",
              "    </tr>\n",
              "  </thead>\n",
              "  <tbody>\n",
              "    <tr>\n",
              "      <th>count</th>\n",
              "      <td>201.000000</td>\n",
              "      <td>201.00000</td>\n",
              "      <td>201.000000</td>\n",
              "      <td>201.000000</td>\n",
              "      <td>201.000000</td>\n",
              "      <td>201.000000</td>\n",
              "      <td>201.000000</td>\n",
              "      <td>201.000000</td>\n",
              "      <td>201.000000</td>\n",
              "      <td>197.000000</td>\n",
              "      <td>201.000000</td>\n",
              "      <td>201.000000</td>\n",
              "      <td>201.000000</td>\n",
              "      <td>201.000000</td>\n",
              "      <td>201.000000</td>\n",
              "      <td>201.000000</td>\n",
              "      <td>201.000000</td>\n",
              "      <td>201.000000</td>\n",
              "      <td>201.000000</td>\n",
              "    </tr>\n",
              "    <tr>\n",
              "      <th>mean</th>\n",
              "      <td>0.840796</td>\n",
              "      <td>122.00000</td>\n",
              "      <td>98.797015</td>\n",
              "      <td>0.837102</td>\n",
              "      <td>0.915126</td>\n",
              "      <td>53.766667</td>\n",
              "      <td>2555.666667</td>\n",
              "      <td>126.875622</td>\n",
              "      <td>3.330692</td>\n",
              "      <td>3.256904</td>\n",
              "      <td>10.164279</td>\n",
              "      <td>103.405534</td>\n",
              "      <td>5117.665368</td>\n",
              "      <td>25.179104</td>\n",
              "      <td>30.686567</td>\n",
              "      <td>13207.129353</td>\n",
              "      <td>9.944145</td>\n",
              "      <td>0.099502</td>\n",
              "      <td>0.900498</td>\n",
              "    </tr>\n",
              "    <tr>\n",
              "      <th>std</th>\n",
              "      <td>1.254802</td>\n",
              "      <td>31.99625</td>\n",
              "      <td>6.066366</td>\n",
              "      <td>0.059213</td>\n",
              "      <td>0.029187</td>\n",
              "      <td>2.447822</td>\n",
              "      <td>517.296727</td>\n",
              "      <td>41.546834</td>\n",
              "      <td>0.268072</td>\n",
              "      <td>0.319256</td>\n",
              "      <td>4.004965</td>\n",
              "      <td>37.365700</td>\n",
              "      <td>478.113805</td>\n",
              "      <td>6.423220</td>\n",
              "      <td>6.815150</td>\n",
              "      <td>7947.066342</td>\n",
              "      <td>2.534599</td>\n",
              "      <td>0.300083</td>\n",
              "      <td>0.300083</td>\n",
              "    </tr>\n",
              "    <tr>\n",
              "      <th>min</th>\n",
              "      <td>-2.000000</td>\n",
              "      <td>65.00000</td>\n",
              "      <td>86.600000</td>\n",
              "      <td>0.678039</td>\n",
              "      <td>0.837500</td>\n",
              "      <td>47.800000</td>\n",
              "      <td>1488.000000</td>\n",
              "      <td>61.000000</td>\n",
              "      <td>2.540000</td>\n",
              "      <td>2.070000</td>\n",
              "      <td>7.000000</td>\n",
              "      <td>48.000000</td>\n",
              "      <td>4150.000000</td>\n",
              "      <td>13.000000</td>\n",
              "      <td>16.000000</td>\n",
              "      <td>5118.000000</td>\n",
              "      <td>4.795918</td>\n",
              "      <td>0.000000</td>\n",
              "      <td>0.000000</td>\n",
              "    </tr>\n",
              "    <tr>\n",
              "      <th>25%</th>\n",
              "      <td>0.000000</td>\n",
              "      <td>101.00000</td>\n",
              "      <td>94.500000</td>\n",
              "      <td>0.801538</td>\n",
              "      <td>0.890278</td>\n",
              "      <td>52.000000</td>\n",
              "      <td>2169.000000</td>\n",
              "      <td>98.000000</td>\n",
              "      <td>3.150000</td>\n",
              "      <td>3.110000</td>\n",
              "      <td>8.600000</td>\n",
              "      <td>70.000000</td>\n",
              "      <td>4800.000000</td>\n",
              "      <td>19.000000</td>\n",
              "      <td>25.000000</td>\n",
              "      <td>7775.000000</td>\n",
              "      <td>7.833333</td>\n",
              "      <td>0.000000</td>\n",
              "      <td>1.000000</td>\n",
              "    </tr>\n",
              "    <tr>\n",
              "      <th>50%</th>\n",
              "      <td>1.000000</td>\n",
              "      <td>122.00000</td>\n",
              "      <td>97.000000</td>\n",
              "      <td>0.832292</td>\n",
              "      <td>0.909722</td>\n",
              "      <td>54.100000</td>\n",
              "      <td>2414.000000</td>\n",
              "      <td>120.000000</td>\n",
              "      <td>3.310000</td>\n",
              "      <td>3.290000</td>\n",
              "      <td>9.000000</td>\n",
              "      <td>95.000000</td>\n",
              "      <td>5125.369458</td>\n",
              "      <td>24.000000</td>\n",
              "      <td>30.000000</td>\n",
              "      <td>10295.000000</td>\n",
              "      <td>9.791667</td>\n",
              "      <td>0.000000</td>\n",
              "      <td>1.000000</td>\n",
              "    </tr>\n",
              "    <tr>\n",
              "      <th>75%</th>\n",
              "      <td>2.000000</td>\n",
              "      <td>137.00000</td>\n",
              "      <td>102.400000</td>\n",
              "      <td>0.881788</td>\n",
              "      <td>0.925000</td>\n",
              "      <td>55.500000</td>\n",
              "      <td>2926.000000</td>\n",
              "      <td>141.000000</td>\n",
              "      <td>3.580000</td>\n",
              "      <td>3.410000</td>\n",
              "      <td>9.400000</td>\n",
              "      <td>116.000000</td>\n",
              "      <td>5500.000000</td>\n",
              "      <td>30.000000</td>\n",
              "      <td>34.000000</td>\n",
              "      <td>16500.000000</td>\n",
              "      <td>12.368421</td>\n",
              "      <td>0.000000</td>\n",
              "      <td>1.000000</td>\n",
              "    </tr>\n",
              "    <tr>\n",
              "      <th>max</th>\n",
              "      <td>3.000000</td>\n",
              "      <td>256.00000</td>\n",
              "      <td>120.900000</td>\n",
              "      <td>1.000000</td>\n",
              "      <td>1.000000</td>\n",
              "      <td>59.800000</td>\n",
              "      <td>4066.000000</td>\n",
              "      <td>326.000000</td>\n",
              "      <td>3.940000</td>\n",
              "      <td>4.170000</td>\n",
              "      <td>23.000000</td>\n",
              "      <td>262.000000</td>\n",
              "      <td>6600.000000</td>\n",
              "      <td>49.000000</td>\n",
              "      <td>54.000000</td>\n",
              "      <td>45400.000000</td>\n",
              "      <td>18.076923</td>\n",
              "      <td>1.000000</td>\n",
              "      <td>1.000000</td>\n",
              "    </tr>\n",
              "  </tbody>\n",
              "</table>\n",
              "</div>\n",
              "      <button class=\"colab-df-convert\" onclick=\"convertToInteractive('df-9e4d43c8-7066-49e5-81a1-a33c8e1778d1')\"\n",
              "              title=\"Convert this dataframe to an interactive table.\"\n",
              "              style=\"display:none;\">\n",
              "        \n",
              "  <svg xmlns=\"http://www.w3.org/2000/svg\" height=\"24px\"viewBox=\"0 0 24 24\"\n",
              "       width=\"24px\">\n",
              "    <path d=\"M0 0h24v24H0V0z\" fill=\"none\"/>\n",
              "    <path d=\"M18.56 5.44l.94 2.06.94-2.06 2.06-.94-2.06-.94-.94-2.06-.94 2.06-2.06.94zm-11 1L8.5 8.5l.94-2.06 2.06-.94-2.06-.94L8.5 2.5l-.94 2.06-2.06.94zm10 10l.94 2.06.94-2.06 2.06-.94-2.06-.94-.94-2.06-.94 2.06-2.06.94z\"/><path d=\"M17.41 7.96l-1.37-1.37c-.4-.4-.92-.59-1.43-.59-.52 0-1.04.2-1.43.59L10.3 9.45l-7.72 7.72c-.78.78-.78 2.05 0 2.83L4 21.41c.39.39.9.59 1.41.59.51 0 1.02-.2 1.41-.59l7.78-7.78 2.81-2.81c.8-.78.8-2.07 0-2.86zM5.41 20L4 18.59l7.72-7.72 1.47 1.35L5.41 20z\"/>\n",
              "  </svg>\n",
              "      </button>\n",
              "      \n",
              "  <style>\n",
              "    .colab-df-container {\n",
              "      display:flex;\n",
              "      flex-wrap:wrap;\n",
              "      gap: 12px;\n",
              "    }\n",
              "\n",
              "    .colab-df-convert {\n",
              "      background-color: #E8F0FE;\n",
              "      border: none;\n",
              "      border-radius: 50%;\n",
              "      cursor: pointer;\n",
              "      display: none;\n",
              "      fill: #1967D2;\n",
              "      height: 32px;\n",
              "      padding: 0 0 0 0;\n",
              "      width: 32px;\n",
              "    }\n",
              "\n",
              "    .colab-df-convert:hover {\n",
              "      background-color: #E2EBFA;\n",
              "      box-shadow: 0px 1px 2px rgba(60, 64, 67, 0.3), 0px 1px 3px 1px rgba(60, 64, 67, 0.15);\n",
              "      fill: #174EA6;\n",
              "    }\n",
              "\n",
              "    [theme=dark] .colab-df-convert {\n",
              "      background-color: #3B4455;\n",
              "      fill: #D2E3FC;\n",
              "    }\n",
              "\n",
              "    [theme=dark] .colab-df-convert:hover {\n",
              "      background-color: #434B5C;\n",
              "      box-shadow: 0px 1px 3px 1px rgba(0, 0, 0, 0.15);\n",
              "      filter: drop-shadow(0px 1px 2px rgba(0, 0, 0, 0.3));\n",
              "      fill: #FFFFFF;\n",
              "    }\n",
              "  </style>\n",
              "\n",
              "      <script>\n",
              "        const buttonEl =\n",
              "          document.querySelector('#df-9e4d43c8-7066-49e5-81a1-a33c8e1778d1 button.colab-df-convert');\n",
              "        buttonEl.style.display =\n",
              "          google.colab.kernel.accessAllowed ? 'block' : 'none';\n",
              "\n",
              "        async function convertToInteractive(key) {\n",
              "          const element = document.querySelector('#df-9e4d43c8-7066-49e5-81a1-a33c8e1778d1');\n",
              "          const dataTable =\n",
              "            await google.colab.kernel.invokeFunction('convertToInteractive',\n",
              "                                                     [key], {});\n",
              "          if (!dataTable) return;\n",
              "\n",
              "          const docLinkHtml = 'Like what you see? Visit the ' +\n",
              "            '<a target=\"_blank\" href=https://colab.research.google.com/notebooks/data_table.ipynb>data table notebook</a>'\n",
              "            + ' to learn more about interactive tables.';\n",
              "          element.innerHTML = '';\n",
              "          dataTable['output_type'] = 'display_data';\n",
              "          await google.colab.output.renderOutput(dataTable, element);\n",
              "          const docLink = document.createElement('div');\n",
              "          docLink.innerHTML = docLinkHtml;\n",
              "          element.appendChild(docLink);\n",
              "        }\n",
              "      </script>\n",
              "    </div>\n",
              "  </div>\n",
              "  "
            ]
          },
          "metadata": {},
          "execution_count": 22
        }
      ]
    },
    {
      "cell_type": "markdown",
      "source": [
        "The default setting of \"describe\" skips variables of type object. We can apply the method \"describe\" on the variables of type 'object' as follows:\n"
      ],
      "metadata": {
        "id": "gTyvoMvZ__YD"
      }
    },
    {
      "cell_type": "code",
      "source": [
        "df.describe(include=['object'])"
      ],
      "metadata": {
        "scrolled": true,
        "trusted": true,
        "id": "s0kZRMAw__YD",
        "colab": {
          "base_uri": "https://localhost:8080/",
          "height": 219
        },
        "outputId": "f537d4a6-5891-4ba2-dcdc-2e0ba2d9d592"
      },
      "execution_count": 23,
      "outputs": [
        {
          "output_type": "execute_result",
          "data": {
            "text/plain": [
              "          make aspiration num-of-doors body-style drive-wheels  \\\n",
              "count      201        201          201        201          201   \n",
              "unique      22          2            2          5            3   \n",
              "top     toyota        std         four      sedan          fwd   \n",
              "freq        32        165          115         94          118   \n",
              "\n",
              "       engine-location engine-type num-of-cylinders fuel-system  \\\n",
              "count              201         201              201         201   \n",
              "unique               2           6                7           8   \n",
              "top              front         ohc             four        mpfi   \n",
              "freq               198         145              157          92   \n",
              "\n",
              "       horsepower-binned  \n",
              "count                200  \n",
              "unique                 3  \n",
              "top                  Low  \n",
              "freq                 115  "
            ],
            "text/html": [
              "\n",
              "  <div id=\"df-dfd4ab15-aa44-4d90-8a43-02f26cd498ba\">\n",
              "    <div class=\"colab-df-container\">\n",
              "      <div>\n",
              "<style scoped>\n",
              "    .dataframe tbody tr th:only-of-type {\n",
              "        vertical-align: middle;\n",
              "    }\n",
              "\n",
              "    .dataframe tbody tr th {\n",
              "        vertical-align: top;\n",
              "    }\n",
              "\n",
              "    .dataframe thead th {\n",
              "        text-align: right;\n",
              "    }\n",
              "</style>\n",
              "<table border=\"1\" class=\"dataframe\">\n",
              "  <thead>\n",
              "    <tr style=\"text-align: right;\">\n",
              "      <th></th>\n",
              "      <th>make</th>\n",
              "      <th>aspiration</th>\n",
              "      <th>num-of-doors</th>\n",
              "      <th>body-style</th>\n",
              "      <th>drive-wheels</th>\n",
              "      <th>engine-location</th>\n",
              "      <th>engine-type</th>\n",
              "      <th>num-of-cylinders</th>\n",
              "      <th>fuel-system</th>\n",
              "      <th>horsepower-binned</th>\n",
              "    </tr>\n",
              "  </thead>\n",
              "  <tbody>\n",
              "    <tr>\n",
              "      <th>count</th>\n",
              "      <td>201</td>\n",
              "      <td>201</td>\n",
              "      <td>201</td>\n",
              "      <td>201</td>\n",
              "      <td>201</td>\n",
              "      <td>201</td>\n",
              "      <td>201</td>\n",
              "      <td>201</td>\n",
              "      <td>201</td>\n",
              "      <td>200</td>\n",
              "    </tr>\n",
              "    <tr>\n",
              "      <th>unique</th>\n",
              "      <td>22</td>\n",
              "      <td>2</td>\n",
              "      <td>2</td>\n",
              "      <td>5</td>\n",
              "      <td>3</td>\n",
              "      <td>2</td>\n",
              "      <td>6</td>\n",
              "      <td>7</td>\n",
              "      <td>8</td>\n",
              "      <td>3</td>\n",
              "    </tr>\n",
              "    <tr>\n",
              "      <th>top</th>\n",
              "      <td>toyota</td>\n",
              "      <td>std</td>\n",
              "      <td>four</td>\n",
              "      <td>sedan</td>\n",
              "      <td>fwd</td>\n",
              "      <td>front</td>\n",
              "      <td>ohc</td>\n",
              "      <td>four</td>\n",
              "      <td>mpfi</td>\n",
              "      <td>Low</td>\n",
              "    </tr>\n",
              "    <tr>\n",
              "      <th>freq</th>\n",
              "      <td>32</td>\n",
              "      <td>165</td>\n",
              "      <td>115</td>\n",
              "      <td>94</td>\n",
              "      <td>118</td>\n",
              "      <td>198</td>\n",
              "      <td>145</td>\n",
              "      <td>157</td>\n",
              "      <td>92</td>\n",
              "      <td>115</td>\n",
              "    </tr>\n",
              "  </tbody>\n",
              "</table>\n",
              "</div>\n",
              "      <button class=\"colab-df-convert\" onclick=\"convertToInteractive('df-dfd4ab15-aa44-4d90-8a43-02f26cd498ba')\"\n",
              "              title=\"Convert this dataframe to an interactive table.\"\n",
              "              style=\"display:none;\">\n",
              "        \n",
              "  <svg xmlns=\"http://www.w3.org/2000/svg\" height=\"24px\"viewBox=\"0 0 24 24\"\n",
              "       width=\"24px\">\n",
              "    <path d=\"M0 0h24v24H0V0z\" fill=\"none\"/>\n",
              "    <path d=\"M18.56 5.44l.94 2.06.94-2.06 2.06-.94-2.06-.94-.94-2.06-.94 2.06-2.06.94zm-11 1L8.5 8.5l.94-2.06 2.06-.94-2.06-.94L8.5 2.5l-.94 2.06-2.06.94zm10 10l.94 2.06.94-2.06 2.06-.94-2.06-.94-.94-2.06-.94 2.06-2.06.94z\"/><path d=\"M17.41 7.96l-1.37-1.37c-.4-.4-.92-.59-1.43-.59-.52 0-1.04.2-1.43.59L10.3 9.45l-7.72 7.72c-.78.78-.78 2.05 0 2.83L4 21.41c.39.39.9.59 1.41.59.51 0 1.02-.2 1.41-.59l7.78-7.78 2.81-2.81c.8-.78.8-2.07 0-2.86zM5.41 20L4 18.59l7.72-7.72 1.47 1.35L5.41 20z\"/>\n",
              "  </svg>\n",
              "      </button>\n",
              "      \n",
              "  <style>\n",
              "    .colab-df-container {\n",
              "      display:flex;\n",
              "      flex-wrap:wrap;\n",
              "      gap: 12px;\n",
              "    }\n",
              "\n",
              "    .colab-df-convert {\n",
              "      background-color: #E8F0FE;\n",
              "      border: none;\n",
              "      border-radius: 50%;\n",
              "      cursor: pointer;\n",
              "      display: none;\n",
              "      fill: #1967D2;\n",
              "      height: 32px;\n",
              "      padding: 0 0 0 0;\n",
              "      width: 32px;\n",
              "    }\n",
              "\n",
              "    .colab-df-convert:hover {\n",
              "      background-color: #E2EBFA;\n",
              "      box-shadow: 0px 1px 2px rgba(60, 64, 67, 0.3), 0px 1px 3px 1px rgba(60, 64, 67, 0.15);\n",
              "      fill: #174EA6;\n",
              "    }\n",
              "\n",
              "    [theme=dark] .colab-df-convert {\n",
              "      background-color: #3B4455;\n",
              "      fill: #D2E3FC;\n",
              "    }\n",
              "\n",
              "    [theme=dark] .colab-df-convert:hover {\n",
              "      background-color: #434B5C;\n",
              "      box-shadow: 0px 1px 3px 1px rgba(0, 0, 0, 0.15);\n",
              "      filter: drop-shadow(0px 1px 2px rgba(0, 0, 0, 0.3));\n",
              "      fill: #FFFFFF;\n",
              "    }\n",
              "  </style>\n",
              "\n",
              "      <script>\n",
              "        const buttonEl =\n",
              "          document.querySelector('#df-dfd4ab15-aa44-4d90-8a43-02f26cd498ba button.colab-df-convert');\n",
              "        buttonEl.style.display =\n",
              "          google.colab.kernel.accessAllowed ? 'block' : 'none';\n",
              "\n",
              "        async function convertToInteractive(key) {\n",
              "          const element = document.querySelector('#df-dfd4ab15-aa44-4d90-8a43-02f26cd498ba');\n",
              "          const dataTable =\n",
              "            await google.colab.kernel.invokeFunction('convertToInteractive',\n",
              "                                                     [key], {});\n",
              "          if (!dataTable) return;\n",
              "\n",
              "          const docLinkHtml = 'Like what you see? Visit the ' +\n",
              "            '<a target=\"_blank\" href=https://colab.research.google.com/notebooks/data_table.ipynb>data table notebook</a>'\n",
              "            + ' to learn more about interactive tables.';\n",
              "          element.innerHTML = '';\n",
              "          dataTable['output_type'] = 'display_data';\n",
              "          await google.colab.output.renderOutput(dataTable, element);\n",
              "          const docLink = document.createElement('div');\n",
              "          docLink.innerHTML = docLinkHtml;\n",
              "          element.appendChild(docLink);\n",
              "        }\n",
              "      </script>\n",
              "    </div>\n",
              "  </div>\n",
              "  "
            ]
          },
          "metadata": {},
          "execution_count": 23
        }
      ]
    },
    {
      "cell_type": "markdown",
      "source": [
        "<h3>Value Counts</h3>\n"
      ],
      "metadata": {
        "id": "o70dudAJ__YD"
      }
    },
    {
      "cell_type": "markdown",
      "source": [
        "<p>Value counts is a good way of understanding how many units of each characteristic/variable we have. We can apply the \"value_counts\" method on the column \"drive-wheels\". Don’t forget the method \"value_counts\" only works on pandas series, not pandas dataframes. As a result, we only include one bracket <code>df['drive-wheels']</code>, not two brackets <code>df[['drive-wheels']]</code>.</p>\n"
      ],
      "metadata": {
        "id": "fZ5jga6N__YD"
      }
    },
    {
      "cell_type": "code",
      "source": [
        "df['drive-wheels'].value_counts()"
      ],
      "metadata": {
        "trusted": true,
        "id": "sZAG5xav__YE",
        "colab": {
          "base_uri": "https://localhost:8080/"
        },
        "outputId": "c0f8dd7e-9e7b-4c74-9120-29f5791ad071"
      },
      "execution_count": 24,
      "outputs": [
        {
          "output_type": "execute_result",
          "data": {
            "text/plain": [
              "fwd    118\n",
              "rwd     75\n",
              "4wd      8\n",
              "Name: drive-wheels, dtype: int64"
            ]
          },
          "metadata": {},
          "execution_count": 24
        }
      ]
    },
    {
      "cell_type": "markdown",
      "source": [
        "We can convert the series to a dataframe as follows:\n"
      ],
      "metadata": {
        "id": "4QNGqK-a__YE"
      }
    },
    {
      "cell_type": "code",
      "source": [
        "df['drive-wheels'].value_counts().to_frame()"
      ],
      "metadata": {
        "trusted": true,
        "id": "Y_rxTSQD__YE",
        "colab": {
          "base_uri": "https://localhost:8080/",
          "height": 143
        },
        "outputId": "e3607576-a8d1-4bab-e02a-54f0af89b0fa"
      },
      "execution_count": 25,
      "outputs": [
        {
          "output_type": "execute_result",
          "data": {
            "text/plain": [
              "     drive-wheels\n",
              "fwd           118\n",
              "rwd            75\n",
              "4wd             8"
            ],
            "text/html": [
              "\n",
              "  <div id=\"df-4baf029f-c990-4cdd-af5f-514bbfde6dfc\">\n",
              "    <div class=\"colab-df-container\">\n",
              "      <div>\n",
              "<style scoped>\n",
              "    .dataframe tbody tr th:only-of-type {\n",
              "        vertical-align: middle;\n",
              "    }\n",
              "\n",
              "    .dataframe tbody tr th {\n",
              "        vertical-align: top;\n",
              "    }\n",
              "\n",
              "    .dataframe thead th {\n",
              "        text-align: right;\n",
              "    }\n",
              "</style>\n",
              "<table border=\"1\" class=\"dataframe\">\n",
              "  <thead>\n",
              "    <tr style=\"text-align: right;\">\n",
              "      <th></th>\n",
              "      <th>drive-wheels</th>\n",
              "    </tr>\n",
              "  </thead>\n",
              "  <tbody>\n",
              "    <tr>\n",
              "      <th>fwd</th>\n",
              "      <td>118</td>\n",
              "    </tr>\n",
              "    <tr>\n",
              "      <th>rwd</th>\n",
              "      <td>75</td>\n",
              "    </tr>\n",
              "    <tr>\n",
              "      <th>4wd</th>\n",
              "      <td>8</td>\n",
              "    </tr>\n",
              "  </tbody>\n",
              "</table>\n",
              "</div>\n",
              "      <button class=\"colab-df-convert\" onclick=\"convertToInteractive('df-4baf029f-c990-4cdd-af5f-514bbfde6dfc')\"\n",
              "              title=\"Convert this dataframe to an interactive table.\"\n",
              "              style=\"display:none;\">\n",
              "        \n",
              "  <svg xmlns=\"http://www.w3.org/2000/svg\" height=\"24px\"viewBox=\"0 0 24 24\"\n",
              "       width=\"24px\">\n",
              "    <path d=\"M0 0h24v24H0V0z\" fill=\"none\"/>\n",
              "    <path d=\"M18.56 5.44l.94 2.06.94-2.06 2.06-.94-2.06-.94-.94-2.06-.94 2.06-2.06.94zm-11 1L8.5 8.5l.94-2.06 2.06-.94-2.06-.94L8.5 2.5l-.94 2.06-2.06.94zm10 10l.94 2.06.94-2.06 2.06-.94-2.06-.94-.94-2.06-.94 2.06-2.06.94z\"/><path d=\"M17.41 7.96l-1.37-1.37c-.4-.4-.92-.59-1.43-.59-.52 0-1.04.2-1.43.59L10.3 9.45l-7.72 7.72c-.78.78-.78 2.05 0 2.83L4 21.41c.39.39.9.59 1.41.59.51 0 1.02-.2 1.41-.59l7.78-7.78 2.81-2.81c.8-.78.8-2.07 0-2.86zM5.41 20L4 18.59l7.72-7.72 1.47 1.35L5.41 20z\"/>\n",
              "  </svg>\n",
              "      </button>\n",
              "      \n",
              "  <style>\n",
              "    .colab-df-container {\n",
              "      display:flex;\n",
              "      flex-wrap:wrap;\n",
              "      gap: 12px;\n",
              "    }\n",
              "\n",
              "    .colab-df-convert {\n",
              "      background-color: #E8F0FE;\n",
              "      border: none;\n",
              "      border-radius: 50%;\n",
              "      cursor: pointer;\n",
              "      display: none;\n",
              "      fill: #1967D2;\n",
              "      height: 32px;\n",
              "      padding: 0 0 0 0;\n",
              "      width: 32px;\n",
              "    }\n",
              "\n",
              "    .colab-df-convert:hover {\n",
              "      background-color: #E2EBFA;\n",
              "      box-shadow: 0px 1px 2px rgba(60, 64, 67, 0.3), 0px 1px 3px 1px rgba(60, 64, 67, 0.15);\n",
              "      fill: #174EA6;\n",
              "    }\n",
              "\n",
              "    [theme=dark] .colab-df-convert {\n",
              "      background-color: #3B4455;\n",
              "      fill: #D2E3FC;\n",
              "    }\n",
              "\n",
              "    [theme=dark] .colab-df-convert:hover {\n",
              "      background-color: #434B5C;\n",
              "      box-shadow: 0px 1px 3px 1px rgba(0, 0, 0, 0.15);\n",
              "      filter: drop-shadow(0px 1px 2px rgba(0, 0, 0, 0.3));\n",
              "      fill: #FFFFFF;\n",
              "    }\n",
              "  </style>\n",
              "\n",
              "      <script>\n",
              "        const buttonEl =\n",
              "          document.querySelector('#df-4baf029f-c990-4cdd-af5f-514bbfde6dfc button.colab-df-convert');\n",
              "        buttonEl.style.display =\n",
              "          google.colab.kernel.accessAllowed ? 'block' : 'none';\n",
              "\n",
              "        async function convertToInteractive(key) {\n",
              "          const element = document.querySelector('#df-4baf029f-c990-4cdd-af5f-514bbfde6dfc');\n",
              "          const dataTable =\n",
              "            await google.colab.kernel.invokeFunction('convertToInteractive',\n",
              "                                                     [key], {});\n",
              "          if (!dataTable) return;\n",
              "\n",
              "          const docLinkHtml = 'Like what you see? Visit the ' +\n",
              "            '<a target=\"_blank\" href=https://colab.research.google.com/notebooks/data_table.ipynb>data table notebook</a>'\n",
              "            + ' to learn more about interactive tables.';\n",
              "          element.innerHTML = '';\n",
              "          dataTable['output_type'] = 'display_data';\n",
              "          await google.colab.output.renderOutput(dataTable, element);\n",
              "          const docLink = document.createElement('div');\n",
              "          docLink.innerHTML = docLinkHtml;\n",
              "          element.appendChild(docLink);\n",
              "        }\n",
              "      </script>\n",
              "    </div>\n",
              "  </div>\n",
              "  "
            ]
          },
          "metadata": {},
          "execution_count": 25
        }
      ]
    },
    {
      "cell_type": "markdown",
      "source": [
        "Let's repeat the above steps but save the results to the dataframe \"drive_wheels_counts\" and rename the column  'drive-wheels' to 'value_counts'.\n"
      ],
      "metadata": {
        "id": "K7oMY2m5__YE"
      }
    },
    {
      "cell_type": "code",
      "source": [
        "drive_wheels_counts = df['drive-wheels'].value_counts().to_frame()\n",
        "drive_wheels_counts.rename(columns={'drive-wheels': 'value_counts'}, inplace=True)\n",
        "drive_wheels_counts"
      ],
      "metadata": {
        "trusted": true,
        "id": "2rNcg2Yl__YE",
        "colab": {
          "base_uri": "https://localhost:8080/",
          "height": 143
        },
        "outputId": "b1fe5d0d-7585-4666-da1b-3410c5770e50"
      },
      "execution_count": 26,
      "outputs": [
        {
          "output_type": "execute_result",
          "data": {
            "text/plain": [
              "     value_counts\n",
              "fwd           118\n",
              "rwd            75\n",
              "4wd             8"
            ],
            "text/html": [
              "\n",
              "  <div id=\"df-0860a12d-9c4e-49f5-b41b-67bc351513ac\">\n",
              "    <div class=\"colab-df-container\">\n",
              "      <div>\n",
              "<style scoped>\n",
              "    .dataframe tbody tr th:only-of-type {\n",
              "        vertical-align: middle;\n",
              "    }\n",
              "\n",
              "    .dataframe tbody tr th {\n",
              "        vertical-align: top;\n",
              "    }\n",
              "\n",
              "    .dataframe thead th {\n",
              "        text-align: right;\n",
              "    }\n",
              "</style>\n",
              "<table border=\"1\" class=\"dataframe\">\n",
              "  <thead>\n",
              "    <tr style=\"text-align: right;\">\n",
              "      <th></th>\n",
              "      <th>value_counts</th>\n",
              "    </tr>\n",
              "  </thead>\n",
              "  <tbody>\n",
              "    <tr>\n",
              "      <th>fwd</th>\n",
              "      <td>118</td>\n",
              "    </tr>\n",
              "    <tr>\n",
              "      <th>rwd</th>\n",
              "      <td>75</td>\n",
              "    </tr>\n",
              "    <tr>\n",
              "      <th>4wd</th>\n",
              "      <td>8</td>\n",
              "    </tr>\n",
              "  </tbody>\n",
              "</table>\n",
              "</div>\n",
              "      <button class=\"colab-df-convert\" onclick=\"convertToInteractive('df-0860a12d-9c4e-49f5-b41b-67bc351513ac')\"\n",
              "              title=\"Convert this dataframe to an interactive table.\"\n",
              "              style=\"display:none;\">\n",
              "        \n",
              "  <svg xmlns=\"http://www.w3.org/2000/svg\" height=\"24px\"viewBox=\"0 0 24 24\"\n",
              "       width=\"24px\">\n",
              "    <path d=\"M0 0h24v24H0V0z\" fill=\"none\"/>\n",
              "    <path d=\"M18.56 5.44l.94 2.06.94-2.06 2.06-.94-2.06-.94-.94-2.06-.94 2.06-2.06.94zm-11 1L8.5 8.5l.94-2.06 2.06-.94-2.06-.94L8.5 2.5l-.94 2.06-2.06.94zm10 10l.94 2.06.94-2.06 2.06-.94-2.06-.94-.94-2.06-.94 2.06-2.06.94z\"/><path d=\"M17.41 7.96l-1.37-1.37c-.4-.4-.92-.59-1.43-.59-.52 0-1.04.2-1.43.59L10.3 9.45l-7.72 7.72c-.78.78-.78 2.05 0 2.83L4 21.41c.39.39.9.59 1.41.59.51 0 1.02-.2 1.41-.59l7.78-7.78 2.81-2.81c.8-.78.8-2.07 0-2.86zM5.41 20L4 18.59l7.72-7.72 1.47 1.35L5.41 20z\"/>\n",
              "  </svg>\n",
              "      </button>\n",
              "      \n",
              "  <style>\n",
              "    .colab-df-container {\n",
              "      display:flex;\n",
              "      flex-wrap:wrap;\n",
              "      gap: 12px;\n",
              "    }\n",
              "\n",
              "    .colab-df-convert {\n",
              "      background-color: #E8F0FE;\n",
              "      border: none;\n",
              "      border-radius: 50%;\n",
              "      cursor: pointer;\n",
              "      display: none;\n",
              "      fill: #1967D2;\n",
              "      height: 32px;\n",
              "      padding: 0 0 0 0;\n",
              "      width: 32px;\n",
              "    }\n",
              "\n",
              "    .colab-df-convert:hover {\n",
              "      background-color: #E2EBFA;\n",
              "      box-shadow: 0px 1px 2px rgba(60, 64, 67, 0.3), 0px 1px 3px 1px rgba(60, 64, 67, 0.15);\n",
              "      fill: #174EA6;\n",
              "    }\n",
              "\n",
              "    [theme=dark] .colab-df-convert {\n",
              "      background-color: #3B4455;\n",
              "      fill: #D2E3FC;\n",
              "    }\n",
              "\n",
              "    [theme=dark] .colab-df-convert:hover {\n",
              "      background-color: #434B5C;\n",
              "      box-shadow: 0px 1px 3px 1px rgba(0, 0, 0, 0.15);\n",
              "      filter: drop-shadow(0px 1px 2px rgba(0, 0, 0, 0.3));\n",
              "      fill: #FFFFFF;\n",
              "    }\n",
              "  </style>\n",
              "\n",
              "      <script>\n",
              "        const buttonEl =\n",
              "          document.querySelector('#df-0860a12d-9c4e-49f5-b41b-67bc351513ac button.colab-df-convert');\n",
              "        buttonEl.style.display =\n",
              "          google.colab.kernel.accessAllowed ? 'block' : 'none';\n",
              "\n",
              "        async function convertToInteractive(key) {\n",
              "          const element = document.querySelector('#df-0860a12d-9c4e-49f5-b41b-67bc351513ac');\n",
              "          const dataTable =\n",
              "            await google.colab.kernel.invokeFunction('convertToInteractive',\n",
              "                                                     [key], {});\n",
              "          if (!dataTable) return;\n",
              "\n",
              "          const docLinkHtml = 'Like what you see? Visit the ' +\n",
              "            '<a target=\"_blank\" href=https://colab.research.google.com/notebooks/data_table.ipynb>data table notebook</a>'\n",
              "            + ' to learn more about interactive tables.';\n",
              "          element.innerHTML = '';\n",
              "          dataTable['output_type'] = 'display_data';\n",
              "          await google.colab.output.renderOutput(dataTable, element);\n",
              "          const docLink = document.createElement('div');\n",
              "          docLink.innerHTML = docLinkHtml;\n",
              "          element.appendChild(docLink);\n",
              "        }\n",
              "      </script>\n",
              "    </div>\n",
              "  </div>\n",
              "  "
            ]
          },
          "metadata": {},
          "execution_count": 26
        }
      ]
    },
    {
      "cell_type": "markdown",
      "source": [
        "Now let's rename the index to 'drive-wheels':\n"
      ],
      "metadata": {
        "id": "BRJF19b3__YE"
      }
    },
    {
      "cell_type": "code",
      "source": [
        "drive_wheels_counts.index.name = 'drive-wheels'\n",
        "drive_wheels_counts"
      ],
      "metadata": {
        "trusted": true,
        "id": "t-ysx_Pw__YF",
        "colab": {
          "base_uri": "https://localhost:8080/",
          "height": 175
        },
        "outputId": "2339135f-d5a9-4970-ae38-39aec40a03be"
      },
      "execution_count": 27,
      "outputs": [
        {
          "output_type": "execute_result",
          "data": {
            "text/plain": [
              "              value_counts\n",
              "drive-wheels              \n",
              "fwd                    118\n",
              "rwd                     75\n",
              "4wd                      8"
            ],
            "text/html": [
              "\n",
              "  <div id=\"df-64447c55-9495-450a-9eef-573fb0c087be\">\n",
              "    <div class=\"colab-df-container\">\n",
              "      <div>\n",
              "<style scoped>\n",
              "    .dataframe tbody tr th:only-of-type {\n",
              "        vertical-align: middle;\n",
              "    }\n",
              "\n",
              "    .dataframe tbody tr th {\n",
              "        vertical-align: top;\n",
              "    }\n",
              "\n",
              "    .dataframe thead th {\n",
              "        text-align: right;\n",
              "    }\n",
              "</style>\n",
              "<table border=\"1\" class=\"dataframe\">\n",
              "  <thead>\n",
              "    <tr style=\"text-align: right;\">\n",
              "      <th></th>\n",
              "      <th>value_counts</th>\n",
              "    </tr>\n",
              "    <tr>\n",
              "      <th>drive-wheels</th>\n",
              "      <th></th>\n",
              "    </tr>\n",
              "  </thead>\n",
              "  <tbody>\n",
              "    <tr>\n",
              "      <th>fwd</th>\n",
              "      <td>118</td>\n",
              "    </tr>\n",
              "    <tr>\n",
              "      <th>rwd</th>\n",
              "      <td>75</td>\n",
              "    </tr>\n",
              "    <tr>\n",
              "      <th>4wd</th>\n",
              "      <td>8</td>\n",
              "    </tr>\n",
              "  </tbody>\n",
              "</table>\n",
              "</div>\n",
              "      <button class=\"colab-df-convert\" onclick=\"convertToInteractive('df-64447c55-9495-450a-9eef-573fb0c087be')\"\n",
              "              title=\"Convert this dataframe to an interactive table.\"\n",
              "              style=\"display:none;\">\n",
              "        \n",
              "  <svg xmlns=\"http://www.w3.org/2000/svg\" height=\"24px\"viewBox=\"0 0 24 24\"\n",
              "       width=\"24px\">\n",
              "    <path d=\"M0 0h24v24H0V0z\" fill=\"none\"/>\n",
              "    <path d=\"M18.56 5.44l.94 2.06.94-2.06 2.06-.94-2.06-.94-.94-2.06-.94 2.06-2.06.94zm-11 1L8.5 8.5l.94-2.06 2.06-.94-2.06-.94L8.5 2.5l-.94 2.06-2.06.94zm10 10l.94 2.06.94-2.06 2.06-.94-2.06-.94-.94-2.06-.94 2.06-2.06.94z\"/><path d=\"M17.41 7.96l-1.37-1.37c-.4-.4-.92-.59-1.43-.59-.52 0-1.04.2-1.43.59L10.3 9.45l-7.72 7.72c-.78.78-.78 2.05 0 2.83L4 21.41c.39.39.9.59 1.41.59.51 0 1.02-.2 1.41-.59l7.78-7.78 2.81-2.81c.8-.78.8-2.07 0-2.86zM5.41 20L4 18.59l7.72-7.72 1.47 1.35L5.41 20z\"/>\n",
              "  </svg>\n",
              "      </button>\n",
              "      \n",
              "  <style>\n",
              "    .colab-df-container {\n",
              "      display:flex;\n",
              "      flex-wrap:wrap;\n",
              "      gap: 12px;\n",
              "    }\n",
              "\n",
              "    .colab-df-convert {\n",
              "      background-color: #E8F0FE;\n",
              "      border: none;\n",
              "      border-radius: 50%;\n",
              "      cursor: pointer;\n",
              "      display: none;\n",
              "      fill: #1967D2;\n",
              "      height: 32px;\n",
              "      padding: 0 0 0 0;\n",
              "      width: 32px;\n",
              "    }\n",
              "\n",
              "    .colab-df-convert:hover {\n",
              "      background-color: #E2EBFA;\n",
              "      box-shadow: 0px 1px 2px rgba(60, 64, 67, 0.3), 0px 1px 3px 1px rgba(60, 64, 67, 0.15);\n",
              "      fill: #174EA6;\n",
              "    }\n",
              "\n",
              "    [theme=dark] .colab-df-convert {\n",
              "      background-color: #3B4455;\n",
              "      fill: #D2E3FC;\n",
              "    }\n",
              "\n",
              "    [theme=dark] .colab-df-convert:hover {\n",
              "      background-color: #434B5C;\n",
              "      box-shadow: 0px 1px 3px 1px rgba(0, 0, 0, 0.15);\n",
              "      filter: drop-shadow(0px 1px 2px rgba(0, 0, 0, 0.3));\n",
              "      fill: #FFFFFF;\n",
              "    }\n",
              "  </style>\n",
              "\n",
              "      <script>\n",
              "        const buttonEl =\n",
              "          document.querySelector('#df-64447c55-9495-450a-9eef-573fb0c087be button.colab-df-convert');\n",
              "        buttonEl.style.display =\n",
              "          google.colab.kernel.accessAllowed ? 'block' : 'none';\n",
              "\n",
              "        async function convertToInteractive(key) {\n",
              "          const element = document.querySelector('#df-64447c55-9495-450a-9eef-573fb0c087be');\n",
              "          const dataTable =\n",
              "            await google.colab.kernel.invokeFunction('convertToInteractive',\n",
              "                                                     [key], {});\n",
              "          if (!dataTable) return;\n",
              "\n",
              "          const docLinkHtml = 'Like what you see? Visit the ' +\n",
              "            '<a target=\"_blank\" href=https://colab.research.google.com/notebooks/data_table.ipynb>data table notebook</a>'\n",
              "            + ' to learn more about interactive tables.';\n",
              "          element.innerHTML = '';\n",
              "          dataTable['output_type'] = 'display_data';\n",
              "          await google.colab.output.renderOutput(dataTable, element);\n",
              "          const docLink = document.createElement('div');\n",
              "          docLink.innerHTML = docLinkHtml;\n",
              "          element.appendChild(docLink);\n",
              "        }\n",
              "      </script>\n",
              "    </div>\n",
              "  </div>\n",
              "  "
            ]
          },
          "metadata": {},
          "execution_count": 27
        }
      ]
    },
    {
      "cell_type": "markdown",
      "source": [
        "We can repeat the above process for the variable 'engine-location'.\n"
      ],
      "metadata": {
        "id": "l5_37ssm__YF"
      }
    },
    {
      "cell_type": "code",
      "source": [
        "# engine-location as variable\n",
        "engine_loc_counts = df['engine-location'].value_counts().to_frame()\n",
        "engine_loc_counts.rename(columns={'engine-location': 'value_counts'}, inplace=True)\n",
        "engine_loc_counts.index.name = 'engine-location'\n",
        "engine_loc_counts.head(10)"
      ],
      "metadata": {
        "trusted": true,
        "id": "nZJFa3ia__YF",
        "colab": {
          "base_uri": "https://localhost:8080/",
          "height": 143
        },
        "outputId": "a7c39d63-bf89-42d0-be04-2f5f936ad0a9"
      },
      "execution_count": 28,
      "outputs": [
        {
          "output_type": "execute_result",
          "data": {
            "text/plain": [
              "                 value_counts\n",
              "engine-location              \n",
              "front                     198\n",
              "rear                        3"
            ],
            "text/html": [
              "\n",
              "  <div id=\"df-48b406cb-7f19-46a3-a5f6-461cf51f8e67\">\n",
              "    <div class=\"colab-df-container\">\n",
              "      <div>\n",
              "<style scoped>\n",
              "    .dataframe tbody tr th:only-of-type {\n",
              "        vertical-align: middle;\n",
              "    }\n",
              "\n",
              "    .dataframe tbody tr th {\n",
              "        vertical-align: top;\n",
              "    }\n",
              "\n",
              "    .dataframe thead th {\n",
              "        text-align: right;\n",
              "    }\n",
              "</style>\n",
              "<table border=\"1\" class=\"dataframe\">\n",
              "  <thead>\n",
              "    <tr style=\"text-align: right;\">\n",
              "      <th></th>\n",
              "      <th>value_counts</th>\n",
              "    </tr>\n",
              "    <tr>\n",
              "      <th>engine-location</th>\n",
              "      <th></th>\n",
              "    </tr>\n",
              "  </thead>\n",
              "  <tbody>\n",
              "    <tr>\n",
              "      <th>front</th>\n",
              "      <td>198</td>\n",
              "    </tr>\n",
              "    <tr>\n",
              "      <th>rear</th>\n",
              "      <td>3</td>\n",
              "    </tr>\n",
              "  </tbody>\n",
              "</table>\n",
              "</div>\n",
              "      <button class=\"colab-df-convert\" onclick=\"convertToInteractive('df-48b406cb-7f19-46a3-a5f6-461cf51f8e67')\"\n",
              "              title=\"Convert this dataframe to an interactive table.\"\n",
              "              style=\"display:none;\">\n",
              "        \n",
              "  <svg xmlns=\"http://www.w3.org/2000/svg\" height=\"24px\"viewBox=\"0 0 24 24\"\n",
              "       width=\"24px\">\n",
              "    <path d=\"M0 0h24v24H0V0z\" fill=\"none\"/>\n",
              "    <path d=\"M18.56 5.44l.94 2.06.94-2.06 2.06-.94-2.06-.94-.94-2.06-.94 2.06-2.06.94zm-11 1L8.5 8.5l.94-2.06 2.06-.94-2.06-.94L8.5 2.5l-.94 2.06-2.06.94zm10 10l.94 2.06.94-2.06 2.06-.94-2.06-.94-.94-2.06-.94 2.06-2.06.94z\"/><path d=\"M17.41 7.96l-1.37-1.37c-.4-.4-.92-.59-1.43-.59-.52 0-1.04.2-1.43.59L10.3 9.45l-7.72 7.72c-.78.78-.78 2.05 0 2.83L4 21.41c.39.39.9.59 1.41.59.51 0 1.02-.2 1.41-.59l7.78-7.78 2.81-2.81c.8-.78.8-2.07 0-2.86zM5.41 20L4 18.59l7.72-7.72 1.47 1.35L5.41 20z\"/>\n",
              "  </svg>\n",
              "      </button>\n",
              "      \n",
              "  <style>\n",
              "    .colab-df-container {\n",
              "      display:flex;\n",
              "      flex-wrap:wrap;\n",
              "      gap: 12px;\n",
              "    }\n",
              "\n",
              "    .colab-df-convert {\n",
              "      background-color: #E8F0FE;\n",
              "      border: none;\n",
              "      border-radius: 50%;\n",
              "      cursor: pointer;\n",
              "      display: none;\n",
              "      fill: #1967D2;\n",
              "      height: 32px;\n",
              "      padding: 0 0 0 0;\n",
              "      width: 32px;\n",
              "    }\n",
              "\n",
              "    .colab-df-convert:hover {\n",
              "      background-color: #E2EBFA;\n",
              "      box-shadow: 0px 1px 2px rgba(60, 64, 67, 0.3), 0px 1px 3px 1px rgba(60, 64, 67, 0.15);\n",
              "      fill: #174EA6;\n",
              "    }\n",
              "\n",
              "    [theme=dark] .colab-df-convert {\n",
              "      background-color: #3B4455;\n",
              "      fill: #D2E3FC;\n",
              "    }\n",
              "\n",
              "    [theme=dark] .colab-df-convert:hover {\n",
              "      background-color: #434B5C;\n",
              "      box-shadow: 0px 1px 3px 1px rgba(0, 0, 0, 0.15);\n",
              "      filter: drop-shadow(0px 1px 2px rgba(0, 0, 0, 0.3));\n",
              "      fill: #FFFFFF;\n",
              "    }\n",
              "  </style>\n",
              "\n",
              "      <script>\n",
              "        const buttonEl =\n",
              "          document.querySelector('#df-48b406cb-7f19-46a3-a5f6-461cf51f8e67 button.colab-df-convert');\n",
              "        buttonEl.style.display =\n",
              "          google.colab.kernel.accessAllowed ? 'block' : 'none';\n",
              "\n",
              "        async function convertToInteractive(key) {\n",
              "          const element = document.querySelector('#df-48b406cb-7f19-46a3-a5f6-461cf51f8e67');\n",
              "          const dataTable =\n",
              "            await google.colab.kernel.invokeFunction('convertToInteractive',\n",
              "                                                     [key], {});\n",
              "          if (!dataTable) return;\n",
              "\n",
              "          const docLinkHtml = 'Like what you see? Visit the ' +\n",
              "            '<a target=\"_blank\" href=https://colab.research.google.com/notebooks/data_table.ipynb>data table notebook</a>'\n",
              "            + ' to learn more about interactive tables.';\n",
              "          element.innerHTML = '';\n",
              "          dataTable['output_type'] = 'display_data';\n",
              "          await google.colab.output.renderOutput(dataTable, element);\n",
              "          const docLink = document.createElement('div');\n",
              "          docLink.innerHTML = docLinkHtml;\n",
              "          element.appendChild(docLink);\n",
              "        }\n",
              "      </script>\n",
              "    </div>\n",
              "  </div>\n",
              "  "
            ]
          },
          "metadata": {},
          "execution_count": 28
        }
      ]
    },
    {
      "cell_type": "markdown",
      "source": [
        "<p>After examining the value counts of the engine location, we see that engine location would not be a good predictor variable for the price. This is because we only have three cars with a rear engine and 198 with an engine in the front, so this result is skewed. Thus, we are not able to draw any conclusions about the engine location.</p>\n"
      ],
      "metadata": {
        "id": "lXh7cUjl__YF"
      }
    },
    {
      "cell_type": "markdown",
      "source": [
        "<h2 id=\"basic_grouping\">4. Basics of Grouping</h2>\n"
      ],
      "metadata": {
        "id": "LDPJEHAR__YF"
      }
    },
    {
      "cell_type": "markdown",
      "source": [
        "<p>The \"groupby\" method groups data by different categories. The data is grouped based on one or several variables, and analysis is performed on the individual groups.</p>\n",
        "\n",
        "<p>For example, let's group by the variable \"drive-wheels\". We see that there are 3 different categories of drive wheels.</p>\n"
      ],
      "metadata": {
        "id": "v_eoPgjf__YF"
      }
    },
    {
      "cell_type": "code",
      "source": [
        "df['drive-wheels'].unique()"
      ],
      "metadata": {
        "trusted": true,
        "id": "teQ6yJQL__YF",
        "colab": {
          "base_uri": "https://localhost:8080/"
        },
        "outputId": "31dd1b33-a59c-4e74-9429-21caf0552e35"
      },
      "execution_count": 29,
      "outputs": [
        {
          "output_type": "execute_result",
          "data": {
            "text/plain": [
              "array(['rwd', 'fwd', '4wd'], dtype=object)"
            ]
          },
          "metadata": {},
          "execution_count": 29
        }
      ]
    },
    {
      "cell_type": "markdown",
      "source": [
        "<p>If we want to know, on average, which type of drive wheel is most valuable, we can group \"drive-wheels\" and then average them.</p>\n",
        "\n",
        "<p>We can select the columns 'drive-wheels', 'body-style' and 'price', then assign it to the variable \"df_group_one\".</p>\n"
      ],
      "metadata": {
        "id": "GIc0knIX__YF"
      }
    },
    {
      "cell_type": "code",
      "source": [
        "df_group_one = df[['drive-wheels','body-style','price']]"
      ],
      "metadata": {
        "trusted": true,
        "id": "jePbTOnI__YF"
      },
      "execution_count": 30,
      "outputs": []
    },
    {
      "cell_type": "markdown",
      "source": [
        "We can then calculate the average price for each of the different categories of data.\n"
      ],
      "metadata": {
        "id": "OU4Sj8hA__YG"
      }
    },
    {
      "cell_type": "code",
      "source": [
        "# grouping results\n",
        "df_group_one = df_group_one.groupby(['drive-wheels'],as_index=False).mean()\n",
        "df_group_one"
      ],
      "metadata": {
        "trusted": true,
        "id": "exjEzE7q__YG",
        "colab": {
          "base_uri": "https://localhost:8080/",
          "height": 143
        },
        "outputId": "e8049a97-1a11-4e5f-9799-ea7489a5a8f8"
      },
      "execution_count": 31,
      "outputs": [
        {
          "output_type": "execute_result",
          "data": {
            "text/plain": [
              "  drive-wheels         price\n",
              "0          4wd  10241.000000\n",
              "1          fwd   9244.779661\n",
              "2          rwd  19757.613333"
            ],
            "text/html": [
              "\n",
              "  <div id=\"df-5dc354eb-69da-4dff-9f03-c0b3c809ff6b\">\n",
              "    <div class=\"colab-df-container\">\n",
              "      <div>\n",
              "<style scoped>\n",
              "    .dataframe tbody tr th:only-of-type {\n",
              "        vertical-align: middle;\n",
              "    }\n",
              "\n",
              "    .dataframe tbody tr th {\n",
              "        vertical-align: top;\n",
              "    }\n",
              "\n",
              "    .dataframe thead th {\n",
              "        text-align: right;\n",
              "    }\n",
              "</style>\n",
              "<table border=\"1\" class=\"dataframe\">\n",
              "  <thead>\n",
              "    <tr style=\"text-align: right;\">\n",
              "      <th></th>\n",
              "      <th>drive-wheels</th>\n",
              "      <th>price</th>\n",
              "    </tr>\n",
              "  </thead>\n",
              "  <tbody>\n",
              "    <tr>\n",
              "      <th>0</th>\n",
              "      <td>4wd</td>\n",
              "      <td>10241.000000</td>\n",
              "    </tr>\n",
              "    <tr>\n",
              "      <th>1</th>\n",
              "      <td>fwd</td>\n",
              "      <td>9244.779661</td>\n",
              "    </tr>\n",
              "    <tr>\n",
              "      <th>2</th>\n",
              "      <td>rwd</td>\n",
              "      <td>19757.613333</td>\n",
              "    </tr>\n",
              "  </tbody>\n",
              "</table>\n",
              "</div>\n",
              "      <button class=\"colab-df-convert\" onclick=\"convertToInteractive('df-5dc354eb-69da-4dff-9f03-c0b3c809ff6b')\"\n",
              "              title=\"Convert this dataframe to an interactive table.\"\n",
              "              style=\"display:none;\">\n",
              "        \n",
              "  <svg xmlns=\"http://www.w3.org/2000/svg\" height=\"24px\"viewBox=\"0 0 24 24\"\n",
              "       width=\"24px\">\n",
              "    <path d=\"M0 0h24v24H0V0z\" fill=\"none\"/>\n",
              "    <path d=\"M18.56 5.44l.94 2.06.94-2.06 2.06-.94-2.06-.94-.94-2.06-.94 2.06-2.06.94zm-11 1L8.5 8.5l.94-2.06 2.06-.94-2.06-.94L8.5 2.5l-.94 2.06-2.06.94zm10 10l.94 2.06.94-2.06 2.06-.94-2.06-.94-.94-2.06-.94 2.06-2.06.94z\"/><path d=\"M17.41 7.96l-1.37-1.37c-.4-.4-.92-.59-1.43-.59-.52 0-1.04.2-1.43.59L10.3 9.45l-7.72 7.72c-.78.78-.78 2.05 0 2.83L4 21.41c.39.39.9.59 1.41.59.51 0 1.02-.2 1.41-.59l7.78-7.78 2.81-2.81c.8-.78.8-2.07 0-2.86zM5.41 20L4 18.59l7.72-7.72 1.47 1.35L5.41 20z\"/>\n",
              "  </svg>\n",
              "      </button>\n",
              "      \n",
              "  <style>\n",
              "    .colab-df-container {\n",
              "      display:flex;\n",
              "      flex-wrap:wrap;\n",
              "      gap: 12px;\n",
              "    }\n",
              "\n",
              "    .colab-df-convert {\n",
              "      background-color: #E8F0FE;\n",
              "      border: none;\n",
              "      border-radius: 50%;\n",
              "      cursor: pointer;\n",
              "      display: none;\n",
              "      fill: #1967D2;\n",
              "      height: 32px;\n",
              "      padding: 0 0 0 0;\n",
              "      width: 32px;\n",
              "    }\n",
              "\n",
              "    .colab-df-convert:hover {\n",
              "      background-color: #E2EBFA;\n",
              "      box-shadow: 0px 1px 2px rgba(60, 64, 67, 0.3), 0px 1px 3px 1px rgba(60, 64, 67, 0.15);\n",
              "      fill: #174EA6;\n",
              "    }\n",
              "\n",
              "    [theme=dark] .colab-df-convert {\n",
              "      background-color: #3B4455;\n",
              "      fill: #D2E3FC;\n",
              "    }\n",
              "\n",
              "    [theme=dark] .colab-df-convert:hover {\n",
              "      background-color: #434B5C;\n",
              "      box-shadow: 0px 1px 3px 1px rgba(0, 0, 0, 0.15);\n",
              "      filter: drop-shadow(0px 1px 2px rgba(0, 0, 0, 0.3));\n",
              "      fill: #FFFFFF;\n",
              "    }\n",
              "  </style>\n",
              "\n",
              "      <script>\n",
              "        const buttonEl =\n",
              "          document.querySelector('#df-5dc354eb-69da-4dff-9f03-c0b3c809ff6b button.colab-df-convert');\n",
              "        buttonEl.style.display =\n",
              "          google.colab.kernel.accessAllowed ? 'block' : 'none';\n",
              "\n",
              "        async function convertToInteractive(key) {\n",
              "          const element = document.querySelector('#df-5dc354eb-69da-4dff-9f03-c0b3c809ff6b');\n",
              "          const dataTable =\n",
              "            await google.colab.kernel.invokeFunction('convertToInteractive',\n",
              "                                                     [key], {});\n",
              "          if (!dataTable) return;\n",
              "\n",
              "          const docLinkHtml = 'Like what you see? Visit the ' +\n",
              "            '<a target=\"_blank\" href=https://colab.research.google.com/notebooks/data_table.ipynb>data table notebook</a>'\n",
              "            + ' to learn more about interactive tables.';\n",
              "          element.innerHTML = '';\n",
              "          dataTable['output_type'] = 'display_data';\n",
              "          await google.colab.output.renderOutput(dataTable, element);\n",
              "          const docLink = document.createElement('div');\n",
              "          docLink.innerHTML = docLinkHtml;\n",
              "          element.appendChild(docLink);\n",
              "        }\n",
              "      </script>\n",
              "    </div>\n",
              "  </div>\n",
              "  "
            ]
          },
          "metadata": {},
          "execution_count": 31
        }
      ]
    },
    {
      "cell_type": "markdown",
      "source": [
        "<p>From our data, it seems rear-wheel drive vehicles are, on average, the most expensive, while 4-wheel and front-wheel are approximately the same in price.</p>\n",
        "\n",
        "<p>You can also group by multiple variables. For example, let's group by both 'drive-wheels' and 'body-style'. This groups the dataframe by the unique combination of 'drive-wheels' and 'body-style'. We can store the results in the variable 'grouped_test1'.</p>\n"
      ],
      "metadata": {
        "id": "QrPtkN8T__YG"
      }
    },
    {
      "cell_type": "code",
      "source": [
        "# grouping results\n",
        "df_gptest = df[['drive-wheels','body-style','price']]\n",
        "grouped_test1 = df_gptest.groupby(['drive-wheels','body-style'],as_index=False).mean()\n",
        "grouped_test1"
      ],
      "metadata": {
        "trusted": true,
        "id": "19sA1If7__YG",
        "colab": {
          "base_uri": "https://localhost:8080/",
          "height": 457
        },
        "outputId": "30a4f61a-9a60-4105-b6a9-d6147db4b1e5"
      },
      "execution_count": 32,
      "outputs": [
        {
          "output_type": "execute_result",
          "data": {
            "text/plain": [
              "   drive-wheels   body-style         price\n",
              "0           4wd    hatchback   7603.000000\n",
              "1           4wd        sedan  12647.333333\n",
              "2           4wd        wagon   9095.750000\n",
              "3           fwd  convertible  11595.000000\n",
              "4           fwd      hardtop   8249.000000\n",
              "5           fwd    hatchback   8396.387755\n",
              "6           fwd        sedan   9811.800000\n",
              "7           fwd        wagon   9997.333333\n",
              "8           rwd  convertible  23949.600000\n",
              "9           rwd      hardtop  24202.714286\n",
              "10          rwd    hatchback  14337.777778\n",
              "11          rwd        sedan  21711.833333\n",
              "12          rwd        wagon  16994.222222"
            ],
            "text/html": [
              "\n",
              "  <div id=\"df-f4071aa7-c1ac-4f66-b021-45d20be0a93f\">\n",
              "    <div class=\"colab-df-container\">\n",
              "      <div>\n",
              "<style scoped>\n",
              "    .dataframe tbody tr th:only-of-type {\n",
              "        vertical-align: middle;\n",
              "    }\n",
              "\n",
              "    .dataframe tbody tr th {\n",
              "        vertical-align: top;\n",
              "    }\n",
              "\n",
              "    .dataframe thead th {\n",
              "        text-align: right;\n",
              "    }\n",
              "</style>\n",
              "<table border=\"1\" class=\"dataframe\">\n",
              "  <thead>\n",
              "    <tr style=\"text-align: right;\">\n",
              "      <th></th>\n",
              "      <th>drive-wheels</th>\n",
              "      <th>body-style</th>\n",
              "      <th>price</th>\n",
              "    </tr>\n",
              "  </thead>\n",
              "  <tbody>\n",
              "    <tr>\n",
              "      <th>0</th>\n",
              "      <td>4wd</td>\n",
              "      <td>hatchback</td>\n",
              "      <td>7603.000000</td>\n",
              "    </tr>\n",
              "    <tr>\n",
              "      <th>1</th>\n",
              "      <td>4wd</td>\n",
              "      <td>sedan</td>\n",
              "      <td>12647.333333</td>\n",
              "    </tr>\n",
              "    <tr>\n",
              "      <th>2</th>\n",
              "      <td>4wd</td>\n",
              "      <td>wagon</td>\n",
              "      <td>9095.750000</td>\n",
              "    </tr>\n",
              "    <tr>\n",
              "      <th>3</th>\n",
              "      <td>fwd</td>\n",
              "      <td>convertible</td>\n",
              "      <td>11595.000000</td>\n",
              "    </tr>\n",
              "    <tr>\n",
              "      <th>4</th>\n",
              "      <td>fwd</td>\n",
              "      <td>hardtop</td>\n",
              "      <td>8249.000000</td>\n",
              "    </tr>\n",
              "    <tr>\n",
              "      <th>5</th>\n",
              "      <td>fwd</td>\n",
              "      <td>hatchback</td>\n",
              "      <td>8396.387755</td>\n",
              "    </tr>\n",
              "    <tr>\n",
              "      <th>6</th>\n",
              "      <td>fwd</td>\n",
              "      <td>sedan</td>\n",
              "      <td>9811.800000</td>\n",
              "    </tr>\n",
              "    <tr>\n",
              "      <th>7</th>\n",
              "      <td>fwd</td>\n",
              "      <td>wagon</td>\n",
              "      <td>9997.333333</td>\n",
              "    </tr>\n",
              "    <tr>\n",
              "      <th>8</th>\n",
              "      <td>rwd</td>\n",
              "      <td>convertible</td>\n",
              "      <td>23949.600000</td>\n",
              "    </tr>\n",
              "    <tr>\n",
              "      <th>9</th>\n",
              "      <td>rwd</td>\n",
              "      <td>hardtop</td>\n",
              "      <td>24202.714286</td>\n",
              "    </tr>\n",
              "    <tr>\n",
              "      <th>10</th>\n",
              "      <td>rwd</td>\n",
              "      <td>hatchback</td>\n",
              "      <td>14337.777778</td>\n",
              "    </tr>\n",
              "    <tr>\n",
              "      <th>11</th>\n",
              "      <td>rwd</td>\n",
              "      <td>sedan</td>\n",
              "      <td>21711.833333</td>\n",
              "    </tr>\n",
              "    <tr>\n",
              "      <th>12</th>\n",
              "      <td>rwd</td>\n",
              "      <td>wagon</td>\n",
              "      <td>16994.222222</td>\n",
              "    </tr>\n",
              "  </tbody>\n",
              "</table>\n",
              "</div>\n",
              "      <button class=\"colab-df-convert\" onclick=\"convertToInteractive('df-f4071aa7-c1ac-4f66-b021-45d20be0a93f')\"\n",
              "              title=\"Convert this dataframe to an interactive table.\"\n",
              "              style=\"display:none;\">\n",
              "        \n",
              "  <svg xmlns=\"http://www.w3.org/2000/svg\" height=\"24px\"viewBox=\"0 0 24 24\"\n",
              "       width=\"24px\">\n",
              "    <path d=\"M0 0h24v24H0V0z\" fill=\"none\"/>\n",
              "    <path d=\"M18.56 5.44l.94 2.06.94-2.06 2.06-.94-2.06-.94-.94-2.06-.94 2.06-2.06.94zm-11 1L8.5 8.5l.94-2.06 2.06-.94-2.06-.94L8.5 2.5l-.94 2.06-2.06.94zm10 10l.94 2.06.94-2.06 2.06-.94-2.06-.94-.94-2.06-.94 2.06-2.06.94z\"/><path d=\"M17.41 7.96l-1.37-1.37c-.4-.4-.92-.59-1.43-.59-.52 0-1.04.2-1.43.59L10.3 9.45l-7.72 7.72c-.78.78-.78 2.05 0 2.83L4 21.41c.39.39.9.59 1.41.59.51 0 1.02-.2 1.41-.59l7.78-7.78 2.81-2.81c.8-.78.8-2.07 0-2.86zM5.41 20L4 18.59l7.72-7.72 1.47 1.35L5.41 20z\"/>\n",
              "  </svg>\n",
              "      </button>\n",
              "      \n",
              "  <style>\n",
              "    .colab-df-container {\n",
              "      display:flex;\n",
              "      flex-wrap:wrap;\n",
              "      gap: 12px;\n",
              "    }\n",
              "\n",
              "    .colab-df-convert {\n",
              "      background-color: #E8F0FE;\n",
              "      border: none;\n",
              "      border-radius: 50%;\n",
              "      cursor: pointer;\n",
              "      display: none;\n",
              "      fill: #1967D2;\n",
              "      height: 32px;\n",
              "      padding: 0 0 0 0;\n",
              "      width: 32px;\n",
              "    }\n",
              "\n",
              "    .colab-df-convert:hover {\n",
              "      background-color: #E2EBFA;\n",
              "      box-shadow: 0px 1px 2px rgba(60, 64, 67, 0.3), 0px 1px 3px 1px rgba(60, 64, 67, 0.15);\n",
              "      fill: #174EA6;\n",
              "    }\n",
              "\n",
              "    [theme=dark] .colab-df-convert {\n",
              "      background-color: #3B4455;\n",
              "      fill: #D2E3FC;\n",
              "    }\n",
              "\n",
              "    [theme=dark] .colab-df-convert:hover {\n",
              "      background-color: #434B5C;\n",
              "      box-shadow: 0px 1px 3px 1px rgba(0, 0, 0, 0.15);\n",
              "      filter: drop-shadow(0px 1px 2px rgba(0, 0, 0, 0.3));\n",
              "      fill: #FFFFFF;\n",
              "    }\n",
              "  </style>\n",
              "\n",
              "      <script>\n",
              "        const buttonEl =\n",
              "          document.querySelector('#df-f4071aa7-c1ac-4f66-b021-45d20be0a93f button.colab-df-convert');\n",
              "        buttonEl.style.display =\n",
              "          google.colab.kernel.accessAllowed ? 'block' : 'none';\n",
              "\n",
              "        async function convertToInteractive(key) {\n",
              "          const element = document.querySelector('#df-f4071aa7-c1ac-4f66-b021-45d20be0a93f');\n",
              "          const dataTable =\n",
              "            await google.colab.kernel.invokeFunction('convertToInteractive',\n",
              "                                                     [key], {});\n",
              "          if (!dataTable) return;\n",
              "\n",
              "          const docLinkHtml = 'Like what you see? Visit the ' +\n",
              "            '<a target=\"_blank\" href=https://colab.research.google.com/notebooks/data_table.ipynb>data table notebook</a>'\n",
              "            + ' to learn more about interactive tables.';\n",
              "          element.innerHTML = '';\n",
              "          dataTable['output_type'] = 'display_data';\n",
              "          await google.colab.output.renderOutput(dataTable, element);\n",
              "          const docLink = document.createElement('div');\n",
              "          docLink.innerHTML = docLinkHtml;\n",
              "          element.appendChild(docLink);\n",
              "        }\n",
              "      </script>\n",
              "    </div>\n",
              "  </div>\n",
              "  "
            ]
          },
          "metadata": {},
          "execution_count": 32
        }
      ]
    },
    {
      "cell_type": "markdown",
      "source": [
        "<p>This grouped data is much easier to visualize when it is made into a pivot table. A pivot table is like an Excel spreadsheet, with one variable along the column and another along the row. We can convert the dataframe to a pivot table using the method \"pivot\" to create a pivot table from the groups.</p>\n",
        "\n",
        "<p>In this case, we will leave the drive-wheels variable as the rows of the table, and pivot body-style to become the columns of the table:</p>\n"
      ],
      "metadata": {
        "id": "XtX1ugiA__YG"
      }
    },
    {
      "cell_type": "code",
      "source": [
        "grouped_pivot = grouped_test1.pivot(index='drive-wheels',columns='body-style')\n",
        "grouped_pivot"
      ],
      "metadata": {
        "trusted": true,
        "id": "8nivhmyS__YG",
        "colab": {
          "base_uri": "https://localhost:8080/",
          "height": 206
        },
        "outputId": "bdc0ebc8-0293-417c-f4a0-d914827c759d"
      },
      "execution_count": 33,
      "outputs": [
        {
          "output_type": "execute_result",
          "data": {
            "text/plain": [
              "                   price                                            \\\n",
              "body-style   convertible       hardtop     hatchback         sedan   \n",
              "drive-wheels                                                         \n",
              "4wd                  NaN           NaN   7603.000000  12647.333333   \n",
              "fwd              11595.0   8249.000000   8396.387755   9811.800000   \n",
              "rwd              23949.6  24202.714286  14337.777778  21711.833333   \n",
              "\n",
              "                            \n",
              "body-style           wagon  \n",
              "drive-wheels                \n",
              "4wd            9095.750000  \n",
              "fwd            9997.333333  \n",
              "rwd           16994.222222  "
            ],
            "text/html": [
              "\n",
              "  <div id=\"df-9371f444-bcbe-4199-b9a3-b9b3e82c8b6e\">\n",
              "    <div class=\"colab-df-container\">\n",
              "      <div>\n",
              "<style scoped>\n",
              "    .dataframe tbody tr th:only-of-type {\n",
              "        vertical-align: middle;\n",
              "    }\n",
              "\n",
              "    .dataframe tbody tr th {\n",
              "        vertical-align: top;\n",
              "    }\n",
              "\n",
              "    .dataframe thead tr th {\n",
              "        text-align: left;\n",
              "    }\n",
              "\n",
              "    .dataframe thead tr:last-of-type th {\n",
              "        text-align: right;\n",
              "    }\n",
              "</style>\n",
              "<table border=\"1\" class=\"dataframe\">\n",
              "  <thead>\n",
              "    <tr>\n",
              "      <th></th>\n",
              "      <th colspan=\"5\" halign=\"left\">price</th>\n",
              "    </tr>\n",
              "    <tr>\n",
              "      <th>body-style</th>\n",
              "      <th>convertible</th>\n",
              "      <th>hardtop</th>\n",
              "      <th>hatchback</th>\n",
              "      <th>sedan</th>\n",
              "      <th>wagon</th>\n",
              "    </tr>\n",
              "    <tr>\n",
              "      <th>drive-wheels</th>\n",
              "      <th></th>\n",
              "      <th></th>\n",
              "      <th></th>\n",
              "      <th></th>\n",
              "      <th></th>\n",
              "    </tr>\n",
              "  </thead>\n",
              "  <tbody>\n",
              "    <tr>\n",
              "      <th>4wd</th>\n",
              "      <td>NaN</td>\n",
              "      <td>NaN</td>\n",
              "      <td>7603.000000</td>\n",
              "      <td>12647.333333</td>\n",
              "      <td>9095.750000</td>\n",
              "    </tr>\n",
              "    <tr>\n",
              "      <th>fwd</th>\n",
              "      <td>11595.0</td>\n",
              "      <td>8249.000000</td>\n",
              "      <td>8396.387755</td>\n",
              "      <td>9811.800000</td>\n",
              "      <td>9997.333333</td>\n",
              "    </tr>\n",
              "    <tr>\n",
              "      <th>rwd</th>\n",
              "      <td>23949.6</td>\n",
              "      <td>24202.714286</td>\n",
              "      <td>14337.777778</td>\n",
              "      <td>21711.833333</td>\n",
              "      <td>16994.222222</td>\n",
              "    </tr>\n",
              "  </tbody>\n",
              "</table>\n",
              "</div>\n",
              "      <button class=\"colab-df-convert\" onclick=\"convertToInteractive('df-9371f444-bcbe-4199-b9a3-b9b3e82c8b6e')\"\n",
              "              title=\"Convert this dataframe to an interactive table.\"\n",
              "              style=\"display:none;\">\n",
              "        \n",
              "  <svg xmlns=\"http://www.w3.org/2000/svg\" height=\"24px\"viewBox=\"0 0 24 24\"\n",
              "       width=\"24px\">\n",
              "    <path d=\"M0 0h24v24H0V0z\" fill=\"none\"/>\n",
              "    <path d=\"M18.56 5.44l.94 2.06.94-2.06 2.06-.94-2.06-.94-.94-2.06-.94 2.06-2.06.94zm-11 1L8.5 8.5l.94-2.06 2.06-.94-2.06-.94L8.5 2.5l-.94 2.06-2.06.94zm10 10l.94 2.06.94-2.06 2.06-.94-2.06-.94-.94-2.06-.94 2.06-2.06.94z\"/><path d=\"M17.41 7.96l-1.37-1.37c-.4-.4-.92-.59-1.43-.59-.52 0-1.04.2-1.43.59L10.3 9.45l-7.72 7.72c-.78.78-.78 2.05 0 2.83L4 21.41c.39.39.9.59 1.41.59.51 0 1.02-.2 1.41-.59l7.78-7.78 2.81-2.81c.8-.78.8-2.07 0-2.86zM5.41 20L4 18.59l7.72-7.72 1.47 1.35L5.41 20z\"/>\n",
              "  </svg>\n",
              "      </button>\n",
              "      \n",
              "  <style>\n",
              "    .colab-df-container {\n",
              "      display:flex;\n",
              "      flex-wrap:wrap;\n",
              "      gap: 12px;\n",
              "    }\n",
              "\n",
              "    .colab-df-convert {\n",
              "      background-color: #E8F0FE;\n",
              "      border: none;\n",
              "      border-radius: 50%;\n",
              "      cursor: pointer;\n",
              "      display: none;\n",
              "      fill: #1967D2;\n",
              "      height: 32px;\n",
              "      padding: 0 0 0 0;\n",
              "      width: 32px;\n",
              "    }\n",
              "\n",
              "    .colab-df-convert:hover {\n",
              "      background-color: #E2EBFA;\n",
              "      box-shadow: 0px 1px 2px rgba(60, 64, 67, 0.3), 0px 1px 3px 1px rgba(60, 64, 67, 0.15);\n",
              "      fill: #174EA6;\n",
              "    }\n",
              "\n",
              "    [theme=dark] .colab-df-convert {\n",
              "      background-color: #3B4455;\n",
              "      fill: #D2E3FC;\n",
              "    }\n",
              "\n",
              "    [theme=dark] .colab-df-convert:hover {\n",
              "      background-color: #434B5C;\n",
              "      box-shadow: 0px 1px 3px 1px rgba(0, 0, 0, 0.15);\n",
              "      filter: drop-shadow(0px 1px 2px rgba(0, 0, 0, 0.3));\n",
              "      fill: #FFFFFF;\n",
              "    }\n",
              "  </style>\n",
              "\n",
              "      <script>\n",
              "        const buttonEl =\n",
              "          document.querySelector('#df-9371f444-bcbe-4199-b9a3-b9b3e82c8b6e button.colab-df-convert');\n",
              "        buttonEl.style.display =\n",
              "          google.colab.kernel.accessAllowed ? 'block' : 'none';\n",
              "\n",
              "        async function convertToInteractive(key) {\n",
              "          const element = document.querySelector('#df-9371f444-bcbe-4199-b9a3-b9b3e82c8b6e');\n",
              "          const dataTable =\n",
              "            await google.colab.kernel.invokeFunction('convertToInteractive',\n",
              "                                                     [key], {});\n",
              "          if (!dataTable) return;\n",
              "\n",
              "          const docLinkHtml = 'Like what you see? Visit the ' +\n",
              "            '<a target=\"_blank\" href=https://colab.research.google.com/notebooks/data_table.ipynb>data table notebook</a>'\n",
              "            + ' to learn more about interactive tables.';\n",
              "          element.innerHTML = '';\n",
              "          dataTable['output_type'] = 'display_data';\n",
              "          await google.colab.output.renderOutput(dataTable, element);\n",
              "          const docLink = document.createElement('div');\n",
              "          docLink.innerHTML = docLinkHtml;\n",
              "          element.appendChild(docLink);\n",
              "        }\n",
              "      </script>\n",
              "    </div>\n",
              "  </div>\n",
              "  "
            ]
          },
          "metadata": {},
          "execution_count": 33
        }
      ]
    },
    {
      "cell_type": "markdown",
      "source": [
        "<p>Often, we won't have data for some of the pivot cells. We can fill these missing cells with the value 0, but any other value could potentially be used as well. It should be mentioned that missing data is quite a complex subject and is an entire course on its own.</p>\n"
      ],
      "metadata": {
        "id": "zkmLd4dE__YG"
      }
    },
    {
      "cell_type": "code",
      "source": [
        "grouped_pivot = grouped_pivot.fillna(0) #fill missing values with 0\n",
        "grouped_pivot"
      ],
      "metadata": {
        "scrolled": true,
        "trusted": true,
        "id": "Zi2QuBRQ__YG",
        "colab": {
          "base_uri": "https://localhost:8080/",
          "height": 206
        },
        "outputId": "92e0d61d-c9bd-4698-aa55-a50290400d47"
      },
      "execution_count": 34,
      "outputs": [
        {
          "output_type": "execute_result",
          "data": {
            "text/plain": [
              "                   price                                            \\\n",
              "body-style   convertible       hardtop     hatchback         sedan   \n",
              "drive-wheels                                                         \n",
              "4wd                  0.0      0.000000   7603.000000  12647.333333   \n",
              "fwd              11595.0   8249.000000   8396.387755   9811.800000   \n",
              "rwd              23949.6  24202.714286  14337.777778  21711.833333   \n",
              "\n",
              "                            \n",
              "body-style           wagon  \n",
              "drive-wheels                \n",
              "4wd            9095.750000  \n",
              "fwd            9997.333333  \n",
              "rwd           16994.222222  "
            ],
            "text/html": [
              "\n",
              "  <div id=\"df-973039a6-86d6-43f0-91ac-4f5bc97007c0\">\n",
              "    <div class=\"colab-df-container\">\n",
              "      <div>\n",
              "<style scoped>\n",
              "    .dataframe tbody tr th:only-of-type {\n",
              "        vertical-align: middle;\n",
              "    }\n",
              "\n",
              "    .dataframe tbody tr th {\n",
              "        vertical-align: top;\n",
              "    }\n",
              "\n",
              "    .dataframe thead tr th {\n",
              "        text-align: left;\n",
              "    }\n",
              "\n",
              "    .dataframe thead tr:last-of-type th {\n",
              "        text-align: right;\n",
              "    }\n",
              "</style>\n",
              "<table border=\"1\" class=\"dataframe\">\n",
              "  <thead>\n",
              "    <tr>\n",
              "      <th></th>\n",
              "      <th colspan=\"5\" halign=\"left\">price</th>\n",
              "    </tr>\n",
              "    <tr>\n",
              "      <th>body-style</th>\n",
              "      <th>convertible</th>\n",
              "      <th>hardtop</th>\n",
              "      <th>hatchback</th>\n",
              "      <th>sedan</th>\n",
              "      <th>wagon</th>\n",
              "    </tr>\n",
              "    <tr>\n",
              "      <th>drive-wheels</th>\n",
              "      <th></th>\n",
              "      <th></th>\n",
              "      <th></th>\n",
              "      <th></th>\n",
              "      <th></th>\n",
              "    </tr>\n",
              "  </thead>\n",
              "  <tbody>\n",
              "    <tr>\n",
              "      <th>4wd</th>\n",
              "      <td>0.0</td>\n",
              "      <td>0.000000</td>\n",
              "      <td>7603.000000</td>\n",
              "      <td>12647.333333</td>\n",
              "      <td>9095.750000</td>\n",
              "    </tr>\n",
              "    <tr>\n",
              "      <th>fwd</th>\n",
              "      <td>11595.0</td>\n",
              "      <td>8249.000000</td>\n",
              "      <td>8396.387755</td>\n",
              "      <td>9811.800000</td>\n",
              "      <td>9997.333333</td>\n",
              "    </tr>\n",
              "    <tr>\n",
              "      <th>rwd</th>\n",
              "      <td>23949.6</td>\n",
              "      <td>24202.714286</td>\n",
              "      <td>14337.777778</td>\n",
              "      <td>21711.833333</td>\n",
              "      <td>16994.222222</td>\n",
              "    </tr>\n",
              "  </tbody>\n",
              "</table>\n",
              "</div>\n",
              "      <button class=\"colab-df-convert\" onclick=\"convertToInteractive('df-973039a6-86d6-43f0-91ac-4f5bc97007c0')\"\n",
              "              title=\"Convert this dataframe to an interactive table.\"\n",
              "              style=\"display:none;\">\n",
              "        \n",
              "  <svg xmlns=\"http://www.w3.org/2000/svg\" height=\"24px\"viewBox=\"0 0 24 24\"\n",
              "       width=\"24px\">\n",
              "    <path d=\"M0 0h24v24H0V0z\" fill=\"none\"/>\n",
              "    <path d=\"M18.56 5.44l.94 2.06.94-2.06 2.06-.94-2.06-.94-.94-2.06-.94 2.06-2.06.94zm-11 1L8.5 8.5l.94-2.06 2.06-.94-2.06-.94L8.5 2.5l-.94 2.06-2.06.94zm10 10l.94 2.06.94-2.06 2.06-.94-2.06-.94-.94-2.06-.94 2.06-2.06.94z\"/><path d=\"M17.41 7.96l-1.37-1.37c-.4-.4-.92-.59-1.43-.59-.52 0-1.04.2-1.43.59L10.3 9.45l-7.72 7.72c-.78.78-.78 2.05 0 2.83L4 21.41c.39.39.9.59 1.41.59.51 0 1.02-.2 1.41-.59l7.78-7.78 2.81-2.81c.8-.78.8-2.07 0-2.86zM5.41 20L4 18.59l7.72-7.72 1.47 1.35L5.41 20z\"/>\n",
              "  </svg>\n",
              "      </button>\n",
              "      \n",
              "  <style>\n",
              "    .colab-df-container {\n",
              "      display:flex;\n",
              "      flex-wrap:wrap;\n",
              "      gap: 12px;\n",
              "    }\n",
              "\n",
              "    .colab-df-convert {\n",
              "      background-color: #E8F0FE;\n",
              "      border: none;\n",
              "      border-radius: 50%;\n",
              "      cursor: pointer;\n",
              "      display: none;\n",
              "      fill: #1967D2;\n",
              "      height: 32px;\n",
              "      padding: 0 0 0 0;\n",
              "      width: 32px;\n",
              "    }\n",
              "\n",
              "    .colab-df-convert:hover {\n",
              "      background-color: #E2EBFA;\n",
              "      box-shadow: 0px 1px 2px rgba(60, 64, 67, 0.3), 0px 1px 3px 1px rgba(60, 64, 67, 0.15);\n",
              "      fill: #174EA6;\n",
              "    }\n",
              "\n",
              "    [theme=dark] .colab-df-convert {\n",
              "      background-color: #3B4455;\n",
              "      fill: #D2E3FC;\n",
              "    }\n",
              "\n",
              "    [theme=dark] .colab-df-convert:hover {\n",
              "      background-color: #434B5C;\n",
              "      box-shadow: 0px 1px 3px 1px rgba(0, 0, 0, 0.15);\n",
              "      filter: drop-shadow(0px 1px 2px rgba(0, 0, 0, 0.3));\n",
              "      fill: #FFFFFF;\n",
              "    }\n",
              "  </style>\n",
              "\n",
              "      <script>\n",
              "        const buttonEl =\n",
              "          document.querySelector('#df-973039a6-86d6-43f0-91ac-4f5bc97007c0 button.colab-df-convert');\n",
              "        buttonEl.style.display =\n",
              "          google.colab.kernel.accessAllowed ? 'block' : 'none';\n",
              "\n",
              "        async function convertToInteractive(key) {\n",
              "          const element = document.querySelector('#df-973039a6-86d6-43f0-91ac-4f5bc97007c0');\n",
              "          const dataTable =\n",
              "            await google.colab.kernel.invokeFunction('convertToInteractive',\n",
              "                                                     [key], {});\n",
              "          if (!dataTable) return;\n",
              "\n",
              "          const docLinkHtml = 'Like what you see? Visit the ' +\n",
              "            '<a target=\"_blank\" href=https://colab.research.google.com/notebooks/data_table.ipynb>data table notebook</a>'\n",
              "            + ' to learn more about interactive tables.';\n",
              "          element.innerHTML = '';\n",
              "          dataTable['output_type'] = 'display_data';\n",
              "          await google.colab.output.renderOutput(dataTable, element);\n",
              "          const docLink = document.createElement('div');\n",
              "          docLink.innerHTML = docLinkHtml;\n",
              "          element.appendChild(docLink);\n",
              "        }\n",
              "      </script>\n",
              "    </div>\n",
              "  </div>\n",
              "  "
            ]
          },
          "metadata": {},
          "execution_count": 34
        }
      ]
    },
    {
      "cell_type": "markdown",
      "source": [
        "<div class=\"alert alert-danger alertdanger\" style=\"margin-top: 20px\">\n",
        "<h1>Question 4:</h1>\n",
        "\n",
        "<p>Use the \"groupby\" function to find the average \"price\" of each car based on \"body-style\".</p>\n",
        "</div>\n"
      ],
      "metadata": {
        "id": "pxDoXZw5__YH"
      }
    },
    {
      "cell_type": "code",
      "source": [
        "# Write your code below and press Shift+Enter to execute \n",
        "# grouping results\n",
        "\n",
        "df_gptest2 = df[['body-style','price']]\n",
        "grouped_test_bodystyle = df_gptest2.groupby(['body-style'],as_index= False).mean()\n",
        "grouped_test_bodystyle"
      ],
      "metadata": {
        "trusted": true,
        "id": "HzkuN3tN__YH",
        "colab": {
          "base_uri": "https://localhost:8080/",
          "height": 206
        },
        "outputId": "41e1d09e-bbe0-4340-db3e-8c99abe0c905"
      },
      "execution_count": 35,
      "outputs": [
        {
          "output_type": "execute_result",
          "data": {
            "text/plain": [
              "    body-style         price\n",
              "0  convertible  21890.500000\n",
              "1      hardtop  22208.500000\n",
              "2    hatchback   9957.441176\n",
              "3        sedan  14459.755319\n",
              "4        wagon  12371.960000"
            ],
            "text/html": [
              "\n",
              "  <div id=\"df-4b7501f8-fe20-4096-afc9-ccbbf0585026\">\n",
              "    <div class=\"colab-df-container\">\n",
              "      <div>\n",
              "<style scoped>\n",
              "    .dataframe tbody tr th:only-of-type {\n",
              "        vertical-align: middle;\n",
              "    }\n",
              "\n",
              "    .dataframe tbody tr th {\n",
              "        vertical-align: top;\n",
              "    }\n",
              "\n",
              "    .dataframe thead th {\n",
              "        text-align: right;\n",
              "    }\n",
              "</style>\n",
              "<table border=\"1\" class=\"dataframe\">\n",
              "  <thead>\n",
              "    <tr style=\"text-align: right;\">\n",
              "      <th></th>\n",
              "      <th>body-style</th>\n",
              "      <th>price</th>\n",
              "    </tr>\n",
              "  </thead>\n",
              "  <tbody>\n",
              "    <tr>\n",
              "      <th>0</th>\n",
              "      <td>convertible</td>\n",
              "      <td>21890.500000</td>\n",
              "    </tr>\n",
              "    <tr>\n",
              "      <th>1</th>\n",
              "      <td>hardtop</td>\n",
              "      <td>22208.500000</td>\n",
              "    </tr>\n",
              "    <tr>\n",
              "      <th>2</th>\n",
              "      <td>hatchback</td>\n",
              "      <td>9957.441176</td>\n",
              "    </tr>\n",
              "    <tr>\n",
              "      <th>3</th>\n",
              "      <td>sedan</td>\n",
              "      <td>14459.755319</td>\n",
              "    </tr>\n",
              "    <tr>\n",
              "      <th>4</th>\n",
              "      <td>wagon</td>\n",
              "      <td>12371.960000</td>\n",
              "    </tr>\n",
              "  </tbody>\n",
              "</table>\n",
              "</div>\n",
              "      <button class=\"colab-df-convert\" onclick=\"convertToInteractive('df-4b7501f8-fe20-4096-afc9-ccbbf0585026')\"\n",
              "              title=\"Convert this dataframe to an interactive table.\"\n",
              "              style=\"display:none;\">\n",
              "        \n",
              "  <svg xmlns=\"http://www.w3.org/2000/svg\" height=\"24px\"viewBox=\"0 0 24 24\"\n",
              "       width=\"24px\">\n",
              "    <path d=\"M0 0h24v24H0V0z\" fill=\"none\"/>\n",
              "    <path d=\"M18.56 5.44l.94 2.06.94-2.06 2.06-.94-2.06-.94-.94-2.06-.94 2.06-2.06.94zm-11 1L8.5 8.5l.94-2.06 2.06-.94-2.06-.94L8.5 2.5l-.94 2.06-2.06.94zm10 10l.94 2.06.94-2.06 2.06-.94-2.06-.94-.94-2.06-.94 2.06-2.06.94z\"/><path d=\"M17.41 7.96l-1.37-1.37c-.4-.4-.92-.59-1.43-.59-.52 0-1.04.2-1.43.59L10.3 9.45l-7.72 7.72c-.78.78-.78 2.05 0 2.83L4 21.41c.39.39.9.59 1.41.59.51 0 1.02-.2 1.41-.59l7.78-7.78 2.81-2.81c.8-.78.8-2.07 0-2.86zM5.41 20L4 18.59l7.72-7.72 1.47 1.35L5.41 20z\"/>\n",
              "  </svg>\n",
              "      </button>\n",
              "      \n",
              "  <style>\n",
              "    .colab-df-container {\n",
              "      display:flex;\n",
              "      flex-wrap:wrap;\n",
              "      gap: 12px;\n",
              "    }\n",
              "\n",
              "    .colab-df-convert {\n",
              "      background-color: #E8F0FE;\n",
              "      border: none;\n",
              "      border-radius: 50%;\n",
              "      cursor: pointer;\n",
              "      display: none;\n",
              "      fill: #1967D2;\n",
              "      height: 32px;\n",
              "      padding: 0 0 0 0;\n",
              "      width: 32px;\n",
              "    }\n",
              "\n",
              "    .colab-df-convert:hover {\n",
              "      background-color: #E2EBFA;\n",
              "      box-shadow: 0px 1px 2px rgba(60, 64, 67, 0.3), 0px 1px 3px 1px rgba(60, 64, 67, 0.15);\n",
              "      fill: #174EA6;\n",
              "    }\n",
              "\n",
              "    [theme=dark] .colab-df-convert {\n",
              "      background-color: #3B4455;\n",
              "      fill: #D2E3FC;\n",
              "    }\n",
              "\n",
              "    [theme=dark] .colab-df-convert:hover {\n",
              "      background-color: #434B5C;\n",
              "      box-shadow: 0px 1px 3px 1px rgba(0, 0, 0, 0.15);\n",
              "      filter: drop-shadow(0px 1px 2px rgba(0, 0, 0, 0.3));\n",
              "      fill: #FFFFFF;\n",
              "    }\n",
              "  </style>\n",
              "\n",
              "      <script>\n",
              "        const buttonEl =\n",
              "          document.querySelector('#df-4b7501f8-fe20-4096-afc9-ccbbf0585026 button.colab-df-convert');\n",
              "        buttonEl.style.display =\n",
              "          google.colab.kernel.accessAllowed ? 'block' : 'none';\n",
              "\n",
              "        async function convertToInteractive(key) {\n",
              "          const element = document.querySelector('#df-4b7501f8-fe20-4096-afc9-ccbbf0585026');\n",
              "          const dataTable =\n",
              "            await google.colab.kernel.invokeFunction('convertToInteractive',\n",
              "                                                     [key], {});\n",
              "          if (!dataTable) return;\n",
              "\n",
              "          const docLinkHtml = 'Like what you see? Visit the ' +\n",
              "            '<a target=\"_blank\" href=https://colab.research.google.com/notebooks/data_table.ipynb>data table notebook</a>'\n",
              "            + ' to learn more about interactive tables.';\n",
              "          element.innerHTML = '';\n",
              "          dataTable['output_type'] = 'display_data';\n",
              "          await google.colab.output.renderOutput(dataTable, element);\n",
              "          const docLink = document.createElement('div');\n",
              "          docLink.innerHTML = docLinkHtml;\n",
              "          element.appendChild(docLink);\n",
              "        }\n",
              "      </script>\n",
              "    </div>\n",
              "  </div>\n",
              "  "
            ]
          },
          "metadata": {},
          "execution_count": 35
        }
      ]
    },
    {
      "cell_type": "markdown",
      "source": [
        "<h4>Variables: Drive Wheels and Body Style vs. Price</h4>\n"
      ],
      "metadata": {
        "id": "8moLL1b0__YH"
      }
    },
    {
      "cell_type": "markdown",
      "source": [
        "Let's use a heat map to visualize the relationship between Body Style vs Price.\n"
      ],
      "metadata": {
        "id": "MyR2NsGa__YH"
      }
    },
    {
      "cell_type": "code",
      "source": [
        "#use the grouped results\n",
        "plt.pcolor(grouped_pivot, cmap='RdBu')\n",
        "plt.colorbar()\n",
        "plt.show()"
      ],
      "metadata": {
        "trusted": true,
        "id": "RQ6cmiMt__YH",
        "colab": {
          "base_uri": "https://localhost:8080/",
          "height": 269
        },
        "outputId": "e4c2fb2f-2d02-45d0-e878-c039073203f2"
      },
      "execution_count": 36,
      "outputs": [
        {
          "output_type": "display_data",
          "data": {
            "text/plain": [
              "<Figure size 432x288 with 2 Axes>"
            ],
            "image/png": "[encoded data removed]"
          },
          "metadata": {
            "needs_background": "light"
          }
        }
      ]
    },
    {
      "cell_type": "markdown",
      "source": [
        "<p>The heatmap plots the target variable (price) proportional to colour with respect to the variables 'drive-wheel' and 'body-style' on the vertical and horizontal axis, respectively. This allows us to visualize how the price is related to 'drive-wheel' and 'body-style'.</p>\n",
        "\n",
        "<p>The default labels convey no useful information to us. Let's change that:</p>\n"
      ],
      "metadata": {
        "id": "ZKW0kSM0__YH"
      }
    },
    {
      "cell_type": "code",
      "source": [
        "fig, ax = plt.subplots()\n",
        "im = ax.pcolor(grouped_pivot, cmap='RdBu')\n",
        "\n",
        "#label names\n",
        "row_labels = grouped_pivot.columns.levels[1]\n",
        "col_labels = grouped_pivot.index\n",
        "\n",
        "#move ticks and labels to the center\n",
        "ax.set_xticks(np.arange(grouped_pivot.shape[1]) + 0.5, minor=False)\n",
        "ax.set_yticks(np.arange(grouped_pivot.shape[0]) + 0.5, minor=False)\n",
        "\n",
        "#insert labels\n",
        "ax.set_xticklabels(row_labels, minor=False)\n",
        "ax.set_yticklabels(col_labels, minor=False)\n",
        "\n",
        "#rotate label if too long\n",
        "plt.xticks(rotation=90)\n",
        "\n",
        "fig.colorbar(im)\n",
        "plt.show()"
      ],
      "metadata": {
        "trusted": true,
        "id": "M7i1iofE__YI",
        "colab": {
          "base_uri": "https://localhost:8080/",
          "height": 311
        },
        "outputId": "9720b01c-feee-4a0b-8848-3833bc3bd1d1"
      },
      "execution_count": 37,
      "outputs": [
        {
          "output_type": "display_data",
          "data": {
            "text/plain": [
              "<Figure size 432x288 with 2 Axes>"
            ],
            "image/png": "[encoded data removed]"
          },
          "metadata": {
            "needs_background": "light"
          }
        }
      ]
    },
    {
      "cell_type": "markdown",
      "source": [
        "<p>Visualization is very important in data science, and Python visualization packages provide great freedom. We will go more in-depth in a separate Python visualizations course.</p>\n",
        "\n",
        "<p>The main question we want to answer in this module is, \"What are the main characteristics which have the most impact on the car price?\".</p>\n",
        "\n",
        "<p>To get a better measure of the important characteristics, we look at the correlation of these variables with the car price. In other words: how is the car price dependent on this variable?</p>\n"
      ],
      "metadata": {
        "id": "nAkOucIf__YI"
      }
    },
    {
      "cell_type": "markdown",
      "source": [
        "<h2 id=\"correlation_causation\">5. Correlation and Causation</h2>\n"
      ],
      "metadata": {
        "id": "c5Zr4GrO__YI"
      }
    },
    {
      "cell_type": "markdown",
      "source": [
        "<p><b>Correlation</b>: a measure of the extent of interdependence between variables.</p>\n",
        "\n",
        "<p><b>Causation</b>: the relationship between cause and effect between two variables.</p>\n",
        "\n",
        "<p>It is important to know the difference between these two. Correlation does not imply causation. Determining correlation is much simpler  the determining causation as causation may require independent experimentation.</p>\n"
      ],
      "metadata": {
        "id": "sak0pHWn__YI"
      }
    },
    {
      "cell_type": "markdown",
      "source": [
        "<p><b>Pearson Correlation</b></p>\n",
        "<p>The Pearson Correlation measures the linear dependence between two variables X and Y.</p>\n",
        "<p>The resulting coefficient is a value between -1 and 1 inclusive, where:</p>\n",
        "<ul>\n",
        "    <li><b>1</b>: Perfect positive linear correlation.</li>\n",
        "    <li><b>0</b>: No linear correlation, the two variables most likely do not affect each other.</li>\n",
        "    <li><b>-1</b>: Perfect negative linear correlation.</li>\n",
        "</ul>\n"
      ],
      "metadata": {
        "id": "ka3OQs0c__YI"
      }
    },
    {
      "cell_type": "markdown",
      "source": [
        "<p>Pearson Correlation is the default method of the function \"corr\". Like before, we can calculate the Pearson Correlation of the of the 'int64' or 'float64'  variables.</p>\n"
      ],
      "metadata": {
        "id": "49_OF8ji__YI"
      }
    },
    {
      "cell_type": "code",
      "source": [
        "df.corr()"
      ],
      "metadata": {
        "trusted": true,
        "id": "gIvojig8__YI",
        "colab": {
          "base_uri": "https://localhost:8080/",
          "height": 761
        },
        "outputId": "3b8eba7f-9668-4918-e410-b36bb656a00d"
      },
      "execution_count": 38,
      "outputs": [
        {
          "output_type": "execute_result",
          "data": {
            "text/plain": [
              "                   symboling  normalized-losses  wheel-base    length  \\\n",
              "symboling           1.000000           0.466264   -0.535987 -0.365404   \n",
              "normalized-losses   0.466264           1.000000   -0.056661  0.019424   \n",
              "wheel-base         -0.535987          -0.056661    1.000000  0.876024   \n",
              "length             -0.365404           0.019424    0.876024  1.000000   \n",
              "width              -0.242423           0.086802    0.814507  0.857170   \n",
              "height             -0.550160          -0.373737    0.590742  0.492063   \n",
              "curb-weight        -0.233118           0.099404    0.782097  0.880665   \n",
              "engine-size        -0.110581           0.112360    0.572027  0.685025   \n",
              "bore               -0.140019          -0.029862    0.493244  0.608971   \n",
              "stroke             -0.008245           0.055563    0.158502  0.124139   \n",
              "compression-ratio  -0.182196          -0.114713    0.250313  0.159733   \n",
              "horsepower          0.075819           0.217299    0.371147  0.579821   \n",
              "peak-rpm            0.279740           0.239543   -0.360305 -0.285970   \n",
              "city-mpg           -0.035527          -0.225016   -0.470606 -0.665192   \n",
              "highway-mpg         0.036233          -0.181877   -0.543304 -0.698142   \n",
              "price              -0.082391           0.133999    0.584642  0.690628   \n",
              "city-L/100km        0.066171           0.238567    0.476153  0.657373   \n",
              "diesel             -0.196735          -0.101546    0.307237  0.211187   \n",
              "gas                 0.196735           0.101546   -0.307237 -0.211187   \n",
              "\n",
              "                      width    height  curb-weight  engine-size      bore  \\\n",
              "symboling         -0.242423 -0.550160    -0.233118    -0.110581 -0.140019   \n",
              "normalized-losses  0.086802 -0.373737     0.099404     0.112360 -0.029862   \n",
              "wheel-base         0.814507  0.590742     0.782097     0.572027  0.493244   \n",
              "length             0.857170  0.492063     0.880665     0.685025  0.608971   \n",
              "width              1.000000  0.306002     0.866201     0.729436  0.544885   \n",
              "height             0.306002  1.000000     0.307581     0.074694  0.180449   \n",
              "curb-weight        0.866201  0.307581     1.000000     0.849072  0.644060   \n",
              "engine-size        0.729436  0.074694     0.849072     1.000000  0.572609   \n",
              "bore               0.544885  0.180449     0.644060     0.572609  1.000000   \n",
              "stroke             0.188829 -0.062704     0.167562     0.209523 -0.055390   \n",
              "compression-ratio  0.189867  0.259737     0.156433     0.028889  0.001263   \n",
              "horsepower         0.615077 -0.087027     0.757976     0.822676  0.566936   \n",
              "peak-rpm          -0.245800 -0.309974    -0.279361    -0.256733 -0.267392   \n",
              "city-mpg          -0.633531 -0.049800    -0.749543    -0.650546 -0.582027   \n",
              "highway-mpg       -0.680635 -0.104812    -0.794889    -0.679571 -0.591309   \n",
              "price              0.751265  0.135486     0.834415     0.872335  0.543155   \n",
              "city-L/100km       0.673363  0.003811     0.785353     0.745059  0.554610   \n",
              "diesel             0.244356  0.281578     0.221046     0.070779  0.054458   \n",
              "gas               -0.244356 -0.281578    -0.221046    -0.070779 -0.054458   \n",
              "\n",
              "                     stroke  compression-ratio  horsepower  peak-rpm  \\\n",
              "symboling         -0.008245          -0.182196    0.075819  0.279740   \n",
              "normalized-losses  0.055563          -0.114713    0.217299  0.239543   \n",
              "wheel-base         0.158502           0.250313    0.371147 -0.360305   \n",
              "length             0.124139           0.159733    0.579821 -0.285970   \n",
              "width              0.188829           0.189867    0.615077 -0.245800   \n",
              "height            -0.062704           0.259737   -0.087027 -0.309974   \n",
              "curb-weight        0.167562           0.156433    0.757976 -0.279361   \n",
              "engine-size        0.209523           0.028889    0.822676 -0.256733   \n",
              "bore              -0.055390           0.001263    0.566936 -0.267392   \n",
              "stroke             1.000000           0.187923    0.098462 -0.065713   \n",
              "compression-ratio  0.187923           1.000000   -0.214514 -0.435780   \n",
              "horsepower         0.098462          -0.214514    1.000000  0.107885   \n",
              "peak-rpm          -0.065713          -0.435780    0.107885  1.000000   \n",
              "city-mpg          -0.034696           0.331425   -0.822214 -0.115413   \n",
              "highway-mpg       -0.035201           0.268465   -0.804575 -0.058598   \n",
              "price              0.082310           0.071107    0.809575 -0.101616   \n",
              "city-L/100km       0.037300          -0.299372    0.889488  0.115830   \n",
              "diesel             0.241303           0.985231   -0.169053 -0.475812   \n",
              "gas               -0.241303          -0.985231    0.169053  0.475812   \n",
              "\n",
              "                   city-mpg  highway-mpg     price  city-L/100km    diesel  \\\n",
              "symboling         -0.035527     0.036233 -0.082391      0.066171 -0.196735   \n",
              "normalized-losses -0.225016    -0.181877  0.133999      0.238567 -0.101546   \n",
              "wheel-base        -0.470606    -0.543304  0.584642      0.476153  0.307237   \n",
              "length            -0.665192    -0.698142  0.690628      0.657373  0.211187   \n",
              "width             -0.633531    -0.680635  0.751265      0.673363  0.244356   \n",
              "height            -0.049800    -0.104812  0.135486      0.003811  0.281578   \n",
              "curb-weight       -0.749543    -0.794889  0.834415      0.785353  0.221046   \n",
              "engine-size       -0.650546    -0.679571  0.872335      0.745059  0.070779   \n",
              "bore              -0.582027    -0.591309  0.543155      0.554610  0.054458   \n",
              "stroke            -0.034696    -0.035201  0.082310      0.037300  0.241303   \n",
              "compression-ratio  0.331425     0.268465  0.071107     -0.299372  0.985231   \n",
              "horsepower        -0.822214    -0.804575  0.809575      0.889488 -0.169053   \n",
              "peak-rpm          -0.115413    -0.058598 -0.101616      0.115830 -0.475812   \n",
              "city-mpg           1.000000     0.972044 -0.686571     -0.949713  0.265676   \n",
              "highway-mpg        0.972044     1.000000 -0.704692     -0.930028  0.198690   \n",
              "price             -0.686571    -0.704692  1.000000      0.789898  0.110326   \n",
              "city-L/100km      -0.949713    -0.930028  0.789898      1.000000 -0.241282   \n",
              "diesel             0.265676     0.198690  0.110326     -0.241282  1.000000   \n",
              "gas               -0.265676    -0.198690 -0.110326      0.241282 -1.000000   \n",
              "\n",
              "                        gas  \n",
              "symboling          0.196735  \n",
              "normalized-losses  0.101546  \n",
              "wheel-base        -0.307237  \n",
              "length            -0.211187  \n",
              "width             -0.244356  \n",
              "height            -0.281578  \n",
              "curb-weight       -0.221046  \n",
              "engine-size       -0.070779  \n",
              "bore              -0.054458  \n",
              "stroke            -0.241303  \n",
              "compression-ratio -0.985231  \n",
              "horsepower         0.169053  \n",
              "peak-rpm           0.475812  \n",
              "city-mpg          -0.265676  \n",
              "highway-mpg       -0.198690  \n",
              "price             -0.110326  \n",
              "city-L/100km       0.241282  \n",
              "diesel            -1.000000  \n",
              "gas                1.000000  "
            ],
            "text/html": [
              "\n",
              "  <div id=\"df-e4d18f7d-eb41-4b49-a998-2f74064ee6a3\">\n",
              "    <div class=\"colab-df-container\">\n",
              "      <div>\n",
              "<style scoped>\n",
              "    .dataframe tbody tr th:only-of-type {\n",
              "        vertical-align: middle;\n",
              "    }\n",
              "\n",
              "    .dataframe tbody tr th {\n",
              "        vertical-align: top;\n",
              "    }\n",
              "\n",
              "    .dataframe thead th {\n",
              "        text-align: right;\n",
              "    }\n",
              "</style>\n",
              "<table border=\"1\" class=\"dataframe\">\n",
              "  <thead>\n",
              "    <tr style=\"text-align: right;\">\n",
              "      <th></th>\n",
              "      <th>symboling</th>\n",
              "      <th>normalized-losses</th>\n",
              "      <th>wheel-base</th>\n",
              "      <th>length</th>\n",
              "      <th>width</th>\n",
              "      <th>height</th>\n",
              "      <th>curb-weight</th>\n",
              "      <th>engine-size</th>\n",
              "      <th>bore</th>\n",
              "      <th>stroke</th>\n",
              "      <th>compression-ratio</th>\n",
              "      <th>horsepower</th>\n",
              "      <th>peak-rpm</th>\n",
              "      <th>city-mpg</th>\n",
              "      <th>highway-mpg</th>\n",
              "      <th>price</th>\n",
              "      <th>city-L/100km</th>\n",
              "      <th>diesel</th>\n",
              "      <th>gas</th>\n",
              "    </tr>\n",
              "  </thead>\n",
              "  <tbody>\n",
              "    <tr>\n",
              "      <th>symboling</th>\n",
              "      <td>1.000000</td>\n",
              "      <td>0.466264</td>\n",
              "      <td>-0.535987</td>\n",
              "      <td>-0.365404</td>\n",
              "      <td>-0.242423</td>\n",
              "      <td>-0.550160</td>\n",
              "      <td>-0.233118</td>\n",
              "      <td>-0.110581</td>\n",
              "      <td>-0.140019</td>\n",
              "      <td>-0.008245</td>\n",
              "      <td>-0.182196</td>\n",
              "      <td>0.075819</td>\n",
              "      <td>0.279740</td>\n",
              "      <td>-0.035527</td>\n",
              "      <td>0.036233</td>\n",
              "      <td>-0.082391</td>\n",
              "      <td>0.066171</td>\n",
              "      <td>-0.196735</td>\n",
              "      <td>0.196735</td>\n",
              "    </tr>\n",
              "    <tr>\n",
              "      <th>normalized-losses</th>\n",
              "      <td>0.466264</td>\n",
              "      <td>1.000000</td>\n",
              "      <td>-0.056661</td>\n",
              "      <td>0.019424</td>\n",
              "      <td>0.086802</td>\n",
              "      <td>-0.373737</td>\n",
              "      <td>0.099404</td>\n",
              "      <td>0.112360</td>\n",
              "      <td>-0.029862</td>\n",
              "      <td>0.055563</td>\n",
              "      <td>-0.114713</td>\n",
              "      <td>0.217299</td>\n",
              "      <td>0.239543</td>\n",
              "      <td>-0.225016</td>\n",
              "      <td>-0.181877</td>\n",
              "      <td>0.133999</td>\n",
              "      <td>0.238567</td>\n",
              "      <td>-0.101546</td>\n",
              "      <td>0.101546</td>\n",
              "    </tr>\n",
              "    <tr>\n",
              "      <th>wheel-base</th>\n",
              "      <td>-0.535987</td>\n",
              "      <td>-0.056661</td>\n",
              "      <td>1.000000</td>\n",
              "      <td>0.876024</td>\n",
              "      <td>0.814507</td>\n",
              "      <td>0.590742</td>\n",
              "      <td>0.782097</td>\n",
              "      <td>0.572027</td>\n",
              "      <td>0.493244</td>\n",
              "      <td>0.158502</td>\n",
              "      <td>0.250313</td>\n",
              "      <td>0.371147</td>\n",
              "      <td>-0.360305</td>\n",
              "      <td>-0.470606</td>\n",
              "      <td>-0.543304</td>\n",
              "      <td>0.584642</td>\n",
              "      <td>0.476153</td>\n",
              "      <td>0.307237</td>\n",
              "      <td>-0.307237</td>\n",
              "    </tr>\n",
              "    <tr>\n",
              "      <th>length</th>\n",
              "      <td>-0.365404</td>\n",
              "      <td>0.019424</td>\n",
              "      <td>0.876024</td>\n",
              "      <td>1.000000</td>\n",
              "      <td>0.857170</td>\n",
              "      <td>0.492063</td>\n",
              "      <td>0.880665</td>\n",
              "      <td>0.685025</td>\n",
              "      <td>0.608971</td>\n",
              "      <td>0.124139</td>\n",
              "      <td>0.159733</td>\n",
              "      <td>0.579821</td>\n",
              "      <td>-0.285970</td>\n",
              "      <td>-0.665192</td>\n",
              "      <td>-0.698142</td>\n",
              "      <td>0.690628</td>\n",
              "      <td>0.657373</td>\n",
              "      <td>0.211187</td>\n",
              "      <td>-0.211187</td>\n",
              "    </tr>\n",
              "    <tr>\n",
              "      <th>width</th>\n",
              "      <td>-0.242423</td>\n",
              "      <td>0.086802</td>\n",
              "      <td>0.814507</td>\n",
              "      <td>0.857170</td>\n",
              "      <td>1.000000</td>\n",
              "      <td>0.306002</td>\n",
              "      <td>0.866201</td>\n",
              "      <td>0.729436</td>\n",
              "      <td>0.544885</td>\n",
              "      <td>0.188829</td>\n",
              "      <td>0.189867</td>\n",
              "      <td>0.615077</td>\n",
              "      <td>-0.245800</td>\n",
              "      <td>-0.633531</td>\n",
              "      <td>-0.680635</td>\n",
              "      <td>0.751265</td>\n",
              "      <td>0.673363</td>\n",
              "      <td>0.244356</td>\n",
              "      <td>-0.244356</td>\n",
              "    </tr>\n",
              "    <tr>\n",
              "      <th>height</th>\n",
              "      <td>-0.550160</td>\n",
              "      <td>-0.373737</td>\n",
              "      <td>0.590742</td>\n",
              "      <td>0.492063</td>\n",
              "      <td>0.306002</td>\n",
              "      <td>1.000000</td>\n",
              "      <td>0.307581</td>\n",
              "      <td>0.074694</td>\n",
              "      <td>0.180449</td>\n",
              "      <td>-0.062704</td>\n",
              "      <td>0.259737</td>\n",
              "      <td>-0.087027</td>\n",
              "      <td>-0.309974</td>\n",
              "      <td>-0.049800</td>\n",
              "      <td>-0.104812</td>\n",
              "      <td>0.135486</td>\n",
              "      <td>0.003811</td>\n",
              "      <td>0.281578</td>\n",
              "      <td>-0.281578</td>\n",
              "    </tr>\n",
              "    <tr>\n",
              "      <th>curb-weight</th>\n",
              "      <td>-0.233118</td>\n",
              "      <td>0.099404</td>\n",
              "      <td>0.782097</td>\n",
              "      <td>0.880665</td>\n",
              "      <td>0.866201</td>\n",
              "      <td>0.307581</td>\n",
              "      <td>1.000000</td>\n",
              "      <td>0.849072</td>\n",
              "      <td>0.644060</td>\n",
              "      <td>0.167562</td>\n",
              "      <td>0.156433</td>\n",
              "      <td>0.757976</td>\n",
              "      <td>-0.279361</td>\n",
              "      <td>-0.749543</td>\n",
              "      <td>-0.794889</td>\n",
              "      <td>0.834415</td>\n",
              "      <td>0.785353</td>\n",
              "      <td>0.221046</td>\n",
              "      <td>-0.221046</td>\n",
              "    </tr>\n",
              "    <tr>\n",
              "      <th>engine-size</th>\n",
              "      <td>-0.110581</td>\n",
              "      <td>0.112360</td>\n",
              "      <td>0.572027</td>\n",
              "      <td>0.685025</td>\n",
              "      <td>0.729436</td>\n",
              "      <td>0.074694</td>\n",
              "      <td>0.849072</td>\n",
              "      <td>1.000000</td>\n",
              "      <td>0.572609</td>\n",
              "      <td>0.209523</td>\n",
              "      <td>0.028889</td>\n",
              "      <td>0.822676</td>\n",
              "      <td>-0.256733</td>\n",
              "      <td>-0.650546</td>\n",
              "      <td>-0.679571</td>\n",
              "      <td>0.872335</td>\n",
              "      <td>0.745059</td>\n",
              "      <td>0.070779</td>\n",
              "      <td>-0.070779</td>\n",
              "    </tr>\n",
              "    <tr>\n",
              "      <th>bore</th>\n",
              "      <td>-0.140019</td>\n",
              "      <td>-0.029862</td>\n",
              "      <td>0.493244</td>\n",
              "      <td>0.608971</td>\n",
              "      <td>0.544885</td>\n",
              "      <td>0.180449</td>\n",
              "      <td>0.644060</td>\n",
              "      <td>0.572609</td>\n",
              "      <td>1.000000</td>\n",
              "      <td>-0.055390</td>\n",
              "      <td>0.001263</td>\n",
              "      <td>0.566936</td>\n",
              "      <td>-0.267392</td>\n",
              "      <td>-0.582027</td>\n",
              "      <td>-0.591309</td>\n",
              "      <td>0.543155</td>\n",
              "      <td>0.554610</td>\n",
              "      <td>0.054458</td>\n",
              "      <td>-0.054458</td>\n",
              "    </tr>\n",
              "    <tr>\n",
              "      <th>stroke</th>\n",
              "      <td>-0.008245</td>\n",
              "      <td>0.055563</td>\n",
              "      <td>0.158502</td>\n",
              "      <td>0.124139</td>\n",
              "      <td>0.188829</td>\n",
              "      <td>-0.062704</td>\n",
              "      <td>0.167562</td>\n",
              "      <td>0.209523</td>\n",
              "      <td>-0.055390</td>\n",
              "      <td>1.000000</td>\n",
              "      <td>0.187923</td>\n",
              "      <td>0.098462</td>\n",
              "      <td>-0.065713</td>\n",
              "      <td>-0.034696</td>\n",
              "      <td>-0.035201</td>\n",
              "      <td>0.082310</td>\n",
              "      <td>0.037300</td>\n",
              "      <td>0.241303</td>\n",
              "      <td>-0.241303</td>\n",
              "    </tr>\n",
              "    <tr>\n",
              "      <th>compression-ratio</th>\n",
              "      <td>-0.182196</td>\n",
              "      <td>-0.114713</td>\n",
              "      <td>0.250313</td>\n",
              "      <td>0.159733</td>\n",
              "      <td>0.189867</td>\n",
              "      <td>0.259737</td>\n",
              "      <td>0.156433</td>\n",
              "      <td>0.028889</td>\n",
              "      <td>0.001263</td>\n",
              "      <td>0.187923</td>\n",
              "      <td>1.000000</td>\n",
              "      <td>-0.214514</td>\n",
              "      <td>-0.435780</td>\n",
              "      <td>0.331425</td>\n",
              "      <td>0.268465</td>\n",
              "      <td>0.071107</td>\n",
              "      <td>-0.299372</td>\n",
              "      <td>0.985231</td>\n",
              "      <td>-0.985231</td>\n",
              "    </tr>\n",
              "    <tr>\n",
              "      <th>horsepower</th>\n",
              "      <td>0.075819</td>\n",
              "      <td>0.217299</td>\n",
              "      <td>0.371147</td>\n",
              "      <td>0.579821</td>\n",
              "      <td>0.615077</td>\n",
              "      <td>-0.087027</td>\n",
              "      <td>0.757976</td>\n",
              "      <td>0.822676</td>\n",
              "      <td>0.566936</td>\n",
              "      <td>0.098462</td>\n",
              "      <td>-0.214514</td>\n",
              "      <td>1.000000</td>\n",
              "      <td>0.107885</td>\n",
              "      <td>-0.822214</td>\n",
              "      <td>-0.804575</td>\n",
              "      <td>0.809575</td>\n",
              "      <td>0.889488</td>\n",
              "      <td>-0.169053</td>\n",
              "      <td>0.169053</td>\n",
              "    </tr>\n",
              "    <tr>\n",
              "      <th>peak-rpm</th>\n",
              "      <td>0.279740</td>\n",
              "      <td>0.239543</td>\n",
              "      <td>-0.360305</td>\n",
              "      <td>-0.285970</td>\n",
              "      <td>-0.245800</td>\n",
              "      <td>-0.309974</td>\n",
              "      <td>-0.279361</td>\n",
              "      <td>-0.256733</td>\n",
              "      <td>-0.267392</td>\n",
              "      <td>-0.065713</td>\n",
              "      <td>-0.435780</td>\n",
              "      <td>0.107885</td>\n",
              "      <td>1.000000</td>\n",
              "      <td>-0.115413</td>\n",
              "      <td>-0.058598</td>\n",
              "      <td>-0.101616</td>\n",
              "      <td>0.115830</td>\n",
              "      <td>-0.475812</td>\n",
              "      <td>0.475812</td>\n",
              "    </tr>\n",
              "    <tr>\n",
              "      <th>city-mpg</th>\n",
              "      <td>-0.035527</td>\n",
              "      <td>-0.225016</td>\n",
              "      <td>-0.470606</td>\n",
              "      <td>-0.665192</td>\n",
              "      <td>-0.633531</td>\n",
              "      <td>-0.049800</td>\n",
              "      <td>-0.749543</td>\n",
              "      <td>-0.650546</td>\n",
              "      <td>-0.582027</td>\n",
              "      <td>-0.034696</td>\n",
              "      <td>0.331425</td>\n",
              "      <td>-0.822214</td>\n",
              "      <td>-0.115413</td>\n",
              "      <td>1.000000</td>\n",
              "      <td>0.972044</td>\n",
              "      <td>-0.686571</td>\n",
              "      <td>-0.949713</td>\n",
              "      <td>0.265676</td>\n",
              "      <td>-0.265676</td>\n",
              "    </tr>\n",
              "    <tr>\n",
              "      <th>highway-mpg</th>\n",
              "      <td>0.036233</td>\n",
              "      <td>-0.181877</td>\n",
              "      <td>-0.543304</td>\n",
              "      <td>-0.698142</td>\n",
              "      <td>-0.680635</td>\n",
              "      <td>-0.104812</td>\n",
              "      <td>-0.794889</td>\n",
              "      <td>-0.679571</td>\n",
              "      <td>-0.591309</td>\n",
              "      <td>-0.035201</td>\n",
              "      <td>0.268465</td>\n",
              "      <td>-0.804575</td>\n",
              "      <td>-0.058598</td>\n",
              "      <td>0.972044</td>\n",
              "      <td>1.000000</td>\n",
              "      <td>-0.704692</td>\n",
              "      <td>-0.930028</td>\n",
              "      <td>0.198690</td>\n",
              "      <td>-0.198690</td>\n",
              "    </tr>\n",
              "    <tr>\n",
              "      <th>price</th>\n",
              "      <td>-0.082391</td>\n",
              "      <td>0.133999</td>\n",
              "      <td>0.584642</td>\n",
              "      <td>0.690628</td>\n",
              "      <td>0.751265</td>\n",
              "      <td>0.135486</td>\n",
              "      <td>0.834415</td>\n",
              "      <td>0.872335</td>\n",
              "      <td>0.543155</td>\n",
              "      <td>0.082310</td>\n",
              "      <td>0.071107</td>\n",
              "      <td>0.809575</td>\n",
              "      <td>-0.101616</td>\n",
              "      <td>-0.686571</td>\n",
              "      <td>-0.704692</td>\n",
              "      <td>1.000000</td>\n",
              "      <td>0.789898</td>\n",
              "      <td>0.110326</td>\n",
              "      <td>-0.110326</td>\n",
              "    </tr>\n",
              "    <tr>\n",
              "      <th>city-L/100km</th>\n",
              "      <td>0.066171</td>\n",
              "      <td>0.238567</td>\n",
              "      <td>0.476153</td>\n",
              "      <td>0.657373</td>\n",
              "      <td>0.673363</td>\n",
              "      <td>0.003811</td>\n",
              "      <td>0.785353</td>\n",
              "      <td>0.745059</td>\n",
              "      <td>0.554610</td>\n",
              "      <td>0.037300</td>\n",
              "      <td>-0.299372</td>\n",
              "      <td>0.889488</td>\n",
              "      <td>0.115830</td>\n",
              "      <td>-0.949713</td>\n",
              "      <td>-0.930028</td>\n",
              "      <td>0.789898</td>\n",
              "      <td>1.000000</td>\n",
              "      <td>-0.241282</td>\n",
              "      <td>0.241282</td>\n",
              "    </tr>\n",
              "    <tr>\n",
              "      <th>diesel</th>\n",
              "      <td>-0.196735</td>\n",
              "      <td>-0.101546</td>\n",
              "      <td>0.307237</td>\n",
              "      <td>0.211187</td>\n",
              "      <td>0.244356</td>\n",
              "      <td>0.281578</td>\n",
              "      <td>0.221046</td>\n",
              "      <td>0.070779</td>\n",
              "      <td>0.054458</td>\n",
              "      <td>0.241303</td>\n",
              "      <td>0.985231</td>\n",
              "      <td>-0.169053</td>\n",
              "      <td>-0.475812</td>\n",
              "      <td>0.265676</td>\n",
              "      <td>0.198690</td>\n",
              "      <td>0.110326</td>\n",
              "      <td>-0.241282</td>\n",
              "      <td>1.000000</td>\n",
              "      <td>-1.000000</td>\n",
              "    </tr>\n",
              "    <tr>\n",
              "      <th>gas</th>\n",
              "      <td>0.196735</td>\n",
              "      <td>0.101546</td>\n",
              "      <td>-0.307237</td>\n",
              "      <td>-0.211187</td>\n",
              "      <td>-0.244356</td>\n",
              "      <td>-0.281578</td>\n",
              "      <td>-0.221046</td>\n",
              "      <td>-0.070779</td>\n",
              "      <td>-0.054458</td>\n",
              "      <td>-0.241303</td>\n",
              "      <td>-0.985231</td>\n",
              "      <td>0.169053</td>\n",
              "      <td>0.475812</td>\n",
              "      <td>-0.265676</td>\n",
              "      <td>-0.198690</td>\n",
              "      <td>-0.110326</td>\n",
              "      <td>0.241282</td>\n",
              "      <td>-1.000000</td>\n",
              "      <td>1.000000</td>\n",
              "    </tr>\n",
              "  </tbody>\n",
              "</table>\n",
              "</div>\n",
              "      <button class=\"colab-df-convert\" onclick=\"convertToInteractive('df-e4d18f7d-eb41-4b49-a998-2f74064ee6a3')\"\n",
              "              title=\"Convert this dataframe to an interactive table.\"\n",
              "              style=\"display:none;\">\n",
              "        \n",
              "  <svg xmlns=\"http://www.w3.org/2000/svg\" height=\"24px\"viewBox=\"0 0 24 24\"\n",
              "       width=\"24px\">\n",
              "    <path d=\"M0 0h24v24H0V0z\" fill=\"none\"/>\n",
              "    <path d=\"M18.56 5.44l.94 2.06.94-2.06 2.06-.94-2.06-.94-.94-2.06-.94 2.06-2.06.94zm-11 1L8.5 8.5l.94-2.06 2.06-.94-2.06-.94L8.5 2.5l-.94 2.06-2.06.94zm10 10l.94 2.06.94-2.06 2.06-.94-2.06-.94-.94-2.06-.94 2.06-2.06.94z\"/><path d=\"M17.41 7.96l-1.37-1.37c-.4-.4-.92-.59-1.43-.59-.52 0-1.04.2-1.43.59L10.3 9.45l-7.72 7.72c-.78.78-.78 2.05 0 2.83L4 21.41c.39.39.9.59 1.41.59.51 0 1.02-.2 1.41-.59l7.78-7.78 2.81-2.81c.8-.78.8-2.07 0-2.86zM5.41 20L4 18.59l7.72-7.72 1.47 1.35L5.41 20z\"/>\n",
              "  </svg>\n",
              "      </button>\n",
              "      \n",
              "  <style>\n",
              "    .colab-df-container {\n",
              "      display:flex;\n",
              "      flex-wrap:wrap;\n",
              "      gap: 12px;\n",
              "    }\n",
              "\n",
              "    .colab-df-convert {\n",
              "      background-color: #E8F0FE;\n",
              "      border: none;\n",
              "      border-radius: 50%;\n",
              "      cursor: pointer;\n",
              "      display: none;\n",
              "      fill: #1967D2;\n",
              "      height: 32px;\n",
              "      padding: 0 0 0 0;\n",
              "      width: 32px;\n",
              "    }\n",
              "\n",
              "    .colab-df-convert:hover {\n",
              "      background-color: #E2EBFA;\n",
              "      box-shadow: 0px 1px 2px rgba(60, 64, 67, 0.3), 0px 1px 3px 1px rgba(60, 64, 67, 0.15);\n",
              "      fill: #174EA6;\n",
              "    }\n",
              "\n",
              "    [theme=dark] .colab-df-convert {\n",
              "      background-color: #3B4455;\n",
              "      fill: #D2E3FC;\n",
              "    }\n",
              "\n",
              "    [theme=dark] .colab-df-convert:hover {\n",
              "      background-color: #434B5C;\n",
              "      box-shadow: 0px 1px 3px 1px rgba(0, 0, 0, 0.15);\n",
              "      filter: drop-shadow(0px 1px 2px rgba(0, 0, 0, 0.3));\n",
              "      fill: #FFFFFF;\n",
              "    }\n",
              "  </style>\n",
              "\n",
              "      <script>\n",
              "        const buttonEl =\n",
              "          document.querySelector('#df-e4d18f7d-eb41-4b49-a998-2f74064ee6a3 button.colab-df-convert');\n",
              "        buttonEl.style.display =\n",
              "          google.colab.kernel.accessAllowed ? 'block' : 'none';\n",
              "\n",
              "        async function convertToInteractive(key) {\n",
              "          const element = document.querySelector('#df-e4d18f7d-eb41-4b49-a998-2f74064ee6a3');\n",
              "          const dataTable =\n",
              "            await google.colab.kernel.invokeFunction('convertToInteractive',\n",
              "                                                     [key], {});\n",
              "          if (!dataTable) return;\n",
              "\n",
              "          const docLinkHtml = 'Like what you see? Visit the ' +\n",
              "            '<a target=\"_blank\" href=https://colab.research.google.com/notebooks/data_table.ipynb>data table notebook</a>'\n",
              "            + ' to learn more about interactive tables.';\n",
              "          element.innerHTML = '';\n",
              "          dataTable['output_type'] = 'display_data';\n",
              "          await google.colab.output.renderOutput(dataTable, element);\n",
              "          const docLink = document.createElement('div');\n",
              "          docLink.innerHTML = docLinkHtml;\n",
              "          element.appendChild(docLink);\n",
              "        }\n",
              "      </script>\n",
              "    </div>\n",
              "  </div>\n",
              "  "
            ]
          },
          "metadata": {},
          "execution_count": 38
        }
      ]
    },
    {
      "cell_type": "markdown",
      "source": [
        "Sometimes we would like to know the significant of the correlation estimate.\n"
      ],
      "metadata": {
        "id": "z5NrYpq1__YJ"
      }
    },
    {
      "cell_type": "markdown",
      "source": [
        "<b>P-value</b>\n",
        "\n",
        "<p>What is this P-value? The P-value is the probability value that the correlation between these two variables is statistically significant. Normally, we choose a significance level of 0.05, which means that we are 95% confident that the correlation between the variables is significant.</p>\n",
        "\n",
        "By convention, when the\n",
        "\n",
        "<ul>\n",
        "    <li>p-value is $<$ 0.001: we say there is strong evidence that the correlation is significant.</li>\n",
        "    <li>the p-value is $<$ 0.05: there is moderate evidence that the correlation is significant.</li>\n",
        "    <li>the p-value is $<$ 0.1: there is weak evidence that the correlation is significant.</li>\n",
        "    <li>the p-value is $>$ 0.1: there is no evidence that the correlation is significant.</li>\n",
        "</ul>\n"
      ],
      "metadata": {
        "id": "wCZg1xEK__YJ"
      }
    },
    {
      "cell_type": "markdown",
      "source": [
        "We can obtain this information using  \"stats\" module in the \"scipy\"  library.\n"
      ],
      "metadata": {
        "id": "nn3ZU8qp__YJ"
      }
    },
    {
      "cell_type": "code",
      "source": [
        "from scipy import stats"
      ],
      "metadata": {
        "trusted": true,
        "id": "VMuruDNn__YJ"
      },
      "execution_count": 39,
      "outputs": []
    },
    {
      "cell_type": "markdown",
      "source": [
        "<h3>Wheel-Base vs. Price</h3>\n"
      ],
      "metadata": {
        "id": "AsnvS9nn__YJ"
      }
    },
    {
      "cell_type": "markdown",
      "source": [
        "Let's calculate the  Pearson Correlation Coefficient and P-value of 'wheel-base' and 'price'.\n"
      ],
      "metadata": {
        "id": "M-seBp0a__YJ"
      }
    },
    {
      "cell_type": "code",
      "source": [
        "pearson_coef, p_value = stats.pearsonr(df['wheel-base'], df['price'])\n",
        "print(\"The Pearson Correlation Coefficient is\", pearson_coef, \" with a P-value of P =\", p_value)  "
      ],
      "metadata": {
        "trusted": true,
        "id": "g11z73S7__YJ",
        "colab": {
          "base_uri": "https://localhost:8080/"
        },
        "outputId": "fc63c06e-8596-4bb6-8436-c43c25a299fa"
      },
      "execution_count": 40,
      "outputs": [
        {
          "output_type": "stream",
          "name": "stdout",
          "text": [
            "The Pearson Correlation Coefficient is 0.584641822265508  with a P-value of P = 8.076488270733218e-20\n"
          ]
        }
      ]
    },
    {
      "cell_type": "markdown",
      "source": [
        "<h4>Conclusion:</h4>\n",
        "<p>Since the p-value is $<$ 0.001, the correlation between wheel-base and price is statistically significant, although the linear relationship isn't extremely strong (~0.585).</p>\n"
      ],
      "metadata": {
        "id": "gdcSJN2k__YJ"
      }
    },
    {
      "cell_type": "markdown",
      "source": [
        "<h3>Horsepower vs. Price</h3>\n"
      ],
      "metadata": {
        "id": "InwmCK9M__YJ"
      }
    },
    {
      "cell_type": "markdown",
      "source": [
        "Let's calculate the  Pearson Correlation Coefficient and P-value of 'horsepower' and 'price'.\n"
      ],
      "metadata": {
        "id": "WsqHs4-J__YK"
      }
    },
    {
      "cell_type": "code",
      "source": [
        "pearson_coef, p_value = stats.pearsonr(df['horsepower'], df['price'])\n",
        "print(\"The Pearson Correlation Coefficient is\", pearson_coef, \" with a P-value of P = \", p_value)  "
      ],
      "metadata": {
        "trusted": true,
        "id": "dfAHl7tZ__YK",
        "colab": {
          "base_uri": "https://localhost:8080/"
        },
        "outputId": "70ccca5a-da59-4b07-dd73-99e8a3250fff"
      },
      "execution_count": 41,
      "outputs": [
        {
          "output_type": "stream",
          "name": "stdout",
          "text": [
            "The Pearson Correlation Coefficient is 0.8095745670036559  with a P-value of P =  6.369057428260101e-48\n"
          ]
        }
      ]
    },
    {
      "cell_type": "markdown",
      "source": [
        "<h4>Conclusion:</h4>\n",
        "\n",
        "<p>Since the p-value is $<$ 0.001, the correlation between horsepower and price is statistically significant, and the linear relationship is quite strong (~0.809, close to 1).</p>\n"
      ],
      "metadata": {
        "id": "kZRDpvI7__YK"
      }
    },
    {
      "cell_type": "markdown",
      "source": [
        "<h3>Length vs. Price</h3>\n",
        "\n",
        "Let's calculate the  Pearson Correlation Coefficient and P-value of 'length' and 'price'.\n"
      ],
      "metadata": {
        "id": "yvO-7oex__YK"
      }
    },
    {
      "cell_type": "code",
      "source": [
        "pearson_coef, p_value = stats.pearsonr(df['length'], df['price'])\n",
        "print(\"The Pearson Correlation Coefficient is\", pearson_coef, \" with a P-value of P = \", p_value)  "
      ],
      "metadata": {
        "trusted": true,
        "id": "CE0mRZ5g__YK",
        "colab": {
          "base_uri": "https://localhost:8080/"
        },
        "outputId": "97b8eed2-aec5-4c58-e869-be290a8bf43a"
      },
      "execution_count": 42,
      "outputs": [
        {
          "output_type": "stream",
          "name": "stdout",
          "text": [
            "The Pearson Correlation Coefficient is 0.6906283804483638  with a P-value of P =  8.016477466159556e-30\n"
          ]
        }
      ]
    },
    {
      "cell_type": "markdown",
      "source": [
        "<h4>Conclusion:</h4>\n",
        "<p>Since the p-value is $<$ 0.001, the correlation between length and price is statistically significant, and the linear relationship is moderately strong (~0.691).</p>\n"
      ],
      "metadata": {
        "id": "VOUhxbsC__YK"
      }
    },
    {
      "cell_type": "markdown",
      "source": [
        "<h3>Width vs. Price</h3>\n"
      ],
      "metadata": {
        "id": "G8j7Q5B-__YK"
      }
    },
    {
      "cell_type": "markdown",
      "source": [
        "Let's calculate the Pearson Correlation Coefficient and P-value of 'width' and 'price':\n"
      ],
      "metadata": {
        "id": "Lo623mWU__YK"
      }
    },
    {
      "cell_type": "code",
      "source": [
        "pearson_coef, p_value = stats.pearsonr(df['width'], df['price'])\n",
        "print(\"The Pearson Correlation Coefficient is\", pearson_coef, \" with a P-value of P =\", p_value ) "
      ],
      "metadata": {
        "trusted": true,
        "id": "v4PzIMH7__YK",
        "colab": {
          "base_uri": "https://localhost:8080/"
        },
        "outputId": "011bdc0b-e7e5-4ef0-89ec-138957842ac9"
      },
      "execution_count": 43,
      "outputs": [
        {
          "output_type": "stream",
          "name": "stdout",
          "text": [
            "The Pearson Correlation Coefficient is 0.7512653440522673  with a P-value of P = 9.200335510481646e-38\n"
          ]
        }
      ]
    },
    {
      "cell_type": "markdown",
      "source": [
        "#### Conclusion:\n",
        "\n",
        "Since the p-value is < 0.001, the correlation between width and price is statistically significant, and the linear relationship is quite strong (\\~0.751).\n"
      ],
      "metadata": {
        "id": "6dUY5MCB__YL"
      }
    },
    {
      "cell_type": "markdown",
      "source": [
        "### Curb-Weight vs. Price\n"
      ],
      "metadata": {
        "id": "ijP8Cxik__YL"
      }
    },
    {
      "cell_type": "markdown",
      "source": [
        "Let's calculate the Pearson Correlation Coefficient and P-value of 'curb-weight' and 'price':\n"
      ],
      "metadata": {
        "id": "dHKigrj1__YL"
      }
    },
    {
      "cell_type": "code",
      "source": [
        "pearson_coef, p_value = stats.pearsonr(df['curb-weight'], df['price'])\n",
        "print( \"The Pearson Correlation Coefficient is\", pearson_coef, \" with a P-value of P = \", p_value)  "
      ],
      "metadata": {
        "trusted": true,
        "id": "FJgQNwNT__YL",
        "colab": {
          "base_uri": "https://localhost:8080/"
        },
        "outputId": "1236223d-7b46-4235-ea2a-58df0df31251"
      },
      "execution_count": 44,
      "outputs": [
        {
          "output_type": "stream",
          "name": "stdout",
          "text": [
            "The Pearson Correlation Coefficient is 0.8344145257702843  with a P-value of P =  2.189577238894065e-53\n"
          ]
        }
      ]
    },
    {
      "cell_type": "markdown",
      "source": [
        "<h4>Conclusion:</h4>\n",
        "<p>Since the p-value is $<$ 0.001, the correlation between curb-weight and price is statistically significant, and the linear relationship is quite strong (~0.834).</p>\n"
      ],
      "metadata": {
        "id": "ZDVTVyt0__YL"
      }
    },
    {
      "cell_type": "markdown",
      "source": [
        "<h3>Engine-Size vs. Price</h3>\n",
        "\n",
        "Let's calculate the Pearson Correlation Coefficient and P-value of 'engine-size' and 'price':\n"
      ],
      "metadata": {
        "id": "r_cFDjkx__YL"
      }
    },
    {
      "cell_type": "code",
      "source": [
        "pearson_coef, p_value = stats.pearsonr(df['engine-size'], df['price'])\n",
        "print(\"The Pearson Correlation Coefficient is\", pearson_coef, \" with a P-value of P =\", p_value) "
      ],
      "metadata": {
        "trusted": true,
        "id": "J4H7y3XL__YL",
        "colab": {
          "base_uri": "https://localhost:8080/"
        },
        "outputId": "33d9e633-ee13-444a-e778-bf0b9bc4156a"
      },
      "execution_count": 45,
      "outputs": [
        {
          "output_type": "stream",
          "name": "stdout",
          "text": [
            "The Pearson Correlation Coefficient is 0.8723351674455185  with a P-value of P = 9.265491622198389e-64\n"
          ]
        }
      ]
    },
    {
      "cell_type": "markdown",
      "source": [
        "<h4>Conclusion:</h4>\n",
        "\n",
        "<p>Since the p-value is $<$ 0.001, the correlation between engine-size and price is statistically significant, and the linear relationship is very strong (~0.872).</p>\n"
      ],
      "metadata": {
        "id": "gnMaJnLo__YM"
      }
    },
    {
      "cell_type": "markdown",
      "source": [
        "<h3>Bore vs. Price</h3>\n"
      ],
      "metadata": {
        "id": "rtqtmNuP__YM"
      }
    },
    {
      "cell_type": "markdown",
      "source": [
        "Let's calculate the  Pearson Correlation Coefficient and P-value of 'bore' and 'price':\n"
      ],
      "metadata": {
        "id": "pjW3PO7e__YM"
      }
    },
    {
      "cell_type": "code",
      "source": [
        "pearson_coef, p_value = stats.pearsonr(df['bore'], df['price'])\n",
        "print(\"The Pearson Correlation Coefficient is\", pearson_coef, \" with a P-value of P =  \", p_value ) "
      ],
      "metadata": {
        "trusted": true,
        "id": "Ymkvsog1__YM",
        "colab": {
          "base_uri": "https://localhost:8080/"
        },
        "outputId": "82ceac05-7f72-45f7-99bd-4bb3f9e8e6e2"
      },
      "execution_count": 46,
      "outputs": [
        {
          "output_type": "stream",
          "name": "stdout",
          "text": [
            "The Pearson Correlation Coefficient is 0.5431553832626602  with a P-value of P =   8.049189483935489e-17\n"
          ]
        }
      ]
    },
    {
      "cell_type": "markdown",
      "source": [
        "<h4>Conclusion:</h4>\n",
        "<p>Since the p-value is $<$ 0.001, the correlation between bore and price is statistically significant, but the linear relationship is only moderate (~0.521).</p>\n"
      ],
      "metadata": {
        "id": "cRMXE1O1__YM"
      }
    },
    {
      "cell_type": "markdown",
      "source": [
        "We can relate the process for each 'city-mpg'  and 'highway-mpg':\n"
      ],
      "metadata": {
        "id": "tsgQeO_E__YM"
      }
    },
    {
      "cell_type": "markdown",
      "source": [
        "<h3>City-mpg vs. Price</h3>\n"
      ],
      "metadata": {
        "id": "ymmyrlzk__YM"
      }
    },
    {
      "cell_type": "code",
      "source": [
        "pearson_coef, p_value = stats.pearsonr(df['city-mpg'], df['price'])\n",
        "print(\"The Pearson Correlation Coefficient is\", pearson_coef, \" with a P-value of P = \", p_value)  "
      ],
      "metadata": {
        "trusted": true,
        "id": "sZ9SjUc-__YN",
        "colab": {
          "base_uri": "https://localhost:8080/"
        },
        "outputId": "174a3b66-a8ef-4826-f380-93778f6d03ea"
      },
      "execution_count": 47,
      "outputs": [
        {
          "output_type": "stream",
          "name": "stdout",
          "text": [
            "The Pearson Correlation Coefficient is -0.6865710067844678  with a P-value of P =  2.321132065567641e-29\n"
          ]
        }
      ]
    },
    {
      "cell_type": "markdown",
      "source": [
        "<h4>Conclusion:</h4>\n",
        "<p>Since the p-value is $<$ 0.001, the correlation between city-mpg and price is statistically significant, and the coefficient of about -0.687 shows that the relationship is negative and moderately strong.</p>\n"
      ],
      "metadata": {
        "id": "5PbimgbY__YN"
      }
    },
    {
      "cell_type": "markdown",
      "source": [
        "<h3>Highway-mpg vs. Price</h3>\n"
      ],
      "metadata": {
        "id": "dyXwYE4G__YN"
      }
    },
    {
      "cell_type": "code",
      "source": [
        "pearson_coef, p_value = stats.pearsonr(df['highway-mpg'], df['price'])\n",
        "print( \"The Pearson Correlation Coefficient is\", pearson_coef, \" with a P-value of P = \", p_value ) "
      ],
      "metadata": {
        "trusted": true,
        "id": "mAUX2uj9__YN",
        "colab": {
          "base_uri": "https://localhost:8080/"
        },
        "outputId": "d8bb2d4e-5b1d-4cc3-bf52-e7dd36eb130f"
      },
      "execution_count": 48,
      "outputs": [
        {
          "output_type": "stream",
          "name": "stdout",
          "text": [
            "The Pearson Correlation Coefficient is -0.704692265058953  with a P-value of P =  1.7495471144476358e-31\n"
          ]
        }
      ]
    },
    {
      "cell_type": "markdown",
      "source": [
        "#### Conclusion:\n",
        "\n",
        "Since the p-value is < 0.001, the correlation between highway-mpg and price is statistically significant, and the coefficient of about -0.705 shows that the relationship is negative and moderately strong.\n"
      ],
      "metadata": {
        "id": "Vwlvhm9T__YN"
      }
    },
    {
      "cell_type": "markdown",
      "source": [
        "<h2 id=\"anova\">6. ANOVA</h2>\n"
      ],
      "metadata": {
        "id": "Oo8Hk7jt__YN"
      }
    },
    {
      "cell_type": "markdown",
      "source": [
        "<h3>ANOVA: Analysis of Variance</h3>\n",
        "<p>The Analysis of Variance  (ANOVA) is a statistical method used to test whether there are significant differences between the means of two or more groups. ANOVA returns two parameters:</p>\n",
        "\n",
        "<p><b>F-test score</b>: ANOVA assumes the means of all groups are the same, calculates how much the actual means deviate from the assumption, and reports it as the F-test score. A larger score means there is a larger difference between the means.</p>\n",
        "\n",
        "<p><b>P-value</b>:  P-value tells how statistically significant our calculated score value is.</p>\n",
        "\n",
        "<p>If our price variable is strongly correlated with the variable we are analyzing, we expect ANOVA to return a sizeable F-test score and a small p-value.</p>\n"
      ],
      "metadata": {
        "id": "jgJ-mDI___YO"
      }
    },
    {
      "cell_type": "markdown",
      "source": [
        "<h3>Drive Wheels</h3>\n"
      ],
      "metadata": {
        "id": "Df9iXp1t__YO"
      }
    },
    {
      "cell_type": "markdown",
      "source": [
        "<p>Since ANOVA analyzes the difference between different groups of the same variable, the groupby function will come in handy. Because the ANOVA algorithm averages the data automatically, we do not need to take the average before hand.</p>\n",
        "\n",
        "<p>To see if different types of 'drive-wheels' impact  'price', we group the data.</p>\n"
      ],
      "metadata": {
        "id": "UHX9RqZY__YO"
      }
    },
    {
      "cell_type": "code",
      "source": [
        "grouped_test2=df_gptest[['drive-wheels', 'price']].groupby(['drive-wheels'])\n",
        "grouped_test2.head(2)"
      ],
      "metadata": {
        "trusted": true,
        "id": "6fg07IMH__YO",
        "colab": {
          "base_uri": "https://localhost:8080/",
          "height": 237
        },
        "outputId": "f1482988-abdc-4e57-f5ad-904893a2c3d3"
      },
      "execution_count": 49,
      "outputs": [
        {
          "output_type": "execute_result",
          "data": {
            "text/plain": [
              "    drive-wheels    price\n",
              "0            rwd  13495.0\n",
              "1            rwd  16500.0\n",
              "3            fwd  13950.0\n",
              "4            4wd  17450.0\n",
              "5            fwd  15250.0\n",
              "136          4wd   7603.0"
            ],
            "text/html": [
              "\n",
              "  <div id=\"df-82352693-c0e0-4588-ba2c-507132fd2264\">\n",
              "    <div class=\"colab-df-container\">\n",
              "      <div>\n",
              "<style scoped>\n",
              "    .dataframe tbody tr th:only-of-type {\n",
              "        vertical-align: middle;\n",
              "    }\n",
              "\n",
              "    .dataframe tbody tr th {\n",
              "        vertical-align: top;\n",
              "    }\n",
              "\n",
              "    .dataframe thead th {\n",
              "        text-align: right;\n",
              "    }\n",
              "</style>\n",
              "<table border=\"1\" class=\"dataframe\">\n",
              "  <thead>\n",
              "    <tr style=\"text-align: right;\">\n",
              "      <th></th>\n",
              "      <th>drive-wheels</th>\n",
              "      <th>price</th>\n",
              "    </tr>\n",
              "  </thead>\n",
              "  <tbody>\n",
              "    <tr>\n",
              "      <th>0</th>\n",
              "      <td>rwd</td>\n",
              "      <td>13495.0</td>\n",
              "    </tr>\n",
              "    <tr>\n",
              "      <th>1</th>\n",
              "      <td>rwd</td>\n",
              "      <td>16500.0</td>\n",
              "    </tr>\n",
              "    <tr>\n",
              "      <th>3</th>\n",
              "      <td>fwd</td>\n",
              "      <td>13950.0</td>\n",
              "    </tr>\n",
              "    <tr>\n",
              "      <th>4</th>\n",
              "      <td>4wd</td>\n",
              "      <td>17450.0</td>\n",
              "    </tr>\n",
              "    <tr>\n",
              "      <th>5</th>\n",
              "      <td>fwd</td>\n",
              "      <td>15250.0</td>\n",
              "    </tr>\n",
              "    <tr>\n",
              "      <th>136</th>\n",
              "      <td>4wd</td>\n",
              "      <td>7603.0</td>\n",
              "    </tr>\n",
              "  </tbody>\n",
              "</table>\n",
              "</div>\n",
              "      <button class=\"colab-df-convert\" onclick=\"convertToInteractive('df-82352693-c0e0-4588-ba2c-507132fd2264')\"\n",
              "              title=\"Convert this dataframe to an interactive table.\"\n",
              "              style=\"display:none;\">\n",
              "        \n",
              "  <svg xmlns=\"http://www.w3.org/2000/svg\" height=\"24px\"viewBox=\"0 0 24 24\"\n",
              "       width=\"24px\">\n",
              "    <path d=\"M0 0h24v24H0V0z\" fill=\"none\"/>\n",
              "    <path d=\"M18.56 5.44l.94 2.06.94-2.06 2.06-.94-2.06-.94-.94-2.06-.94 2.06-2.06.94zm-11 1L8.5 8.5l.94-2.06 2.06-.94-2.06-.94L8.5 2.5l-.94 2.06-2.06.94zm10 10l.94 2.06.94-2.06 2.06-.94-2.06-.94-.94-2.06-.94 2.06-2.06.94z\"/><path d=\"M17.41 7.96l-1.37-1.37c-.4-.4-.92-.59-1.43-.59-.52 0-1.04.2-1.43.59L10.3 9.45l-7.72 7.72c-.78.78-.78 2.05 0 2.83L4 21.41c.39.39.9.59 1.41.59.51 0 1.02-.2 1.41-.59l7.78-7.78 2.81-2.81c.8-.78.8-2.07 0-2.86zM5.41 20L4 18.59l7.72-7.72 1.47 1.35L5.41 20z\"/>\n",
              "  </svg>\n",
              "      </button>\n",
              "      \n",
              "  <style>\n",
              "    .colab-df-container {\n",
              "      display:flex;\n",
              "      flex-wrap:wrap;\n",
              "      gap: 12px;\n",
              "    }\n",
              "\n",
              "    .colab-df-convert {\n",
              "      background-color: #E8F0FE;\n",
              "      border: none;\n",
              "      border-radius: 50%;\n",
              "      cursor: pointer;\n",
              "      display: none;\n",
              "      fill: #1967D2;\n",
              "      height: 32px;\n",
              "      padding: 0 0 0 0;\n",
              "      width: 32px;\n",
              "    }\n",
              "\n",
              "    .colab-df-convert:hover {\n",
              "      background-color: #E2EBFA;\n",
              "      box-shadow: 0px 1px 2px rgba(60, 64, 67, 0.3), 0px 1px 3px 1px rgba(60, 64, 67, 0.15);\n",
              "      fill: #174EA6;\n",
              "    }\n",
              "\n",
              "    [theme=dark] .colab-df-convert {\n",
              "      background-color: #3B4455;\n",
              "      fill: #D2E3FC;\n",
              "    }\n",
              "\n",
              "    [theme=dark] .colab-df-convert:hover {\n",
              "      background-color: #434B5C;\n",
              "      box-shadow: 0px 1px 3px 1px rgba(0, 0, 0, 0.15);\n",
              "      filter: drop-shadow(0px 1px 2px rgba(0, 0, 0, 0.3));\n",
              "      fill: #FFFFFF;\n",
              "    }\n",
              "  </style>\n",
              "\n",
              "      <script>\n",
              "        const buttonEl =\n",
              "          document.querySelector('#df-82352693-c0e0-4588-ba2c-507132fd2264 button.colab-df-convert');\n",
              "        buttonEl.style.display =\n",
              "          google.colab.kernel.accessAllowed ? 'block' : 'none';\n",
              "\n",
              "        async function convertToInteractive(key) {\n",
              "          const element = document.querySelector('#df-82352693-c0e0-4588-ba2c-507132fd2264');\n",
              "          const dataTable =\n",
              "            await google.colab.kernel.invokeFunction('convertToInteractive',\n",
              "                                                     [key], {});\n",
              "          if (!dataTable) return;\n",
              "\n",
              "          const docLinkHtml = 'Like what you see? Visit the ' +\n",
              "            '<a target=\"_blank\" href=https://colab.research.google.com/notebooks/data_table.ipynb>data table notebook</a>'\n",
              "            + ' to learn more about interactive tables.';\n",
              "          element.innerHTML = '';\n",
              "          dataTable['output_type'] = 'display_data';\n",
              "          await google.colab.output.renderOutput(dataTable, element);\n",
              "          const docLink = document.createElement('div');\n",
              "          docLink.innerHTML = docLinkHtml;\n",
              "          element.appendChild(docLink);\n",
              "        }\n",
              "      </script>\n",
              "    </div>\n",
              "  </div>\n",
              "  "
            ]
          },
          "metadata": {},
          "execution_count": 49
        }
      ]
    },
    {
      "cell_type": "code",
      "source": [
        "df_gptest"
      ],
      "metadata": {
        "trusted": true,
        "id": "IKAODE9b__YO",
        "colab": {
          "base_uri": "https://localhost:8080/",
          "height": 424
        },
        "outputId": "0d695842-99fd-44d5-9876-75e9dc2e2f2b"
      },
      "execution_count": 50,
      "outputs": [
        {
          "output_type": "execute_result",
          "data": {
            "text/plain": [
              "    drive-wheels   body-style    price\n",
              "0            rwd  convertible  13495.0\n",
              "1            rwd  convertible  16500.0\n",
              "2            rwd    hatchback  16500.0\n",
              "3            fwd        sedan  13950.0\n",
              "4            4wd        sedan  17450.0\n",
              "..           ...          ...      ...\n",
              "196          rwd        sedan  16845.0\n",
              "197          rwd        sedan  19045.0\n",
              "198          rwd        sedan  21485.0\n",
              "199          rwd        sedan  22470.0\n",
              "200          rwd        sedan  22625.0\n",
              "\n",
              "[201 rows x 3 columns]"
            ],
            "text/html": [
              "\n",
              "  <div id=\"df-3f350060-9cae-455c-8f3e-1a4e4d898743\">\n",
              "    <div class=\"colab-df-container\">\n",
              "      <div>\n",
              "<style scoped>\n",
              "    .dataframe tbody tr th:only-of-type {\n",
              "        vertical-align: middle;\n",
              "    }\n",
              "\n",
              "    .dataframe tbody tr th {\n",
              "        vertical-align: top;\n",
              "    }\n",
              "\n",
              "    .dataframe thead th {\n",
              "        text-align: right;\n",
              "    }\n",
              "</style>\n",
              "<table border=\"1\" class=\"dataframe\">\n",
              "  <thead>\n",
              "    <tr style=\"text-align: right;\">\n",
              "      <th></th>\n",
              "      <th>drive-wheels</th>\n",
              "      <th>body-style</th>\n",
              "      <th>price</th>\n",
              "    </tr>\n",
              "  </thead>\n",
              "  <tbody>\n",
              "    <tr>\n",
              "      <th>0</th>\n",
              "      <td>rwd</td>\n",
              "      <td>convertible</td>\n",
              "      <td>13495.0</td>\n",
              "    </tr>\n",
              "    <tr>\n",
              "      <th>1</th>\n",
              "      <td>rwd</td>\n",
              "      <td>convertible</td>\n",
              "      <td>16500.0</td>\n",
              "    </tr>\n",
              "    <tr>\n",
              "      <th>2</th>\n",
              "      <td>rwd</td>\n",
              "      <td>hatchback</td>\n",
              "      <td>16500.0</td>\n",
              "    </tr>\n",
              "    <tr>\n",
              "      <th>3</th>\n",
              "      <td>fwd</td>\n",
              "      <td>sedan</td>\n",
              "      <td>13950.0</td>\n",
              "    </tr>\n",
              "    <tr>\n",
              "      <th>4</th>\n",
              "      <td>4wd</td>\n",
              "      <td>sedan</td>\n",
              "      <td>17450.0</td>\n",
              "    </tr>\n",
              "    <tr>\n",
              "      <th>...</th>\n",
              "      <td>...</td>\n",
              "      <td>...</td>\n",
              "      <td>...</td>\n",
              "    </tr>\n",
              "    <tr>\n",
              "      <th>196</th>\n",
              "      <td>rwd</td>\n",
              "      <td>sedan</td>\n",
              "      <td>16845.0</td>\n",
              "    </tr>\n",
              "    <tr>\n",
              "      <th>197</th>\n",
              "      <td>rwd</td>\n",
              "      <td>sedan</td>\n",
              "      <td>19045.0</td>\n",
              "    </tr>\n",
              "    <tr>\n",
              "      <th>198</th>\n",
              "      <td>rwd</td>\n",
              "      <td>sedan</td>\n",
              "      <td>21485.0</td>\n",
              "    </tr>\n",
              "    <tr>\n",
              "      <th>199</th>\n",
              "      <td>rwd</td>\n",
              "      <td>sedan</td>\n",
              "      <td>22470.0</td>\n",
              "    </tr>\n",
              "    <tr>\n",
              "      <th>200</th>\n",
              "      <td>rwd</td>\n",
              "      <td>sedan</td>\n",
              "      <td>22625.0</td>\n",
              "    </tr>\n",
              "  </tbody>\n",
              "</table>\n",
              "<p>201 rows × 3 columns</p>\n",
              "</div>\n",
              "      <button class=\"colab-df-convert\" onclick=\"convertToInteractive('df-3f350060-9cae-455c-8f3e-1a4e4d898743')\"\n",
              "              title=\"Convert this dataframe to an interactive table.\"\n",
              "              style=\"display:none;\">\n",
              "        \n",
              "  <svg xmlns=\"http://www.w3.org/2000/svg\" height=\"24px\"viewBox=\"0 0 24 24\"\n",
              "       width=\"24px\">\n",
              "    <path d=\"M0 0h24v24H0V0z\" fill=\"none\"/>\n",
              "    <path d=\"M18.56 5.44l.94 2.06.94-2.06 2.06-.94-2.06-.94-.94-2.06-.94 2.06-2.06.94zm-11 1L8.5 8.5l.94-2.06 2.06-.94-2.06-.94L8.5 2.5l-.94 2.06-2.06.94zm10 10l.94 2.06.94-2.06 2.06-.94-2.06-.94-.94-2.06-.94 2.06-2.06.94z\"/><path d=\"M17.41 7.96l-1.37-1.37c-.4-.4-.92-.59-1.43-.59-.52 0-1.04.2-1.43.59L10.3 9.45l-7.72 7.72c-.78.78-.78 2.05 0 2.83L4 21.41c.39.39.9.59 1.41.59.51 0 1.02-.2 1.41-.59l7.78-7.78 2.81-2.81c.8-.78.8-2.07 0-2.86zM5.41 20L4 18.59l7.72-7.72 1.47 1.35L5.41 20z\"/>\n",
              "  </svg>\n",
              "      </button>\n",
              "      \n",
              "  <style>\n",
              "    .colab-df-container {\n",
              "      display:flex;\n",
              "      flex-wrap:wrap;\n",
              "      gap: 12px;\n",
              "    }\n",
              "\n",
              "    .colab-df-convert {\n",
              "      background-color: #E8F0FE;\n",
              "      border: none;\n",
              "      border-radius: 50%;\n",
              "      cursor: pointer;\n",
              "      display: none;\n",
              "      fill: #1967D2;\n",
              "      height: 32px;\n",
              "      padding: 0 0 0 0;\n",
              "      width: 32px;\n",
              "    }\n",
              "\n",
              "    .colab-df-convert:hover {\n",
              "      background-color: #E2EBFA;\n",
              "      box-shadow: 0px 1px 2px rgba(60, 64, 67, 0.3), 0px 1px 3px 1px rgba(60, 64, 67, 0.15);\n",
              "      fill: #174EA6;\n",
              "    }\n",
              "\n",
              "    [theme=dark] .colab-df-convert {\n",
              "      background-color: #3B4455;\n",
              "      fill: #D2E3FC;\n",
              "    }\n",
              "\n",
              "    [theme=dark] .colab-df-convert:hover {\n",
              "      background-color: #434B5C;\n",
              "      box-shadow: 0px 1px 3px 1px rgba(0, 0, 0, 0.15);\n",
              "      filter: drop-shadow(0px 1px 2px rgba(0, 0, 0, 0.3));\n",
              "      fill: #FFFFFF;\n",
              "    }\n",
              "  </style>\n",
              "\n",
              "      <script>\n",
              "        const buttonEl =\n",
              "          document.querySelector('#df-3f350060-9cae-455c-8f3e-1a4e4d898743 button.colab-df-convert');\n",
              "        buttonEl.style.display =\n",
              "          google.colab.kernel.accessAllowed ? 'block' : 'none';\n",
              "\n",
              "        async function convertToInteractive(key) {\n",
              "          const element = document.querySelector('#df-3f350060-9cae-455c-8f3e-1a4e4d898743');\n",
              "          const dataTable =\n",
              "            await google.colab.kernel.invokeFunction('convertToInteractive',\n",
              "                                                     [key], {});\n",
              "          if (!dataTable) return;\n",
              "\n",
              "          const docLinkHtml = 'Like what you see? Visit the ' +\n",
              "            '<a target=\"_blank\" href=https://colab.research.google.com/notebooks/data_table.ipynb>data table notebook</a>'\n",
              "            + ' to learn more about interactive tables.';\n",
              "          element.innerHTML = '';\n",
              "          dataTable['output_type'] = 'display_data';\n",
              "          await google.colab.output.renderOutput(dataTable, element);\n",
              "          const docLink = document.createElement('div');\n",
              "          docLink.innerHTML = docLinkHtml;\n",
              "          element.appendChild(docLink);\n",
              "        }\n",
              "      </script>\n",
              "    </div>\n",
              "  </div>\n",
              "  "
            ]
          },
          "metadata": {},
          "execution_count": 50
        }
      ]
    },
    {
      "cell_type": "markdown",
      "source": [
        "We can obtain the values of the method group using the method \"get_group\".\n"
      ],
      "metadata": {
        "id": "rmu9237s__YO"
      }
    },
    {
      "cell_type": "code",
      "source": [
        "grouped_test2.get_group('4wd')['price']"
      ],
      "metadata": {
        "trusted": true,
        "id": "zAwhyiAV__YO",
        "colab": {
          "base_uri": "https://localhost:8080/"
        },
        "outputId": "cee54587-4ad4-4efa-e94b-fae0dfe8abb3"
      },
      "execution_count": 51,
      "outputs": [
        {
          "output_type": "execute_result",
          "data": {
            "text/plain": [
              "4      17450.0\n",
              "136     7603.0\n",
              "140     9233.0\n",
              "141    11259.0\n",
              "144     8013.0\n",
              "145    11694.0\n",
              "150     7898.0\n",
              "151     8778.0\n",
              "Name: price, dtype: float64"
            ]
          },
          "metadata": {},
          "execution_count": 51
        }
      ]
    },
    {
      "cell_type": "markdown",
      "source": [
        "We can use the function 'f_oneway' in the module 'stats' to obtain the <b>F-test score</b> and <b>P-value</b>.\n"
      ],
      "metadata": {
        "id": "Gnj5D-6s__YP"
      }
    },
    {
      "cell_type": "code",
      "source": [
        "# ANOVA\n",
        "f_val, p_val = stats.f_oneway(grouped_test2.get_group('fwd')['price'], grouped_test2.get_group('rwd')['price'], grouped_test2.get_group('4wd')['price'])  \n",
        " \n",
        "print( \"ANOVA results: F=\", f_val, \", P =\", p_val)   "
      ],
      "metadata": {
        "trusted": true,
        "id": "yAvjI8sU__YP",
        "colab": {
          "base_uri": "https://localhost:8080/"
        },
        "outputId": "0f932dc8-c35d-4dbe-eeda-59fb188068f8"
      },
      "execution_count": 52,
      "outputs": [
        {
          "output_type": "stream",
          "name": "stdout",
          "text": [
            "ANOVA results: F= 67.95406500780399 , P = 3.3945443577151245e-23\n"
          ]
        }
      ]
    },
    {
      "cell_type": "markdown",
      "source": [
        "This is a great result with a large F-test score showing a strong correlation and a P-value of almost 0 implying almost certain statistical significance. But does this mean all three tested groups are all this highly correlated?\n",
        "\n",
        "Let's examine them separately.\n"
      ],
      "metadata": {
        "id": "seU1iOeT__YP"
      }
    },
    {
      "cell_type": "markdown",
      "source": [
        "#### fwd and rwd\n"
      ],
      "metadata": {
        "id": "35dDo2Yv__YP"
      }
    },
    {
      "cell_type": "code",
      "source": [
        "f_val, p_val = stats.f_oneway(grouped_test2.get_group('fwd')['price'], grouped_test2.get_group('rwd')['price'])  \n",
        " \n",
        "print( \"ANOVA results: F=\", f_val, \", P =\", p_val )"
      ],
      "metadata": {
        "trusted": true,
        "id": "2ldVTo9I__YP",
        "colab": {
          "base_uri": "https://localhost:8080/"
        },
        "outputId": "5511d966-eec2-48e2-b8c5-58ec5c3b60a0"
      },
      "execution_count": 53,
      "outputs": [
        {
          "output_type": "stream",
          "name": "stdout",
          "text": [
            "ANOVA results: F= 130.5533160959111 , P = 2.2355306355677845e-23\n"
          ]
        }
      ]
    },
    {
      "cell_type": "markdown",
      "source": [
        "Let's examine the other groups.\n"
      ],
      "metadata": {
        "id": "fwxHU3UH__YQ"
      }
    },
    {
      "cell_type": "markdown",
      "source": [
        "#### 4wd and rwd\n"
      ],
      "metadata": {
        "id": "U4Rj1hmi__YQ"
      }
    },
    {
      "cell_type": "code",
      "source": [
        "f_val, p_val = stats.f_oneway(grouped_test2.get_group('4wd')['price'], grouped_test2.get_group('rwd')['price'])  \n",
        "   \n",
        "print( \"ANOVA results: F=\", f_val, \", P =\", p_val)   "
      ],
      "metadata": {
        "scrolled": true,
        "trusted": true,
        "id": "YyEwvGVw__YQ",
        "colab": {
          "base_uri": "https://localhost:8080/"
        },
        "outputId": "84913107-00e9-4291-dbb5-72472a12868d"
      },
      "execution_count": 54,
      "outputs": [
        {
          "output_type": "stream",
          "name": "stdout",
          "text": [
            "ANOVA results: F= 8.580681368924756 , P = 0.004411492211225333\n"
          ]
        }
      ]
    },
    {
      "cell_type": "markdown",
      "source": [
        "<h4>4wd and fwd</h4>\n"
      ],
      "metadata": {
        "id": "7OVHmfx3__YQ"
      }
    },
    {
      "cell_type": "code",
      "source": [
        "f_val, p_val = stats.f_oneway(grouped_test2.get_group('4wd')['price'], grouped_test2.get_group('fwd')['price'])  \n",
        " \n",
        "print(\"ANOVA results: F=\", f_val, \", P =\", p_val)   "
      ],
      "metadata": {
        "trusted": true,
        "id": "tyiStFHf__YQ",
        "colab": {
          "base_uri": "https://localhost:8080/"
        },
        "outputId": "d644573d-8636-4987-ac9a-9ec978db668d"
      },
      "execution_count": 55,
      "outputs": [
        {
          "output_type": "stream",
          "name": "stdout",
          "text": [
            "ANOVA results: F= 0.665465750252303 , P = 0.41620116697845666\n"
          ]
        }
      ]
    },
    {
      "cell_type": "markdown",
      "source": [
        "<h3>Conclusion: Important Variables</h3>\n"
      ],
      "metadata": {
        "id": "mG2_Kgfu__YQ"
      }
    },
    {
      "cell_type": "markdown",
      "source": [
        "<p>We now have a better idea of what our data looks like and which variables are important to take into account when predicting the car price. We have narrowed it down to the following variables:</p>\n",
        "\n",
        "Continuous numerical variables:\n",
        "\n",
        "<ul>\n",
        "    <li>Length</li>\n",
        "    <li>Width</li>\n",
        "    <li>Curb-weight</li>\n",
        "    <li>Engine-size</li>\n",
        "    <li>Horsepower</li>\n",
        "    <li>City-mpg</li>\n",
        "    <li>Highway-mpg</li>\n",
        "    <li>Wheel-base</li>\n",
        "    <li>Bore</li>\n",
        "</ul>\n",
        "\n",
        "Categorical variables:\n",
        "\n",
        "<ul>\n",
        "    <li>Drive-wheels</li>\n",
        "</ul>\n",
        "\n",
        "<p>As we now move into building machine learning models to automate our analysis, feeding the model with variables that meaningfully affect our target variable will improve our model's prediction performance.</p>\n"
      ],
      "metadata": {
        "id": "MLQkYcmD__YQ"
      }
    },
    {
      "cell_type": "markdown",
      "source": [
        "### Thank you for completing this lab!\n",
        "\n",
        "## Author\n",
        "\n",
        "<a href=\"https://www.linkedin.com/in/joseph-s-50398b136/?utm_medium=Exinfluencer&utm_source=Exinfluencer&utm_content=000026UJ&utm_term=10006555&utm_id=NA-SkillsNetwork-Channel-SkillsNetworkCoursesIBMDeveloperSkillsNetworkDA0101ENSkillsNetwork20235326-2021-01-01\" target=\"_blank\">Joseph Santarcangelo</a>\n",
        "\n",
        "### Other Contributors\n",
        "\n",
        "<a href=\"https://www.linkedin.com/in/mahdi-noorian-58219234/?utm_medium=Exinfluencer&utm_source=Exinfluencer&utm_content=000026UJ&utm_term=10006555&utm_id=NA-SkillsNetwork-Channel-SkillsNetworkCoursesIBMDeveloperSkillsNetworkDA0101ENSkillsNetwork20235326-2021-01-01\" target=\"_blank\">Mahdi Noorian PhD</a>\n",
        "\n",
        "Bahare Talayian\n",
        "\n",
        "Eric Xiao\n",
        "\n",
        "Steven Dong\n",
        "\n",
        "Parizad\n",
        "\n",
        "Hima Vasudevan\n",
        "\n",
        "<a href=\"https://www.linkedin.com/in/fiorellawever/?utm_medium=Exinfluencer&utm_source=Exinfluencer&utm_content=000026UJ&utm_term=10006555&utm_id=NA-SkillsNetwork-Channel-SkillsNetworkCoursesIBMDeveloperSkillsNetworkDA0101ENSkillsNetwork20235326-2021-01-01\" target=\"_blank\">Fiorella Wenver</a>\n",
        "\n",
        "<a href=\"https:// https://www.linkedin.com/in/yi-leng-yao-84451275/ \" target=\"_blank\" >Yi Yao</a>.\n",
        "\n",
        "## Change Log\n",
        "\n",
        "| Date (YYYY-MM-DD) | Version | Changed By | Change Description                 |\n",
        "| ----------------- | ------- | ---------- | ---------------------------------- |\n",
        "| 2020-10-30        | 2.1     | Lakshmi    | changed URL of csv                 |\n",
        "| 2020-08-27        | 2.0     | Lavanya    | Moved lab to course repo in GitLab |\n",
        "\n",
        "<hr>\n",
        "\n",
        "## <h3 align=\"center\"> © IBM Corporation 2020. All rights reserved. <h3/>\n"
      ],
      "metadata": {
        "id": "yKWFRKVv__YR"
      }
    },
    {
      "cell_type": "markdown",
      "source": [
        "#QUESTIONS MODULE 3\n",
        "\n",
        "Question 1\n",
        "\n",
        "Consider the dataframe \"df\". What method provides the summary statistics?\n",
        "\n",
        ".describe()\n",
        "\n",
        "Question 2\n",
        "\n",
        "Consider the following dataframe:\n",
        "\n",
        "df_test = df['body-style', 'price']\n",
        "\n",
        "The following operation is applied:\n",
        "\n",
        "df_grp = df_test.groupby(['body-style'], as_index=False).mean()\n",
        "\n",
        "What are resulting values of df_grp[‘price’]?\n",
        "\n",
        "\n",
        "The average price for each body style.\n",
        "\n",
        "\n",
        "Question 3\n",
        "\n",
        "Correlation implies causation:\n",
        "\n",
        "FALSE\n",
        "\n",
        "Question 4\n",
        "\n",
        "What is the minimum possible value of Pearson's Correlation?\n",
        "-1\n",
        "\n",
        "\n",
        "Question 5 \n",
        "\n",
        "What is the Pearson correlation between variables X and Y if X=Y:\n",
        "\n",
        "1\n",
        "\n"
      ],
      "metadata": {
        "id": "KZf_UOK0NMKq"
      }
    },
    {
      "cell_type": "markdown",
      "source": [
        "##MODULO 3 FINALIZADO CON EXITO\n",
        "\n",
        "![MODULE 3.PNG](data:image/png;base64,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)"
      ],
      "metadata": {
        "id": "_okwW87KDrKS"
      }
    }
  ],
  "metadata": {
    "anaconda-cloud": {},
    "kernelspec": {
      "display_name": "Python 3",
      "language": "python",
      "name": "python3"
    },
    "language_info": {
      "codemirror_mode": {
        "name": "ipython",
        "version": 3
      },
      "file_extension": ".py",
      "mimetype": "text/x-python",
      "name": "python",
      "nbconvert_exporter": "python",
      "pygments_lexer": "ipython3",
      "version": "3.7.6"
    },
    "colab": {
      "provenance": [],
      "include_colab_link": true
    }
  },
  "nbformat": 4,
  "nbformat_minor": 0
}