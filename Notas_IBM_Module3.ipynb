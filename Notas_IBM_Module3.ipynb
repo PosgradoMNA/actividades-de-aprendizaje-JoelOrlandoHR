{
  "nbformat": 4,
  "nbformat_minor": 0,
  "metadata": {
    "colab": {
      "provenance": [],
      "authorship_tag": "ABX9TyPzY2kc6tgM5231smEBlr17",
      "include_colab_link": true
    },
    "kernelspec": {
      "name": "python3",
      "display_name": "Python 3"
    },
    "language_info": {
      "name": "python"
    }
  },
  "cells": [
    {
      "cell_type": "markdown",
      "metadata": {
        "id": "view-in-github",
        "colab_type": "text"
      },
      "source": [
        "<a href=\"https://colab.research.google.com/github/PosgradoMNA/actividades-de-aprendizaje-JoelOrlandoHR/blob/main/Notas_IBM_Module3.ipynb\" target=\"_parent\"><img src=\"https://colab.research.google.com/assets/colab-badge.svg\" alt=\"Open In Colab\"/></a>"
      ]
    },
    {
      "cell_type": "code",
      "execution_count": null,
      "metadata": {
        "colab": {
          "base_uri": "https://localhost:8080/"
        },
        "id": "UMVrBJKRsABi",
        "outputId": "c8f9c95f-561f-4827-ad4e-84026f869703"
      },
      "outputs": [
        {
          "output_type": "stream",
          "name": "stdout",
          "text": [
            "This is a.\n",
            "This album is Amazing\n",
            "This album is Amazing\n",
            "This album came out in year 1991\n"
          ]
        }
      ],
      "source": [
        "#IBM Conditions and Branching\n",
        "\n",
        "    #Comparison operations compare some value or operand and then give you a boolean result.\n",
        "    #You can use ==, <, >, !=\n",
        "\n",
        "    #Branching can be defined with the if statement.\n",
        "    #Where a conditions  needs to be met for something to happen.\n",
        "    #you can also use the \"else\" statement to set action to happen if the first condition is not met.\n",
        "    #with an \"else if\" you can set a second condition to be evaluated\n",
        "\n",
        "    #Logic Operators:\n",
        "    #not gives you the contrary\n",
        "    #or will only give you false when both conditions are false\n",
        "    #And will only give you true when both conditions are true\n",
        "i=1\n",
        "i!=0 #todos los valores excepto 0\n",
        "\n",
        "\n",
        "\n",
        "\n",
        "x='a'\n",
        "\n",
        "if(x!='a'):\n",
        "  print(\"This is not a.\")\n",
        "else: #En esta caso la condicion on se cumple por lo que el ciclo entra al else.\n",
        "  print(\"This is a.\")\n",
        "\n",
        "rating=8.5 #Just using if\n",
        "if rating>8:\n",
        "    print(\"This album is Amazing\")\n",
        "\n",
        "\n",
        "if rating>8: #adding an else\n",
        "    print(\"This album is Amazing\")\n",
        "else:\n",
        "    print(\"this album is ok\")\n",
        "\n",
        "year_album=1991 #Using operators. The message will be printed when at least one of the three conditions is met.\n",
        "\n",
        "if year_album<1980 or year_album==1991 or year_album==1993: \n",
        "    print(\"This album came out in year\", year_album)\n",
        "    "
      ]
    },
    {
      "cell_type": "code",
      "source": [
        "#IBM Loops \n",
        "    #Range is a function that gives you an ordered sequence, a list, as an output. \n",
        "    #In the range function the output list is (n-1)\n",
        "    #When using the loop \"for\" you have to take in mind that range is (n-1)\n",
        "    #YOu can use the enumarte function to iterate data inside a loop. \n",
        "    #While loop will only run when the condition is met.\n",
        "    #Therefore, in the while loop you dont need to know the values of the data beforehand. \n",
        "\n",
        "\n",
        "A=[3,4,5]\n",
        "\n",
        "for a in A: #this will run all the values in A.\n",
        "  print(a)\n",
        "\n",
        "\n",
        "x=3\n",
        "y=1\n",
        "\n",
        "while(y!=x): #this will run while y reaches 3. \n",
        "  print(y)\n",
        "  y=y+1\n",
        "\n",
        "for i in range (-4,5):  #Prints all the values between -5 and 5\n",
        "  print(i)\n",
        "\n",
        "\n",
        "Genres=[ 'rock', 'R&B', 'Soundtrack', 'R&B', 'soul', 'pop'] #Prints all the values in Genres\n",
        "\n",
        "for i in Genres:\n",
        "    print(i)\n",
        "\n",
        "\n",
        "squares=['red', 'yellow', 'green', 'purple', 'blue'] #prinst all the values in squares\n",
        "\n",
        "for square in squares:\n",
        "    print(square)\n",
        "\n",
        "\n",
        "PlayListRatings = [10, 9.5, 10, 8, 7.5, 5, 10, 10] #This while loop will run until the rating is below 6. \n",
        "i=0\n",
        "\n",
        "while (i < len(PlayListRatings) and PlayListRatings[i] >= 6): #the length condition will allow us to run the while as long as the list. \n",
        "    print(PlayListRatings[i])\n",
        "    i=i+1\n",
        "\n",
        "\n",
        "squares = ['orange', 'orange', 'purple', 'blue ', 'orange'] \n",
        "new_squares = []\n",
        "i=0\n",
        "\n",
        "while (squares[i]==\"orange\" and i<len(squares)):\n",
        "    new_squares.append(squares[i])\n",
        "    print(new_squares)\n",
        "    i=i+1"
      ],
      "metadata": {
        "id": "XUaZio5BCdU7"
      },
      "execution_count": null,
      "outputs": []
    },
    {
      "cell_type": "code",
      "source": [
        "# IBM Functions\n",
        "\n",
        "    #It is a nice way to synthethize your code. Specially if you are using the same procedure over and over.\n",
        "    #Calling a function will automatically pass the task to a parallel set of code lines that will perform that function.\n",
        "    #There are built in functions in python like \"len\", \"sum\", \"sorted\"\n",
        "    #The main difference between functions and method is the output.\n",
        "    #Functions create a new output while methods modify the input. \n",
        "    #To create a function you start with \"def\" followed by the name of the function and the input variables needed.\n",
        "    #Normally, a function returns a value which should be defined at the end of the function.\n",
        "    #However, in case it doesnt. Python will print you \"none\" as an output\n",
        "    #When defining a parameter we could use variadic parameters by placing an * before the paramater for example (*names)\n",
        "    #Variables inside a function have different scopes. Meaning that they can be accesed at different levels. \n",
        "    #Global variables can be accesed anywhere.\n",
        "    #Local variables can be only access within the function. \n",
        "\n",
        "a=1\n",
        "\n",
        "def add(b):   #The function starts here\n",
        "  return a+b   #The function ends here.\n",
        "\n",
        "c=add(10)   #we are calling the function and setting 10 as the input for the function. \n",
        "\n",
        "def f(*x):\n",
        "  return sum(x)\n",
        "\n",
        "def div(a,b):  #Function that divides the first input over the second input.\n",
        "\n",
        "    c=a/b\n",
        "    return c\n",
        "\n",
        "\n",
        "def con(a, b):    #This function will sum both integers and strings.\n",
        "    return(a + b)\n",
        "\n",
        "con(\"Shinee\",\" is the best\")\n",
        "con(2,2)\n",
        "\n"
      ],
      "metadata": {
        "colab": {
          "base_uri": "https://localhost:8080/"
        },
        "id": "ydeDcl5PS4Us",
        "outputId": "71444b0e-ba36-4f46-f18e-9c51ea3354d5"
      },
      "execution_count": null,
      "outputs": [
        {
          "output_type": "execute_result",
          "data": {
            "text/plain": [
              "4"
            ]
          },
          "metadata": {},
          "execution_count": 14
        }
      ]
    },
    {
      "cell_type": "code",
      "source": [
        "#IBM Objects and Classes \n",
        "\n",
        "    #In Python there are several typs of data sets and are all considers OBJECTS.\n",
        "    #All objects have a type, methods, an object as an instance of a type. \n",
        "    #Types can also be consider a class. For example, lists, dictonaires, boolean are classes of objects.\n",
        "    #A class' or type's methods are functions that every instance of that class or type provides. \n",
        "    #an expample is sort. We call a method by placing a \".\" next to out object. \n",
        "    #In Python you can create your own classes by defining your class, giving data attributes\n",
        "\n",
        "    #Example of how to create a class:\n",
        "class Circle(object):\n",
        "\n",
        "  def _init_(self, radius, color): #init is a method to initialize a class. Self refers to the instance and radious and color are the data attributes.\n",
        "   self.radius=radius;\n",
        "   self.color=color;\n",
        "\n",
        "  def add_radius(self, r): #This is a specific method for the Class Circle we created\n",
        "    self.radius=(radius+r);\n",
        "    return (self.radius)\n",
        "\n",
        "  def drawCircle(self):\n",
        "      plt.gca().add_patch(plt.Circle((0, 0), radius=self.radius, fc=self.color)) #This is also a method. \n",
        "      plt.axis('scaled')\n",
        "      plt.show() \n",
        "\n",
        "\n",
        "RedCircle = Circle(10, 'red') # This is how we can create objects for this class\n",
        "RedCircle.radius\n",
        "RedCircle.color #this is how we call the data atributes for the object we created. \n",
        "RedCircle.drawCircle() # this is how we call the method we created for the Class Circle. \n",
        "\n",
        "  #You can user the dir function to access to all the data attributes of an object. \n",
        "\n",
        "class Car(object):\n",
        "    def __init__(self,make,model,color):\n",
        "        self.make=make;\n",
        "        self.model=model;\n",
        "        self.color=color;\n",
        "        self.owner_number=0 \n",
        "    def car_info(self):\n",
        "        print(\"make: \",self.make)\n",
        "        print(\"model:\", self.model)\n",
        "        print(\"color:\",self.color)\n",
        "        print(\"number of owners:\",self.owner_number)\n",
        "    def sell(self):\n",
        "        self.owner_number=self.owner_number+1\n",
        "\n",
        "\n",
        "make=\"Honda\"\n",
        "\n",
        "model=\"Accord\"\n",
        "\n",
        "color=\"blue\"\n",
        "\n",
        "Mycar=Car(\"Honda\",\"Accord\",\"blue\") #There are several ways to attribute this data to the object\n",
        "Mycar=Car(make,model,color) #this is another option\n",
        "Mycar=Car(make=\"Honda\",model=\"Accord\",color=\"blue\") #this is another option\n",
        "Mycar.make\n",
        "\n"
      ],
      "metadata": {
        "colab": {
          "base_uri": "https://localhost:8080/",
          "height": 35
        },
        "id": "kVHEVfq1bOTR",
        "outputId": "de313134-f426-460f-ce23-e2b3228e5777"
      },
      "execution_count": null,
      "outputs": [
        {
          "output_type": "execute_result",
          "data": {
            "text/plain": [
              "'Honda'"
            ],
            "application/vnd.google.colaboratory.intrinsic+json": {
              "type": "string"
            }
          },
          "metadata": {},
          "execution_count": 18
        }
      ]
    },
    {
      "cell_type": "code",
      "source": [
        "class analysedText(object): #code for the lab exercise \n",
        "\n",
        "  def __init__(self, text):\n",
        "    self.text=text;\n",
        "\n",
        "    \n",
        "    punctuation=[\",\",\"!\",\".\",\"?\"]  # decided to create a list and evaluate with a loop\n",
        "    \n",
        "    for i in punctuation:\n",
        "      original_text= text.replace(i, '')\n",
        "      text=original_text\n",
        "    \n",
        "    original_text= original_text.lower() \n",
        "    \n",
        "    self.fmtText=original_text; #assigned the value to a new value\n",
        "\n",
        "  def freqAll(self):    #creates a new method\n",
        "        # split text into words\n",
        "        wordList = self.fmtText.split(' ')\n",
        "        \n",
        "        # Create dictionary\n",
        "        freqMap = {}\n",
        "        for word in set(wordList): # use set to remove duplicates in list\n",
        "            freqMap[word] = wordList.count(word) #it is important to notice that words will be the keys in the dictionary\n",
        "        \n",
        "        return freqMap\n",
        "    \n",
        "  def freqOf(self,word):\n",
        "        # get frequency map\n",
        "        freqDict = self.freqAll()\n",
        "        \n",
        "        if word in freqDict:\n",
        "            return freqDict[word]\n",
        "        else:\n",
        "            return 0\n",
        "    "
      ],
      "metadata": {
        "id": "9rvre6UMEPYW"
      },
      "execution_count": 74,
      "outputs": []
    },
    {
      "cell_type": "code",
      "source": [
        "\n",
        "  def fmtText(self, text):        \n",
        "    punctuation=[\",\",\"!\",\".\",\"?\"]\n",
        "    for i in punctuation:\n",
        "      text.replace(punctuation[i], \"a\")\n",
        "      print(text)\n",
        "        \n",
        "    lower_text=lower(text)\n",
        "    self.fmtText=lower_text "
      ],
      "metadata": {
        "id": "79XGH95bN3lF"
      },
      "execution_count": null,
      "outputs": []
    },
    {
      "cell_type": "code",
      "source": [
        "#IBM MODULE 3 REVIEW QUESTIONS:\n",
        "#Exercise 1\n",
        "x=1\n",
        "\n",
        "if(x!=1): #Condition is not met\n",
        "\n",
        "  print('Hello')\n",
        "\n",
        "else:\n",
        "  print('Hi')\n",
        "\n",
        "print('Mike')\n",
        "#Exercise 2\n",
        "A = ['1','2','3'] #Note that this are strings. Therefore this will be duplicated but not doubled.\n",
        "\n",
        "for a in A:\n",
        "\n",
        "  print(2*a)\n",
        "\n",
        "#Exercise 3\n",
        "\n",
        "def Delta(x):\n",
        "\n",
        "  if x==0:\n",
        "\n",
        "    y=1;\n",
        "\n",
        "  else:\n",
        "\n",
        "   y=0;\n",
        "\n",
        "  return(y)\n",
        "#Exercise 4\n",
        "\n",
        "B=[2,3,4,5,6,5,3,234,23,]\n",
        "\n",
        "B.sort()\n",
        "B"
      ],
      "metadata": {
        "colab": {
          "base_uri": "https://localhost:8080/"
        },
        "id": "elblDLAYbOZu",
        "outputId": "814a9aa0-dcb4-47bf-a2c0-46082e3e0e56"
      },
      "execution_count": null,
      "outputs": [
        {
          "output_type": "stream",
          "name": "stdout",
          "text": [
            "Hi\n",
            "Mike\n",
            "11\n",
            "22\n",
            "33\n"
          ]
        },
        {
          "output_type": "execute_result",
          "data": {
            "text/plain": [
              "[2, 3, 3, 4, 5, 5, 6, 23, 234]"
            ]
          },
          "metadata": {},
          "execution_count": 21
        }
      ]
    }
  ]
}