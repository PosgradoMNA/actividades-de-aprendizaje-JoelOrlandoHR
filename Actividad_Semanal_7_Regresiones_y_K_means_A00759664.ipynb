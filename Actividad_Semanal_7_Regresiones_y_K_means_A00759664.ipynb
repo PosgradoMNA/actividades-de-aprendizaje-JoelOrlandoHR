{
  "nbformat": 4,
  "nbformat_minor": 0,
  "metadata": {
    "kernelspec": {
      "display_name": "Python 3",
      "language": "python",
      "name": "python3"
    },
    "language_info": {
      "codemirror_mode": {
        "name": "ipython",
        "version": 3
      },
      "file_extension": ".py",
      "mimetype": "text/x-python",
      "name": "python",
      "nbconvert_exporter": "python",
      "pygments_lexer": "ipython3",
      "version": "3.7.7"
    },
    "colab": {
      "provenance": [],
      "include_colab_link": true
    },
    "accelerator": "GPU"
  },
  "cells": [
    {
      "cell_type": "markdown",
      "metadata": {
        "id": "view-in-github",
        "colab_type": "text"
      },
      "source": [
        "<a href=\"https://colab.research.google.com/github/PosgradoMNA/actividades-de-aprendizaje-JoelOrlandoHR/blob/main/Actividad_Semanal_7_Regresiones_y_K_means_A00759664.ipynb\" target=\"_parent\"><img src=\"https://colab.research.google.com/assets/colab-badge.svg\" alt=\"Open In Colab\"/></a>"
      ]
    },
    {
      "cell_type": "markdown",
      "source": [
        "#**Maestría en Inteligencia Artificial Aplicada**\n",
        "##**Curso: Ciencia y analítica de datos**\n",
        "###Tecnológico de Monterrey\n",
        "### **Semana 7** - **Actividad Semanal 7 - Regresiones y K Mean**\n",
        "###Prof Jobish Vallikavungal Devassia\n",
        "<br>\n",
        "\n",
        "###Alumno: Joel Orlando Hernández Ramos\n",
        "###Matrícula: A00759664\n",
        "\n",
        "\n",
        "\n",
        "Fecha de entrega: Noviembre 9, 2022"
      ],
      "metadata": {
        "id": "Ie-dbW3HdZtx"
      }
    },
    {
      "cell_type": "markdown",
      "metadata": {
        "id": "WUO-kdryVQwK"
      },
      "source": [
        "# Linear Models\n"
      ]
    },
    {
      "cell_type": "markdown",
      "metadata": {
        "id": "u3ytB4LpVQwM"
      },
      "source": [
        "- In supervised learning, the training data fed to the algorithm includes the desired solutions, called labels. \n",
        "- In **regression**, the labels are continuous quantities.\n",
        "- Linear models predict by computing a weighted sum of input features plus a bias term."
      ]
    },
    {
      "cell_type": "code",
      "metadata": {
        "id": "HMp_I4Y6VQwN"
      },
      "source": [
        "import numpy as np\n",
        "%matplotlib inline\n",
        "import matplotlib\n",
        "import matplotlib.pyplot as plt\n",
        "import pandas as pd\n",
        "import seaborn as sns\n",
        "from sklearn.linear_model import LinearRegression, Lasso, Ridge, ElasticNet\n",
        "# to make this notebook's output stable across runs\n",
        "np.random.seed(42)"
      ],
      "execution_count": 1,
      "outputs": []
    },
    {
      "cell_type": "markdown",
      "metadata": {
        "id": "szpzFXgiVQwN"
      },
      "source": [
        "## Simple Linear Regression\n",
        "\n",
        "Simple linear regression equation:\n",
        "\n",
        "$y = ax + b$\n",
        "<br>\n",
        "$a$: slope\n",
        "<br>\n",
        "$b$: intercept\n",
        "\n",
        "Generate linear-looking data with the equation:\n",
        "\n",
        "$y = 3X + 4 + noise$"
      ]
    },
    {
      "cell_type": "code",
      "metadata": {
        "colab": {
          "base_uri": "https://localhost:8080/"
        },
        "id": "mitJFYeiMQqD",
        "outputId": "2246c558-6ce0-49e5-c864-6293f4382e4f"
      },
      "source": [
        "np.random.rand(100, 1)"
      ],
      "execution_count": 2,
      "outputs": [
        {
          "output_type": "execute_result",
          "data": {
            "text/plain": [
              "array([[0.37454012],\n",
              "       [0.95071431],\n",
              "       [0.73199394],\n",
              "       [0.59865848],\n",
              "       [0.15601864],\n",
              "       [0.15599452],\n",
              "       [0.05808361],\n",
              "       [0.86617615],\n",
              "       [0.60111501],\n",
              "       [0.70807258],\n",
              "       [0.02058449],\n",
              "       [0.96990985],\n",
              "       [0.83244264],\n",
              "       [0.21233911],\n",
              "       [0.18182497],\n",
              "       [0.18340451],\n",
              "       [0.30424224],\n",
              "       [0.52475643],\n",
              "       [0.43194502],\n",
              "       [0.29122914],\n",
              "       [0.61185289],\n",
              "       [0.13949386],\n",
              "       [0.29214465],\n",
              "       [0.36636184],\n",
              "       [0.45606998],\n",
              "       [0.78517596],\n",
              "       [0.19967378],\n",
              "       [0.51423444],\n",
              "       [0.59241457],\n",
              "       [0.04645041],\n",
              "       [0.60754485],\n",
              "       [0.17052412],\n",
              "       [0.06505159],\n",
              "       [0.94888554],\n",
              "       [0.96563203],\n",
              "       [0.80839735],\n",
              "       [0.30461377],\n",
              "       [0.09767211],\n",
              "       [0.68423303],\n",
              "       [0.44015249],\n",
              "       [0.12203823],\n",
              "       [0.49517691],\n",
              "       [0.03438852],\n",
              "       [0.9093204 ],\n",
              "       [0.25877998],\n",
              "       [0.66252228],\n",
              "       [0.31171108],\n",
              "       [0.52006802],\n",
              "       [0.54671028],\n",
              "       [0.18485446],\n",
              "       [0.96958463],\n",
              "       [0.77513282],\n",
              "       [0.93949894],\n",
              "       [0.89482735],\n",
              "       [0.59789998],\n",
              "       [0.92187424],\n",
              "       [0.0884925 ],\n",
              "       [0.19598286],\n",
              "       [0.04522729],\n",
              "       [0.32533033],\n",
              "       [0.38867729],\n",
              "       [0.27134903],\n",
              "       [0.82873751],\n",
              "       [0.35675333],\n",
              "       [0.28093451],\n",
              "       [0.54269608],\n",
              "       [0.14092422],\n",
              "       [0.80219698],\n",
              "       [0.07455064],\n",
              "       [0.98688694],\n",
              "       [0.77224477],\n",
              "       [0.19871568],\n",
              "       [0.00552212],\n",
              "       [0.81546143],\n",
              "       [0.70685734],\n",
              "       [0.72900717],\n",
              "       [0.77127035],\n",
              "       [0.07404465],\n",
              "       [0.35846573],\n",
              "       [0.11586906],\n",
              "       [0.86310343],\n",
              "       [0.62329813],\n",
              "       [0.33089802],\n",
              "       [0.06355835],\n",
              "       [0.31098232],\n",
              "       [0.32518332],\n",
              "       [0.72960618],\n",
              "       [0.63755747],\n",
              "       [0.88721274],\n",
              "       [0.47221493],\n",
              "       [0.11959425],\n",
              "       [0.71324479],\n",
              "       [0.76078505],\n",
              "       [0.5612772 ],\n",
              "       [0.77096718],\n",
              "       [0.4937956 ],\n",
              "       [0.52273283],\n",
              "       [0.42754102],\n",
              "       [0.02541913],\n",
              "       [0.10789143]])"
            ]
          },
          "metadata": {},
          "execution_count": 2
        }
      ]
    },
    {
      "cell_type": "code",
      "metadata": {
        "colab": {
          "base_uri": "https://localhost:8080/",
          "height": 265
        },
        "id": "QyubE1VEVQwN",
        "outputId": "b1ff55bd-5ad9-4297-cbaa-c7903bd3436d"
      },
      "source": [
        "X = 2*np.random.rand(100, 1)\n",
        "y = 4 + 3 * X + np.random.randn(100, 1)\n",
        "plt.scatter(X, y);"
      ],
      "execution_count": 3,
      "outputs": [
        {
          "output_type": "display_data",
          "data": {
            "text/plain": [
              "<Figure size 432x288 with 1 Axes>"
            ],
            "image/png": "[encoded data removed]"
          },
          "metadata": {
            "needs_background": "light"
          }
        }
      ]
    },
    {
      "cell_type": "code",
      "source": [
        "import pandas as pd\n",
        "pd.DataFrame(y)"
      ],
      "metadata": {
        "colab": {
          "base_uri": "https://localhost:8080/",
          "height": 424
        },
        "id": "M5kaENJ4bZY5",
        "outputId": "de6f0c42-5600-4762-a394-0f9bd0062fcb"
      },
      "execution_count": 4,
      "outputs": [
        {
          "output_type": "execute_result",
          "data": {
            "text/plain": [
              "            0\n",
              "0    3.508550\n",
              "1    8.050716\n",
              "2    6.179208\n",
              "3    6.337073\n",
              "4   11.311173\n",
              "..        ...\n",
              "95   5.441928\n",
              "96  10.121188\n",
              "97   9.787643\n",
              "98   8.061635\n",
              "99   9.597115\n",
              "\n",
              "[100 rows x 1 columns]"
            ],
            "text/html": [
              "\n",
              "  <div id=\"df-918b93a7-eaff-48fb-8cbf-3685f62838bb\">\n",
              "    <div class=\"colab-df-container\">\n",
              "      <div>\n",
              "<style scoped>\n",
              "    .dataframe tbody tr th:only-of-type {\n",
              "        vertical-align: middle;\n",
              "    }\n",
              "\n",
              "    .dataframe tbody tr th {\n",
              "        vertical-align: top;\n",
              "    }\n",
              "\n",
              "    .dataframe thead th {\n",
              "        text-align: right;\n",
              "    }\n",
              "</style>\n",
              "<table border=\"1\" class=\"dataframe\">\n",
              "  <thead>\n",
              "    <tr style=\"text-align: right;\">\n",
              "      <th></th>\n",
              "      <th>0</th>\n",
              "    </tr>\n",
              "  </thead>\n",
              "  <tbody>\n",
              "    <tr>\n",
              "      <th>0</th>\n",
              "      <td>3.508550</td>\n",
              "    </tr>\n",
              "    <tr>\n",
              "      <th>1</th>\n",
              "      <td>8.050716</td>\n",
              "    </tr>\n",
              "    <tr>\n",
              "      <th>2</th>\n",
              "      <td>6.179208</td>\n",
              "    </tr>\n",
              "    <tr>\n",
              "      <th>3</th>\n",
              "      <td>6.337073</td>\n",
              "    </tr>\n",
              "    <tr>\n",
              "      <th>4</th>\n",
              "      <td>11.311173</td>\n",
              "    </tr>\n",
              "    <tr>\n",
              "      <th>...</th>\n",
              "      <td>...</td>\n",
              "    </tr>\n",
              "    <tr>\n",
              "      <th>95</th>\n",
              "      <td>5.441928</td>\n",
              "    </tr>\n",
              "    <tr>\n",
              "      <th>96</th>\n",
              "      <td>10.121188</td>\n",
              "    </tr>\n",
              "    <tr>\n",
              "      <th>97</th>\n",
              "      <td>9.787643</td>\n",
              "    </tr>\n",
              "    <tr>\n",
              "      <th>98</th>\n",
              "      <td>8.061635</td>\n",
              "    </tr>\n",
              "    <tr>\n",
              "      <th>99</th>\n",
              "      <td>9.597115</td>\n",
              "    </tr>\n",
              "  </tbody>\n",
              "</table>\n",
              "<p>100 rows × 1 columns</p>\n",
              "</div>\n",
              "      <button class=\"colab-df-convert\" onclick=\"convertToInteractive('df-918b93a7-eaff-48fb-8cbf-3685f62838bb')\"\n",
              "              title=\"Convert this dataframe to an interactive table.\"\n",
              "              style=\"display:none;\">\n",
              "        \n",
              "  <svg xmlns=\"http://www.w3.org/2000/svg\" height=\"24px\"viewBox=\"0 0 24 24\"\n",
              "       width=\"24px\">\n",
              "    <path d=\"M0 0h24v24H0V0z\" fill=\"none\"/>\n",
              "    <path d=\"M18.56 5.44l.94 2.06.94-2.06 2.06-.94-2.06-.94-.94-2.06-.94 2.06-2.06.94zm-11 1L8.5 8.5l.94-2.06 2.06-.94-2.06-.94L8.5 2.5l-.94 2.06-2.06.94zm10 10l.94 2.06.94-2.06 2.06-.94-2.06-.94-.94-2.06-.94 2.06-2.06.94z\"/><path d=\"M17.41 7.96l-1.37-1.37c-.4-.4-.92-.59-1.43-.59-.52 0-1.04.2-1.43.59L10.3 9.45l-7.72 7.72c-.78.78-.78 2.05 0 2.83L4 21.41c.39.39.9.59 1.41.59.51 0 1.02-.2 1.41-.59l7.78-7.78 2.81-2.81c.8-.78.8-2.07 0-2.86zM5.41 20L4 18.59l7.72-7.72 1.47 1.35L5.41 20z\"/>\n",
              "  </svg>\n",
              "      </button>\n",
              "      \n",
              "  <style>\n",
              "    .colab-df-container {\n",
              "      display:flex;\n",
              "      flex-wrap:wrap;\n",
              "      gap: 12px;\n",
              "    }\n",
              "\n",
              "    .colab-df-convert {\n",
              "      background-color: #E8F0FE;\n",
              "      border: none;\n",
              "      border-radius: 50%;\n",
              "      cursor: pointer;\n",
              "      display: none;\n",
              "      fill: #1967D2;\n",
              "      height: 32px;\n",
              "      padding: 0 0 0 0;\n",
              "      width: 32px;\n",
              "    }\n",
              "\n",
              "    .colab-df-convert:hover {\n",
              "      background-color: #E2EBFA;\n",
              "      box-shadow: 0px 1px 2px rgba(60, 64, 67, 0.3), 0px 1px 3px 1px rgba(60, 64, 67, 0.15);\n",
              "      fill: #174EA6;\n",
              "    }\n",
              "\n",
              "    [theme=dark] .colab-df-convert {\n",
              "      background-color: #3B4455;\n",
              "      fill: #D2E3FC;\n",
              "    }\n",
              "\n",
              "    [theme=dark] .colab-df-convert:hover {\n",
              "      background-color: #434B5C;\n",
              "      box-shadow: 0px 1px 3px 1px rgba(0, 0, 0, 0.15);\n",
              "      filter: drop-shadow(0px 1px 2px rgba(0, 0, 0, 0.3));\n",
              "      fill: #FFFFFF;\n",
              "    }\n",
              "  </style>\n",
              "\n",
              "      <script>\n",
              "        const buttonEl =\n",
              "          document.querySelector('#df-918b93a7-eaff-48fb-8cbf-3685f62838bb button.colab-df-convert');\n",
              "        buttonEl.style.display =\n",
              "          google.colab.kernel.accessAllowed ? 'block' : 'none';\n",
              "\n",
              "        async function convertToInteractive(key) {\n",
              "          const element = document.querySelector('#df-918b93a7-eaff-48fb-8cbf-3685f62838bb');\n",
              "          const dataTable =\n",
              "            await google.colab.kernel.invokeFunction('convertToInteractive',\n",
              "                                                     [key], {});\n",
              "          if (!dataTable) return;\n",
              "\n",
              "          const docLinkHtml = 'Like what you see? Visit the ' +\n",
              "            '<a target=\"_blank\" href=https://colab.research.google.com/notebooks/data_table.ipynb>data table notebook</a>'\n",
              "            + ' to learn more about interactive tables.';\n",
              "          element.innerHTML = '';\n",
              "          dataTable['output_type'] = 'display_data';\n",
              "          await google.colab.output.renderOutput(dataTable, element);\n",
              "          const docLink = document.createElement('div');\n",
              "          docLink.innerHTML = docLinkHtml;\n",
              "          element.appendChild(docLink);\n",
              "        }\n",
              "      </script>\n",
              "    </div>\n",
              "  </div>\n",
              "  "
            ]
          },
          "metadata": {},
          "execution_count": 4
        }
      ]
    },
    {
      "cell_type": "code",
      "metadata": {
        "colab": {
          "base_uri": "https://localhost:8080/"
        },
        "id": "x6XGt_iAVQwO",
        "outputId": "91607ed5-205f-4c50-8d85-26ee4c1efd5e"
      },
      "source": [
        "from sklearn.linear_model import LinearRegression\n",
        "\n",
        "linear_reg = LinearRegression(fit_intercept=True)\n",
        "linear_reg.fit(X, y)"
      ],
      "execution_count": 5,
      "outputs": [
        {
          "output_type": "execute_result",
          "data": {
            "text/plain": [
              "LinearRegression()"
            ]
          },
          "metadata": {},
          "execution_count": 5
        }
      ]
    },
    {
      "cell_type": "markdown",
      "metadata": {
        "id": "Hnm9YgjbVQwO"
      },
      "source": [
        "Plot the model's predictions:"
      ]
    },
    {
      "cell_type": "code",
      "metadata": {
        "id": "9NtrLfGGVQwP"
      },
      "source": [
        "#X_fit[]"
      ],
      "execution_count": 6,
      "outputs": []
    },
    {
      "cell_type": "code",
      "metadata": {
        "colab": {
          "base_uri": "https://localhost:8080/",
          "height": 287
        },
        "id": "1ZTT31igVQwP",
        "outputId": "aef7aebd-3e25-433a-92f4-693c0dfe6275"
      },
      "source": [
        "# construct best fit line\n",
        "X_fit = np.linspace(0, 2, 100)\n",
        "y_fit = linear_reg.predict(X_fit[:, np.newaxis])\n",
        "\n",
        "plt.scatter(X, y)\n",
        "plt.plot(X_fit, y_fit, \"r-\", linewidth=2, label=\"Predictions\")\n",
        "plt.xlabel(\"$X$\", fontsize=18)\n",
        "plt.ylabel(\"$y$\", rotation=0, fontsize=18)\n",
        "plt.legend(loc=\"upper left\", fontsize=14);"
      ],
      "execution_count": 7,
      "outputs": [
        {
          "output_type": "display_data",
          "data": {
            "text/plain": [
              "<Figure size 432x288 with 1 Axes>"
            ],
            "image/png": "[encoded data removed]"
          },
          "metadata": {
            "needs_background": "light"
          }
        }
      ]
    },
    {
      "cell_type": "markdown",
      "metadata": {
        "id": "kIfOsEcWVQwP"
      },
      "source": [
        "Predictions are a good fit."
      ]
    },
    {
      "cell_type": "markdown",
      "metadata": {
        "id": "z2VYUeGrVQwQ"
      },
      "source": [
        "Generate new data to make predictions with the model:"
      ]
    },
    {
      "cell_type": "code",
      "metadata": {
        "colab": {
          "base_uri": "https://localhost:8080/"
        },
        "id": "FuEd0Wp0VQwQ",
        "outputId": "781d2ea4-ffde-4144-db6e-fb45558e6d0a"
      },
      "source": [
        "X_new = np.array([[0], [2]])\n",
        "X_new"
      ],
      "execution_count": 8,
      "outputs": [
        {
          "output_type": "execute_result",
          "data": {
            "text/plain": [
              "array([[0],\n",
              "       [2]])"
            ]
          },
          "metadata": {},
          "execution_count": 8
        }
      ]
    },
    {
      "cell_type": "code",
      "metadata": {
        "colab": {
          "base_uri": "https://localhost:8080/"
        },
        "id": "lLCnLm7_VQwQ",
        "outputId": "dc2a1d44-1153-4e5b-f84c-fd5872f98c05"
      },
      "source": [
        "X_new.shape"
      ],
      "execution_count": 9,
      "outputs": [
        {
          "output_type": "execute_result",
          "data": {
            "text/plain": [
              "(2, 1)"
            ]
          },
          "metadata": {},
          "execution_count": 9
        }
      ]
    },
    {
      "cell_type": "code",
      "metadata": {
        "colab": {
          "base_uri": "https://localhost:8080/"
        },
        "id": "zJIzUfZsVQwQ",
        "outputId": "d7b417c3-b353-4c01-c680-70c94b0033ea"
      },
      "source": [
        "y_new = linear_reg.predict(X_new)\n",
        "y_new"
      ],
      "execution_count": 10,
      "outputs": [
        {
          "output_type": "execute_result",
          "data": {
            "text/plain": [
              "array([[ 3.74406122],\n",
              "       [10.47517611]])"
            ]
          },
          "metadata": {},
          "execution_count": 10
        }
      ]
    },
    {
      "cell_type": "code",
      "metadata": {
        "colab": {
          "base_uri": "https://localhost:8080/"
        },
        "id": "ICiEnkbdVQwQ",
        "outputId": "c6620b20-c75a-40da-ad49-8b6b25ff400c"
      },
      "source": [
        " linear_reg.coef_, linear_reg.intercept_"
      ],
      "execution_count": 11,
      "outputs": [
        {
          "output_type": "execute_result",
          "data": {
            "text/plain": [
              "(array([[3.36555744]]), array([3.74406122]))"
            ]
          },
          "metadata": {},
          "execution_count": 11
        }
      ]
    },
    {
      "cell_type": "markdown",
      "metadata": {
        "id": "iBXzOecgVQwR"
      },
      "source": [
        "The model estimates:\n",
        "\n",
        "$\\hat{y} = 3.36X + 3.74$"
      ]
    },
    {
      "cell_type": "code",
      "metadata": {
        "id": "ZNvipq0wQYfj"
      },
      "source": [
        "#|VENTAS|GANANCIAS|\n",
        "#COEF*VENTAS+B\n",
        "#|VENTAS|COMPRAS|GANANCIAS|\n",
        "#COEF1*X1+COEF2*X2+B=Y"
      ],
      "execution_count": 12,
      "outputs": []
    },
    {
      "cell_type": "markdown",
      "metadata": {
        "id": "_Rv-RJSnVQwR"
      },
      "source": [
        "## Polynomial Regression\n",
        "\n",
        "If data is more complex than a straight line, you can use a linear model ti fit non-linear data adding powers of each feature as new features and then train a linear model on the extended set of features. "
      ]
    },
    {
      "cell_type": "markdown",
      "metadata": {
        "id": "dPrpAVsZVQwR"
      },
      "source": [
        "$$y = a_0 + a_1x_1 + a_2x_2 + a_3x_3 + ...$$ to $$y = a_0 + a_1x + a_2x^2 + a_3x^3+ ...$$ "
      ]
    },
    {
      "cell_type": "markdown",
      "metadata": {
        "id": "9kjMWzEfVQwR"
      },
      "source": [
        "This is still a linear model, the linearity refers to the fact that the coefficients never multiply or divide each other."
      ]
    },
    {
      "cell_type": "markdown",
      "metadata": {
        "id": "2M3fp_CSVQwR"
      },
      "source": [
        "To generate polynomial data we use the function:\n",
        "\n",
        "$y = 0.50X^2 + X + 2 + noise$"
      ]
    },
    {
      "cell_type": "code",
      "metadata": {
        "id": "sSrueMnPVQwR"
      },
      "source": [
        "# generate non-linear data e.g. quadratic equation\n",
        "m = 100\n",
        "X = 6 * np.random.rand(m, 1) - 3\n",
        "y = 0.5 * X**2 + X + 2 + np.random.randn(m, 1)"
      ],
      "execution_count": 13,
      "outputs": []
    },
    {
      "cell_type": "code",
      "metadata": {
        "colab": {
          "base_uri": "https://localhost:8080/",
          "height": 291
        },
        "id": "GNQQoXkMVQwS",
        "outputId": "f24145b3-a550-4e01-8403-a20eaa2cc4ca"
      },
      "source": [
        "plt.plot(X, y, \"b.\")\n",
        "plt.xlabel(\"$x_1$\", fontsize=18)\n",
        "plt.ylabel(\"$y$\", rotation=0, fontsize=18)\n",
        "plt.axis([-3, 3, 0, 10]);"
      ],
      "execution_count": 14,
      "outputs": [
        {
          "output_type": "display_data",
          "data": {
            "text/plain": [
              "<Figure size 432x288 with 1 Axes>"
            ],
            "image/png": "[encoded data removed]"
          },
          "metadata": {
            "needs_background": "light"
          }
        }
      ]
    },
    {
      "cell_type": "code",
      "source": [
        "import pandas as pd\n",
        "pd.DataFrame(y)"
      ],
      "metadata": {
        "id": "YtaK_dsidNcP",
        "outputId": "d23febc6-37ee-4d90-bc37-6eee728fe7e8",
        "colab": {
          "base_uri": "https://localhost:8080/",
          "height": 424
        }
      },
      "execution_count": 15,
      "outputs": [
        {
          "output_type": "execute_result",
          "data": {
            "text/plain": [
              "           0\n",
              "0   8.529240\n",
              "1   3.768929\n",
              "2   3.354423\n",
              "3   2.747935\n",
              "4   0.808458\n",
              "..       ...\n",
              "95  5.346771\n",
              "96  6.338229\n",
              "97  3.488785\n",
              "98  1.372002\n",
              "99 -0.072150\n",
              "\n",
              "[100 rows x 1 columns]"
            ],
            "text/html": [
              "\n",
              "  <div id=\"df-b4d9cbb4-772b-4035-aa89-14746df2c0d8\">\n",
              "    <div class=\"colab-df-container\">\n",
              "      <div>\n",
              "<style scoped>\n",
              "    .dataframe tbody tr th:only-of-type {\n",
              "        vertical-align: middle;\n",
              "    }\n",
              "\n",
              "    .dataframe tbody tr th {\n",
              "        vertical-align: top;\n",
              "    }\n",
              "\n",
              "    .dataframe thead th {\n",
              "        text-align: right;\n",
              "    }\n",
              "</style>\n",
              "<table border=\"1\" class=\"dataframe\">\n",
              "  <thead>\n",
              "    <tr style=\"text-align: right;\">\n",
              "      <th></th>\n",
              "      <th>0</th>\n",
              "    </tr>\n",
              "  </thead>\n",
              "  <tbody>\n",
              "    <tr>\n",
              "      <th>0</th>\n",
              "      <td>8.529240</td>\n",
              "    </tr>\n",
              "    <tr>\n",
              "      <th>1</th>\n",
              "      <td>3.768929</td>\n",
              "    </tr>\n",
              "    <tr>\n",
              "      <th>2</th>\n",
              "      <td>3.354423</td>\n",
              "    </tr>\n",
              "    <tr>\n",
              "      <th>3</th>\n",
              "      <td>2.747935</td>\n",
              "    </tr>\n",
              "    <tr>\n",
              "      <th>4</th>\n",
              "      <td>0.808458</td>\n",
              "    </tr>\n",
              "    <tr>\n",
              "      <th>...</th>\n",
              "      <td>...</td>\n",
              "    </tr>\n",
              "    <tr>\n",
              "      <th>95</th>\n",
              "      <td>5.346771</td>\n",
              "    </tr>\n",
              "    <tr>\n",
              "      <th>96</th>\n",
              "      <td>6.338229</td>\n",
              "    </tr>\n",
              "    <tr>\n",
              "      <th>97</th>\n",
              "      <td>3.488785</td>\n",
              "    </tr>\n",
              "    <tr>\n",
              "      <th>98</th>\n",
              "      <td>1.372002</td>\n",
              "    </tr>\n",
              "    <tr>\n",
              "      <th>99</th>\n",
              "      <td>-0.072150</td>\n",
              "    </tr>\n",
              "  </tbody>\n",
              "</table>\n",
              "<p>100 rows × 1 columns</p>\n",
              "</div>\n",
              "      <button class=\"colab-df-convert\" onclick=\"convertToInteractive('df-b4d9cbb4-772b-4035-aa89-14746df2c0d8')\"\n",
              "              title=\"Convert this dataframe to an interactive table.\"\n",
              "              style=\"display:none;\">\n",
              "        \n",
              "  <svg xmlns=\"http://www.w3.org/2000/svg\" height=\"24px\"viewBox=\"0 0 24 24\"\n",
              "       width=\"24px\">\n",
              "    <path d=\"M0 0h24v24H0V0z\" fill=\"none\"/>\n",
              "    <path d=\"M18.56 5.44l.94 2.06.94-2.06 2.06-.94-2.06-.94-.94-2.06-.94 2.06-2.06.94zm-11 1L8.5 8.5l.94-2.06 2.06-.94-2.06-.94L8.5 2.5l-.94 2.06-2.06.94zm10 10l.94 2.06.94-2.06 2.06-.94-2.06-.94-.94-2.06-.94 2.06-2.06.94z\"/><path d=\"M17.41 7.96l-1.37-1.37c-.4-.4-.92-.59-1.43-.59-.52 0-1.04.2-1.43.59L10.3 9.45l-7.72 7.72c-.78.78-.78 2.05 0 2.83L4 21.41c.39.39.9.59 1.41.59.51 0 1.02-.2 1.41-.59l7.78-7.78 2.81-2.81c.8-.78.8-2.07 0-2.86zM5.41 20L4 18.59l7.72-7.72 1.47 1.35L5.41 20z\"/>\n",
              "  </svg>\n",
              "      </button>\n",
              "      \n",
              "  <style>\n",
              "    .colab-df-container {\n",
              "      display:flex;\n",
              "      flex-wrap:wrap;\n",
              "      gap: 12px;\n",
              "    }\n",
              "\n",
              "    .colab-df-convert {\n",
              "      background-color: #E8F0FE;\n",
              "      border: none;\n",
              "      border-radius: 50%;\n",
              "      cursor: pointer;\n",
              "      display: none;\n",
              "      fill: #1967D2;\n",
              "      height: 32px;\n",
              "      padding: 0 0 0 0;\n",
              "      width: 32px;\n",
              "    }\n",
              "\n",
              "    .colab-df-convert:hover {\n",
              "      background-color: #E2EBFA;\n",
              "      box-shadow: 0px 1px 2px rgba(60, 64, 67, 0.3), 0px 1px 3px 1px rgba(60, 64, 67, 0.15);\n",
              "      fill: #174EA6;\n",
              "    }\n",
              "\n",
              "    [theme=dark] .colab-df-convert {\n",
              "      background-color: #3B4455;\n",
              "      fill: #D2E3FC;\n",
              "    }\n",
              "\n",
              "    [theme=dark] .colab-df-convert:hover {\n",
              "      background-color: #434B5C;\n",
              "      box-shadow: 0px 1px 3px 1px rgba(0, 0, 0, 0.15);\n",
              "      filter: drop-shadow(0px 1px 2px rgba(0, 0, 0, 0.3));\n",
              "      fill: #FFFFFF;\n",
              "    }\n",
              "  </style>\n",
              "\n",
              "      <script>\n",
              "        const buttonEl =\n",
              "          document.querySelector('#df-b4d9cbb4-772b-4035-aa89-14746df2c0d8 button.colab-df-convert');\n",
              "        buttonEl.style.display =\n",
              "          google.colab.kernel.accessAllowed ? 'block' : 'none';\n",
              "\n",
              "        async function convertToInteractive(key) {\n",
              "          const element = document.querySelector('#df-b4d9cbb4-772b-4035-aa89-14746df2c0d8');\n",
              "          const dataTable =\n",
              "            await google.colab.kernel.invokeFunction('convertToInteractive',\n",
              "                                                     [key], {});\n",
              "          if (!dataTable) return;\n",
              "\n",
              "          const docLinkHtml = 'Like what you see? Visit the ' +\n",
              "            '<a target=\"_blank\" href=https://colab.research.google.com/notebooks/data_table.ipynb>data table notebook</a>'\n",
              "            + ' to learn more about interactive tables.';\n",
              "          element.innerHTML = '';\n",
              "          dataTable['output_type'] = 'display_data';\n",
              "          await google.colab.output.renderOutput(dataTable, element);\n",
              "          const docLink = document.createElement('div');\n",
              "          docLink.innerHTML = docLinkHtml;\n",
              "          element.appendChild(docLink);\n",
              "        }\n",
              "      </script>\n",
              "    </div>\n",
              "  </div>\n",
              "  "
            ]
          },
          "metadata": {},
          "execution_count": 15
        }
      ]
    },
    {
      "cell_type": "markdown",
      "metadata": {
        "id": "vrZTRaLNVQwS"
      },
      "source": [
        "Now we can use `PolynomialFeatues` to transform training data adding the square of each feature as new features."
      ]
    },
    {
      "cell_type": "code",
      "metadata": {
        "id": "BXo0Hm56VQwS"
      },
      "source": [
        "from sklearn.preprocessing import PolynomialFeatures\n",
        "\n",
        "poly_features = PolynomialFeatures(degree=2, include_bias=False)\n",
        "X_poly = poly_features.fit_transform(X)"
      ],
      "execution_count": 16,
      "outputs": []
    },
    {
      "cell_type": "code",
      "metadata": {
        "colab": {
          "base_uri": "https://localhost:8080/"
        },
        "id": "1FqY9-I4VQwS",
        "outputId": "fa147e8f-4820-4e94-d36d-1c53d207b526"
      },
      "source": [
        "X_poly"
      ],
      "execution_count": 17,
      "outputs": [
        {
          "output_type": "execute_result",
          "data": {
            "text/plain": [
              "array([[ 2.72919168e+00,  7.44848725e+00],\n",
              "       [ 1.42738150e+00,  2.03741795e+00],\n",
              "       [ 3.26124315e-01,  1.06357069e-01],\n",
              "       [ 6.70324477e-01,  4.49334905e-01],\n",
              "       [-4.82399625e-01,  2.32709399e-01],\n",
              "       [-1.51361406e+00,  2.29102753e+00],\n",
              "       [-8.64163928e-01,  7.46779295e-01],\n",
              "       [ 1.54707666e+00,  2.39344620e+00],\n",
              "       [-2.91363907e+00,  8.48929262e+00],\n",
              "       [-2.30356416e+00,  5.30640783e+00],\n",
              "       [-2.72398415e+00,  7.42008964e+00],\n",
              "       [-2.75562719e+00,  7.59348119e+00],\n",
              "       [ 2.13276350e+00,  4.54868016e+00],\n",
              "       [ 1.22194716e+00,  1.49315485e+00],\n",
              "       [-1.54957025e-01,  2.40116797e-02],\n",
              "       [-2.41299504e+00,  5.82254504e+00],\n",
              "       [-5.03047493e-02,  2.53056780e-03],\n",
              "       [-1.59169375e-01,  2.53348900e-02],\n",
              "       [-1.96078878e+00,  3.84469264e+00],\n",
              "       [-3.96890105e-01,  1.57521755e-01],\n",
              "       [-6.08971594e-01,  3.70846402e-01],\n",
              "       [ 6.95100588e-01,  4.83164828e-01],\n",
              "       [ 8.10561905e-01,  6.57010602e-01],\n",
              "       [-2.72817594e+00,  7.44294397e+00],\n",
              "       [-7.52324312e-01,  5.65991871e-01],\n",
              "       [ 7.55159494e-01,  5.70265862e-01],\n",
              "       [ 1.88175515e-02,  3.54100244e-04],\n",
              "       [ 2.13893905e+00,  4.57506025e+00],\n",
              "       [ 9.52161790e-01,  9.06612074e-01],\n",
              "       [-2.02239344e+00,  4.09007522e+00],\n",
              "       [-2.57658752e+00,  6.63880323e+00],\n",
              "       [ 8.54515669e-01,  7.30197029e-01],\n",
              "       [-2.84093214e+00,  8.07089541e+00],\n",
              "       [ 5.14653488e-01,  2.64868212e-01],\n",
              "       [ 2.64138145e+00,  6.97689596e+00],\n",
              "       [ 4.52845067e-01,  2.05068655e-01],\n",
              "       [-6.70980443e-01,  4.50214755e-01],\n",
              "       [ 8.59729311e-01,  7.39134488e-01],\n",
              "       [-2.50482657e-01,  6.27415615e-02],\n",
              "       [ 2.73700736e-01,  7.49120928e-02],\n",
              "       [ 2.64878885e+00,  7.01608239e+00],\n",
              "       [-6.83384173e-01,  4.67013928e-01],\n",
              "       [ 2.76714338e+00,  7.65708250e+00],\n",
              "       [ 2.43210385e+00,  5.91512915e+00],\n",
              "       [-1.82525319e+00,  3.33154921e+00],\n",
              "       [-2.58383219e+00,  6.67618881e+00],\n",
              "       [-2.39533199e+00,  5.73761535e+00],\n",
              "       [-2.89066905e+00,  8.35596753e+00],\n",
              "       [-2.43334224e+00,  5.92115443e+00],\n",
              "       [ 1.09804064e+00,  1.20569325e+00],\n",
              "       [-2.57286811e+00,  6.61965031e+00],\n",
              "       [-1.08614622e+00,  1.17971361e+00],\n",
              "       [ 2.06925187e+00,  4.28180328e+00],\n",
              "       [-2.86036839e+00,  8.18170730e+00],\n",
              "       [ 1.88681090e+00,  3.56005536e+00],\n",
              "       [-1.30887135e+00,  1.71314421e+00],\n",
              "       [-2.29101103e+00,  5.24873156e+00],\n",
              "       [ 1.18042299e+00,  1.39339844e+00],\n",
              "       [ 7.73657081e-01,  5.98545278e-01],\n",
              "       [ 2.26483208e+00,  5.12946436e+00],\n",
              "       [ 1.41042626e+00,  1.98930224e+00],\n",
              "       [ 1.82088558e+00,  3.31562430e+00],\n",
              "       [-1.30779256e+00,  1.71032139e+00],\n",
              "       [-1.93536274e+00,  3.74562893e+00],\n",
              "       [ 1.50368851e+00,  2.26107913e+00],\n",
              "       [ 1.84100844e+00,  3.38931206e+00],\n",
              "       [ 2.94303085e+00,  8.66143060e+00],\n",
              "       [-5.24293939e-01,  2.74884134e-01],\n",
              "       [-7.67891485e-01,  5.89657333e-01],\n",
              "       [ 1.65847776e+00,  2.75054850e+00],\n",
              "       [-9.55178758e-01,  9.12366461e-01],\n",
              "       [ 2.58454395e+00,  6.67986745e+00],\n",
              "       [ 2.15047651e+00,  4.62454922e+00],\n",
              "       [-4.26035836e-01,  1.81506533e-01],\n",
              "       [ 1.50522641e+00,  2.26570654e+00],\n",
              "       [ 1.52725724e+00,  2.33251469e+00],\n",
              "       [-2.38125679e+00,  5.67038389e+00],\n",
              "       [ 2.41531744e+00,  5.83375834e+00],\n",
              "       [ 3.15142347e-02,  9.93146988e-04],\n",
              "       [ 1.95874480e+00,  3.83668118e+00],\n",
              "       [-1.07970239e+00,  1.16575726e+00],\n",
              "       [ 2.37313937e+00,  5.63179047e+00],\n",
              "       [-6.64789928e-01,  4.41945648e-01],\n",
              "       [-2.93497409e+00,  8.61407292e+00],\n",
              "       [ 2.43229186e+00,  5.91604369e+00],\n",
              "       [-2.45227994e+00,  6.01367690e+00],\n",
              "       [-1.08411817e+00,  1.17531222e+00],\n",
              "       [ 2.70037180e+00,  7.29200787e+00],\n",
              "       [ 2.70364288e+00,  7.30968483e+00],\n",
              "       [ 4.40627329e-01,  1.94152443e-01],\n",
              "       [ 7.91023273e-01,  6.25717818e-01],\n",
              "       [-3.09326868e-01,  9.56831113e-02],\n",
              "       [-1.24073537e+00,  1.53942426e+00],\n",
              "       [-1.02801273e+00,  1.05681017e+00],\n",
              "       [ 1.03511074e+00,  1.07145424e+00],\n",
              "       [ 1.51424718e+00,  2.29294451e+00],\n",
              "       [ 1.74947426e+00,  3.06066019e+00],\n",
              "       [ 1.73770886e+00,  3.01963207e+00],\n",
              "       [-2.45276338e+00,  6.01604821e+00],\n",
              "       [-3.34781718e-02,  1.12078799e-03]])"
            ]
          },
          "metadata": {},
          "execution_count": 17
        }
      ]
    },
    {
      "cell_type": "markdown",
      "metadata": {
        "id": "GrFMRU_eVQwS"
      },
      "source": [
        "`X_poly` now contains the original feature of X plus the square of the feature:"
      ]
    },
    {
      "cell_type": "code",
      "metadata": {
        "colab": {
          "base_uri": "https://localhost:8080/"
        },
        "id": "M8FH1dY2UwgN",
        "outputId": "599f7586-780f-4316-a47a-70c04f84d279"
      },
      "source": [
        "print(X[0])\n",
        "print(X[0]*X[0])\n"
      ],
      "execution_count": 18,
      "outputs": [
        {
          "output_type": "stream",
          "name": "stdout",
          "text": [
            "[2.72919168]\n",
            "[7.44848725]\n"
          ]
        }
      ]
    },
    {
      "cell_type": "code",
      "metadata": {
        "colab": {
          "base_uri": "https://localhost:8080/"
        },
        "id": "PSflPniWVQwT",
        "outputId": "dc5e46a6-838d-450c-b9e0-d8e1f997dad9"
      },
      "source": [
        "X_poly[0]"
      ],
      "execution_count": 19,
      "outputs": [
        {
          "output_type": "execute_result",
          "data": {
            "text/plain": [
              "array([2.72919168, 7.44848725])"
            ]
          },
          "metadata": {},
          "execution_count": 19
        }
      ]
    },
    {
      "cell_type": "markdown",
      "metadata": {
        "id": "HaXjXg7FVQwT"
      },
      "source": [
        "Fit the model to this extended training data:"
      ]
    },
    {
      "cell_type": "code",
      "metadata": {
        "colab": {
          "base_uri": "https://localhost:8080/"
        },
        "id": "c0Qu93dgVQwT",
        "outputId": "976d067f-2624-49be-88ef-9b8ab18868b3"
      },
      "source": [
        "lin_reg = LinearRegression(fit_intercept=True)\n",
        "lin_reg.fit(X_poly, y)\n",
        "lin_reg.coef_, lin_reg.intercept_"
      ],
      "execution_count": 20,
      "outputs": [
        {
          "output_type": "execute_result",
          "data": {
            "text/plain": [
              "(array([[1.04271531, 0.50866711]]), array([2.01873554]))"
            ]
          },
          "metadata": {},
          "execution_count": 20
        }
      ]
    },
    {
      "cell_type": "markdown",
      "metadata": {
        "id": "rKOSwvnmVQwT"
      },
      "source": [
        "The model estimates:\n",
        "\n",
        "$\\hat{y} =  0.89X +0.48X^2 + 2.09$"
      ]
    },
    {
      "cell_type": "markdown",
      "metadata": {
        "id": "_EtZEKz5VQwT"
      },
      "source": [
        "Plot the data and the predictions:"
      ]
    },
    {
      "cell_type": "code",
      "metadata": {
        "colab": {
          "base_uri": "https://localhost:8080/",
          "height": 291
        },
        "id": "6Q8dHRgdVQwT",
        "outputId": "8d4bde6f-b6b6-47d1-cd8e-5b21353fa693"
      },
      "source": [
        "X_new=np.linspace(-3, 3, 100).reshape(100, 1)\n",
        "X_new_poly = poly_features.transform(X_new)\n",
        "y_new = lin_reg.predict(X_new_poly)\n",
        "plt.plot(X, y, \"b.\")\n",
        "plt.plot(X_new, y_new, \"r-\", linewidth=2, label=\"Predictions\")\n",
        "plt.xlabel(\"$x_1$\", fontsize=18)\n",
        "plt.ylabel(\"$y$\", rotation=0, fontsize=18)\n",
        "plt.legend(loc=\"upper left\", fontsize=14)\n",
        "plt.axis([-3, 3, 0, 10]);"
      ],
      "execution_count": 21,
      "outputs": [
        {
          "output_type": "display_data",
          "data": {
            "text/plain": [
              "<Figure size 432x288 with 1 Axes>"
            ],
            "image/png": "[encoded data removed]"
          },
          "metadata": {
            "needs_background": "light"
          }
        }
      ]
    },
    {
      "cell_type": "code",
      "source": [],
      "metadata": {
        "id": "vyq0o8f2pcqa"
      },
      "execution_count": 21,
      "outputs": []
    },
    {
      "cell_type": "markdown",
      "source": [
        "## R square\n",
        "\n",
        "R² es una medida estadística de qué tan cerca están los datos de la línea de regresión ajustada. También se conoce como el coeficiente de determinación o el coeficiente de determinación múltiple para la regresión múltiple. Para decirlo en un lenguaje más simple, R² es una medida de ajuste para los modelos de regresión lineal.\n",
        "\n",
        "\n",
        "\n",
        "R² no indica si un modelo de regresión se ajusta adecuadamente a sus datos. Un buen modelo puede tener un valor R² bajo. Por otro lado, un modelo sesgado puede tener un valor alto de R².\n",
        "\n",
        " SSres + SSreg = SStot, R² = Explained variation / Total Variation\n",
        " \n",
        " ![image.png](https://i.stack.imgur.com/xb1VY.png)\n",
        " \n",
        "![image.png](https://3.bp.blogspot.com/-MFqQLwbGwd4/WMO7tz39beI/AAAAAAAAF9I/Bjpfohgv_5E4lu7HzHJBQtXsBM--byqPwCLcB/s1600/rsquared.png)\n"
      ],
      "metadata": {
        "id": "TIFwAtW1pc6h"
      }
    },
    {
      "cell_type": "markdown",
      "source": [
        "#**Notebook** **1**. **Regresión**. "
      ],
      "metadata": {
        "id": "S8BB_jMj_0RT"
      }
    },
    {
      "cell_type": "markdown",
      "metadata": {
        "id": "nTKFj4x9LMXm"
      },
      "source": [
        "# Ejercicio 1\n",
        "\n",
        "Utiliza la base de datos de \n",
        "https://www.kaggle.com/vinicius150987/manufacturing-cost\n",
        "\n",
        "Suponga que trabaja como consultor de una empresa de nueva creación que busca desarrollar un modelo para estimar el costo de los bienes vendidos a medida que varían el volumen de producción (número de unidades producidas). La startup recopiló datos y le pidió que desarrollara un modelo para predecir su costo frente a la cantidad de unidades vendidas."
      ]
    },
    {
      "cell_type": "code",
      "metadata": {
        "colab": {
          "base_uri": "https://localhost:8080/",
          "height": 363
        },
        "id": "oTnErQOkL3oa",
        "outputId": "854533fa-8247-4501-ce4c-c437cc3a050f"
      },
      "source": [
        "import pandas as pd\n",
        "df = pd.read_csv('https://raw.githubusercontent.com/marypazrf/bdd/main/EconomiesOfScale.csv')\n",
        "df.sample(10)"
      ],
      "execution_count": 22,
      "outputs": [
        {
          "output_type": "execute_result",
          "data": {
            "text/plain": [
              "     Number of Units  Manufacturing Cost\n",
              "968         7.065653           27.804027\n",
              "212         3.372115           41.127212\n",
              "416         4.194513           43.832711\n",
              "677         5.068888           41.225741\n",
              "550         4.604122           37.569764\n",
              "764         5.389522           31.191501\n",
              "386         4.104190           42.988730\n",
              "339         3.942214           46.291435\n",
              "82          2.665856           48.578425\n",
              "487         4.399514           37.567914"
            ],
            "text/html": [
              "\n",
              "  <div id=\"df-18914b2f-f777-40d8-9b5a-542a1f7ddd14\">\n",
              "    <div class=\"colab-df-container\">\n",
              "      <div>\n",
              "<style scoped>\n",
              "    .dataframe tbody tr th:only-of-type {\n",
              "        vertical-align: middle;\n",
              "    }\n",
              "\n",
              "    .dataframe tbody tr th {\n",
              "        vertical-align: top;\n",
              "    }\n",
              "\n",
              "    .dataframe thead th {\n",
              "        text-align: right;\n",
              "    }\n",
              "</style>\n",
              "<table border=\"1\" class=\"dataframe\">\n",
              "  <thead>\n",
              "    <tr style=\"text-align: right;\">\n",
              "      <th></th>\n",
              "      <th>Number of Units</th>\n",
              "      <th>Manufacturing Cost</th>\n",
              "    </tr>\n",
              "  </thead>\n",
              "  <tbody>\n",
              "    <tr>\n",
              "      <th>968</th>\n",
              "      <td>7.065653</td>\n",
              "      <td>27.804027</td>\n",
              "    </tr>\n",
              "    <tr>\n",
              "      <th>212</th>\n",
              "      <td>3.372115</td>\n",
              "      <td>41.127212</td>\n",
              "    </tr>\n",
              "    <tr>\n",
              "      <th>416</th>\n",
              "      <td>4.194513</td>\n",
              "      <td>43.832711</td>\n",
              "    </tr>\n",
              "    <tr>\n",
              "      <th>677</th>\n",
              "      <td>5.068888</td>\n",
              "      <td>41.225741</td>\n",
              "    </tr>\n",
              "    <tr>\n",
              "      <th>550</th>\n",
              "      <td>4.604122</td>\n",
              "      <td>37.569764</td>\n",
              "    </tr>\n",
              "    <tr>\n",
              "      <th>764</th>\n",
              "      <td>5.389522</td>\n",
              "      <td>31.191501</td>\n",
              "    </tr>\n",
              "    <tr>\n",
              "      <th>386</th>\n",
              "      <td>4.104190</td>\n",
              "      <td>42.988730</td>\n",
              "    </tr>\n",
              "    <tr>\n",
              "      <th>339</th>\n",
              "      <td>3.942214</td>\n",
              "      <td>46.291435</td>\n",
              "    </tr>\n",
              "    <tr>\n",
              "      <th>82</th>\n",
              "      <td>2.665856</td>\n",
              "      <td>48.578425</td>\n",
              "    </tr>\n",
              "    <tr>\n",
              "      <th>487</th>\n",
              "      <td>4.399514</td>\n",
              "      <td>37.567914</td>\n",
              "    </tr>\n",
              "  </tbody>\n",
              "</table>\n",
              "</div>\n",
              "      <button class=\"colab-df-convert\" onclick=\"convertToInteractive('df-18914b2f-f777-40d8-9b5a-542a1f7ddd14')\"\n",
              "              title=\"Convert this dataframe to an interactive table.\"\n",
              "              style=\"display:none;\">\n",
              "        \n",
              "  <svg xmlns=\"http://www.w3.org/2000/svg\" height=\"24px\"viewBox=\"0 0 24 24\"\n",
              "       width=\"24px\">\n",
              "    <path d=\"M0 0h24v24H0V0z\" fill=\"none\"/>\n",
              "    <path d=\"M18.56 5.44l.94 2.06.94-2.06 2.06-.94-2.06-.94-.94-2.06-.94 2.06-2.06.94zm-11 1L8.5 8.5l.94-2.06 2.06-.94-2.06-.94L8.5 2.5l-.94 2.06-2.06.94zm10 10l.94 2.06.94-2.06 2.06-.94-2.06-.94-.94-2.06-.94 2.06-2.06.94z\"/><path d=\"M17.41 7.96l-1.37-1.37c-.4-.4-.92-.59-1.43-.59-.52 0-1.04.2-1.43.59L10.3 9.45l-7.72 7.72c-.78.78-.78 2.05 0 2.83L4 21.41c.39.39.9.59 1.41.59.51 0 1.02-.2 1.41-.59l7.78-7.78 2.81-2.81c.8-.78.8-2.07 0-2.86zM5.41 20L4 18.59l7.72-7.72 1.47 1.35L5.41 20z\"/>\n",
              "  </svg>\n",
              "      </button>\n",
              "      \n",
              "  <style>\n",
              "    .colab-df-container {\n",
              "      display:flex;\n",
              "      flex-wrap:wrap;\n",
              "      gap: 12px;\n",
              "    }\n",
              "\n",
              "    .colab-df-convert {\n",
              "      background-color: #E8F0FE;\n",
              "      border: none;\n",
              "      border-radius: 50%;\n",
              "      cursor: pointer;\n",
              "      display: none;\n",
              "      fill: #1967D2;\n",
              "      height: 32px;\n",
              "      padding: 0 0 0 0;\n",
              "      width: 32px;\n",
              "    }\n",
              "\n",
              "    .colab-df-convert:hover {\n",
              "      background-color: #E2EBFA;\n",
              "      box-shadow: 0px 1px 2px rgba(60, 64, 67, 0.3), 0px 1px 3px 1px rgba(60, 64, 67, 0.15);\n",
              "      fill: #174EA6;\n",
              "    }\n",
              "\n",
              "    [theme=dark] .colab-df-convert {\n",
              "      background-color: #3B4455;\n",
              "      fill: #D2E3FC;\n",
              "    }\n",
              "\n",
              "    [theme=dark] .colab-df-convert:hover {\n",
              "      background-color: #434B5C;\n",
              "      box-shadow: 0px 1px 3px 1px rgba(0, 0, 0, 0.15);\n",
              "      filter: drop-shadow(0px 1px 2px rgba(0, 0, 0, 0.3));\n",
              "      fill: #FFFFFF;\n",
              "    }\n",
              "  </style>\n",
              "\n",
              "      <script>\n",
              "        const buttonEl =\n",
              "          document.querySelector('#df-18914b2f-f777-40d8-9b5a-542a1f7ddd14 button.colab-df-convert');\n",
              "        buttonEl.style.display =\n",
              "          google.colab.kernel.accessAllowed ? 'block' : 'none';\n",
              "\n",
              "        async function convertToInteractive(key) {\n",
              "          const element = document.querySelector('#df-18914b2f-f777-40d8-9b5a-542a1f7ddd14');\n",
              "          const dataTable =\n",
              "            await google.colab.kernel.invokeFunction('convertToInteractive',\n",
              "                                                     [key], {});\n",
              "          if (!dataTable) return;\n",
              "\n",
              "          const docLinkHtml = 'Like what you see? Visit the ' +\n",
              "            '<a target=\"_blank\" href=https://colab.research.google.com/notebooks/data_table.ipynb>data table notebook</a>'\n",
              "            + ' to learn more about interactive tables.';\n",
              "          element.innerHTML = '';\n",
              "          dataTable['output_type'] = 'display_data';\n",
              "          await google.colab.output.renderOutput(dataTable, element);\n",
              "          const docLink = document.createElement('div');\n",
              "          docLink.innerHTML = docLinkHtml;\n",
              "          element.appendChild(docLink);\n",
              "        }\n",
              "      </script>\n",
              "    </div>\n",
              "  </div>\n",
              "  "
            ]
          },
          "metadata": {},
          "execution_count": 22
        }
      ]
    },
    {
      "cell_type": "code",
      "metadata": {
        "id": "14kGO5nkMGlV"
      },
      "source": [
        "X = df[['Number of Units']]\n",
        "y = df['Manufacturing Cost']"
      ],
      "execution_count": 23,
      "outputs": []
    },
    {
      "cell_type": "code",
      "source": [
        "len(X)"
      ],
      "metadata": {
        "id": "ksh_OrkjY3GW",
        "outputId": "e1387690-7f39-4a5f-82d5-2c4b08d40292",
        "colab": {
          "base_uri": "https://localhost:8080/"
        }
      },
      "execution_count": 24,
      "outputs": [
        {
          "output_type": "execute_result",
          "data": {
            "text/plain": [
              "1000"
            ]
          },
          "metadata": {},
          "execution_count": 24
        }
      ]
    },
    {
      "cell_type": "code",
      "source": [
        "y.describe"
      ],
      "metadata": {
        "colab": {
          "base_uri": "https://localhost:8080/"
        },
        "id": "bwR6SSqQDfC2",
        "outputId": "cc65e345-d34b-4f27-e55f-80040e2b8640"
      },
      "execution_count": 25,
      "outputs": [
        {
          "output_type": "execute_result",
          "data": {
            "text/plain": [
              "<bound method NDFrame.describe of 0      95.066056\n",
              "1      96.531750\n",
              "2      73.661311\n",
              "3      95.566843\n",
              "4      98.777013\n",
              "         ...    \n",
              "995    23.855067\n",
              "996    27.536542\n",
              "997    25.973787\n",
              "998    25.138311\n",
              "999    21.547777\n",
              "Name: Manufacturing Cost, Length: 1000, dtype: float64>"
            ]
          },
          "metadata": {},
          "execution_count": 25
        }
      ]
    },
    {
      "cell_type": "code",
      "metadata": {
        "colab": {
          "base_uri": "https://localhost:8080/",
          "height": 282
        },
        "id": "idoEjfEhMoxk",
        "outputId": "870d7b9b-87f9-472f-af00-5ef797044045"
      },
      "source": [
        "plt.plot(X,y,'b.')"
      ],
      "execution_count": 26,
      "outputs": [
        {
          "output_type": "execute_result",
          "data": {
            "text/plain": [
              "[<matplotlib.lines.Line2D at 0x7ff5f5eec350>]"
            ]
          },
          "metadata": {},
          "execution_count": 26
        },
        {
          "output_type": "display_data",
          "data": {
            "text/plain": [
              "<Figure size 432x288 with 1 Axes>"
            ],
            "image/png": "[encoded data removed]"
          },
          "metadata": {
            "needs_background": "light"
          }
        }
      ]
    },
    {
      "cell_type": "markdown",
      "source": [
        "1. **Divide los datos del costo de manufactura. Utiliza la función train_test_split (viene el ejemplo al final del notebook).**"
      ],
      "metadata": {
        "id": "2jpHhOgH4X01"
      }
    },
    {
      "cell_type": "markdown",
      "source": [
        "En este caso vamos definir que el tamaño de nuestro conjunto de prueba represente el 15% de nuestra poblacion. Mientras que el conjunto de entrenamiento será del 85%."
      ],
      "metadata": {
        "id": "B4zlASIB4joi"
      }
    },
    {
      "cell_type": "code",
      "source": [
        "from sklearn.model_selection import train_test_split\n",
        "X_train, X_test, y_train, y_test = train_test_split(X, y, test_size = 0.15, random_state = 101)"
      ],
      "metadata": {
        "id": "xj2nNipj4XXK"
      },
      "execution_count": 27,
      "outputs": []
    },
    {
      "cell_type": "markdown",
      "source": [
        "De ahora en adelante trabajaremos con nuestros datos de entrenamiento. Volvemos a hacer la gráfica ahora solo con los datos de entrenamiento para ver si cambio algo. "
      ],
      "metadata": {
        "id": "QTYpMsUK46VB"
      }
    },
    {
      "cell_type": "code",
      "source": [
        "plt.plot(X_train, y_train, 'b.')"
      ],
      "metadata": {
        "colab": {
          "base_uri": "https://localhost:8080/",
          "height": 282
        },
        "id": "SKE261rN9Wdg",
        "outputId": "71e1251a-85c7-4f5d-b7b8-6ef96f9bd5fa"
      },
      "execution_count": 28,
      "outputs": [
        {
          "output_type": "execute_result",
          "data": {
            "text/plain": [
              "[<matplotlib.lines.Line2D at 0x7ff5f5edb250>]"
            ]
          },
          "metadata": {},
          "execution_count": 28
        },
        {
          "output_type": "display_data",
          "data": {
            "text/plain": [
              "<Figure size 432x288 with 1 Axes>"
            ],
            "image/png": "[encoded data removed]"
          },
          "metadata": {
            "needs_background": "light"
          }
        }
      ]
    },
    {
      "cell_type": "markdown",
      "source": [
        "2. **Regresión Lineal.**\n",
        "> Realiza la regresión lineal: modelo generado (ecuación), su visualización, sus errores y r cuadrada."
      ],
      "metadata": {
        "id": "M8RdD9z7-1Eb"
      }
    },
    {
      "cell_type": "markdown",
      "source": [
        "Primero definimos nuestro modelo y lo ajustamos a nuestros datos de entrenamiento. Lo guardaremos dentro de una variable."
      ],
      "metadata": {
        "id": "l3hypnGSAMEd"
      }
    },
    {
      "cell_type": "code",
      "source": [
        "#lineal\n",
        "linear_reg = LinearRegression(fit_intercept=True).fit(X_train, y_train)"
      ],
      "metadata": {
        "id": "kMmOy97puOLE"
      },
      "execution_count": 29,
      "outputs": []
    },
    {
      "cell_type": "markdown",
      "source": [
        "Despúes de entrenar ajustar nuestro modelo a los datos de entrenamiento, podemos obtener el coeficiente y el intercept para establecer nuestra ecuación."
      ],
      "metadata": {
        "id": "kTjpqsa1AYNh"
      }
    },
    {
      "cell_type": "code",
      "source": [
        "linear_reg.coef_, linear_reg.intercept_"
      ],
      "metadata": {
        "colab": {
          "base_uri": "https://localhost:8080/"
        },
        "id": "tEek_lVn6wT9",
        "outputId": "349d0f59-a81c-4ea1-f010-c2b91994932a"
      },
      "execution_count": 30,
      "outputs": [
        {
          "output_type": "execute_result",
          "data": {
            "text/plain": [
              "(array([-5.91602323]), 66.44764675174278)"
            ]
          },
          "metadata": {},
          "execution_count": 30
        }
      ]
    },
    {
      "cell_type": "markdown",
      "source": [
        "La ecuación que obtenemos es la siguiente:\n",
        "\n",
        "$\\hat{y} = -5.91602323X +  66.44764675174278$"
      ],
      "metadata": {
        "id": "O4PpXpGA7EvN"
      }
    },
    {
      "cell_type": "markdown",
      "source": [
        "Ahora realizaremos una gráfica que nos ayude a visualizar nuestros datos de entrenamiento asi como nuestro modelo de aproximación. "
      ],
      "metadata": {
        "id": "fgkrx1ZNAjZS"
      }
    },
    {
      "cell_type": "code",
      "source": [
        "X_fit=t=np.linspace(0, 10, 100)\n",
        "y_fit = linear_reg.predict(X_fit[:, np.newaxis])\n",
        "\n",
        "plt.plot(X_train, y_train, \"b.\")\n",
        "plt.plot(X_fit, y_fit, \"r-\", linewidth=2, label=\"Predictions\")\n",
        "plt.xlabel(\"$X$\", fontsize=18)\n",
        "plt.ylabel(\"$y$\", rotation=0, fontsize=18)\n",
        "plt.legend(loc=\"upper right\", fontsize=14);"
      ],
      "metadata": {
        "colab": {
          "base_uri": "https://localhost:8080/",
          "height": 322
        },
        "id": "nZ4Jl-sB856w",
        "outputId": "14596ac2-d0e4-4a1a-90c6-6f3f0cf65ecc"
      },
      "execution_count": 31,
      "outputs": [
        {
          "output_type": "stream",
          "name": "stderr",
          "text": [
            "/usr/local/lib/python3.7/dist-packages/sklearn/base.py:451: UserWarning: X does not have valid feature names, but LinearRegression was fitted with feature names\n",
            "  \"X does not have valid feature names, but\"\n"
          ]
        },
        {
          "output_type": "display_data",
          "data": {
            "text/plain": [
              "<Figure size 432x288 with 1 Axes>"
            ],
            "image/png": "[encoded data removed]"
          },
          "metadata": {
            "needs_background": "light"
          }
        }
      ]
    },
    {
      "cell_type": "code",
      "source": [
        "linear_reg.score(X_train, y_train)"
      ],
      "metadata": {
        "colab": {
          "base_uri": "https://localhost:8080/"
        },
        "id": "G2LzQhe6-HE1",
        "outputId": "b0f67030-d7f7-4bb0-d27f-7a2f4f0c6e6e"
      },
      "execution_count": 32,
      "outputs": [
        {
          "output_type": "execute_result",
          "data": {
            "text/plain": [
              "0.5698418288561948"
            ]
          },
          "metadata": {},
          "execution_count": 32
        }
      ]
    },
    {
      "cell_type": "markdown",
      "source": [
        "EL modelo tiene una R^2 para predecir los valores de entrenamiento:\n",
        "\n",
        "$0.5698418288561948$"
      ],
      "metadata": {
        "id": "Er5uFK1W-V2W"
      }
    },
    {
      "cell_type": "markdown",
      "source": [
        ">**Errores y R^2**"
      ],
      "metadata": {
        "id": "xLjZwWMKpntL"
      }
    },
    {
      "cell_type": "markdown",
      "source": [
        "Ahora evaluaremos los errores y R^2 del modelo con nuestros datos de prueba. Al hacer esto nos podemos dar cuenta de que tan bueno es nuestro modelo para predecir nuevos datos que tengan un comportamiento similar. "
      ],
      "metadata": {
        "id": "NHVRwhCzgv-g"
      }
    },
    {
      "cell_type": "code",
      "source": [
        "y_test_predict = linear_reg.predict(X_test)\n",
        "results_MAE=list()\n",
        "results_R=list()\n",
        "from sklearn import metrics\n",
        "from sklearn.metrics import r2_score\n",
        "\n",
        "print('Error medio Absoluto (MAE):', metrics.mean_absolute_error(y_test, y_test_predict))\n",
        "print('Root Mean Squared Error:', np.sqrt(metrics.mean_squared_error(y_test, y_test_predict)))\n",
        "print('r2_score',r2_score(y_test, y_test_predict))\n",
        "\n"
      ],
      "metadata": {
        "colab": {
          "base_uri": "https://localhost:8080/"
        },
        "id": "zf_F3r1K7DiF",
        "outputId": "2ba38b7c-528b-4ae2-c33e-96250e599a1b"
      },
      "execution_count": 33,
      "outputs": [
        {
          "output_type": "stream",
          "name": "stdout",
          "text": [
            "Error medio Absoluto (MAE): 5.011595088997378\n",
            "Root Mean Squared Error: 7.2416891490838875\n",
            "r2_score 0.6171440942171167\n"
          ]
        }
      ]
    },
    {
      "cell_type": "markdown",
      "source": [
        "3. **Regresión Polinomial.**\n",
        "> Realiza la  regresión polinomial completa, tu modelo generado (ecuación), su visualización, sus errores y r cuadrada."
      ],
      "metadata": {
        "id": "5EM579e4_JJp"
      }
    },
    {
      "cell_type": "markdown",
      "source": [
        "Primero obetenemos los datos cuadráticos a partir de nuestro arreglo de datos original.  Es importante mencionar que decicimos utilizar un polinomio de grado 2 porque los datos parecen tener un comportamiento similar al de una parábola. En este sentido, creemos que tendremos un buen rendimiento."
      ],
      "metadata": {
        "id": "1m54re8akINi"
      }
    },
    {
      "cell_type": "code",
      "source": [
        "poli_feat = PolynomialFeatures(degree=2, include_bias=False)\n",
        "Xtrain_poly = poli_feat.fit_transform(X_train)\n",
        "Xtrain_poly"
      ],
      "metadata": {
        "id": "LWvfEDGKuoLJ",
        "colab": {
          "base_uri": "https://localhost:8080/"
        },
        "outputId": "c8c2bf98-0e35-474e-cfb4-41efc5e107a9"
      },
      "execution_count": 34,
      "outputs": [
        {
          "output_type": "execute_result",
          "data": {
            "text/plain": [
              "array([[ 5.78663548, 33.48515022],\n",
              "       [ 4.43739951, 19.69051438],\n",
              "       [ 4.50931751, 20.33394436],\n",
              "       ...,\n",
              "       [ 3.94046305, 15.52724904],\n",
              "       [ 4.52448429, 20.4709581 ],\n",
              "       [ 5.86814353, 34.43510849]])"
            ]
          },
          "metadata": {},
          "execution_count": 34
        }
      ]
    },
    {
      "cell_type": "markdown",
      "source": [
        "Ahora que si tenemos datos cuadráticos y datos lineares entonces podemos hacer nuestra regresión y encontrar nuestra ecuación."
      ],
      "metadata": {
        "id": "2RpFucNOkRQX"
      }
    },
    {
      "cell_type": "code",
      "source": [
        "Poly_lin_reg = LinearRegression(fit_intercept=True)\n",
        "Poly_lin_reg.fit(Xtrain_poly, y_train)\n",
        "Poly_lin_reg.coef_, Poly_lin_reg.intercept_"
      ],
      "metadata": {
        "colab": {
          "base_uri": "https://localhost:8080/"
        },
        "id": "rKmwQBfdje6c",
        "outputId": "c22cc299-6d0a-4dbb-dcb8-da04638dda72"
      },
      "execution_count": 35,
      "outputs": [
        {
          "output_type": "execute_result",
          "data": {
            "text/plain": [
              "(array([-16.27563255,   1.12121998]), 88.38865903399889)"
            ]
          },
          "metadata": {},
          "execution_count": 35
        }
      ]
    },
    {
      "cell_type": "markdown",
      "source": [
        "La ecuación que obtenemos es la siguiente:\n",
        "\n",
        "$\\hat{y} =  -16.27563255X + 1.12121998X^2 + 88.38865903399889$"
      ],
      "metadata": {
        "id": "9vtwnRo3jxWJ"
      }
    },
    {
      "cell_type": "markdown",
      "source": [
        "Ahora realizaremos una gráfica que nos ayude a visualizar nuestros datos originales asi como nuestro modelo de aproximación. "
      ],
      "metadata": {
        "id": "f1hrphrfkgZX"
      }
    },
    {
      "cell_type": "code",
      "source": [
        "X_fit=np.linspace(0, 10, 100).reshape(100,1)\n",
        "X_fit_poly = poly_features.transform(X_fit)\n",
        "\n",
        "y_fit_poly = Poly_lin_reg.predict(X_fit_poly)\n",
        "\n",
        "plt.plot(X_train, y_train, \"b.\")\n",
        "plt.plot(X_fit, y_fit_poly, \"r-\", linewidth=2, label=\"Predictions\")\n",
        "plt.xlabel(\"$X$\", fontsize=18)\n",
        "plt.ylabel(\"$y$\", rotation=0, fontsize=18)\n",
        "plt.legend(loc=\"upper right\", fontsize=14);"
      ],
      "metadata": {
        "colab": {
          "base_uri": "https://localhost:8080/",
          "height": 287
        },
        "id": "tjLpgxWIjxEq",
        "outputId": "1c34dc75-21d8-48c4-a03b-061c25677f2d"
      },
      "execution_count": 36,
      "outputs": [
        {
          "output_type": "display_data",
          "data": {
            "text/plain": [
              "<Figure size 432x288 with 1 Axes>"
            ],
            "image/png": "[encoded data removed]"
          },
          "metadata": {
            "needs_background": "light"
          }
        }
      ]
    },
    {
      "cell_type": "code",
      "source": [
        "Poly_lin_reg.score(Xtrain_poly, y_train)"
      ],
      "metadata": {
        "colab": {
          "base_uri": "https://localhost:8080/"
        },
        "id": "CIRi6X2QmHqs",
        "outputId": "73efa189-b390-4083-b946-2cb6f36900cb"
      },
      "execution_count": 37,
      "outputs": [
        {
          "output_type": "execute_result",
          "data": {
            "text/plain": [
              "0.6499430928372091"
            ]
          },
          "metadata": {},
          "execution_count": 37
        }
      ]
    },
    {
      "cell_type": "markdown",
      "source": [
        "EL modelo tiene una R^2 para predecir los valores de entrenamiento:\n",
        "\n",
        "$0.6499430928372091$"
      ],
      "metadata": {
        "id": "lcywUuqWmYV7"
      }
    },
    {
      "cell_type": "markdown",
      "source": [
        ">**Errores**\n",
        "\n",
        "Ahora trabajaremos con los datos de prueba para evaluar realmente que tan bueno es nuestro modelo prediciendo datos. "
      ],
      "metadata": {
        "id": "hnFd5lFd5hX_"
      }
    },
    {
      "cell_type": "code",
      "source": [
        "Xtest_poly= poly_features.fit_transform(X_test)\n",
        "Poly_y_test_predict = Poly_lin_reg.predict(Xtest_poly)\n",
        "\n",
        "\n",
        "print('Error medio Absoluto (MAE):', metrics.mean_absolute_error(y_test, Poly_y_test_predict))\n",
        "print('Root Mean Squared Error:', np.sqrt(metrics.mean_squared_error(y_test, Poly_y_test_predict)))\n",
        "print('r2_score',r2_score(y_test, Poly_y_test_predict))\n",
        "\n"
      ],
      "metadata": {
        "colab": {
          "base_uri": "https://localhost:8080/"
        },
        "id": "BlfvbeOtmXsX",
        "outputId": "4b2ea292-fd7e-43e8-c48b-f0f1ea93cea7"
      },
      "execution_count": 38,
      "outputs": [
        {
          "output_type": "stream",
          "name": "stdout",
          "text": [
            "Error medio Absoluto (MAE): 4.459445302443204\n",
            "Root Mean Squared Error: 6.081945518433532\n",
            "r2_score 0.7299521995869951\n"
          ]
        }
      ]
    },
    {
      "cell_type": "markdown",
      "source": [
        "4. **Realiza la regresión con Ridge y Lasso. Incluye la ecuación de tu modelo, visualización , errores y r cuadrada.**\n",
        "> Regresión Simple con Lasso y Ridge."
      ],
      "metadata": {
        "id": "-GoI8aUnq16F"
      }
    },
    {
      "cell_type": "markdown",
      "source": [
        "Para mayor facilidad de comparación crearemos un ciclo FOR para entrenar nuestros modelos. En este sentido, primero commenzamos por definir los modelos que vamos a utilizar."
      ],
      "metadata": {
        "id": "1u0eD_v85Ibu"
      }
    },
    {
      "cell_type": "code",
      "source": [
        "modelos = []\n",
        "modelos.append(('LR', LinearRegression(fit_intercept=True))) #inlcuimos el modelo sin regularizacion para simple comparacion\n",
        "modelos.append(('LASSO', Lasso(alpha=10)))   \n",
        "modelos.append(('RIDGE', Ridge(alpha=1000))) "
      ],
      "metadata": {
        "id": "d0L3qk0yq1lV"
      },
      "execution_count": 39,
      "outputs": []
    },
    {
      "cell_type": "markdown",
      "source": [
        "Establecemos el FOR. Dentro del ciclo entrenaremos nuestros modelos, predeciremos Y con los datos de entrenamiento y finalmente imprimiremos los coeficientes y punto de intercepción para poder hacer nuestras ecuaciones. "
      ],
      "metadata": {
        "id": "GGCFH1pV5lki"
      }
    },
    {
      "cell_type": "code",
      "source": [
        "yhat0 = []   # predicciones del modelo RLM\n",
        "yhat1 = []   # predicciones del RLM con regularización L1\n",
        "yhat2 = []   # predicciones del RLM con regularización L2\n",
        "\n",
        "\n",
        "for name, model in modelos:\n",
        "  # entrenamos el modelo seleccionado y obtenemos sus predicciones:\n",
        "  print(\"%s:\" % name)\n",
        "  mm = model.fit(X_train, np.ravel(y_train))\n",
        "  yhat = mm.predict(X_train)\n",
        "  \n",
        "  print(mm.coef_)       # despleguemos los pesos obtenidos\n",
        "  print(mm.intercept_)   # por si deseas conocer w0.\n",
        "  \n",
        "\n",
        "  if name=='LR':\n",
        "    yhat0.append(yhat)\n",
        "    print('\\n')\n",
        "  elif name=='LASSO':\n",
        "    yhat1.append(yhat)\n",
        "    print('\\n')\n",
        "  elif name=='RIDGE':\n",
        "    yhat2.append(yhat)\n",
        "    print('\\n')"
      ],
      "metadata": {
        "colab": {
          "base_uri": "https://localhost:8080/"
        },
        "id": "pW0VcLGhjsVc",
        "outputId": "38cc2e2f-5ba5-412c-b291-9b45b3fed425"
      },
      "execution_count": 40,
      "outputs": [
        {
          "output_type": "stream",
          "name": "stdout",
          "text": [
            "LR:\n",
            "[-5.91602323]\n",
            "66.44764675174278\n",
            "\n",
            "\n",
            "LASSO:\n",
            "[-0.21334864]\n",
            "40.91003975191399\n",
            "\n",
            "\n",
            "RIDGE:\n",
            "[-3.54061463]\n",
            "55.810137929146336\n",
            "\n",
            "\n"
          ]
        }
      ]
    },
    {
      "cell_type": "markdown",
      "source": [
        "La ecuación linear que obtenemos sin regularización es:\n",
        "\n",
        "$\\hat{y} = -5.91602323X +  66.44764675174278$\n",
        "\n",
        "Con Ridge:\n",
        "\n",
        "$\\hat{y} = -3.54061463X +  55.810137929146336$\n",
        "\n",
        "Con Lasso:\n",
        "\n",
        "$\\hat{y} = -0.21334864X +  40.91003975191399$"
      ],
      "metadata": {
        "id": "4lwWM82W281e"
      }
    },
    {
      "cell_type": "markdown",
      "source": [
        "Graficamos para visualizar de que manera afecto las distitnas regularizaciones  nuestro modelo. "
      ],
      "metadata": {
        "id": "l8Nn5BKC59gt"
      }
    },
    {
      "cell_type": "code",
      "source": [
        "plt.plot(X_train, np.ravel(y_train), \"b.\" )  \n",
        "\n",
        "plt.plot(X_train, np.ravel(yhat0),  label='LR')  \n",
        "plt.plot(X_train, np.ravel(yhat1), \"g--\",  label='lasso')  \n",
        "plt.plot(X_train, np.ravel(yhat2), \"r:\" ,  label='ridge')  \n",
        "plt.legend(loc=\"upper right\")\n",
        "\n",
        "plt.show()"
      ],
      "metadata": {
        "colab": {
          "base_uri": "https://localhost:8080/",
          "height": 265
        },
        "id": "pIEamtlm1_ZU",
        "outputId": "5002c693-d971-4b40-bb24-f1a337f57a81"
      },
      "execution_count": 41,
      "outputs": [
        {
          "output_type": "display_data",
          "data": {
            "text/plain": [
              "<Figure size 432x288 with 1 Axes>"
            ],
            "image/png": "[encoded data removed]"
          },
          "metadata": {
            "needs_background": "light"
          }
        }
      ]
    },
    {
      "cell_type": "markdown",
      "source": [
        ">Errores"
      ],
      "metadata": {
        "id": "kTlSvZ7B6Xw6"
      }
    },
    {
      "cell_type": "markdown",
      "source": [
        "Finalmente utilizamos nuestro modelo entrenado para predecir Y con los datos de prueba. Para corroborar que tan bueno o malo es nuestro modelo imprimimos nuestros errores y R cuadrada"
      ],
      "metadata": {
        "id": "I7ZRiZkz6G-s"
      }
    },
    {
      "cell_type": "code",
      "source": [
        "for name, model in modelos:\n",
        "  print(\"%s:\" % name)\n",
        "  mm = model.fit(X_train, np.ravel(y_train))\n",
        "  y_test_predict = mm.predict(X_test)\n",
        "\n",
        "\n",
        "  print('Error medio Absoluto (MAE):', metrics.mean_absolute_error(y_test, y_test_predict))\n",
        "  print('Root Mean Squared Error:', np.sqrt(metrics.mean_squared_error(y_test, y_test_predict)))\n",
        "  print('r2_score',r2_score(y_test, y_test_predict))\n",
        "  \n",
        "  results_MAE.append(metrics.mean_absolute_error(y_test, y_test_predict))\n",
        "  results_R.append(r2_score(y_test, y_test_predict))"
      ],
      "metadata": {
        "colab": {
          "base_uri": "https://localhost:8080/"
        },
        "id": "UmhbKpsq8gWr",
        "outputId": "754ed03b-5878-459c-d4ee-fb194eddf8f1"
      },
      "execution_count": 42,
      "outputs": [
        {
          "output_type": "stream",
          "name": "stdout",
          "text": [
            "LR:\n",
            "Error medio Absoluto (MAE): 5.011595088997378\n",
            "Root Mean Squared Error: 7.2416891490838875\n",
            "r2_score 0.6171440942171167\n",
            "LASSO:\n",
            "Error medio Absoluto (MAE): 8.202734838967014\n",
            "Root Mean Squared Error: 11.487533514907174\n",
            "r2_score 0.036594378235360825\n",
            "RIDGE:\n",
            "Error medio Absoluto (MAE): 5.615975698922892\n",
            "Root Mean Squared Error: 8.373426244702857\n",
            "r2_score 0.4881272714507666\n"
          ]
        }
      ]
    },
    {
      "cell_type": "markdown",
      "source": [
        "> Regresión Polinomial con Lasso y Ridge."
      ],
      "metadata": {
        "id": "NAZwwMSrKjjz"
      }
    },
    {
      "cell_type": "markdown",
      "source": [
        "Para mayor facilidad de comparación crearemos un ciclo FOR para entrenar nuestros modelos. En este sentido, primero commenzamos por definir los modelos que vamos a utilizar."
      ],
      "metadata": {
        "id": "fPmiaHUX6jYD"
      }
    },
    {
      "cell_type": "code",
      "source": [
        "modelos = []\n",
        "modelos.append(('PolyReg', LinearRegression(fit_intercept=True))) # nuevamente incluimos este modelo para comparacion\n",
        "modelos.append(('LASSO', Lasso(alpha=-1)))   \n",
        "modelos.append(('RIDGE', Ridge(alpha=1000))) "
      ],
      "metadata": {
        "id": "9m9I_OoFKkNB"
      },
      "execution_count": 43,
      "outputs": []
    },
    {
      "cell_type": "markdown",
      "source": [
        "Establecemos el FOR. Dentro del ciclo entrenaremos nuestros modelos, predeciremos Y con los datos de entrenamiento y finalmente imprimiremos los coeficientes y punto de intercepción para poder hacer nuestras ecuaciones. "
      ],
      "metadata": {
        "id": "1rih4FEs6jYF"
      }
    },
    {
      "cell_type": "code",
      "source": [
        "yhat0_pol = []   # predicciones del modelo Polinomial\n",
        "yhat1_pol = []   # predicciones del RLM con regularización L1\n",
        "yhat2_pol = []   # predicciones del RLM con regularización L2\n",
        "\n",
        "\n",
        "for name, model in modelos:\n",
        "  # entrenamos el modelo seleccionado y obtenemos sus predicciones:\n",
        "  print(\"%s:\" % name)\n",
        "  mm = model.fit(Xtrain_poly, y_train)\n",
        "  yhat = mm.predict(Xtrain_poly)\n",
        "  \n",
        "  print(mm.coef_)       # despleguemos los pesos obtenidos\n",
        "  print(mm.intercept_)   # por si deseas conocer w0.\n",
        "  \n",
        "\n",
        "  if name=='PolyReg':\n",
        "    yhat0_pol.append(yhat)\n",
        "    print('\\n')\n",
        "  elif name=='LASSO':\n",
        "    yhat1_pol.append(yhat)\n",
        "    print('\\n')\n",
        "  elif name=='RIDGE':\n",
        "    yhat2_pol.append(yhat)\n",
        "    print('\\n')"
      ],
      "metadata": {
        "colab": {
          "base_uri": "https://localhost:8080/"
        },
        "id": "gOEsRINuKzBm",
        "outputId": "2315836d-9991-4c5b-a7cf-5569dca20838"
      },
      "execution_count": 44,
      "outputs": [
        {
          "output_type": "stream",
          "name": "stdout",
          "text": [
            "PolyReg:\n",
            "[-16.27563255   1.12121998]\n",
            "88.38865903399889\n",
            "\n",
            "\n",
            "LASSO:\n",
            "[-30.63228628   2.61331984]\n",
            "120.14113380292957\n",
            "\n",
            "\n",
            "RIDGE:\n",
            "[-1.0420178  -0.45185058]\n",
            "54.47477607713823\n",
            "\n",
            "\n"
          ]
        },
        {
          "output_type": "stream",
          "name": "stderr",
          "text": [
            "/usr/local/lib/python3.7/dist-packages/sklearn/linear_model/_coordinate_descent.py:648: ConvergenceWarning: Objective did not converge. You might want to increase the number of iterations, check the scale of the features or consider increasing regularisation. Duality gap: 3.452e+04, tolerance: 9.155e+00 Linear regression models with null weight for the l1 regularization term are more efficiently fitted using one of the solvers implemented in sklearn.linear_model.Ridge/RidgeCV instead.\n",
            "  coef_, l1_reg, l2_reg, X, y, max_iter, tol, rng, random, positive\n"
          ]
        }
      ]
    },
    {
      "cell_type": "markdown",
      "source": [
        "La ecuación linear que obtenemos sin regularización es:\n",
        "\n",
        "$\\hat{y} =  -16.27563255X + 1.12121998X^2 + 88.38865903399889$\n",
        "\n",
        "Con Ridge:\n",
        "\n",
        "$\\hat{y} =  -1.0420178X - 0.45185058X^2 + 54.474776077138245$\n",
        "\n",
        "Con Lasso:\n",
        "\n",
        "$\\hat{y} =  -30.63228628X + 2.61331984X^2 + 120.14113380292937$\n",
        "\n"
      ],
      "metadata": {
        "id": "pb6xoH_zLPbk"
      }
    },
    {
      "cell_type": "markdown",
      "source": [
        "Graficamos para visualizar de que manera afecto las distitnas regularizaciones  nuestro modelo. "
      ],
      "metadata": {
        "id": "mDk2i0OY6jYG"
      }
    },
    {
      "cell_type": "code",
      "source": [
        "plt.plot(X_train, np.ravel(y_train), \"b.\" )  \n",
        "\n",
        "plt.plot(X_train, np.ravel(yhat0_pol), \"y.\", label='PolyReg')  \n",
        "plt.plot(X_train, np.ravel(yhat1_pol), \"g.\",  label='lasso')  \n",
        "plt.plot(X_train, np.ravel(yhat2_pol), \"r.\" ,  label='ridge')  \n",
        "plt.legend(loc=\"upper right\")\n",
        "\n",
        "plt.show()"
      ],
      "metadata": {
        "colab": {
          "base_uri": "https://localhost:8080/",
          "height": 265
        },
        "id": "any4VhE2LPFr",
        "outputId": "71ad5be1-18a8-4702-e973-96962f57f799"
      },
      "execution_count": 45,
      "outputs": [
        {
          "output_type": "display_data",
          "data": {
            "text/plain": [
              "<Figure size 432x288 with 1 Axes>"
            ],
            "image/png": "[encoded data removed]"
          },
          "metadata": {
            "needs_background": "light"
          }
        }
      ]
    },
    {
      "cell_type": "markdown",
      "source": [
        ">Errores"
      ],
      "metadata": {
        "id": "nnpoQrvh6jYI"
      }
    },
    {
      "cell_type": "markdown",
      "source": [
        "Finalmente utilizamos nuestro modelo entrenado para predecir Y con los datos de prueba. Para corroborar que tan bueno o malo es nuestro modelo imprimimos nuestros errores y R cuadrada"
      ],
      "metadata": {
        "id": "wQSW4Pd46jYJ"
      }
    },
    {
      "cell_type": "code",
      "source": [
        "for name, model in modelos:\n",
        "  print(\"%s:\" % name)\n",
        "  mm = model.fit(Xtrain_poly, np.ravel(y_train))\n",
        "  Poly_y_test_predict = mm.predict(Xtest_poly)\n",
        "\n",
        "\n",
        "  print('Error medio Absoluto (MAE):', metrics.mean_absolute_error(y_test, Poly_y_test_predict))\n",
        "  print('Root Mean Squared Error:', np.sqrt(metrics.mean_squared_error(y_test, Poly_y_test_predict)))\n",
        "  print('r2_score',r2_score(y_test, Poly_y_test_predict))\n",
        "  \n",
        "  results_MAE.append(metrics.mean_absolute_error(y_test, Poly_y_test_predict))\n",
        "  results_R.append(r2_score(y_test, Poly_y_test_predict))\n",
        "  "
      ],
      "metadata": {
        "colab": {
          "base_uri": "https://localhost:8080/"
        },
        "id": "trJYVP0WQPps",
        "outputId": "e96bcbe5-d5cf-40ca-8584-9f8b0b457b33"
      },
      "execution_count": 46,
      "outputs": [
        {
          "output_type": "stream",
          "name": "stdout",
          "text": [
            "PolyReg:\n",
            "Error medio Absoluto (MAE): 4.459445302443204\n",
            "Root Mean Squared Error: 6.081945518433532\n",
            "r2_score 0.7299521995869951\n",
            "LASSO:\n",
            "Error medio Absoluto (MAE): 5.258585686358333\n",
            "Root Mean Squared Error: 6.9055285138324995\n",
            "r2_score 0.6518635960007969\n",
            "RIDGE:\n",
            "Error medio Absoluto (MAE): 5.564275248625166\n",
            "Root Mean Squared Error: 8.21567946914912\n",
            "r2_score 0.5072319202631822\n"
          ]
        },
        {
          "output_type": "stream",
          "name": "stderr",
          "text": [
            "/usr/local/lib/python3.7/dist-packages/sklearn/linear_model/_coordinate_descent.py:648: ConvergenceWarning: Objective did not converge. You might want to increase the number of iterations, check the scale of the features or consider increasing regularisation. Duality gap: 3.452e+04, tolerance: 9.155e+00 Linear regression models with null weight for the l1 regularization term are more efficiently fitted using one of the solvers implemented in sklearn.linear_model.Ridge/RidgeCV instead.\n",
            "  coef_, l1_reg, l2_reg, X, y, max_iter, tol, rng, random, positive\n"
          ]
        }
      ]
    },
    {
      "cell_type": "markdown",
      "source": [
        "5. Finalmente grafica :\n",
        ">MAE (de los cuatro métodos)\n"
      ],
      "metadata": {
        "id": "fNQT1pv2WRYU"
      }
    },
    {
      "cell_type": "code",
      "source": [
        "results_MAE # imprimimos rapidamente esta variable para demostrar que aqui fuimos guardando nuestros errores."
      ],
      "metadata": {
        "colab": {
          "base_uri": "https://localhost:8080/"
        },
        "id": "s9AQP6qZiRIm",
        "outputId": "dd286722-f229-4a98-d02f-78c4a6a85db5"
      },
      "execution_count": 47,
      "outputs": [
        {
          "output_type": "execute_result",
          "data": {
            "text/plain": [
              "[5.011595088997378,\n",
              " 8.202734838967014,\n",
              " 5.615975698922892,\n",
              " 4.459445302443204,\n",
              " 5.258585686358333,\n",
              " 5.564275248625166]"
            ]
          },
          "metadata": {},
          "execution_count": 47
        }
      ]
    },
    {
      "cell_type": "code",
      "source": [
        "plt.bar(['LR', 'LR-Lasso', 'LR-Ridge', 'Poly', 'Poly-Lasso', 'Poly-Ridge'], results_MAE)"
      ],
      "metadata": {
        "colab": {
          "base_uri": "https://localhost:8080/",
          "height": 282
        },
        "id": "5-9l3qJsWWwo",
        "outputId": "074b7b31-36d8-4343-86a9-9e3dc5d6b305"
      },
      "execution_count": 48,
      "outputs": [
        {
          "output_type": "execute_result",
          "data": {
            "text/plain": [
              "<BarContainer object of 6 artists>"
            ]
          },
          "metadata": {},
          "execution_count": 48
        },
        {
          "output_type": "display_data",
          "data": {
            "text/plain": [
              "<Figure size 432x288 with 1 Axes>"
            ],
            "image/png": "[encoded data removed]"
          },
          "metadata": {
            "needs_background": "light"
          }
        }
      ]
    },
    {
      "cell_type": "markdown",
      "source": [
        ">R2 (de los cuatro métodos)"
      ],
      "metadata": {
        "id": "I4gzm2aVWU3o"
      }
    },
    {
      "cell_type": "code",
      "source": [
        "plt.bar(['LR', 'LR-Lasso', 'LR-Ridge', 'Poly', 'Poly-Lasso', 'Poly-Ridge'], results_R)"
      ],
      "metadata": {
        "colab": {
          "base_uri": "https://localhost:8080/",
          "height": 282
        },
        "id": "VDnd1bWZi0el",
        "outputId": "d0db6e6b-b6db-4ead-8ebb-9ee39f9c77d6"
      },
      "execution_count": 49,
      "outputs": [
        {
          "output_type": "execute_result",
          "data": {
            "text/plain": [
              "<BarContainer object of 6 artists>"
            ]
          },
          "metadata": {},
          "execution_count": 49
        },
        {
          "output_type": "display_data",
          "data": {
            "text/plain": [
              "<Figure size 432x288 with 1 Axes>"
            ],
            "image/png": "[encoded data removed]"
          },
          "metadata": {
            "needs_background": "light"
          }
        }
      ]
    },
    {
      "cell_type": "markdown",
      "source": [
        "6. **Explica tus resultados, que método conviene más a la empresa, ¿por que?, ¿que porcentajes de entrenamiento y evaluación usaste?, ¿que error tienes?, ¿es bueno?, ¿cómo lo sabes?**"
      ],
      "metadata": {
        "id": "4qoxqdLFjiZu"
      }
    },
    {
      "cell_type": "markdown",
      "source": [
        "En este ejercicio, decidimos hacer una división de nuestros datos en 85% para datos de entrenamiento y 15% para datos de prueba. Según la literatura, no existe una manera efectiva de dividir nuestros datos en estos subconjuntos. No obstante, es práctica común que se dividan alrededor del 80-90% para entrenamiento y el resto para prueba con el objetivo de evitar sobre y sub entrenamiento. \n",
        "\n",
        "Finalmente, podemos determinar cual fue nuestro mejor acercamiento para describir nuestros datos con base en las gráficas que realizamos de los errores y r cuadrada para los modelos linear simple sin regularizacion, LR con Lasso, LR con Rigde, Polinomial simple sin regularizacion, PS con Lasso y PS con Ridge. Como podemos observar, el modelo polinomial simple es el mejor pues tiene una mayor R cuadrada (cercana al 73%) y el error MAE más pequeño (4.46). El error MAE obtenido lo podemos interpretar como   nuestro modelo polinomial simple se suele equivocar, en promedio, 4.46 unidades al momento de hacer una predicción. Ahora, cabe mencionar que es dificl establecer si un error MAE de 4.46 es bueno o malo. Esto depende totalmente de nuestro cliente y sus expectativas. En otra palabra, el error permisible y el desempeño óptimo de un modelo siempre dependeran del caso y las circunstancias. \n",
        "\n",
        "También cabe destacar que estadísticamente, se busca obtener una R cuadrada cercana al 100%, por lo que un 73% significa que nuestro modelo no describe por completo o de la mejor manera nuestros datos. Sería importante analizar otros grados de polinomio para determinar si una regresión polinomial es el modelo óptimo o si hay que cambiar a otro modelo más complejo. Lo que nos queda claro es que el modelo lineal es demasiado simple como para describir nuestros datos pues obtuvo solamente una R cuadrada del 61%. Esto es claro de visualizar en nuestras gráficas en donde vemos como nuestros datos estan distribuidos a lo largo de X y Y y como una simple linea no logra describirlos a todos. \n"
      ],
      "metadata": {
        "id": "iyAD1Lan7JVg"
      }
    },
    {
      "cell_type": "markdown",
      "source": [
        "Referencias:\n",
        "\n",
        "Jj, a. (2016, March 23). Mae and RMSE - which metric is better? Medium. Retrieved November 9, 2022, from https://medium.com/human-in-a-machine-world/mae-and-rmse-which-metric-is-better-e60ac3bde13d \n",
        "\n",
        "Minitab Blog Editor (2019). Análisis de regresión: ¿Cómo puedo interpretar el r-cuadrado y evaluar La Bondad de Ajuste? Minitab Blog. Retrieved November 9, 2022, from https://blog.minitab.com/es/analisis-de-regresion-como-puedo-interpretar-el-r-cuadrado-y-evaluar-la-bondad-de-ajuste \n",
        "\n",
        "Purvanshparmar  (2021, October 11). Optimal Data Division for Training Neural Network. Medium. Retrieved November 9, 2022, from https://medium.com/mlearning-ai/optimal-data-division-for-training-neural-network-3c83726e9551 \n",
        "\n"
      ],
      "metadata": {
        "id": "hFu-dvCsbb9E"
      }
    },
    {
      "cell_type": "markdown",
      "metadata": {
        "id": "CfqcmLmxLoe9"
      },
      "source": [
        "#Ejercicio 2\n",
        "Realiza la regresión polinomial de los siguientes datos:"
      ]
    },
    {
      "cell_type": "code",
      "source": [
        "df = pd.read_csv('https://raw.githubusercontent.com/marypazrf/bdd/main/kc_house_data.csv')\n",
        "df.sample(10)"
      ],
      "metadata": {
        "id": "57bn0j38qGrg",
        "colab": {
          "base_uri": "https://localhost:8080/",
          "height": 436
        },
        "outputId": "3f2ae252-51ac-4b38-a25f-08b2e9b95f46"
      },
      "execution_count": 50,
      "outputs": [
        {
          "output_type": "execute_result",
          "data": {
            "text/plain": [
              "               id             date     price  bedrooms  bathrooms  \\\n",
              "16245  7217400895  20140609T000000  550000.0         3       1.75   \n",
              "16467  3335000050  20140714T000000  397000.0         2       1.75   \n",
              "15759  7577700185  20140709T000000  550000.0         4       1.00   \n",
              "8686   6837820330  20150429T000000  300000.0         4       2.50   \n",
              "7395   3343901188  20150323T000000  300000.0         3       1.00   \n",
              "7683   8827900690  20150421T000000  600000.0         3       2.00   \n",
              "12735  6073300040  20150106T000000  375000.0         4       2.25   \n",
              "4685   9201000100  20150414T000000  765000.0         3       2.50   \n",
              "7047   1545805980  20141110T000000  390000.0         3       2.50   \n",
              "14028  2724069103  20140828T000000  389000.0         3       1.75   \n",
              "\n",
              "       sqft_living  sqft_lot  floors  waterfront  view  ...  grade  \\\n",
              "16245         1380      3402     1.5           0     0  ...      7   \n",
              "16467         1610      4104     1.0           0     0  ...      7   \n",
              "15759         1440      3600     1.5           0     0  ...      7   \n",
              "8686          2450      8932     2.0           0     0  ...      8   \n",
              "7395          1320      7200     1.0           0     0  ...      7   \n",
              "7683          1460      2800     1.0           0     0  ...      7   \n",
              "12735         2020     12500     2.0           0     0  ...      8   \n",
              "4685          2300      9752     2.0           0     2  ...      8   \n",
              "7047          2770      8820     1.0           0     0  ...      7   \n",
              "14028         1400     10018     1.0           0     0  ...      7   \n",
              "\n",
              "       sqft_above  sqft_basement  yr_built  yr_renovated  zipcode      lat  \\\n",
              "16245        1380              0      1900          2000    98122  47.6109   \n",
              "16467         950            660      1996             0    98118  47.5565   \n",
              "15759        1440              0      1924             0    98116  47.5694   \n",
              "8686         2450              0      1990             0    98023  47.3093   \n",
              "7395         1320              0      1959             0    98056  47.5048   \n",
              "7683          730            730      1921             0    98105  47.6700   \n",
              "12735        2020              0      1966             0    98056  47.5403   \n",
              "4685         2300              0      1968          2003    98075  47.5825   \n",
              "7047         1900            870      1980          2004    98038  47.3685   \n",
              "14028        1400              0      1962             0    98027  47.5327   \n",
              "\n",
              "          long  sqft_living15  sqft_lot15  \n",
              "16245 -122.302           1500        5496  \n",
              "16467 -122.275           1510        5284  \n",
              "15759 -122.385           1010        5175  \n",
              "8686  -122.345           2410        8775  \n",
              "7395  -122.190           1720        7249  \n",
              "7683  -122.295           1780        4560  \n",
              "12735 -122.175           1800       13175  \n",
              "4685  -122.076           2640       10764  \n",
              "7047  -122.048           1850       10920  \n",
              "14028 -122.032           1350        9300  \n",
              "\n",
              "[10 rows x 21 columns]"
            ],
            "text/html": [
              "\n",
              "  <div id=\"df-0e5cef7a-5e2e-48b5-ac4a-8365fc93ecc2\">\n",
              "    <div class=\"colab-df-container\">\n",
              "      <div>\n",
              "<style scoped>\n",
              "    .dataframe tbody tr th:only-of-type {\n",
              "        vertical-align: middle;\n",
              "    }\n",
              "\n",
              "    .dataframe tbody tr th {\n",
              "        vertical-align: top;\n",
              "    }\n",
              "\n",
              "    .dataframe thead th {\n",
              "        text-align: right;\n",
              "    }\n",
              "</style>\n",
              "<table border=\"1\" class=\"dataframe\">\n",
              "  <thead>\n",
              "    <tr style=\"text-align: right;\">\n",
              "      <th></th>\n",
              "      <th>id</th>\n",
              "      <th>date</th>\n",
              "      <th>price</th>\n",
              "      <th>bedrooms</th>\n",
              "      <th>bathrooms</th>\n",
              "      <th>sqft_living</th>\n",
              "      <th>sqft_lot</th>\n",
              "      <th>floors</th>\n",
              "      <th>waterfront</th>\n",
              "      <th>view</th>\n",
              "      <th>...</th>\n",
              "      <th>grade</th>\n",
              "      <th>sqft_above</th>\n",
              "      <th>sqft_basement</th>\n",
              "      <th>yr_built</th>\n",
              "      <th>yr_renovated</th>\n",
              "      <th>zipcode</th>\n",
              "      <th>lat</th>\n",
              "      <th>long</th>\n",
              "      <th>sqft_living15</th>\n",
              "      <th>sqft_lot15</th>\n",
              "    </tr>\n",
              "  </thead>\n",
              "  <tbody>\n",
              "    <tr>\n",
              "      <th>16245</th>\n",
              "      <td>7217400895</td>\n",
              "      <td>20140609T000000</td>\n",
              "      <td>550000.0</td>\n",
              "      <td>3</td>\n",
              "      <td>1.75</td>\n",
              "      <td>1380</td>\n",
              "      <td>3402</td>\n",
              "      <td>1.5</td>\n",
              "      <td>0</td>\n",
              "      <td>0</td>\n",
              "      <td>...</td>\n",
              "      <td>7</td>\n",
              "      <td>1380</td>\n",
              "      <td>0</td>\n",
              "      <td>1900</td>\n",
              "      <td>2000</td>\n",
              "      <td>98122</td>\n",
              "      <td>47.6109</td>\n",
              "      <td>-122.302</td>\n",
              "      <td>1500</td>\n",
              "      <td>5496</td>\n",
              "    </tr>\n",
              "    <tr>\n",
              "      <th>16467</th>\n",
              "      <td>3335000050</td>\n",
              "      <td>20140714T000000</td>\n",
              "      <td>397000.0</td>\n",
              "      <td>2</td>\n",
              "      <td>1.75</td>\n",
              "      <td>1610</td>\n",
              "      <td>4104</td>\n",
              "      <td>1.0</td>\n",
              "      <td>0</td>\n",
              "      <td>0</td>\n",
              "      <td>...</td>\n",
              "      <td>7</td>\n",
              "      <td>950</td>\n",
              "      <td>660</td>\n",
              "      <td>1996</td>\n",
              "      <td>0</td>\n",
              "      <td>98118</td>\n",
              "      <td>47.5565</td>\n",
              "      <td>-122.275</td>\n",
              "      <td>1510</td>\n",
              "      <td>5284</td>\n",
              "    </tr>\n",
              "    <tr>\n",
              "      <th>15759</th>\n",
              "      <td>7577700185</td>\n",
              "      <td>20140709T000000</td>\n",
              "      <td>550000.0</td>\n",
              "      <td>4</td>\n",
              "      <td>1.00</td>\n",
              "      <td>1440</td>\n",
              "      <td>3600</td>\n",
              "      <td>1.5</td>\n",
              "      <td>0</td>\n",
              "      <td>0</td>\n",
              "      <td>...</td>\n",
              "      <td>7</td>\n",
              "      <td>1440</td>\n",
              "      <td>0</td>\n",
              "      <td>1924</td>\n",
              "      <td>0</td>\n",
              "      <td>98116</td>\n",
              "      <td>47.5694</td>\n",
              "      <td>-122.385</td>\n",
              "      <td>1010</td>\n",
              "      <td>5175</td>\n",
              "    </tr>\n",
              "    <tr>\n",
              "      <th>8686</th>\n",
              "      <td>6837820330</td>\n",
              "      <td>20150429T000000</td>\n",
              "      <td>300000.0</td>\n",
              "      <td>4</td>\n",
              "      <td>2.50</td>\n",
              "      <td>2450</td>\n",
              "      <td>8932</td>\n",
              "      <td>2.0</td>\n",
              "      <td>0</td>\n",
              "      <td>0</td>\n",
              "      <td>...</td>\n",
              "      <td>8</td>\n",
              "      <td>2450</td>\n",
              "      <td>0</td>\n",
              "      <td>1990</td>\n",
              "      <td>0</td>\n",
              "      <td>98023</td>\n",
              "      <td>47.3093</td>\n",
              "      <td>-122.345</td>\n",
              "      <td>2410</td>\n",
              "      <td>8775</td>\n",
              "    </tr>\n",
              "    <tr>\n",
              "      <th>7395</th>\n",
              "      <td>3343901188</td>\n",
              "      <td>20150323T000000</td>\n",
              "      <td>300000.0</td>\n",
              "      <td>3</td>\n",
              "      <td>1.00</td>\n",
              "      <td>1320</td>\n",
              "      <td>7200</td>\n",
              "      <td>1.0</td>\n",
              "      <td>0</td>\n",
              "      <td>0</td>\n",
              "      <td>...</td>\n",
              "      <td>7</td>\n",
              "      <td>1320</td>\n",
              "      <td>0</td>\n",
              "      <td>1959</td>\n",
              "      <td>0</td>\n",
              "      <td>98056</td>\n",
              "      <td>47.5048</td>\n",
              "      <td>-122.190</td>\n",
              "      <td>1720</td>\n",
              "      <td>7249</td>\n",
              "    </tr>\n",
              "    <tr>\n",
              "      <th>7683</th>\n",
              "      <td>8827900690</td>\n",
              "      <td>20150421T000000</td>\n",
              "      <td>600000.0</td>\n",
              "      <td>3</td>\n",
              "      <td>2.00</td>\n",
              "      <td>1460</td>\n",
              "      <td>2800</td>\n",
              "      <td>1.0</td>\n",
              "      <td>0</td>\n",
              "      <td>0</td>\n",
              "      <td>...</td>\n",
              "      <td>7</td>\n",
              "      <td>730</td>\n",
              "      <td>730</td>\n",
              "      <td>1921</td>\n",
              "      <td>0</td>\n",
              "      <td>98105</td>\n",
              "      <td>47.6700</td>\n",
              "      <td>-122.295</td>\n",
              "      <td>1780</td>\n",
              "      <td>4560</td>\n",
              "    </tr>\n",
              "    <tr>\n",
              "      <th>12735</th>\n",
              "      <td>6073300040</td>\n",
              "      <td>20150106T000000</td>\n",
              "      <td>375000.0</td>\n",
              "      <td>4</td>\n",
              "      <td>2.25</td>\n",
              "      <td>2020</td>\n",
              "      <td>12500</td>\n",
              "      <td>2.0</td>\n",
              "      <td>0</td>\n",
              "      <td>0</td>\n",
              "      <td>...</td>\n",
              "      <td>8</td>\n",
              "      <td>2020</td>\n",
              "      <td>0</td>\n",
              "      <td>1966</td>\n",
              "      <td>0</td>\n",
              "      <td>98056</td>\n",
              "      <td>47.5403</td>\n",
              "      <td>-122.175</td>\n",
              "      <td>1800</td>\n",
              "      <td>13175</td>\n",
              "    </tr>\n",
              "    <tr>\n",
              "      <th>4685</th>\n",
              "      <td>9201000100</td>\n",
              "      <td>20150414T000000</td>\n",
              "      <td>765000.0</td>\n",
              "      <td>3</td>\n",
              "      <td>2.50</td>\n",
              "      <td>2300</td>\n",
              "      <td>9752</td>\n",
              "      <td>2.0</td>\n",
              "      <td>0</td>\n",
              "      <td>2</td>\n",
              "      <td>...</td>\n",
              "      <td>8</td>\n",
              "      <td>2300</td>\n",
              "      <td>0</td>\n",
              "      <td>1968</td>\n",
              "      <td>2003</td>\n",
              "      <td>98075</td>\n",
              "      <td>47.5825</td>\n",
              "      <td>-122.076</td>\n",
              "      <td>2640</td>\n",
              "      <td>10764</td>\n",
              "    </tr>\n",
              "    <tr>\n",
              "      <th>7047</th>\n",
              "      <td>1545805980</td>\n",
              "      <td>20141110T000000</td>\n",
              "      <td>390000.0</td>\n",
              "      <td>3</td>\n",
              "      <td>2.50</td>\n",
              "      <td>2770</td>\n",
              "      <td>8820</td>\n",
              "      <td>1.0</td>\n",
              "      <td>0</td>\n",
              "      <td>0</td>\n",
              "      <td>...</td>\n",
              "      <td>7</td>\n",
              "      <td>1900</td>\n",
              "      <td>870</td>\n",
              "      <td>1980</td>\n",
              "      <td>2004</td>\n",
              "      <td>98038</td>\n",
              "      <td>47.3685</td>\n",
              "      <td>-122.048</td>\n",
              "      <td>1850</td>\n",
              "      <td>10920</td>\n",
              "    </tr>\n",
              "    <tr>\n",
              "      <th>14028</th>\n",
              "      <td>2724069103</td>\n",
              "      <td>20140828T000000</td>\n",
              "      <td>389000.0</td>\n",
              "      <td>3</td>\n",
              "      <td>1.75</td>\n",
              "      <td>1400</td>\n",
              "      <td>10018</td>\n",
              "      <td>1.0</td>\n",
              "      <td>0</td>\n",
              "      <td>0</td>\n",
              "      <td>...</td>\n",
              "      <td>7</td>\n",
              "      <td>1400</td>\n",
              "      <td>0</td>\n",
              "      <td>1962</td>\n",
              "      <td>0</td>\n",
              "      <td>98027</td>\n",
              "      <td>47.5327</td>\n",
              "      <td>-122.032</td>\n",
              "      <td>1350</td>\n",
              "      <td>9300</td>\n",
              "    </tr>\n",
              "  </tbody>\n",
              "</table>\n",
              "<p>10 rows × 21 columns</p>\n",
              "</div>\n",
              "      <button class=\"colab-df-convert\" onclick=\"convertToInteractive('df-0e5cef7a-5e2e-48b5-ac4a-8365fc93ecc2')\"\n",
              "              title=\"Convert this dataframe to an interactive table.\"\n",
              "              style=\"display:none;\">\n",
              "        \n",
              "  <svg xmlns=\"http://www.w3.org/2000/svg\" height=\"24px\"viewBox=\"0 0 24 24\"\n",
              "       width=\"24px\">\n",
              "    <path d=\"M0 0h24v24H0V0z\" fill=\"none\"/>\n",
              "    <path d=\"M18.56 5.44l.94 2.06.94-2.06 2.06-.94-2.06-.94-.94-2.06-.94 2.06-2.06.94zm-11 1L8.5 8.5l.94-2.06 2.06-.94-2.06-.94L8.5 2.5l-.94 2.06-2.06.94zm10 10l.94 2.06.94-2.06 2.06-.94-2.06-.94-.94-2.06-.94 2.06-2.06.94z\"/><path d=\"M17.41 7.96l-1.37-1.37c-.4-.4-.92-.59-1.43-.59-.52 0-1.04.2-1.43.59L10.3 9.45l-7.72 7.72c-.78.78-.78 2.05 0 2.83L4 21.41c.39.39.9.59 1.41.59.51 0 1.02-.2 1.41-.59l7.78-7.78 2.81-2.81c.8-.78.8-2.07 0-2.86zM5.41 20L4 18.59l7.72-7.72 1.47 1.35L5.41 20z\"/>\n",
              "  </svg>\n",
              "      </button>\n",
              "      \n",
              "  <style>\n",
              "    .colab-df-container {\n",
              "      display:flex;\n",
              "      flex-wrap:wrap;\n",
              "      gap: 12px;\n",
              "    }\n",
              "\n",
              "    .colab-df-convert {\n",
              "      background-color: #E8F0FE;\n",
              "      border: none;\n",
              "      border-radius: 50%;\n",
              "      cursor: pointer;\n",
              "      display: none;\n",
              "      fill: #1967D2;\n",
              "      height: 32px;\n",
              "      padding: 0 0 0 0;\n",
              "      width: 32px;\n",
              "    }\n",
              "\n",
              "    .colab-df-convert:hover {\n",
              "      background-color: #E2EBFA;\n",
              "      box-shadow: 0px 1px 2px rgba(60, 64, 67, 0.3), 0px 1px 3px 1px rgba(60, 64, 67, 0.15);\n",
              "      fill: #174EA6;\n",
              "    }\n",
              "\n",
              "    [theme=dark] .colab-df-convert {\n",
              "      background-color: #3B4455;\n",
              "      fill: #D2E3FC;\n",
              "    }\n",
              "\n",
              "    [theme=dark] .colab-df-convert:hover {\n",
              "      background-color: #434B5C;\n",
              "      box-shadow: 0px 1px 3px 1px rgba(0, 0, 0, 0.15);\n",
              "      filter: drop-shadow(0px 1px 2px rgba(0, 0, 0, 0.3));\n",
              "      fill: #FFFFFF;\n",
              "    }\n",
              "  </style>\n",
              "\n",
              "      <script>\n",
              "        const buttonEl =\n",
              "          document.querySelector('#df-0e5cef7a-5e2e-48b5-ac4a-8365fc93ecc2 button.colab-df-convert');\n",
              "        buttonEl.style.display =\n",
              "          google.colab.kernel.accessAllowed ? 'block' : 'none';\n",
              "\n",
              "        async function convertToInteractive(key) {\n",
              "          const element = document.querySelector('#df-0e5cef7a-5e2e-48b5-ac4a-8365fc93ecc2');\n",
              "          const dataTable =\n",
              "            await google.colab.kernel.invokeFunction('convertToInteractive',\n",
              "                                                     [key], {});\n",
              "          if (!dataTable) return;\n",
              "\n",
              "          const docLinkHtml = 'Like what you see? Visit the ' +\n",
              "            '<a target=\"_blank\" href=https://colab.research.google.com/notebooks/data_table.ipynb>data table notebook</a>'\n",
              "            + ' to learn more about interactive tables.';\n",
              "          element.innerHTML = '';\n",
              "          dataTable['output_type'] = 'display_data';\n",
              "          await google.colab.output.renderOutput(dataTable, element);\n",
              "          const docLink = document.createElement('div');\n",
              "          docLink.innerHTML = docLinkHtml;\n",
              "          element.appendChild(docLink);\n",
              "        }\n",
              "      </script>\n",
              "    </div>\n",
              "  </div>\n",
              "  "
            ]
          },
          "metadata": {},
          "execution_count": 50
        }
      ]
    },
    {
      "cell_type": "code",
      "source": [
        "df.info() # nos damos cuenta del tipo de datos que tenemos y de que no tenemos datos nulos"
      ],
      "metadata": {
        "id": "n0fs14KoqI3M",
        "colab": {
          "base_uri": "https://localhost:8080/"
        },
        "outputId": "1cd3ef33-5f7c-4f4d-c6ab-3e0655855e45"
      },
      "execution_count": 51,
      "outputs": [
        {
          "output_type": "stream",
          "name": "stdout",
          "text": [
            "<class 'pandas.core.frame.DataFrame'>\n",
            "RangeIndex: 21613 entries, 0 to 21612\n",
            "Data columns (total 21 columns):\n",
            " #   Column         Non-Null Count  Dtype  \n",
            "---  ------         --------------  -----  \n",
            " 0   id             21613 non-null  int64  \n",
            " 1   date           21613 non-null  object \n",
            " 2   price          21613 non-null  float64\n",
            " 3   bedrooms       21613 non-null  int64  \n",
            " 4   bathrooms      21613 non-null  float64\n",
            " 5   sqft_living    21613 non-null  int64  \n",
            " 6   sqft_lot       21613 non-null  int64  \n",
            " 7   floors         21613 non-null  float64\n",
            " 8   waterfront     21613 non-null  int64  \n",
            " 9   view           21613 non-null  int64  \n",
            " 10  condition      21613 non-null  int64  \n",
            " 11  grade          21613 non-null  int64  \n",
            " 12  sqft_above     21613 non-null  int64  \n",
            " 13  sqft_basement  21613 non-null  int64  \n",
            " 14  yr_built       21613 non-null  int64  \n",
            " 15  yr_renovated   21613 non-null  int64  \n",
            " 16  zipcode        21613 non-null  int64  \n",
            " 17  lat            21613 non-null  float64\n",
            " 18  long           21613 non-null  float64\n",
            " 19  sqft_living15  21613 non-null  int64  \n",
            " 20  sqft_lot15     21613 non-null  int64  \n",
            "dtypes: float64(5), int64(15), object(1)\n",
            "memory usage: 3.5+ MB\n"
          ]
        }
      ]
    },
    {
      "cell_type": "code",
      "source": [
        "df.describe()"
      ],
      "metadata": {
        "id": "1PNzDJZeqKhe",
        "colab": {
          "base_uri": "https://localhost:8080/",
          "height": 364
        },
        "outputId": "aaf491db-c17e-4660-9b4d-bddc60662686"
      },
      "execution_count": 52,
      "outputs": [
        {
          "output_type": "execute_result",
          "data": {
            "text/plain": [
              "                 id         price      bedrooms     bathrooms   sqft_living  \\\n",
              "count  2.161300e+04  2.161300e+04  21613.000000  21613.000000  21613.000000   \n",
              "mean   4.580302e+09  5.400881e+05      3.370842      2.114757   2079.899736   \n",
              "std    2.876566e+09  3.671272e+05      0.930062      0.770163    918.440897   \n",
              "min    1.000102e+06  7.500000e+04      0.000000      0.000000    290.000000   \n",
              "25%    2.123049e+09  3.219500e+05      3.000000      1.750000   1427.000000   \n",
              "50%    3.904930e+09  4.500000e+05      3.000000      2.250000   1910.000000   \n",
              "75%    7.308900e+09  6.450000e+05      4.000000      2.500000   2550.000000   \n",
              "max    9.900000e+09  7.700000e+06     33.000000      8.000000  13540.000000   \n",
              "\n",
              "           sqft_lot        floors    waterfront          view     condition  \\\n",
              "count  2.161300e+04  21613.000000  21613.000000  21613.000000  21613.000000   \n",
              "mean   1.510697e+04      1.494309      0.007542      0.234303      3.409430   \n",
              "std    4.142051e+04      0.539989      0.086517      0.766318      0.650743   \n",
              "min    5.200000e+02      1.000000      0.000000      0.000000      1.000000   \n",
              "25%    5.040000e+03      1.000000      0.000000      0.000000      3.000000   \n",
              "50%    7.618000e+03      1.500000      0.000000      0.000000      3.000000   \n",
              "75%    1.068800e+04      2.000000      0.000000      0.000000      4.000000   \n",
              "max    1.651359e+06      3.500000      1.000000      4.000000      5.000000   \n",
              "\n",
              "              grade    sqft_above  sqft_basement      yr_built  yr_renovated  \\\n",
              "count  21613.000000  21613.000000   21613.000000  21613.000000  21613.000000   \n",
              "mean       7.656873   1788.390691     291.509045   1971.005136     84.402258   \n",
              "std        1.175459    828.090978     442.575043     29.373411    401.679240   \n",
              "min        1.000000    290.000000       0.000000   1900.000000      0.000000   \n",
              "25%        7.000000   1190.000000       0.000000   1951.000000      0.000000   \n",
              "50%        7.000000   1560.000000       0.000000   1975.000000      0.000000   \n",
              "75%        8.000000   2210.000000     560.000000   1997.000000      0.000000   \n",
              "max       13.000000   9410.000000    4820.000000   2015.000000   2015.000000   \n",
              "\n",
              "            zipcode           lat          long  sqft_living15     sqft_lot15  \n",
              "count  21613.000000  21613.000000  21613.000000   21613.000000   21613.000000  \n",
              "mean   98077.939805     47.560053   -122.213896    1986.552492   12768.455652  \n",
              "std       53.505026      0.138564      0.140828     685.391304   27304.179631  \n",
              "min    98001.000000     47.155900   -122.519000     399.000000     651.000000  \n",
              "25%    98033.000000     47.471000   -122.328000    1490.000000    5100.000000  \n",
              "50%    98065.000000     47.571800   -122.230000    1840.000000    7620.000000  \n",
              "75%    98118.000000     47.678000   -122.125000    2360.000000   10083.000000  \n",
              "max    98199.000000     47.777600   -121.315000    6210.000000  871200.000000  "
            ],
            "text/html": [
              "\n",
              "  <div id=\"df-9b780c2b-5321-4a73-a285-a5fcd4807297\">\n",
              "    <div class=\"colab-df-container\">\n",
              "      <div>\n",
              "<style scoped>\n",
              "    .dataframe tbody tr th:only-of-type {\n",
              "        vertical-align: middle;\n",
              "    }\n",
              "\n",
              "    .dataframe tbody tr th {\n",
              "        vertical-align: top;\n",
              "    }\n",
              "\n",
              "    .dataframe thead th {\n",
              "        text-align: right;\n",
              "    }\n",
              "</style>\n",
              "<table border=\"1\" class=\"dataframe\">\n",
              "  <thead>\n",
              "    <tr style=\"text-align: right;\">\n",
              "      <th></th>\n",
              "      <th>id</th>\n",
              "      <th>price</th>\n",
              "      <th>bedrooms</th>\n",
              "      <th>bathrooms</th>\n",
              "      <th>sqft_living</th>\n",
              "      <th>sqft_lot</th>\n",
              "      <th>floors</th>\n",
              "      <th>waterfront</th>\n",
              "      <th>view</th>\n",
              "      <th>condition</th>\n",
              "      <th>grade</th>\n",
              "      <th>sqft_above</th>\n",
              "      <th>sqft_basement</th>\n",
              "      <th>yr_built</th>\n",
              "      <th>yr_renovated</th>\n",
              "      <th>zipcode</th>\n",
              "      <th>lat</th>\n",
              "      <th>long</th>\n",
              "      <th>sqft_living15</th>\n",
              "      <th>sqft_lot15</th>\n",
              "    </tr>\n",
              "  </thead>\n",
              "  <tbody>\n",
              "    <tr>\n",
              "      <th>count</th>\n",
              "      <td>2.161300e+04</td>\n",
              "      <td>2.161300e+04</td>\n",
              "      <td>21613.000000</td>\n",
              "      <td>21613.000000</td>\n",
              "      <td>21613.000000</td>\n",
              "      <td>2.161300e+04</td>\n",
              "      <td>21613.000000</td>\n",
              "      <td>21613.000000</td>\n",
              "      <td>21613.000000</td>\n",
              "      <td>21613.000000</td>\n",
              "      <td>21613.000000</td>\n",
              "      <td>21613.000000</td>\n",
              "      <td>21613.000000</td>\n",
              "      <td>21613.000000</td>\n",
              "      <td>21613.000000</td>\n",
              "      <td>21613.000000</td>\n",
              "      <td>21613.000000</td>\n",
              "      <td>21613.000000</td>\n",
              "      <td>21613.000000</td>\n",
              "      <td>21613.000000</td>\n",
              "    </tr>\n",
              "    <tr>\n",
              "      <th>mean</th>\n",
              "      <td>4.580302e+09</td>\n",
              "      <td>5.400881e+05</td>\n",
              "      <td>3.370842</td>\n",
              "      <td>2.114757</td>\n",
              "      <td>2079.899736</td>\n",
              "      <td>1.510697e+04</td>\n",
              "      <td>1.494309</td>\n",
              "      <td>0.007542</td>\n",
              "      <td>0.234303</td>\n",
              "      <td>3.409430</td>\n",
              "      <td>7.656873</td>\n",
              "      <td>1788.390691</td>\n",
              "      <td>291.509045</td>\n",
              "      <td>1971.005136</td>\n",
              "      <td>84.402258</td>\n",
              "      <td>98077.939805</td>\n",
              "      <td>47.560053</td>\n",
              "      <td>-122.213896</td>\n",
              "      <td>1986.552492</td>\n",
              "      <td>12768.455652</td>\n",
              "    </tr>\n",
              "    <tr>\n",
              "      <th>std</th>\n",
              "      <td>2.876566e+09</td>\n",
              "      <td>3.671272e+05</td>\n",
              "      <td>0.930062</td>\n",
              "      <td>0.770163</td>\n",
              "      <td>918.440897</td>\n",
              "      <td>4.142051e+04</td>\n",
              "      <td>0.539989</td>\n",
              "      <td>0.086517</td>\n",
              "      <td>0.766318</td>\n",
              "      <td>0.650743</td>\n",
              "      <td>1.175459</td>\n",
              "      <td>828.090978</td>\n",
              "      <td>442.575043</td>\n",
              "      <td>29.373411</td>\n",
              "      <td>401.679240</td>\n",
              "      <td>53.505026</td>\n",
              "      <td>0.138564</td>\n",
              "      <td>0.140828</td>\n",
              "      <td>685.391304</td>\n",
              "      <td>27304.179631</td>\n",
              "    </tr>\n",
              "    <tr>\n",
              "      <th>min</th>\n",
              "      <td>1.000102e+06</td>\n",
              "      <td>7.500000e+04</td>\n",
              "      <td>0.000000</td>\n",
              "      <td>0.000000</td>\n",
              "      <td>290.000000</td>\n",
              "      <td>5.200000e+02</td>\n",
              "      <td>1.000000</td>\n",
              "      <td>0.000000</td>\n",
              "      <td>0.000000</td>\n",
              "      <td>1.000000</td>\n",
              "      <td>1.000000</td>\n",
              "      <td>290.000000</td>\n",
              "      <td>0.000000</td>\n",
              "      <td>1900.000000</td>\n",
              "      <td>0.000000</td>\n",
              "      <td>98001.000000</td>\n",
              "      <td>47.155900</td>\n",
              "      <td>-122.519000</td>\n",
              "      <td>399.000000</td>\n",
              "      <td>651.000000</td>\n",
              "    </tr>\n",
              "    <tr>\n",
              "      <th>25%</th>\n",
              "      <td>2.123049e+09</td>\n",
              "      <td>3.219500e+05</td>\n",
              "      <td>3.000000</td>\n",
              "      <td>1.750000</td>\n",
              "      <td>1427.000000</td>\n",
              "      <td>5.040000e+03</td>\n",
              "      <td>1.000000</td>\n",
              "      <td>0.000000</td>\n",
              "      <td>0.000000</td>\n",
              "      <td>3.000000</td>\n",
              "      <td>7.000000</td>\n",
              "      <td>1190.000000</td>\n",
              "      <td>0.000000</td>\n",
              "      <td>1951.000000</td>\n",
              "      <td>0.000000</td>\n",
              "      <td>98033.000000</td>\n",
              "      <td>47.471000</td>\n",
              "      <td>-122.328000</td>\n",
              "      <td>1490.000000</td>\n",
              "      <td>5100.000000</td>\n",
              "    </tr>\n",
              "    <tr>\n",
              "      <th>50%</th>\n",
              "      <td>3.904930e+09</td>\n",
              "      <td>4.500000e+05</td>\n",
              "      <td>3.000000</td>\n",
              "      <td>2.250000</td>\n",
              "      <td>1910.000000</td>\n",
              "      <td>7.618000e+03</td>\n",
              "      <td>1.500000</td>\n",
              "      <td>0.000000</td>\n",
              "      <td>0.000000</td>\n",
              "      <td>3.000000</td>\n",
              "      <td>7.000000</td>\n",
              "      <td>1560.000000</td>\n",
              "      <td>0.000000</td>\n",
              "      <td>1975.000000</td>\n",
              "      <td>0.000000</td>\n",
              "      <td>98065.000000</td>\n",
              "      <td>47.571800</td>\n",
              "      <td>-122.230000</td>\n",
              "      <td>1840.000000</td>\n",
              "      <td>7620.000000</td>\n",
              "    </tr>\n",
              "    <tr>\n",
              "      <th>75%</th>\n",
              "      <td>7.308900e+09</td>\n",
              "      <td>6.450000e+05</td>\n",
              "      <td>4.000000</td>\n",
              "      <td>2.500000</td>\n",
              "      <td>2550.000000</td>\n",
              "      <td>1.068800e+04</td>\n",
              "      <td>2.000000</td>\n",
              "      <td>0.000000</td>\n",
              "      <td>0.000000</td>\n",
              "      <td>4.000000</td>\n",
              "      <td>8.000000</td>\n",
              "      <td>2210.000000</td>\n",
              "      <td>560.000000</td>\n",
              "      <td>1997.000000</td>\n",
              "      <td>0.000000</td>\n",
              "      <td>98118.000000</td>\n",
              "      <td>47.678000</td>\n",
              "      <td>-122.125000</td>\n",
              "      <td>2360.000000</td>\n",
              "      <td>10083.000000</td>\n",
              "    </tr>\n",
              "    <tr>\n",
              "      <th>max</th>\n",
              "      <td>9.900000e+09</td>\n",
              "      <td>7.700000e+06</td>\n",
              "      <td>33.000000</td>\n",
              "      <td>8.000000</td>\n",
              "      <td>13540.000000</td>\n",
              "      <td>1.651359e+06</td>\n",
              "      <td>3.500000</td>\n",
              "      <td>1.000000</td>\n",
              "      <td>4.000000</td>\n",
              "      <td>5.000000</td>\n",
              "      <td>13.000000</td>\n",
              "      <td>9410.000000</td>\n",
              "      <td>4820.000000</td>\n",
              "      <td>2015.000000</td>\n",
              "      <td>2015.000000</td>\n",
              "      <td>98199.000000</td>\n",
              "      <td>47.777600</td>\n",
              "      <td>-121.315000</td>\n",
              "      <td>6210.000000</td>\n",
              "      <td>871200.000000</td>\n",
              "    </tr>\n",
              "  </tbody>\n",
              "</table>\n",
              "</div>\n",
              "      <button class=\"colab-df-convert\" onclick=\"convertToInteractive('df-9b780c2b-5321-4a73-a285-a5fcd4807297')\"\n",
              "              title=\"Convert this dataframe to an interactive table.\"\n",
              "              style=\"display:none;\">\n",
              "        \n",
              "  <svg xmlns=\"http://www.w3.org/2000/svg\" height=\"24px\"viewBox=\"0 0 24 24\"\n",
              "       width=\"24px\">\n",
              "    <path d=\"M0 0h24v24H0V0z\" fill=\"none\"/>\n",
              "    <path d=\"M18.56 5.44l.94 2.06.94-2.06 2.06-.94-2.06-.94-.94-2.06-.94 2.06-2.06.94zm-11 1L8.5 8.5l.94-2.06 2.06-.94-2.06-.94L8.5 2.5l-.94 2.06-2.06.94zm10 10l.94 2.06.94-2.06 2.06-.94-2.06-.94-.94-2.06-.94 2.06-2.06.94z\"/><path d=\"M17.41 7.96l-1.37-1.37c-.4-.4-.92-.59-1.43-.59-.52 0-1.04.2-1.43.59L10.3 9.45l-7.72 7.72c-.78.78-.78 2.05 0 2.83L4 21.41c.39.39.9.59 1.41.59.51 0 1.02-.2 1.41-.59l7.78-7.78 2.81-2.81c.8-.78.8-2.07 0-2.86zM5.41 20L4 18.59l7.72-7.72 1.47 1.35L5.41 20z\"/>\n",
              "  </svg>\n",
              "      </button>\n",
              "      \n",
              "  <style>\n",
              "    .colab-df-container {\n",
              "      display:flex;\n",
              "      flex-wrap:wrap;\n",
              "      gap: 12px;\n",
              "    }\n",
              "\n",
              "    .colab-df-convert {\n",
              "      background-color: #E8F0FE;\n",
              "      border: none;\n",
              "      border-radius: 50%;\n",
              "      cursor: pointer;\n",
              "      display: none;\n",
              "      fill: #1967D2;\n",
              "      height: 32px;\n",
              "      padding: 0 0 0 0;\n",
              "      width: 32px;\n",
              "    }\n",
              "\n",
              "    .colab-df-convert:hover {\n",
              "      background-color: #E2EBFA;\n",
              "      box-shadow: 0px 1px 2px rgba(60, 64, 67, 0.3), 0px 1px 3px 1px rgba(60, 64, 67, 0.15);\n",
              "      fill: #174EA6;\n",
              "    }\n",
              "\n",
              "    [theme=dark] .colab-df-convert {\n",
              "      background-color: #3B4455;\n",
              "      fill: #D2E3FC;\n",
              "    }\n",
              "\n",
              "    [theme=dark] .colab-df-convert:hover {\n",
              "      background-color: #434B5C;\n",
              "      box-shadow: 0px 1px 3px 1px rgba(0, 0, 0, 0.15);\n",
              "      filter: drop-shadow(0px 1px 2px rgba(0, 0, 0, 0.3));\n",
              "      fill: #FFFFFF;\n",
              "    }\n",
              "  </style>\n",
              "\n",
              "      <script>\n",
              "        const buttonEl =\n",
              "          document.querySelector('#df-9b780c2b-5321-4a73-a285-a5fcd4807297 button.colab-df-convert');\n",
              "        buttonEl.style.display =\n",
              "          google.colab.kernel.accessAllowed ? 'block' : 'none';\n",
              "\n",
              "        async function convertToInteractive(key) {\n",
              "          const element = document.querySelector('#df-9b780c2b-5321-4a73-a285-a5fcd4807297');\n",
              "          const dataTable =\n",
              "            await google.colab.kernel.invokeFunction('convertToInteractive',\n",
              "                                                     [key], {});\n",
              "          if (!dataTable) return;\n",
              "\n",
              "          const docLinkHtml = 'Like what you see? Visit the ' +\n",
              "            '<a target=\"_blank\" href=https://colab.research.google.com/notebooks/data_table.ipynb>data table notebook</a>'\n",
              "            + ' to learn more about interactive tables.';\n",
              "          element.innerHTML = '';\n",
              "          dataTable['output_type'] = 'display_data';\n",
              "          await google.colab.output.renderOutput(dataTable, element);\n",
              "          const docLink = document.createElement('div');\n",
              "          docLink.innerHTML = docLinkHtml;\n",
              "          element.appendChild(docLink);\n",
              "        }\n",
              "      </script>\n",
              "    </div>\n",
              "  </div>\n",
              "  "
            ]
          },
          "metadata": {},
          "execution_count": 52
        }
      ]
    },
    {
      "cell_type": "code",
      "source": [
        "df.drop('id', axis = 1, inplace = True)\n",
        "df.drop('date', axis = 1, inplace = True)\n",
        "df.drop('zipcode', axis = 1, inplace = True)\n",
        "df.drop('lat', axis = 1, inplace = True)\n",
        "df.drop('long', axis = 1, inplace = True)\n"
      ],
      "metadata": {
        "id": "0KUD8T08qMmq"
      },
      "execution_count": 53,
      "outputs": []
    },
    {
      "cell_type": "code",
      "source": [
        "plt.figure(figsize=(12,8)) \n",
        "sns.heatmap(df.corr(), annot=True, cmap='Dark2_r', linewidths = 2)\n",
        "plt.show()"
      ],
      "metadata": {
        "id": "r-jk_nHmqKpp",
        "colab": {
          "base_uri": "https://localhost:8080/",
          "height": 551
        },
        "outputId": "af41bb2c-f6ef-4d39-c309-6de8c61bc8ef"
      },
      "execution_count": 54,
      "outputs": [
        {
          "output_type": "display_data",
          "data": {
            "text/plain": [
              "<Figure size 864x576 with 2 Axes>"
            ],
            "image/png": "[encoded data removed]"
          },
          "metadata": {
            "needs_background": "light"
          }
        }
      ]
    },
    {
      "cell_type": "code",
      "source": [
        "columns = df.columns.drop('price')\n",
        "\n",
        "features = columns\n",
        "label = ['price']\n",
        "\n",
        "X2 = df[features]\n",
        "y2 = df[label]"
      ],
      "metadata": {
        "id": "p4zqCnFwq7Oc"
      },
      "execution_count": 55,
      "outputs": []
    },
    {
      "cell_type": "markdown",
      "source": [
        "1. **Divide los datos.**\n",
        ">Utiliza la función train_test_split (ya esta en el notebook)."
      ],
      "metadata": {
        "id": "dQW67U7gkSqQ"
      }
    },
    {
      "cell_type": "markdown",
      "source": [
        "Dividiremos los datos en 90% entrenamiento y 10% datos de prueba."
      ],
      "metadata": {
        "id": "LpD9KEpIlHZn"
      }
    },
    {
      "cell_type": "code",
      "source": [
        "from sklearn.model_selection import train_test_split\n",
        "X_train2, X_test2, y_train2, y_test2 = train_test_split(X2, y2, test_size = 0.1, random_state = 101)\n",
        "\n",
        "print(f'Numero total de registros en la bdd: {len(X)}')\n",
        "print(\"*****\"*10)\n",
        "print(f'Numero total de registros en el training set: {len(X_train2)}')\n",
        "print(f'Tamaño de X_train: {X_train2.shape}')\n",
        "print(\"*****\"*10)\n",
        "print(f'Mumero total de registros en el test dataset: {len(X_test2)}')\n",
        "print(f'Tamaño del X_test: {X_test2.shape}')"
      ],
      "metadata": {
        "id": "p91PEVPLq93-",
        "colab": {
          "base_uri": "https://localhost:8080/"
        },
        "outputId": "c093c1dc-cabe-46a6-b32c-b62a0b2c60c3"
      },
      "execution_count": 56,
      "outputs": [
        {
          "output_type": "stream",
          "name": "stdout",
          "text": [
            "Numero total de registros en la bdd: 1000\n",
            "**************************************************\n",
            "Numero total de registros en el training set: 19451\n",
            "Tamaño de X_train: (19451, 15)\n",
            "**************************************************\n",
            "Mumero total de registros en el test dataset: 2162\n",
            "Tamaño del X_test: (2162, 15)\n"
          ]
        }
      ]
    },
    {
      "cell_type": "markdown",
      "source": [
        "2. **Regresión Múltiple Lineal.**\n",
        ">Realiza la regresión lineal: modelo generado (ecuación), sus errores y r cuadrada."
      ],
      "metadata": {
        "id": "mYE4Azjbkai5"
      }
    },
    {
      "cell_type": "markdown",
      "source": [
        "De ahora en adelante trabajaremos con nuestros datos de entrenamiento. "
      ],
      "metadata": {
        "id": "cMtnKfs8k1pX"
      }
    },
    {
      "cell_type": "markdown",
      "source": [
        "Primero definimos nuestro modelo y lo ajustamos a nuestros datos de entrenamiento. Lo guardaremos dentro de una variable."
      ],
      "metadata": {
        "id": "f_iWduqvlrlC"
      }
    },
    {
      "cell_type": "code",
      "source": [
        "#lineal\n",
        "Mult_linear_reg = LinearRegression(fit_intercept=True).fit(X_train2, y_train2)"
      ],
      "metadata": {
        "id": "1xkJgcgQlrlE"
      },
      "execution_count": 57,
      "outputs": []
    },
    {
      "cell_type": "markdown",
      "source": [
        "Despúes de entrenar ajustar nuestro modelo a los datos de entrenamiento, podemos obtener el coeficiente y el intercept para establecer nuestra ecuación."
      ],
      "metadata": {
        "id": "0igYDiRrlrlG"
      }
    },
    {
      "cell_type": "code",
      "source": [
        "Mult_linear_reg.coef_, Mult_linear_reg.intercept_"
      ],
      "metadata": {
        "colab": {
          "base_uri": "https://localhost:8080/"
        },
        "outputId": "5ebf5680-1502-4e59-eecb-998b3786082d",
        "id": "Tm5caByRlrlH"
      },
      "execution_count": 58,
      "outputs": [
        {
          "output_type": "execute_result",
          "data": {
            "text/plain": [
              "(array([[-3.82008048e+04,  4.14661380e+04,  1.07992584e+02,\n",
              "          1.71356997e-02,  3.16916913e+04,  5.52691023e+05,\n",
              "          4.12493228e+04,  2.12221443e+04,  1.19493216e+05,\n",
              "          4.77750271e+01,  6.02175565e+01, -3.55090216e+03,\n",
              "          1.32602215e+01,  2.90059284e+01, -5.48132603e-01]]),\n",
              " array([6151359.2627409]))"
            ]
          },
          "metadata": {},
          "execution_count": 58
        }
      ]
    },
    {
      "cell_type": "markdown",
      "source": [
        "La ecuación que obtenemos es la siguiente:\n",
        "\n",
        "$\\hat{y}$ = -3.82008048e+04 **X1** + 4.14661380e+04 **X2** + 1.07992584e+02 **X3** + 1.71356997e-02 **X4** + 3.16916913e+04 **X5** + 5.52691023e+05 **X6** + 4.12493228e+04 **X7** + 2.12221443e+04 **X8** + 1.19493216e+05 **X9** + 4.77750271e+01 **X10** + 6.02175565e+01 **X11** - 3.55090216e+03 **X12** + 1.32602215e+01 **X13** + 2.90059284e+01 **X14** - 5.48132603e-01 **X15** + 6151359.2627409"
      ],
      "metadata": {
        "id": "fcpT_FIzlrlI"
      }
    },
    {
      "cell_type": "code",
      "source": [
        "Mult_linear_reg.score(X_train2, y_train2)"
      ],
      "metadata": {
        "colab": {
          "base_uri": "https://localhost:8080/"
        },
        "outputId": "8076dc9c-32fd-4f66-b550-14c88ee72f39",
        "id": "cu_4Ndc2qCqF"
      },
      "execution_count": 59,
      "outputs": [
        {
          "output_type": "execute_result",
          "data": {
            "text/plain": [
              "0.6529196653133833"
            ]
          },
          "metadata": {},
          "execution_count": 59
        }
      ]
    },
    {
      "cell_type": "markdown",
      "source": [
        "EL modelo tiene una R^2 para predecir los valores de entrenamiento:\n",
        "\n",
        "$0.6529196653133833$"
      ],
      "metadata": {
        "id": "PBmQ3mLxqCqI"
      }
    },
    {
      "cell_type": "markdown",
      "source": [
        ">**Errores**"
      ],
      "metadata": {
        "id": "jTFzeMNyqCqJ"
      }
    },
    {
      "cell_type": "markdown",
      "source": [
        "Ahora evaluaremos los errores y R^2 del modelo con nuestros datos de prueba. Al hacer esto nos podemos dar cuenta de que tan bueno es nuestro modelo para predecir nuevos datos que tengan un comportamiento similar. "
      ],
      "metadata": {
        "id": "XwVe6J_LqCqK"
      }
    },
    {
      "cell_type": "code",
      "source": [
        "y_test2_predict = Mult_linear_reg.predict(X_test2)\n",
        "results2_MAE=list()\n",
        "results2_R=list()\n",
        "from sklearn import metrics\n",
        "from sklearn.metrics import r2_score\n",
        "\n",
        "print('Error medio Absoluto (MAE):', metrics.mean_absolute_error(y_test2, y_test2_predict))\n",
        "print('Root Mean Squared Error:', np.sqrt(metrics.mean_squared_error(y_test2, y_test2_predict)))\n",
        "print('r2_score',r2_score(y_test2, y_test2_predict))\n",
        "\n"
      ],
      "metadata": {
        "colab": {
          "base_uri": "https://localhost:8080/"
        },
        "outputId": "70379a7a-a351-44d0-cdb3-58e7dd2722d3",
        "id": "zjABz2doqCqL"
      },
      "execution_count": 60,
      "outputs": [
        {
          "output_type": "stream",
          "name": "stdout",
          "text": [
            "Error medio Absoluto (MAE): 137480.1388273178\n",
            "Root Mean Squared Error: 232133.3676240749\n",
            "r2_score 0.6579723205007814\n"
          ]
        }
      ]
    },
    {
      "cell_type": "markdown",
      "source": [
        "3. **Regresión Polinomial.**\n",
        "> Realiza la regresión polinomial completa, tu modelo generado (ecuación), sus errores y r cuadrada."
      ],
      "metadata": {
        "id": "Z2jokBOAqCqM"
      }
    },
    {
      "cell_type": "markdown",
      "source": [
        "Primero obetenemos los datos cuadráticos a partir de nuestro arreglo de datos original. "
      ],
      "metadata": {
        "id": "8T7cIeAtqCqN"
      }
    },
    {
      "cell_type": "code",
      "source": [
        "Multi_poli_feat = PolynomialFeatures(degree=2, include_bias=False) #En este caso intentaremos con un polinomio de grado 2\n",
        "Xtrain2_poly = Multi_poli_feat.fit_transform(X_train2)\n",
        "Xtrain2_poly"
      ],
      "metadata": {
        "colab": {
          "base_uri": "https://localhost:8080/"
        },
        "outputId": "31986dd6-8798-46e7-f7e6-39f0f2e85579",
        "id": "MwRHW0UhqCqO"
      },
      "execution_count": 61,
      "outputs": [
        {
          "output_type": "execute_result",
          "data": {
            "text/plain": [
              "array([[5.00000000e+00, 2.75000000e+00, 3.75000000e+03, ...,\n",
              "        9.73440000e+06, 2.26356000e+07, 5.26350250e+07],\n",
              "       [4.00000000e+00, 4.50000000e+00, 5.25000000e+03, ...,\n",
              "        6.25000000e+06, 1.20880000e+08, 2.33791590e+09],\n",
              "       [3.00000000e+00, 2.50000000e+00, 2.88000000e+03, ...,\n",
              "        8.76160000e+06, 3.11214400e+07, 1.10544196e+08],\n",
              "       ...,\n",
              "       [3.00000000e+00, 2.25000000e+00, 1.78000000e+03, ...,\n",
              "        2.28010000e+06, 1.15137500e+07, 5.81406250e+07],\n",
              "       [2.00000000e+00, 1.00000000e+00, 1.15000000e+03, ...,\n",
              "        2.14036900e+06, 6.32016000e+06, 1.86624000e+07],\n",
              "       [3.00000000e+00, 1.00000000e+00, 1.45000000e+03, ...,\n",
              "        1.08160000e+06, 8.04960000e+06, 5.99076000e+07]])"
            ]
          },
          "metadata": {},
          "execution_count": 61
        }
      ]
    },
    {
      "cell_type": "markdown",
      "source": [
        "Ahora que si tenemos datos cúbicos, cuadráticos y lineares entonces podemos hacer nuestra regresión y encontrar nuestra ecuación."
      ],
      "metadata": {
        "id": "prtyNWfyxGUQ"
      }
    },
    {
      "cell_type": "code",
      "source": [
        "Multi_Poly_lin_reg = LinearRegression(fit_intercept=True)\n",
        "Multi_Poly_lin_reg.fit(Xtrain2_poly, y_train2)\n",
        "print('La ecuacion es\\n', Multi_Poly_lin_reg.coef_, Multi_Poly_lin_reg.intercept_)\n"
      ],
      "metadata": {
        "colab": {
          "base_uri": "https://localhost:8080/"
        },
        "outputId": "b78cc131-4f9e-4553-a2df-57ca42e930fb",
        "id": "9QmRm3xUxGUw"
      },
      "execution_count": 62,
      "outputs": [
        {
          "output_type": "stream",
          "name": "stdout",
          "text": [
            "La ecuacion es\n",
            " [[ 9.33912834e+05 -1.09330730e+06 -4.56449932e+02 -2.78686288e+01\n",
            "  -2.07407238e+06 -3.95431870e+06 -2.88638026e+05  5.58697570e+05\n",
            "   1.09864510e+06 -2.19758415e+02 -3.82034272e+02 -8.59630908e+04\n",
            "  -2.95351595e+03  3.99965710e+03 -3.40106316e+01  9.57541696e+02\n",
            "   7.49958190e+03 -1.37969466e+01 -1.84926695e-02  8.57699569e+03\n",
            "  -1.14965893e+04 -3.06588900e+02 -5.24628836e+03 -5.36788065e+03\n",
            "  -1.20757669e+00 -1.46068182e+01 -4.67099451e+02 -9.13191519e+00\n",
            "   1.72800642e+01  2.15500198e-01 -9.63429892e+03  1.53879172e+01\n",
            "  -1.35842369e-01 -2.59067293e+04  4.33707238e+04  3.82942459e+03\n",
            "  -1.07592927e+03  2.22971689e+04  1.44292325e+01  1.33928361e+00\n",
            "   5.03401980e+02 -1.70798805e+01 -1.72895923e+01 -5.56785248e-02\n",
            "   1.56185890e+00 -4.34972758e+00  4.83299456e+00  1.60303193e+02\n",
            "  -1.42711737e+01  1.31138593e+01  2.07283397e+01  2.61335089e+00\n",
            "  -4.41381412e+00 -2.20765903e+00  6.36282684e-02  3.53629072e+00\n",
            "   1.88176819e+01  3.06637958e-07  4.40839907e-01 -9.84216136e-02\n",
            "  -9.75869659e-02  9.17233241e-02  1.51960354e-01  4.34904161e+00\n",
            "   4.34926327e+00  1.37650380e-02 -1.48516006e-04  1.76864211e-04\n",
            "   1.05303479e-06  2.16116740e+04 -1.31320713e+05  1.44412938e+04\n",
            "   2.02989005e+04 -4.27844150e+03 -2.82201875e+00  7.66330754e+00\n",
            "   1.03664758e+03  2.59349503e+00 -3.20401882e+01 -5.28612817e-01\n",
            "  -3.95431899e+06 -1.60488762e+04  9.19611219e+03 -1.61637325e+05\n",
            "   1.83103328e+02 -2.28001023e+01  4.42833048e+03 -2.99177258e+01\n",
            "   1.70604193e+02 -8.13533327e-01  7.98448565e+03  7.33999963e+03\n",
            "   1.79556171e+04 -1.24963418e+01 -1.77332663e+00  7.20704241e+01\n",
            "  -9.96831512e+00  4.63359903e+00 -5.24194412e-02 -5.41914699e+02\n",
            "  -6.03821219e+03  1.16309467e+00  1.19544378e+01 -3.07074418e+02\n",
            "  -2.01997367e+01  4.63198881e+01 -2.76877580e-01  7.36624125e+03\n",
            "   9.60665725e+00  1.11459299e+01 -5.71989956e+02 -1.01345126e+01\n",
            "  -2.27554341e+01 -5.08577049e-01 -4.16987537e+00 -1.28789962e+00\n",
            "   2.44718109e+00 -2.54496408e-02 -3.53836487e+00 -1.88174913e+01\n",
            "   2.79020491e+00  2.54821210e+00 -1.88342368e-02 -3.53312599e+00\n",
            "  -1.88181978e+01  2.30599022e+01  4.06969503e-01 -2.04695891e+00\n",
            "   1.88936366e-02  1.11629336e+00  4.71190049e-02  2.55405757e-04\n",
            "   3.31517292e-02  1.11144269e-04  2.35741027e-06]] [80227028.3104757]\n"
          ]
        }
      ]
    },
    {
      "cell_type": "markdown",
      "source": [
        "La ecuación que obtenemos es demasiado compleja como para plasmarla visualmente. No obstante nos podemos dar cuenta que tendra una cantidad muy grande de coeficientes lineares y cuadraticos así como una intersección en 80227028"
      ],
      "metadata": {
        "id": "nqhm1eFexGUy"
      }
    },
    {
      "cell_type": "code",
      "source": [
        "Multi_Poly_lin_reg.score(Xtrain2_poly, y_train2)"
      ],
      "metadata": {
        "colab": {
          "base_uri": "https://localhost:8080/"
        },
        "outputId": "ad1f5d35-5f3a-4353-d3e8-910bd4b33526",
        "id": "ypvs3cLixGU0"
      },
      "execution_count": 63,
      "outputs": [
        {
          "output_type": "execute_result",
          "data": {
            "text/plain": [
              "0.7469519325162244"
            ]
          },
          "metadata": {},
          "execution_count": 63
        }
      ]
    },
    {
      "cell_type": "markdown",
      "source": [
        "EL modelo tiene una R^2 para predecir los valores de entrenamiento:\n",
        "\n",
        "$0.7469519325162244$"
      ],
      "metadata": {
        "id": "Wc5mB1tRxGU1"
      }
    },
    {
      "cell_type": "markdown",
      "source": [
        ">**Errores**\n",
        "\n",
        "Ahora trabajaremos con los datos de prueba para evaluar realmente que tan bueno es nuestro modelo prediciendo datos. "
      ],
      "metadata": {
        "id": "pwA-ZAY3xGU2"
      }
    },
    {
      "cell_type": "code",
      "source": [
        "Xtest2_poly= poly_features.fit_transform(X_test2)\n",
        "Multi_Poly_y_test_predict = Multi_Poly_lin_reg.predict(Xtest2_poly)\n",
        "\n",
        "\n",
        "print('Error medio Absoluto (MAE):', metrics.mean_absolute_error(y_test2, Multi_Poly_y_test_predict))\n",
        "print('Root Mean Squared Error:', np.sqrt(metrics.mean_squared_error(y_test2, Multi_Poly_y_test_predict)))\n",
        "print('r2_score',r2_score(y_test2, Multi_Poly_y_test_predict))\n",
        "\n"
      ],
      "metadata": {
        "colab": {
          "base_uri": "https://localhost:8080/"
        },
        "outputId": "d4caee07-925d-4a91-ce63-a234cf634800",
        "id": "uOf2QeGwxGU3"
      },
      "execution_count": 64,
      "outputs": [
        {
          "output_type": "stream",
          "name": "stdout",
          "text": [
            "Error medio Absoluto (MAE): 121314.06948173394\n",
            "Root Mean Squared Error: 186261.28575138954\n",
            "r2_score 0.7797929072570198\n"
          ]
        }
      ]
    },
    {
      "cell_type": "markdown",
      "source": [
        "4. **Realiza la regresión con Ridge y Lasso. Incluye la ecuación de tu modelo, visualización , errores y r cuadrada.**\n",
        "> Regresión Simple con Lasso y Ridge."
      ],
      "metadata": {
        "id": "BZsa16LU0UIz"
      }
    },
    {
      "cell_type": "code",
      "source": [
        "modelos = []\n",
        "modelos.append(('LR', LinearRegression(fit_intercept=True)))\n",
        "modelos.append(('LASSO', Lasso(alpha=10000)))   \n",
        "modelos.append(('RIDGE', Ridge(alpha=10000))) "
      ],
      "metadata": {
        "id": "_cTa2uHi0UJU"
      },
      "execution_count": 65,
      "outputs": []
    },
    {
      "cell_type": "code",
      "source": [
        "multi_yhat0 = []   # predicciones del modelo RLM\n",
        "multi_yhat1 = []   # predicciones del RLM con regularización L1\n",
        "multi_yhat2 = []   # predicciones del RLM con regularización L2\n",
        "\n",
        "\n",
        "for name, model in modelos:\n",
        "  # entrenamos el modelo seleccionado y obtenemos sus predicciones:\n",
        "  print(\"%s:\" % name)\n",
        "  mm = model.fit(X_train2, np.ravel(y_train2))\n",
        "  yhat = mm.predict(X_train2)\n",
        "  print('La ecuacion es')\n",
        "  print(mm.coef_, ' +')       # despleguemos los pesos obtenidos\n",
        "  print(mm.intercept_)   # por si deseas conocer w0.\n",
        "  \n",
        "\n",
        "  if name=='LR':\n",
        "    multi_yhat0.append(yhat)\n",
        "    print('\\n')\n",
        "  elif name=='LASSO':\n",
        "    multi_yhat1.append(yhat)\n",
        "    print('\\n')\n",
        "  elif name=='RIDGE':\n",
        "    multi_yhat2.append(yhat)\n",
        "    print('\\n')"
      ],
      "metadata": {
        "colab": {
          "base_uri": "https://localhost:8080/"
        },
        "outputId": "ed4d868a-7e7a-4625-896b-1db8cfb96d2b",
        "id": "OZcmzOK00UJW"
      },
      "execution_count": 66,
      "outputs": [
        {
          "output_type": "stream",
          "name": "stdout",
          "text": [
            "LR:\n",
            "La ecuacion es\n",
            "[-3.82008048e+04  4.14661380e+04  1.07992584e+02  1.71356997e-02\n",
            "  3.16916913e+04  5.52691023e+05  4.12493228e+04  2.12221443e+04\n",
            "  1.19493216e+05  4.77750271e+01  6.02175565e+01 -3.55090216e+03\n",
            "  1.32602215e+01  2.90059284e+01 -5.48132603e-01]  +\n",
            "6151359.262740902\n",
            "\n",
            "\n",
            "LASSO:\n",
            "La ecuacion es\n",
            "[-2.13628686e+04  0.00000000e+00  2.69281711e+02 -6.36310322e-03\n",
            "  0.00000000e+00  0.00000000e+00  5.25969355e+04  0.00000000e+00\n",
            "  1.06628001e+05 -7.89029483e+01 -8.03204837e+01 -3.09087540e+03\n",
            "  2.86572475e+01  3.10206739e+01 -6.04977989e-01]  +\n",
            "5423119.06019539\n",
            "\n",
            "\n",
            "RIDGE:\n",
            "La ecuacion es\n",
            "[-2.51223687e+04  1.44023771e+04  1.41072403e+02  1.29102081e-02\n",
            "  1.42354290e+04  8.44266514e+03  3.73832070e+04  8.63498276e+03\n",
            "  5.98545703e+04  7.28886899e+01  6.81837127e+01 -2.94461889e+03\n",
            "  3.31839575e+01  5.82180523e+01 -6.61305915e-01]  +\n",
            "5325881.320694014\n",
            "\n",
            "\n"
          ]
        },
        {
          "output_type": "stream",
          "name": "stderr",
          "text": [
            "/usr/local/lib/python3.7/dist-packages/sklearn/linear_model/_coordinate_descent.py:648: ConvergenceWarning: Objective did not converge. You might want to increase the number of iterations, check the scale of the features or consider increasing regularisation. Duality gap: 4.714e+14, tolerance: 2.572e+11\n",
            "  coef_, l1_reg, l2_reg, X, y, max_iter, tol, rng, random, positive\n"
          ]
        }
      ]
    },
    {
      "cell_type": "markdown",
      "source": [
        "La ecuación que obtenemos es demasiado compleja como para plasmarla visualmente"
      ],
      "metadata": {
        "id": "yB5PD1X-Uv25"
      }
    },
    {
      "cell_type": "code",
      "source": [
        "for name, model in modelos:\n",
        "  print(\"%s:\" % name)\n",
        "  mm = model.fit(X_train2, np.ravel(y_train2))\n",
        "  y_test2_predict = mm.predict(X_test2)\n",
        "\n",
        "\n",
        "  print('Error medio Absoluto (MAE):', metrics.mean_absolute_error(y_test2, y_test2_predict))\n",
        "  print('Root Mean Squared Error:', np.sqrt(metrics.mean_squared_error(y_test2, y_test2_predict)))\n",
        "  print('r2_score',r2_score(y_test2, y_test2_predict))\n",
        "  \n",
        "  results2_MAE.append(metrics.mean_absolute_error(y_test2, y_test2_predict))\n",
        "  results2_R.append(r2_score(y_test2, y_test2_predict))"
      ],
      "metadata": {
        "colab": {
          "base_uri": "https://localhost:8080/"
        },
        "outputId": "d098352a-a497-4fd9-c858-3b402bd17378",
        "id": "nLccaonB0UJb"
      },
      "execution_count": 67,
      "outputs": [
        {
          "output_type": "stream",
          "name": "stdout",
          "text": [
            "LR:\n",
            "Error medio Absoluto (MAE): 137480.1388273178\n",
            "Root Mean Squared Error: 232133.3676240749\n",
            "r2_score 0.6579723205007814\n",
            "LASSO:\n",
            "Error medio Absoluto (MAE): 142189.48807400462\n",
            "Root Mean Squared Error: 243265.4824252908\n",
            "r2_score 0.6243813993555198\n",
            "RIDGE:\n",
            "Error medio Absoluto (MAE): 146021.2797642382\n",
            "Root Mean Squared Error: 247585.2807358276\n",
            "r2_score 0.6109228252244532\n"
          ]
        },
        {
          "output_type": "stream",
          "name": "stderr",
          "text": [
            "/usr/local/lib/python3.7/dist-packages/sklearn/linear_model/_coordinate_descent.py:648: ConvergenceWarning: Objective did not converge. You might want to increase the number of iterations, check the scale of the features or consider increasing regularisation. Duality gap: 4.714e+14, tolerance: 2.572e+11\n",
            "  coef_, l1_reg, l2_reg, X, y, max_iter, tol, rng, random, positive\n"
          ]
        }
      ]
    },
    {
      "cell_type": "markdown",
      "source": [
        "> Regresión Polinomial con Lasso y Ridge."
      ],
      "metadata": {
        "id": "u37VxIhtCbkj"
      }
    },
    {
      "cell_type": "code",
      "source": [
        "modelos = []\n",
        "modelos.append(('PolyReg', LinearRegression(fit_intercept=True)))\n",
        "modelos.append(('LASSO', Lasso(alpha=-1)))   \n",
        "modelos.append(('RIDGE', Ridge(alpha=1000))) "
      ],
      "metadata": {
        "id": "f2UrynCsCbk_"
      },
      "execution_count": 68,
      "outputs": []
    },
    {
      "cell_type": "code",
      "source": [
        "multi_yhat0_pol = []   # predicciones del modelo Polinomial\n",
        "multi_yhat1_pol = []   # predicciones del RLM con regularización L1\n",
        "multi_yhat2_pol = []   # predicciones del RLM con regularización L2\n",
        "\n",
        "\n",
        "for name, model in modelos:\n",
        "  # entrenamos el modelo seleccionado y obtenemos sus predicciones:\n",
        "  print(\"%s:\" % name)\n",
        "  print('La ecuacion es')\n",
        "  mm = model.fit(Xtrain2_poly, y_train2)\n",
        "  yhat = mm.predict(Xtrain2_poly)\n",
        "  \n",
        "  print(mm.coef_)       # despleguemos los pesos obtenidos\n",
        "  print(mm.intercept_)   # por si deseas conocer w0.\n",
        "  \n",
        "\n",
        "  if name=='PolyReg':\n",
        "    multi_yhat0_pol.append(yhat)\n",
        "    print('\\n')\n",
        "  elif name=='LASSO':\n",
        "    multi_yhat1_pol.append(yhat)\n",
        "    print('\\n')\n",
        "  elif name=='RIDGE':\n",
        "    multi_yhat2_pol.append(yhat)\n",
        "    print('\\n')"
      ],
      "metadata": {
        "colab": {
          "base_uri": "https://localhost:8080/"
        },
        "outputId": "c31333ff-914a-49ee-c2d4-34b5fd6e440c",
        "id": "zMeykoE5CblA"
      },
      "execution_count": 69,
      "outputs": [
        {
          "output_type": "stream",
          "name": "stdout",
          "text": [
            "PolyReg:\n",
            "La ecuacion es\n",
            "[[ 9.33912834e+05 -1.09330730e+06 -4.56449932e+02 -2.78686288e+01\n",
            "  -2.07407238e+06 -3.95431870e+06 -2.88638026e+05  5.58697570e+05\n",
            "   1.09864510e+06 -2.19758415e+02 -3.82034272e+02 -8.59630908e+04\n",
            "  -2.95351595e+03  3.99965710e+03 -3.40106316e+01  9.57541696e+02\n",
            "   7.49958190e+03 -1.37969466e+01 -1.84926695e-02  8.57699569e+03\n",
            "  -1.14965893e+04 -3.06588900e+02 -5.24628836e+03 -5.36788065e+03\n",
            "  -1.20757669e+00 -1.46068182e+01 -4.67099451e+02 -9.13191519e+00\n",
            "   1.72800642e+01  2.15500198e-01 -9.63429892e+03  1.53879172e+01\n",
            "  -1.35842369e-01 -2.59067293e+04  4.33707238e+04  3.82942459e+03\n",
            "  -1.07592927e+03  2.22971689e+04  1.44292325e+01  1.33928361e+00\n",
            "   5.03401980e+02 -1.70798805e+01 -1.72895923e+01 -5.56785248e-02\n",
            "   1.56185890e+00 -4.34972758e+00  4.83299456e+00  1.60303193e+02\n",
            "  -1.42711737e+01  1.31138593e+01  2.07283397e+01  2.61335089e+00\n",
            "  -4.41381412e+00 -2.20765903e+00  6.36282684e-02  3.53629072e+00\n",
            "   1.88176819e+01  3.06637958e-07  4.40839907e-01 -9.84216136e-02\n",
            "  -9.75869659e-02  9.17233241e-02  1.51960354e-01  4.34904161e+00\n",
            "   4.34926327e+00  1.37650380e-02 -1.48516006e-04  1.76864211e-04\n",
            "   1.05303479e-06  2.16116740e+04 -1.31320713e+05  1.44412938e+04\n",
            "   2.02989005e+04 -4.27844150e+03 -2.82201875e+00  7.66330754e+00\n",
            "   1.03664758e+03  2.59349503e+00 -3.20401882e+01 -5.28612817e-01\n",
            "  -3.95431899e+06 -1.60488762e+04  9.19611219e+03 -1.61637325e+05\n",
            "   1.83103328e+02 -2.28001023e+01  4.42833048e+03 -2.99177258e+01\n",
            "   1.70604193e+02 -8.13533327e-01  7.98448565e+03  7.33999963e+03\n",
            "   1.79556171e+04 -1.24963418e+01 -1.77332663e+00  7.20704241e+01\n",
            "  -9.96831512e+00  4.63359903e+00 -5.24194412e-02 -5.41914699e+02\n",
            "  -6.03821219e+03  1.16309467e+00  1.19544378e+01 -3.07074418e+02\n",
            "  -2.01997367e+01  4.63198881e+01 -2.76877580e-01  7.36624125e+03\n",
            "   9.60665725e+00  1.11459299e+01 -5.71989956e+02 -1.01345126e+01\n",
            "  -2.27554341e+01 -5.08577049e-01 -4.16987537e+00 -1.28789962e+00\n",
            "   2.44718109e+00 -2.54496408e-02 -3.53836487e+00 -1.88174913e+01\n",
            "   2.79020491e+00  2.54821210e+00 -1.88342368e-02 -3.53312599e+00\n",
            "  -1.88181978e+01  2.30599022e+01  4.06969503e-01 -2.04695891e+00\n",
            "   1.88936366e-02  1.11629336e+00  4.71190049e-02  2.55405757e-04\n",
            "   3.31517292e-02  1.11144269e-04  2.35741027e-06]]\n",
            "[80227028.3104757]\n",
            "\n",
            "\n",
            "LASSO:\n",
            "La ecuacion es\n",
            "[ 1.26237811e+05  1.55020979e+05  7.87628290e+01 -3.03255951e+00\n",
            " -4.78502789e+04  4.83957711e+05  6.96161048e+04  1.37524405e+05\n",
            "  1.80971195e+05 -1.83830979e+02 -6.28195470e+01 -3.80185429e+03\n",
            " -2.49820347e+02  1.34318292e+02 -1.53618559e+00  1.07606528e+03\n",
            " -3.13936740e+03 -2.05337820e+01 -1.79155948e-01  8.15938954e+03\n",
            " -2.30735978e+04 -4.67012130e+01 -1.73396680e+03 -3.87026737e+03\n",
            "  7.53230013e+00  3.03042527e-01 -6.27238145e+01  3.21746550e-02\n",
            "  1.88886118e+01  2.66548567e-01  1.19299715e+03  4.55137300e+01\n",
            " -2.30256896e-02 -2.69714457e+04  5.37805205e+04  6.00701184e+03\n",
            " -1.99714377e+04  1.80555625e+04 -1.32662183e+01 -3.78239699e+01\n",
            " -6.88592825e+01 -2.72670759e+01 -3.38487700e+01  1.37096737e-01\n",
            "  1.96386000e-02 -1.71795049e-04  4.53778043e+00 -1.34427532e+02\n",
            "  3.28547970e+01 -1.21459868e+01  2.25286395e+01 -5.33793636e-02\n",
            "  2.74949078e-02 -5.23062877e-02 -7.52349923e-04  1.49668875e-03\n",
            " -4.74062712e-04 -1.07878494e-08  4.65915577e-01 -2.03120993e-01\n",
            " -1.01673342e-01  7.68441775e-02  2.39178245e-01 -3.82426209e-04\n",
            " -3.20971385e-04  1.02981431e-03 -3.68550151e-04  4.03583030e-05\n",
            "  1.75808391e-06  2.76281404e+04 -1.00900522e+05  1.17347385e+04\n",
            "  9.73471618e+03  6.55468868e+03 -4.86789985e+00  2.61159585e+01\n",
            "  1.86185399e+01 -3.04341260e+01 -5.75103807e+01 -4.55855688e-01\n",
            " -5.49707317e+05 -1.31625228e+04 -1.27351638e+04 -1.03898380e+05\n",
            "  4.60208548e+02  2.91460924e+02  2.49064197e+02 -7.05034095e+01\n",
            "  1.45812862e+02 -1.11820859e+00  7.11927369e+03  3.55099009e+03\n",
            "  1.52559570e+04 -5.96419086e+01 -5.43799706e+01 -9.80277218e+01\n",
            " -1.48695203e+01  1.21949469e+01 -9.96849329e-02  1.40415182e+03\n",
            " -2.48441530e+03  2.89990792e+01  4.24389705e+01 -1.18232020e+02\n",
            " -2.46979145e+01  7.11528542e+01 -6.14730049e-01  6.10147942e+03\n",
            "  2.38767228e+00  1.88594147e+01 -1.01064949e+02  1.76288522e+00\n",
            " -2.60056518e+01 -4.92196296e-01  4.37533140e-02  1.94953550e-02\n",
            " -4.02014647e-03  3.14604394e-02  1.93843846e-03  4.30990093e-04\n",
            " -1.13050932e-01 -1.03474021e-01  3.59671522e-02  6.70138839e-03\n",
            " -1.94837761e-04  6.78494663e-01  9.83600744e-02 -8.51320288e-02\n",
            "  2.76289551e-03  1.92918307e-02  8.25647926e-02 -3.64248810e-05\n",
            "  2.99186532e-02  2.66500834e-04  2.06468332e-06]\n",
            "[5177044.15142795]\n",
            "\n",
            "\n",
            "RIDGE:\n",
            "La ecuacion es\n",
            "[[ 1.16789095e+03 -6.16684315e+02 -2.80751411e+02 -2.93682514e+01\n",
            "  -4.33480510e+02 -7.66842390e+01 -4.88672563e+02  1.14550772e+03\n",
            "   5.60459456e+02 -4.95035128e+02  2.14283710e+02 -3.40311651e+04\n",
            "  -2.72633693e+03  4.17709403e+03 -3.95100692e+01  9.56838943e+02\n",
            "  -1.24170970e+03 -1.02696077e+01 -1.49337228e-02  2.60419755e+03\n",
            "  -1.05589904e+02 -8.70417302e+02 -4.80645412e+02 -4.22488234e+03\n",
            "   7.36144633e-01 -1.10057109e+01  5.09837654e+00 -4.56524325e-01\n",
            "   1.33475542e+01  1.75326998e-01 -1.77693873e+03  1.51841536e+01\n",
            "  -1.42720575e-01 -4.73837047e+03  6.36985047e+02  5.27872280e+03\n",
            "  -9.21419101e+03  8.83280864e+03  1.21595920e+01  3.02443918e+00\n",
            "  -1.37202961e+01 -2.83198195e+01 -3.34494148e+00 -1.62826888e-02\n",
            "  -3.63894856e-04  1.29018496e-03  5.07554863e-01  1.34695532e+02\n",
            "  -1.13477107e+01  1.32967993e+01  2.69041472e+01  7.06432502e-03\n",
            "  -4.55020504e-03  8.89757743e-02  6.53241803e-02  4.46845070e-02\n",
            "  -1.92358233e-02  3.63424775e-07  4.39363269e-01  1.00966978e-01\n",
            "  -8.66877173e-02  1.08653204e-01  1.62673097e-01 -1.98717067e-03\n",
            "  -1.75791417e-03  1.44659041e-02 -4.90753318e-05  1.63130245e-04\n",
            "   1.01408770e-06  1.06670671e+04 -1.89975943e+03  5.58948686e+03\n",
            "   1.76344215e+03 -3.65480063e+02 -3.70104959e+00  4.20851432e+00\n",
            "   3.63400729e+01 -2.73165218e+01 -4.15763801e+01 -6.80176353e-01\n",
            "  -7.66842390e+01 -3.77562936e+02 -8.19222977e+02 -1.10772527e+04\n",
            "   1.08832374e+02  2.58631601e+01 -1.30062813e+02 -5.61326230e+01\n",
            "   9.00929135e+01 -5.17812693e-01  7.61505198e+03  3.51475700e+03\n",
            "   1.04529397e+04 -6.01838942e+00 -5.32931459e+00 -4.33281720e+01\n",
            "  -1.23235577e+01  8.52319874e+00 -8.89774915e-02  1.70850788e+03\n",
            "  -1.11529811e+02  3.22171584e+00  1.00751469e+01 -4.03369313e+01\n",
            "  -1.27015769e+01  4.32729176e+01 -2.89512672e-01  6.44030401e+03\n",
            "   6.85826552e+00  2.00459068e+01 -7.73133454e+00 -9.71594098e-01\n",
            "  -2.75388136e+01 -5.66933991e-01 -1.53724006e-03  2.56804837e-02\n",
            "   1.77906352e-01 -2.25342779e-02 -4.52949798e-02  1.94494982e-02\n",
            "  -6.56349053e-02 -1.87357205e-01 -2.54677349e-02 -4.72747896e-02\n",
            "   1.87046453e-02  8.79434411e+00  2.60831609e-01 -2.11803033e+00\n",
            "   2.19516868e-02  1.11435174e+00  4.40514888e-02  2.17078511e-04\n",
            "   3.41196730e-02  1.50700275e-04  2.64037141e-06]]\n",
            "[33153782.07860011]\n",
            "\n",
            "\n"
          ]
        },
        {
          "output_type": "stream",
          "name": "stderr",
          "text": [
            "/usr/local/lib/python3.7/dist-packages/sklearn/linear_model/_coordinate_descent.py:648: ConvergenceWarning: Objective did not converge. You might want to increase the number of iterations, check the scale of the features or consider increasing regularisation. Duality gap: 3.355e+14, tolerance: 2.572e+11 Linear regression models with null weight for the l1 regularization term are more efficiently fitted using one of the solvers implemented in sklearn.linear_model.Ridge/RidgeCV instead.\n",
            "  coef_, l1_reg, l2_reg, X, y, max_iter, tol, rng, random, positive\n",
            "/usr/local/lib/python3.7/dist-packages/sklearn/linear_model/_ridge.py:157: LinAlgWarning: Ill-conditioned matrix (rcond=2.08465e-23): result may not be accurate.\n",
            "  return linalg.solve(A, Xy, sym_pos=True, overwrite_a=True).T\n"
          ]
        }
      ]
    },
    {
      "cell_type": "markdown",
      "source": [
        "La ecuación que obtenemos en cada modelo es demasiado compleja como para plasmarla visualmente"
      ],
      "metadata": {
        "id": "4PgDMHZGUzNJ"
      }
    },
    {
      "cell_type": "code",
      "source": [
        "for name, model in modelos:\n",
        "  print(\"%s:\" % name)\n",
        "  mm = model.fit(Xtrain2_poly, np.ravel(y_train2))\n",
        "  Poly_y_test2_predict = mm.predict(Xtest2_poly)\n",
        "\n",
        "\n",
        "  print('Error medio Absoluto (MAE):', metrics.mean_absolute_error(y_test2, Poly_y_test2_predict))\n",
        "  print('Root Mean Squared Error:', np.sqrt(metrics.mean_squared_error(y_test2, Poly_y_test2_predict)))\n",
        "  print('r2_score',r2_score(y_test2, Poly_y_test2_predict))\n",
        "  \n",
        "  results2_MAE.append(metrics.mean_absolute_error(y_test2, Poly_y_test2_predict))\n",
        "  results2_R.append(r2_score(y_test2, Poly_y_test2_predict))\n",
        "  "
      ],
      "metadata": {
        "colab": {
          "base_uri": "https://localhost:8080/"
        },
        "outputId": "b162dff8-4e52-4319-e7d7-150c745c0f63",
        "id": "Fuzl-D2wCblC"
      },
      "execution_count": 70,
      "outputs": [
        {
          "output_type": "stream",
          "name": "stdout",
          "text": [
            "PolyReg:\n",
            "Error medio Absoluto (MAE): 121314.06948173394\n",
            "Root Mean Squared Error: 186261.28575138954\n",
            "r2_score 0.7797929072570198\n",
            "LASSO:\n",
            "Error medio Absoluto (MAE): 122441.95637290736\n",
            "Root Mean Squared Error: 187923.50392459467\n",
            "r2_score 0.775845060684101\n",
            "RIDGE:\n",
            "Error medio Absoluto (MAE): 121606.5777392163\n",
            "Root Mean Squared Error: 185766.42873735217\n",
            "r2_score 0.7809614406687064\n"
          ]
        },
        {
          "output_type": "stream",
          "name": "stderr",
          "text": [
            "/usr/local/lib/python3.7/dist-packages/sklearn/linear_model/_coordinate_descent.py:648: ConvergenceWarning: Objective did not converge. You might want to increase the number of iterations, check the scale of the features or consider increasing regularisation. Duality gap: 3.355e+14, tolerance: 2.572e+11 Linear regression models with null weight for the l1 regularization term are more efficiently fitted using one of the solvers implemented in sklearn.linear_model.Ridge/RidgeCV instead.\n",
            "  coef_, l1_reg, l2_reg, X, y, max_iter, tol, rng, random, positive\n",
            "/usr/local/lib/python3.7/dist-packages/sklearn/linear_model/_ridge.py:157: LinAlgWarning: Ill-conditioned matrix (rcond=2.08465e-23): result may not be accurate.\n",
            "  return linalg.solve(A, Xy, sym_pos=True, overwrite_a=True).T\n"
          ]
        }
      ]
    },
    {
      "cell_type": "markdown",
      "source": [
        "5. Finalmente grafica :\n",
        ">MAE (de los cuatro métodos)\n"
      ],
      "metadata": {
        "id": "06Jv7KkuBuNp"
      }
    },
    {
      "cell_type": "code",
      "source": [
        "results2_MAE"
      ],
      "metadata": {
        "colab": {
          "base_uri": "https://localhost:8080/"
        },
        "outputId": "47ea2f43-593a-4472-8dfc-2f755e653cee",
        "id": "Ye5fKEc3BuOK"
      },
      "execution_count": 71,
      "outputs": [
        {
          "output_type": "execute_result",
          "data": {
            "text/plain": [
              "[137480.1388273178,\n",
              " 142189.48807400462,\n",
              " 146021.2797642382,\n",
              " 121314.06948173394,\n",
              " 122441.95637290736,\n",
              " 121606.5777392163]"
            ]
          },
          "metadata": {},
          "execution_count": 71
        }
      ]
    },
    {
      "cell_type": "code",
      "source": [
        "plt.bar(['LR', 'LR-Lasso', 'LR-Ridge', 'Poly', 'Poly-Lasso', 'Poly-Ridge'], results2_MAE)"
      ],
      "metadata": {
        "colab": {
          "base_uri": "https://localhost:8080/",
          "height": 282
        },
        "outputId": "cc7a9a44-4e16-405c-c3ef-f9d93411a681",
        "id": "4md44meJBuON"
      },
      "execution_count": 72,
      "outputs": [
        {
          "output_type": "execute_result",
          "data": {
            "text/plain": [
              "<BarContainer object of 6 artists>"
            ]
          },
          "metadata": {},
          "execution_count": 72
        },
        {
          "output_type": "display_data",
          "data": {
            "text/plain": [
              "<Figure size 432x288 with 1 Axes>"
            ],
            "image/png": "[encoded data removed]"
          },
          "metadata": {
            "needs_background": "light"
          }
        }
      ]
    },
    {
      "cell_type": "markdown",
      "source": [
        ">R2 (de los cuatro métodos)"
      ],
      "metadata": {
        "id": "7mt1SMADBuOO"
      }
    },
    {
      "cell_type": "code",
      "source": [
        "plt.bar(['LR', 'LR-Lasso', 'LR-Ridge', 'Poly', 'Poly-Lasso', 'Poly-Ridge'], results2_R)"
      ],
      "metadata": {
        "colab": {
          "base_uri": "https://localhost:8080/",
          "height": 282
        },
        "outputId": "3612b164-e336-4937-a420-d9e1a924538b",
        "id": "ordDek5BBuOP"
      },
      "execution_count": 73,
      "outputs": [
        {
          "output_type": "execute_result",
          "data": {
            "text/plain": [
              "<BarContainer object of 6 artists>"
            ]
          },
          "metadata": {},
          "execution_count": 73
        },
        {
          "output_type": "display_data",
          "data": {
            "text/plain": [
              "<Figure size 432x288 with 1 Axes>"
            ],
            "image/png": "[encoded data removed]"
          },
          "metadata": {
            "needs_background": "light"
          }
        }
      ]
    },
    {
      "cell_type": "markdown",
      "source": [
        "6. Explica tus resultados, que método conviene más a la empresa, ¿por que?, ¿que porcentajes de entrenamiento y evaluación usaste?, ¿que error tienes?, ¿es bueno?, ¿cómo lo sabes?\n",
        "\n",
        "En el ejercicio número dos decidimos hacer una partición diferente de los datos. Cómo el código ya lo sugería, los datos fueron partidos en un 90-10% para los datos de entrenamiento y prueba, respectivamente. Nuevamente, recalcamos que no existe manera ideal de partir lo datos, no obstante, esta división se encuentra dentro de los parámetros normales para evitar sub-entrenamiento y sobre-entrenamiento.\n",
        "\n",
        "Finalmente, podemos determinar cual fue nuestro mejor acercamiento para describir nuestros datos con base en las gráficas que realizamos de los errores y r cuadrada para los modelos linear múltiple sin regularizacion, LM con Lasso, LM con Rigde, Polinomial múltiple sin regularizacion, PM con Lasso y PM con Ridge. Como podemos observar, el modelo polinomial Múltiple con regularización Ridge  es el mejor pues tiene una mayor R cuadrada (ligeramente sobre el 78%) y el error MAE más pequeño (121606.58). El error MAE obtenido lo podemos interpretar como nuestro modelo polinomial simple se suele equivocar, en promedio, 121606.57 unidades al momento de hacer una predicción. Pudiese parecer que el error es muy grande por ser cientos de miles de unidades, no obstante, es importante poner este error en contexto de nuestros datos para saber si realmente es un error importante. Probablemente, para tener una mejor idea de que tan grande o pequeño es nuestro error era primero necesario estandarizar y normalizar nuestras variables de entrada X. Ahora, cabe mencionar que es dificl establecer si un error MAE de 121606.57, estandarizado o no, es bueno o malo. Nuevamente esto depende totalmente de nuestro cliente y sus expectativas. En otra palabra, el error permisible y el desempeño óptimo de un modelo siempre dependeran del caso y las circunstancias.\n",
        "\n",
        "Adicionalmente, es importante destacar que para este modelo utilizar un modelo lineal o de regresión termino por definir modelos con demasiadas variables lo cual es complicado de computar, interpretar e incluso dificil de visualizar. En este sentido, parece que necesario explorar la idea de utilizar alguna técnica de reducción de dimensionalidades si lo que se busca es utilizar Regresión Lineal y/o polinomial.\n",
        "\n",
        "De igual manera que en el caso anterior, se busca obtener una R cuadrada cercana al 100%, pues esto quiere decir que toda la variacion de nuestros datos se encuentra explicada por nuestro modelo. En este sentido, un 78% significa que nuestro modelo no describe por completo o de la mejor manera nuestros datos. Sería importante analizar otros grados de polinomio para determinar si una regresión polinomial es el modelo óptimo o si hay que cambiar a otro modelo más complejo. "
      ],
      "metadata": {
        "id": "dkMCqNU8BuOQ"
      }
    },
    {
      "cell_type": "markdown",
      "source": [
        "Referencias:\n",
        "\n",
        "Jj, a. (2016, March 23). Mae and RMSE - which metric is better? Medium. Retrieved November 9, 2022, from https://medium.com/human-in-a-machine-world/mae-and-rmse-which-metric-is-better-e60ac3bde13d \n",
        "\n",
        "Minitab Blog Editor (2019). Análisis de regresión: ¿Cómo puedo interpretar el r-cuadrado y evaluar La Bondad de Ajuste? Minitab Blog. Retrieved November 9, 2022, from https://blog.minitab.com/es/analisis-de-regresion-como-puedo-interpretar-el-r-cuadrado-y-evaluar-la-bondad-de-ajuste \n",
        "\n",
        "Purvanshparmar  (2021, October 11). Optimal Data Division for Training Neural Network. Medium. Retrieved November 9, 2022, from https://medium.com/mlearning-ai/optimal-data-division-for-training-neural-network-3c83726e9551 \n",
        "\n"
      ],
      "metadata": {
        "id": "hTJNpREcc2RM"
      }
    },
    {
      "cell_type": "markdown",
      "source": [
        ">**CONCLUSIONES**\n",
        "\n",
        "En este ejercicio realizamos el ajuste de modelos de regresión (lineal y polinomial) con y sin regularización para describir distintas bases de datos. En mi opinión estos modelos son óptimos cuando podemos tener una idea de como se distribuyen nuestros datos en un espacio. Por ejemplo, si tenemos una base de datos sencillas como en el primer ejemplo, donde solo tenemos una variable de entrada X y una de salida Y, entonces, es fácil ver si nuestros gráficos se comportan de manera lineal, cuadrática o cúbica. De esta manera podemos realizar un modelo que se ajuste a este comportamiento y obtengamos buenos de resultados de R cuadrada con errores de predicción mínimos.\n",
        "\n",
        "No obstante, cuando tenemos casos muy complejos, cómo en el segundo caso donde teniamos 15 variables de entrada y una de salida, entonces parece que nuestros modelos de Regresión no son lo suficientemente complejos como para describir toda esas variables y dimensiones. Incluso no es imposible gráficar todas estas dimensiones para ver el comportamiento y poder determinar si un polinomio describiría correctamente la distribución de nuestros datos. En este sentido, y como data analysts, es importante identificar otros modelos que puedan adaptarse mejor o realizar una reducción de dimensionalidad a nuestro dataset. "
      ],
      "metadata": {
        "id": "6mBcwDmxYuUU"
      }
    },
    {
      "cell_type": "markdown",
      "source": [
        "Referencias:\n",
        "\n",
        "Princeton University, U. (n.d.). DSS - introduction to regression. Princeton University. Retrieved November 9, 2022, from https://dss.princeton.edu/online_help/analysis/regression_intro.htm#:~:text=Regression%20analysis%20is%20used%20when,logistic%20regression%20should%20be%20used. \n"
      ],
      "metadata": {
        "id": "sPFNBErHc4eM"
      }
    },
    {
      "cell_type": "markdown",
      "source": [
        "#**NOTEBOOK 2**"
      ],
      "metadata": {
        "id": "LBa0dJ6b2aWv"
      }
    },
    {
      "cell_type": "markdown",
      "source": [
        "Este notebook se basa en información de target\n",
        "![imagen.png](https://www.america-retail.com/static//2020/12/target01.jpg)\n",
        "\n",
        "\n",
        "Ahora imagina que somos parte del equipo de data science de la empresa Target, una de las tiendas con mayor presencia en Estados Unidos. El departamento de logistica acude a nosotros para saber donde le conviene poner sus almacenes, para que se optimice el gasto de gasolina, los tiempos de entrega de los productos y se disminuyan costos. Para ello, nos pasan los datos de latitud y longitud de cada una de las tiendas.\n",
        "\n",
        "https://www.kaggle.com/datasets/saejinmahlauheinert/target-store-locations?select=target-locations.csv\n",
        "\n",
        "Si quieres saber un poco más de graficas geográficas consulta el siguiente notebook\n",
        "https://colab.research.google.com/github/QuantEcon/quantecon-notebooks-datascience/blob/master/applications/maps.ipynb#scrollTo=uo2oPtSCeAOz"
      ],
      "metadata": {
        "id": "6mUW5QNwhz5T"
      }
    },
    {
      "cell_type": "code",
      "source": [
        "! pip install qeds fiona geopandas xgboost gensim folium pyLDAvis descartes"
      ],
      "metadata": {
        "colab": {
          "base_uri": "https://localhost:8080/"
        },
        "id": "YwkfEqinwESD",
        "outputId": "75f9af56-d808-4d90-ae47-13e4e27c139f"
      },
      "execution_count": 74,
      "outputs": [
        {
          "output_type": "stream",
          "name": "stdout",
          "text": [
            "Looking in indexes: https://pypi.org/simple, https://us-python.pkg.dev/colab-wheels/public/simple/\n",
            "Collecting qeds\n",
            "  Downloading qeds-0.7.0.tar.gz (24 kB)\n",
            "Collecting fiona\n",
            "  Downloading Fiona-1.8.22-cp37-cp37m-manylinux2014_x86_64.whl (16.7 MB)\n",
            "\u001b[K     |████████████████████████████████| 16.7 MB 13.8 MB/s \n",
            "\u001b[?25hCollecting geopandas\n",
            "  Downloading geopandas-0.10.2-py2.py3-none-any.whl (1.0 MB)\n",
            "\u001b[K     |████████████████████████████████| 1.0 MB 17.9 MB/s \n",
            "\u001b[?25hRequirement already satisfied: xgboost in /usr/local/lib/python3.7/dist-packages (0.90)\n",
            "Requirement already satisfied: gensim in /usr/local/lib/python3.7/dist-packages (3.6.0)\n",
            "Requirement already satisfied: folium in /usr/local/lib/python3.7/dist-packages (0.12.1.post1)\n",
            "Collecting pyLDAvis\n",
            "  Downloading pyLDAvis-3.3.1.tar.gz (1.7 MB)\n",
            "\u001b[K     |████████████████████████████████| 1.7 MB 47.4 MB/s \n",
            "\u001b[?25h  Installing build dependencies ... \u001b[?25l\u001b[?25hdone\n",
            "  Getting requirements to build wheel ... \u001b[?25l\u001b[?25hdone\n",
            "  Installing backend dependencies ... \u001b[?25l\u001b[?25hdone\n",
            "    Preparing wheel metadata ... \u001b[?25l\u001b[?25hdone\n",
            "Requirement already satisfied: descartes in /usr/local/lib/python3.7/dist-packages (1.1.0)\n",
            "Requirement already satisfied: pandas in /usr/local/lib/python3.7/dist-packages (from qeds) (1.3.5)\n",
            "Requirement already satisfied: requests in /usr/local/lib/python3.7/dist-packages (from qeds) (2.23.0)\n",
            "Collecting quandl\n",
            "  Downloading Quandl-3.7.0-py2.py3-none-any.whl (26 kB)\n",
            "Requirement already satisfied: scipy in /usr/local/lib/python3.7/dist-packages (from qeds) (1.7.3)\n",
            "Requirement already satisfied: numpy in /usr/local/lib/python3.7/dist-packages (from qeds) (1.21.6)\n",
            "Collecting quantecon\n",
            "  Downloading quantecon-0.5.3-py3-none-any.whl (179 kB)\n",
            "\u001b[K     |████████████████████████████████| 179 kB 68.6 MB/s \n",
            "\u001b[?25hRequirement already satisfied: matplotlib in /usr/local/lib/python3.7/dist-packages (from qeds) (3.2.2)\n",
            "Requirement already satisfied: pyarrow in /usr/local/lib/python3.7/dist-packages (from qeds) (6.0.1)\n",
            "Requirement already satisfied: openpyxl in /usr/local/lib/python3.7/dist-packages (from qeds) (3.0.10)\n",
            "Requirement already satisfied: plotly in /usr/local/lib/python3.7/dist-packages (from qeds) (5.5.0)\n",
            "Requirement already satisfied: pandas_datareader in /usr/local/lib/python3.7/dist-packages (from qeds) (0.9.0)\n",
            "Requirement already satisfied: scikit-learn in /usr/local/lib/python3.7/dist-packages (from qeds) (1.0.2)\n",
            "Requirement already satisfied: seaborn in /usr/local/lib/python3.7/dist-packages (from qeds) (0.11.2)\n",
            "Requirement already satisfied: statsmodels in /usr/local/lib/python3.7/dist-packages (from qeds) (0.12.2)\n",
            "Collecting click-plugins>=1.0\n",
            "  Downloading click_plugins-1.1.1-py2.py3-none-any.whl (7.5 kB)\n",
            "Requirement already satisfied: click>=4.0 in /usr/local/lib/python3.7/dist-packages (from fiona) (7.1.2)\n",
            "Requirement already satisfied: setuptools in /usr/local/lib/python3.7/dist-packages (from fiona) (57.4.0)\n",
            "Requirement already satisfied: six>=1.7 in /usr/local/lib/python3.7/dist-packages (from fiona) (1.15.0)\n",
            "Requirement already satisfied: certifi in /usr/local/lib/python3.7/dist-packages (from fiona) (2022.9.24)\n",
            "Collecting munch\n",
            "  Downloading munch-2.5.0-py2.py3-none-any.whl (10 kB)\n",
            "Collecting cligj>=0.5\n",
            "  Downloading cligj-0.7.2-py3-none-any.whl (7.1 kB)\n",
            "Requirement already satisfied: attrs>=17 in /usr/local/lib/python3.7/dist-packages (from fiona) (22.1.0)\n",
            "Collecting pyproj>=2.2.0\n",
            "  Downloading pyproj-3.2.1-cp37-cp37m-manylinux2010_x86_64.whl (6.3 MB)\n",
            "\u001b[K     |████████████████████████████████| 6.3 MB 42.9 MB/s \n",
            "\u001b[?25hRequirement already satisfied: shapely>=1.6 in /usr/local/lib/python3.7/dist-packages (from geopandas) (1.8.5.post1)\n",
            "Requirement already satisfied: pytz>=2017.3 in /usr/local/lib/python3.7/dist-packages (from pandas->qeds) (2022.6)\n",
            "Requirement already satisfied: python-dateutil>=2.7.3 in /usr/local/lib/python3.7/dist-packages (from pandas->qeds) (2.8.2)\n",
            "Requirement already satisfied: smart-open>=1.2.1 in /usr/local/lib/python3.7/dist-packages (from gensim) (5.2.1)\n",
            "Requirement already satisfied: jinja2>=2.9 in /usr/local/lib/python3.7/dist-packages (from folium) (2.11.3)\n",
            "Requirement already satisfied: branca>=0.3.0 in /usr/local/lib/python3.7/dist-packages (from folium) (0.5.0)\n",
            "Requirement already satisfied: MarkupSafe>=0.23 in /usr/local/lib/python3.7/dist-packages (from jinja2>=2.9->folium) (2.0.1)\n",
            "Requirement already satisfied: numexpr in /usr/local/lib/python3.7/dist-packages (from pyLDAvis) (2.8.4)\n",
            "Requirement already satisfied: joblib in /usr/local/lib/python3.7/dist-packages (from pyLDAvis) (1.2.0)\n",
            "Requirement already satisfied: future in /usr/local/lib/python3.7/dist-packages (from pyLDAvis) (0.16.0)\n",
            "Collecting sklearn\n",
            "  Downloading sklearn-0.0.post1.tar.gz (3.6 kB)\n",
            "Collecting funcy\n",
            "  Downloading funcy-1.17-py2.py3-none-any.whl (33 kB)\n",
            "Requirement already satisfied: cycler>=0.10 in /usr/local/lib/python3.7/dist-packages (from matplotlib->qeds) (0.11.0)\n",
            "Requirement already satisfied: pyparsing!=2.0.4,!=2.1.2,!=2.1.6,>=2.0.1 in /usr/local/lib/python3.7/dist-packages (from matplotlib->qeds) (3.0.9)\n",
            "Requirement already satisfied: kiwisolver>=1.0.1 in /usr/local/lib/python3.7/dist-packages (from matplotlib->qeds) (1.4.4)\n",
            "Requirement already satisfied: typing-extensions in /usr/local/lib/python3.7/dist-packages (from kiwisolver>=1.0.1->matplotlib->qeds) (4.1.1)\n",
            "Requirement already satisfied: et-xmlfile in /usr/local/lib/python3.7/dist-packages (from openpyxl->qeds) (1.1.0)\n",
            "Requirement already satisfied: lxml in /usr/local/lib/python3.7/dist-packages (from pandas_datareader->qeds) (4.9.1)\n",
            "Requirement already satisfied: chardet<4,>=3.0.2 in /usr/local/lib/python3.7/dist-packages (from requests->qeds) (3.0.4)\n",
            "Requirement already satisfied: urllib3!=1.25.0,!=1.25.1,<1.26,>=1.21.1 in /usr/local/lib/python3.7/dist-packages (from requests->qeds) (1.24.3)\n",
            "Requirement already satisfied: idna<3,>=2.5 in /usr/local/lib/python3.7/dist-packages (from requests->qeds) (2.10)\n",
            "Requirement already satisfied: tenacity>=6.2.0 in /usr/local/lib/python3.7/dist-packages (from plotly->qeds) (8.1.0)\n",
            "Collecting inflection>=0.3.1\n",
            "  Downloading inflection-0.5.1-py2.py3-none-any.whl (9.5 kB)\n",
            "Requirement already satisfied: more-itertools in /usr/local/lib/python3.7/dist-packages (from quandl->qeds) (9.0.0)\n",
            "Requirement already satisfied: sympy in /usr/local/lib/python3.7/dist-packages (from quantecon->qeds) (1.7.1)\n",
            "Requirement already satisfied: numba in /usr/local/lib/python3.7/dist-packages (from quantecon->qeds) (0.56.4)\n",
            "Requirement already satisfied: importlib-metadata in /usr/local/lib/python3.7/dist-packages (from numba->quantecon->qeds) (4.13.0)\n",
            "Requirement already satisfied: llvmlite<0.40,>=0.39.0dev0 in /usr/local/lib/python3.7/dist-packages (from numba->quantecon->qeds) (0.39.1)\n",
            "Requirement already satisfied: zipp>=0.5 in /usr/local/lib/python3.7/dist-packages (from importlib-metadata->numba->quantecon->qeds) (3.10.0)\n",
            "Requirement already satisfied: threadpoolctl>=2.0.0 in /usr/local/lib/python3.7/dist-packages (from scikit-learn->qeds) (3.1.0)\n",
            "Requirement already satisfied: patsy>=0.5 in /usr/local/lib/python3.7/dist-packages (from statsmodels->qeds) (0.5.3)\n",
            "Requirement already satisfied: mpmath>=0.19 in /usr/local/lib/python3.7/dist-packages (from sympy->quantecon->qeds) (1.2.1)\n",
            "Building wheels for collected packages: qeds, pyLDAvis, sklearn\n",
            "  Building wheel for qeds (setup.py) ... \u001b[?25l\u001b[?25hdone\n",
            "  Created wheel for qeds: filename=qeds-0.7.0-py3-none-any.whl size=27812 sha256=72be0cf497bbaca18e6c0e9d213ef53da137b69d7b82c2550e824071be4ff8dd\n",
            "  Stored in directory: /root/.cache/pip/wheels/fc/8c/52/0cc036b9730b75850b9845770780f8d05ed08ff38a67cbaa29\n",
            "  Building wheel for pyLDAvis (PEP 517) ... \u001b[?25l\u001b[?25hdone\n",
            "  Created wheel for pyLDAvis: filename=pyLDAvis-3.3.1-py2.py3-none-any.whl size=136897 sha256=a14454238b2fdc5bae13ad9755ff5f6f7c6af376e2870d1f678fb00cc5a06822\n",
            "  Stored in directory: /root/.cache/pip/wheels/c9/21/f6/17bcf2667e8a68532ba2fbf6d5c72fdf4c7f7d9abfa4852d2f\n",
            "  Building wheel for sklearn (setup.py) ... \u001b[?25l\u001b[?25hdone\n",
            "  Created wheel for sklearn: filename=sklearn-0.0.post1-py3-none-any.whl size=2344 sha256=8c38b271c97d468d627bd1dbfd732f5801e32c3d5b55767e075b4bd4a58df5cd\n",
            "  Stored in directory: /root/.cache/pip/wheels/42/56/cc/4a8bf86613aafd5b7f1b310477667c1fca5c51c3ae4124a003\n",
            "Successfully built qeds pyLDAvis sklearn\n",
            "Installing collected packages: munch, inflection, cligj, click-plugins, sklearn, quantecon, quandl, pyproj, funcy, fiona, qeds, pyLDAvis, geopandas\n",
            "Successfully installed click-plugins-1.1.1 cligj-0.7.2 fiona-1.8.22 funcy-1.17 geopandas-0.10.2 inflection-0.5.1 munch-2.5.0 pyLDAvis-3.3.1 pyproj-3.2.1 qeds-0.7.0 quandl-3.7.0 quantecon-0.5.3 sklearn-0.0.post1\n"
          ]
        }
      ]
    },
    {
      "cell_type": "code",
      "source": [
        "import pandas as pd\n",
        "import numpy as np\n",
        "from tqdm import tqdm\n",
        "%matplotlib inline\n",
        "import numpy as np\n",
        "import matplotlib.pyplot as plt\n",
        "import geopandas\n",
        "\n",
        "import seaborn as sb\n",
        "from sklearn.cluster import KMeans\n",
        "from sklearn.metrics import pairwise_distances_argmin_min"
      ],
      "metadata": {
        "id": "WBpdGjbquQii"
      },
      "execution_count": 75,
      "outputs": []
    },
    {
      "cell_type": "markdown",
      "source": [
        "Importa la base de datos"
      ],
      "metadata": {
        "id": "KNTIoZlGvPum"
      }
    },
    {
      "cell_type": "code",
      "source": [
        "url=\"https://raw.githubusercontent.com/marypazrf/bdd/main/target-locations.csv\"\n",
        "df=pd.read_csv(url)"
      ],
      "metadata": {
        "id": "PAJWHRVN781V"
      },
      "execution_count": 76,
      "outputs": []
    },
    {
      "cell_type": "markdown",
      "source": [
        "Exploremos los datos."
      ],
      "metadata": {
        "id": "sH4hvPAYvUGY"
      }
    },
    {
      "cell_type": "code",
      "source": [
        "\n",
        "df.head()\n"
      ],
      "metadata": {
        "colab": {
          "base_uri": "https://localhost:8080/",
          "height": 206
        },
        "id": "DuzNp7KseyBg",
        "outputId": "a058f9cb-53ad-412c-f2d3-013074cfbdb1"
      },
      "execution_count": 77,
      "outputs": [
        {
          "output_type": "execute_result",
          "data": {
            "text/plain": [
              "        name   latitude  longitude  \\\n",
              "0  Alabaster  33.224225 -86.804174   \n",
              "1   Bessemer  33.334550 -86.989778   \n",
              "2     Daphne  30.602875 -87.895932   \n",
              "3    Decatur  34.560148 -86.971559   \n",
              "4     Dothan  31.266061 -85.446422   \n",
              "\n",
              "                                             address         phone  \\\n",
              "0        250 S Colonial Dr, Alabaster, AL 35007-4657  205-564-2608   \n",
              "1       4889 Promenade Pkwy, Bessemer, AL 35022-7305  205-565-3760   \n",
              "2          1698 US Highway 98, Daphne, AL 36526-4252  251-621-3540   \n",
              "3  1235 Point Mallard Pkwy SE, Decatur, AL 35601-...  256-898-3036   \n",
              "4         4601 Montgomery Hwy, Dothan, AL 36303-1522  334-340-1112   \n",
              "\n",
              "                                    website  \n",
              "0  https://www.target.com/sl/alabaster/2276  \n",
              "1   https://www.target.com/sl/bessemer/2375  \n",
              "2     https://www.target.com/sl/daphne/1274  \n",
              "3    https://www.target.com/sl/decatur/2084  \n",
              "4     https://www.target.com/sl/dothan/1468  "
            ],
            "text/html": [
              "\n",
              "  <div id=\"df-02ba068c-0a4d-499e-b1f7-37a22b98cce3\">\n",
              "    <div class=\"colab-df-container\">\n",
              "      <div>\n",
              "<style scoped>\n",
              "    .dataframe tbody tr th:only-of-type {\n",
              "        vertical-align: middle;\n",
              "    }\n",
              "\n",
              "    .dataframe tbody tr th {\n",
              "        vertical-align: top;\n",
              "    }\n",
              "\n",
              "    .dataframe thead th {\n",
              "        text-align: right;\n",
              "    }\n",
              "</style>\n",
              "<table border=\"1\" class=\"dataframe\">\n",
              "  <thead>\n",
              "    <tr style=\"text-align: right;\">\n",
              "      <th></th>\n",
              "      <th>name</th>\n",
              "      <th>latitude</th>\n",
              "      <th>longitude</th>\n",
              "      <th>address</th>\n",
              "      <th>phone</th>\n",
              "      <th>website</th>\n",
              "    </tr>\n",
              "  </thead>\n",
              "  <tbody>\n",
              "    <tr>\n",
              "      <th>0</th>\n",
              "      <td>Alabaster</td>\n",
              "      <td>33.224225</td>\n",
              "      <td>-86.804174</td>\n",
              "      <td>250 S Colonial Dr, Alabaster, AL 35007-4657</td>\n",
              "      <td>205-564-2608</td>\n",
              "      <td>https://www.target.com/sl/alabaster/2276</td>\n",
              "    </tr>\n",
              "    <tr>\n",
              "      <th>1</th>\n",
              "      <td>Bessemer</td>\n",
              "      <td>33.334550</td>\n",
              "      <td>-86.989778</td>\n",
              "      <td>4889 Promenade Pkwy, Bessemer, AL 35022-7305</td>\n",
              "      <td>205-565-3760</td>\n",
              "      <td>https://www.target.com/sl/bessemer/2375</td>\n",
              "    </tr>\n",
              "    <tr>\n",
              "      <th>2</th>\n",
              "      <td>Daphne</td>\n",
              "      <td>30.602875</td>\n",
              "      <td>-87.895932</td>\n",
              "      <td>1698 US Highway 98, Daphne, AL 36526-4252</td>\n",
              "      <td>251-621-3540</td>\n",
              "      <td>https://www.target.com/sl/daphne/1274</td>\n",
              "    </tr>\n",
              "    <tr>\n",
              "      <th>3</th>\n",
              "      <td>Decatur</td>\n",
              "      <td>34.560148</td>\n",
              "      <td>-86.971559</td>\n",
              "      <td>1235 Point Mallard Pkwy SE, Decatur, AL 35601-...</td>\n",
              "      <td>256-898-3036</td>\n",
              "      <td>https://www.target.com/sl/decatur/2084</td>\n",
              "    </tr>\n",
              "    <tr>\n",
              "      <th>4</th>\n",
              "      <td>Dothan</td>\n",
              "      <td>31.266061</td>\n",
              "      <td>-85.446422</td>\n",
              "      <td>4601 Montgomery Hwy, Dothan, AL 36303-1522</td>\n",
              "      <td>334-340-1112</td>\n",
              "      <td>https://www.target.com/sl/dothan/1468</td>\n",
              "    </tr>\n",
              "  </tbody>\n",
              "</table>\n",
              "</div>\n",
              "      <button class=\"colab-df-convert\" onclick=\"convertToInteractive('df-02ba068c-0a4d-499e-b1f7-37a22b98cce3')\"\n",
              "              title=\"Convert this dataframe to an interactive table.\"\n",
              "              style=\"display:none;\">\n",
              "        \n",
              "  <svg xmlns=\"http://www.w3.org/2000/svg\" height=\"24px\"viewBox=\"0 0 24 24\"\n",
              "       width=\"24px\">\n",
              "    <path d=\"M0 0h24v24H0V0z\" fill=\"none\"/>\n",
              "    <path d=\"M18.56 5.44l.94 2.06.94-2.06 2.06-.94-2.06-.94-.94-2.06-.94 2.06-2.06.94zm-11 1L8.5 8.5l.94-2.06 2.06-.94-2.06-.94L8.5 2.5l-.94 2.06-2.06.94zm10 10l.94 2.06.94-2.06 2.06-.94-2.06-.94-.94-2.06-.94 2.06-2.06.94z\"/><path d=\"M17.41 7.96l-1.37-1.37c-.4-.4-.92-.59-1.43-.59-.52 0-1.04.2-1.43.59L10.3 9.45l-7.72 7.72c-.78.78-.78 2.05 0 2.83L4 21.41c.39.39.9.59 1.41.59.51 0 1.02-.2 1.41-.59l7.78-7.78 2.81-2.81c.8-.78.8-2.07 0-2.86zM5.41 20L4 18.59l7.72-7.72 1.47 1.35L5.41 20z\"/>\n",
              "  </svg>\n",
              "      </button>\n",
              "      \n",
              "  <style>\n",
              "    .colab-df-container {\n",
              "      display:flex;\n",
              "      flex-wrap:wrap;\n",
              "      gap: 12px;\n",
              "    }\n",
              "\n",
              "    .colab-df-convert {\n",
              "      background-color: #E8F0FE;\n",
              "      border: none;\n",
              "      border-radius: 50%;\n",
              "      cursor: pointer;\n",
              "      display: none;\n",
              "      fill: #1967D2;\n",
              "      height: 32px;\n",
              "      padding: 0 0 0 0;\n",
              "      width: 32px;\n",
              "    }\n",
              "\n",
              "    .colab-df-convert:hover {\n",
              "      background-color: #E2EBFA;\n",
              "      box-shadow: 0px 1px 2px rgba(60, 64, 67, 0.3), 0px 1px 3px 1px rgba(60, 64, 67, 0.15);\n",
              "      fill: #174EA6;\n",
              "    }\n",
              "\n",
              "    [theme=dark] .colab-df-convert {\n",
              "      background-color: #3B4455;\n",
              "      fill: #D2E3FC;\n",
              "    }\n",
              "\n",
              "    [theme=dark] .colab-df-convert:hover {\n",
              "      background-color: #434B5C;\n",
              "      box-shadow: 0px 1px 3px 1px rgba(0, 0, 0, 0.15);\n",
              "      filter: drop-shadow(0px 1px 2px rgba(0, 0, 0, 0.3));\n",
              "      fill: #FFFFFF;\n",
              "    }\n",
              "  </style>\n",
              "\n",
              "      <script>\n",
              "        const buttonEl =\n",
              "          document.querySelector('#df-02ba068c-0a4d-499e-b1f7-37a22b98cce3 button.colab-df-convert');\n",
              "        buttonEl.style.display =\n",
              "          google.colab.kernel.accessAllowed ? 'block' : 'none';\n",
              "\n",
              "        async function convertToInteractive(key) {\n",
              "          const element = document.querySelector('#df-02ba068c-0a4d-499e-b1f7-37a22b98cce3');\n",
              "          const dataTable =\n",
              "            await google.colab.kernel.invokeFunction('convertToInteractive',\n",
              "                                                     [key], {});\n",
              "          if (!dataTable) return;\n",
              "\n",
              "          const docLinkHtml = 'Like what you see? Visit the ' +\n",
              "            '<a target=\"_blank\" href=https://colab.research.google.com/notebooks/data_table.ipynb>data table notebook</a>'\n",
              "            + ' to learn more about interactive tables.';\n",
              "          element.innerHTML = '';\n",
              "          dataTable['output_type'] = 'display_data';\n",
              "          await google.colab.output.renderOutput(dataTable, element);\n",
              "          const docLink = document.createElement('div');\n",
              "          docLink.innerHTML = docLinkHtml;\n",
              "          element.appendChild(docLink);\n",
              "        }\n",
              "      </script>\n",
              "    </div>\n",
              "  </div>\n",
              "  "
            ]
          },
          "metadata": {},
          "execution_count": 77
        }
      ]
    },
    {
      "cell_type": "code",
      "source": [
        "df.info()"
      ],
      "metadata": {
        "colab": {
          "base_uri": "https://localhost:8080/"
        },
        "id": "MxbhdLkavl7Q",
        "outputId": "eca818b6-5aea-4d46-da6d-b0f934837989"
      },
      "execution_count": 78,
      "outputs": [
        {
          "output_type": "stream",
          "name": "stdout",
          "text": [
            "<class 'pandas.core.frame.DataFrame'>\n",
            "RangeIndex: 1839 entries, 0 to 1838\n",
            "Data columns (total 6 columns):\n",
            " #   Column     Non-Null Count  Dtype  \n",
            "---  ------     --------------  -----  \n",
            " 0   name       1839 non-null   object \n",
            " 1   latitude   1839 non-null   float64\n",
            " 2   longitude  1839 non-null   float64\n",
            " 3   address    1839 non-null   object \n",
            " 4   phone      1839 non-null   object \n",
            " 5   website    1839 non-null   object \n",
            "dtypes: float64(2), object(4)\n",
            "memory usage: 86.3+ KB\n"
          ]
        }
      ]
    },
    {
      "cell_type": "markdown",
      "source": [
        "**Definición de Latitud y Longitud**\n",
        "\n",
        "**Latitud** Es la distancia en grados, minutos y segundos que hay con respecto al paralelo principal, que es el ecuador (0º). La latitud puede ser norte y sur.\n",
        "\n",
        "**Longitud**: Es la distancia en grados, minutos y segundos que hay con respecto al meridiano principal, que es el meridiano de Greenwich (0º).La longitud puede ser este y oeste."
      ],
      "metadata": {
        "id": "cpfqKT4qxAZz"
      }
    },
    {
      "cell_type": "code",
      "source": [
        "latlong=df[[\"latitude\",\"longitude\"]]"
      ],
      "metadata": {
        "id": "oPzX3DGju0As"
      },
      "execution_count": 79,
      "outputs": []
    },
    {
      "cell_type": "code",
      "source": [
        "latlong.head()"
      ],
      "metadata": {
        "id": "n4QKgxn4e6V0",
        "outputId": "3a2dd17f-02d6-4e6a-a8cd-73734e9f143d",
        "colab": {
          "base_uri": "https://localhost:8080/",
          "height": 206
        }
      },
      "execution_count": 80,
      "outputs": [
        {
          "output_type": "execute_result",
          "data": {
            "text/plain": [
              "    latitude  longitude\n",
              "0  33.224225 -86.804174\n",
              "1  33.334550 -86.989778\n",
              "2  30.602875 -87.895932\n",
              "3  34.560148 -86.971559\n",
              "4  31.266061 -85.446422"
            ],
            "text/html": [
              "\n",
              "  <div id=\"df-511b919d-577d-4221-a196-d426985dd482\">\n",
              "    <div class=\"colab-df-container\">\n",
              "      <div>\n",
              "<style scoped>\n",
              "    .dataframe tbody tr th:only-of-type {\n",
              "        vertical-align: middle;\n",
              "    }\n",
              "\n",
              "    .dataframe tbody tr th {\n",
              "        vertical-align: top;\n",
              "    }\n",
              "\n",
              "    .dataframe thead th {\n",
              "        text-align: right;\n",
              "    }\n",
              "</style>\n",
              "<table border=\"1\" class=\"dataframe\">\n",
              "  <thead>\n",
              "    <tr style=\"text-align: right;\">\n",
              "      <th></th>\n",
              "      <th>latitude</th>\n",
              "      <th>longitude</th>\n",
              "    </tr>\n",
              "  </thead>\n",
              "  <tbody>\n",
              "    <tr>\n",
              "      <th>0</th>\n",
              "      <td>33.224225</td>\n",
              "      <td>-86.804174</td>\n",
              "    </tr>\n",
              "    <tr>\n",
              "      <th>1</th>\n",
              "      <td>33.334550</td>\n",
              "      <td>-86.989778</td>\n",
              "    </tr>\n",
              "    <tr>\n",
              "      <th>2</th>\n",
              "      <td>30.602875</td>\n",
              "      <td>-87.895932</td>\n",
              "    </tr>\n",
              "    <tr>\n",
              "      <th>3</th>\n",
              "      <td>34.560148</td>\n",
              "      <td>-86.971559</td>\n",
              "    </tr>\n",
              "    <tr>\n",
              "      <th>4</th>\n",
              "      <td>31.266061</td>\n",
              "      <td>-85.446422</td>\n",
              "    </tr>\n",
              "  </tbody>\n",
              "</table>\n",
              "</div>\n",
              "      <button class=\"colab-df-convert\" onclick=\"convertToInteractive('df-511b919d-577d-4221-a196-d426985dd482')\"\n",
              "              title=\"Convert this dataframe to an interactive table.\"\n",
              "              style=\"display:none;\">\n",
              "        \n",
              "  <svg xmlns=\"http://www.w3.org/2000/svg\" height=\"24px\"viewBox=\"0 0 24 24\"\n",
              "       width=\"24px\">\n",
              "    <path d=\"M0 0h24v24H0V0z\" fill=\"none\"/>\n",
              "    <path d=\"M18.56 5.44l.94 2.06.94-2.06 2.06-.94-2.06-.94-.94-2.06-.94 2.06-2.06.94zm-11 1L8.5 8.5l.94-2.06 2.06-.94-2.06-.94L8.5 2.5l-.94 2.06-2.06.94zm10 10l.94 2.06.94-2.06 2.06-.94-2.06-.94-.94-2.06-.94 2.06-2.06.94z\"/><path d=\"M17.41 7.96l-1.37-1.37c-.4-.4-.92-.59-1.43-.59-.52 0-1.04.2-1.43.59L10.3 9.45l-7.72 7.72c-.78.78-.78 2.05 0 2.83L4 21.41c.39.39.9.59 1.41.59.51 0 1.02-.2 1.41-.59l7.78-7.78 2.81-2.81c.8-.78.8-2.07 0-2.86zM5.41 20L4 18.59l7.72-7.72 1.47 1.35L5.41 20z\"/>\n",
              "  </svg>\n",
              "      </button>\n",
              "      \n",
              "  <style>\n",
              "    .colab-df-container {\n",
              "      display:flex;\n",
              "      flex-wrap:wrap;\n",
              "      gap: 12px;\n",
              "    }\n",
              "\n",
              "    .colab-df-convert {\n",
              "      background-color: #E8F0FE;\n",
              "      border: none;\n",
              "      border-radius: 50%;\n",
              "      cursor: pointer;\n",
              "      display: none;\n",
              "      fill: #1967D2;\n",
              "      height: 32px;\n",
              "      padding: 0 0 0 0;\n",
              "      width: 32px;\n",
              "    }\n",
              "\n",
              "    .colab-df-convert:hover {\n",
              "      background-color: #E2EBFA;\n",
              "      box-shadow: 0px 1px 2px rgba(60, 64, 67, 0.3), 0px 1px 3px 1px rgba(60, 64, 67, 0.15);\n",
              "      fill: #174EA6;\n",
              "    }\n",
              "\n",
              "    [theme=dark] .colab-df-convert {\n",
              "      background-color: #3B4455;\n",
              "      fill: #D2E3FC;\n",
              "    }\n",
              "\n",
              "    [theme=dark] .colab-df-convert:hover {\n",
              "      background-color: #434B5C;\n",
              "      box-shadow: 0px 1px 3px 1px rgba(0, 0, 0, 0.15);\n",
              "      filter: drop-shadow(0px 1px 2px rgba(0, 0, 0, 0.3));\n",
              "      fill: #FFFFFF;\n",
              "    }\n",
              "  </style>\n",
              "\n",
              "      <script>\n",
              "        const buttonEl =\n",
              "          document.querySelector('#df-511b919d-577d-4221-a196-d426985dd482 button.colab-df-convert');\n",
              "        buttonEl.style.display =\n",
              "          google.colab.kernel.accessAllowed ? 'block' : 'none';\n",
              "\n",
              "        async function convertToInteractive(key) {\n",
              "          const element = document.querySelector('#df-511b919d-577d-4221-a196-d426985dd482');\n",
              "          const dataTable =\n",
              "            await google.colab.kernel.invokeFunction('convertToInteractive',\n",
              "                                                     [key], {});\n",
              "          if (!dataTable) return;\n",
              "\n",
              "          const docLinkHtml = 'Like what you see? Visit the ' +\n",
              "            '<a target=\"_blank\" href=https://colab.research.google.com/notebooks/data_table.ipynb>data table notebook</a>'\n",
              "            + ' to learn more about interactive tables.';\n",
              "          element.innerHTML = '';\n",
              "          dataTable['output_type'] = 'display_data';\n",
              "          await google.colab.output.renderOutput(dataTable, element);\n",
              "          const docLink = document.createElement('div');\n",
              "          docLink.innerHTML = docLinkHtml;\n",
              "          element.appendChild(docLink);\n",
              "        }\n",
              "      </script>\n",
              "    </div>\n",
              "  </div>\n",
              "  "
            ]
          },
          "metadata": {},
          "execution_count": 80
        }
      ]
    },
    {
      "cell_type": "markdown",
      "source": [
        "¡Visualizemos los datos!, para empezar a notar algún patron. \n",
        "\n",
        "A simple vista pudieramos pensar que tenemos algunos datos atípicos u outliers, pero .... no es así, simplemente esta grafica no nos está dando toda la información."
      ],
      "metadata": {
        "id": "gMk6UVE2e67y"
      }
    },
    {
      "cell_type": "code",
      "source": [
        "#extrae los datos interesantes\n",
        "latlong.plot.scatter( \"longitude\",\"latitude\")"
      ],
      "metadata": {
        "colab": {
          "base_uri": "https://localhost:8080/",
          "height": 296
        },
        "id": "-QZRqKiDfj2J",
        "outputId": "9bee239a-501b-4651-b5d3-2a8bb300afa7"
      },
      "execution_count": 81,
      "outputs": [
        {
          "output_type": "execute_result",
          "data": {
            "text/plain": [
              "<matplotlib.axes._subplots.AxesSubplot at 0x7ff5f33dd4d0>"
            ]
          },
          "metadata": {},
          "execution_count": 81
        },
        {
          "output_type": "display_data",
          "data": {
            "text/plain": [
              "<Figure size 432x288 with 1 Axes>"
            ],
            "image/png": "[encoded data removed]"
          },
          "metadata": {
            "needs_background": "light"
          }
        }
      ]
    },
    {
      "cell_type": "code",
      "source": [
        "latlong.describe()"
      ],
      "metadata": {
        "colab": {
          "base_uri": "https://localhost:8080/",
          "height": 300
        },
        "id": "O6b3QguyyjM_",
        "outputId": "0e6e944f-a093-4879-892a-9088915088d5"
      },
      "execution_count": 82,
      "outputs": [
        {
          "output_type": "execute_result",
          "data": {
            "text/plain": [
              "          latitude    longitude\n",
              "count  1839.000000  1839.000000\n",
              "mean     37.791238   -91.986881\n",
              "std       5.272299    16.108046\n",
              "min      19.647855  -159.376962\n",
              "25%      33.882605   -98.268828\n",
              "50%      38.955432   -87.746346\n",
              "75%      41.658341   -80.084833\n",
              "max      61.577919   -68.742331"
            ],
            "text/html": [
              "\n",
              "  <div id=\"df-92905552-f997-4083-8576-6a4462f610e1\">\n",
              "    <div class=\"colab-df-container\">\n",
              "      <div>\n",
              "<style scoped>\n",
              "    .dataframe tbody tr th:only-of-type {\n",
              "        vertical-align: middle;\n",
              "    }\n",
              "\n",
              "    .dataframe tbody tr th {\n",
              "        vertical-align: top;\n",
              "    }\n",
              "\n",
              "    .dataframe thead th {\n",
              "        text-align: right;\n",
              "    }\n",
              "</style>\n",
              "<table border=\"1\" class=\"dataframe\">\n",
              "  <thead>\n",
              "    <tr style=\"text-align: right;\">\n",
              "      <th></th>\n",
              "      <th>latitude</th>\n",
              "      <th>longitude</th>\n",
              "    </tr>\n",
              "  </thead>\n",
              "  <tbody>\n",
              "    <tr>\n",
              "      <th>count</th>\n",
              "      <td>1839.000000</td>\n",
              "      <td>1839.000000</td>\n",
              "    </tr>\n",
              "    <tr>\n",
              "      <th>mean</th>\n",
              "      <td>37.791238</td>\n",
              "      <td>-91.986881</td>\n",
              "    </tr>\n",
              "    <tr>\n",
              "      <th>std</th>\n",
              "      <td>5.272299</td>\n",
              "      <td>16.108046</td>\n",
              "    </tr>\n",
              "    <tr>\n",
              "      <th>min</th>\n",
              "      <td>19.647855</td>\n",
              "      <td>-159.376962</td>\n",
              "    </tr>\n",
              "    <tr>\n",
              "      <th>25%</th>\n",
              "      <td>33.882605</td>\n",
              "      <td>-98.268828</td>\n",
              "    </tr>\n",
              "    <tr>\n",
              "      <th>50%</th>\n",
              "      <td>38.955432</td>\n",
              "      <td>-87.746346</td>\n",
              "    </tr>\n",
              "    <tr>\n",
              "      <th>75%</th>\n",
              "      <td>41.658341</td>\n",
              "      <td>-80.084833</td>\n",
              "    </tr>\n",
              "    <tr>\n",
              "      <th>max</th>\n",
              "      <td>61.577919</td>\n",
              "      <td>-68.742331</td>\n",
              "    </tr>\n",
              "  </tbody>\n",
              "</table>\n",
              "</div>\n",
              "      <button class=\"colab-df-convert\" onclick=\"convertToInteractive('df-92905552-f997-4083-8576-6a4462f610e1')\"\n",
              "              title=\"Convert this dataframe to an interactive table.\"\n",
              "              style=\"display:none;\">\n",
              "        \n",
              "  <svg xmlns=\"http://www.w3.org/2000/svg\" height=\"24px\"viewBox=\"0 0 24 24\"\n",
              "       width=\"24px\">\n",
              "    <path d=\"M0 0h24v24H0V0z\" fill=\"none\"/>\n",
              "    <path d=\"M18.56 5.44l.94 2.06.94-2.06 2.06-.94-2.06-.94-.94-2.06-.94 2.06-2.06.94zm-11 1L8.5 8.5l.94-2.06 2.06-.94-2.06-.94L8.5 2.5l-.94 2.06-2.06.94zm10 10l.94 2.06.94-2.06 2.06-.94-2.06-.94-.94-2.06-.94 2.06-2.06.94z\"/><path d=\"M17.41 7.96l-1.37-1.37c-.4-.4-.92-.59-1.43-.59-.52 0-1.04.2-1.43.59L10.3 9.45l-7.72 7.72c-.78.78-.78 2.05 0 2.83L4 21.41c.39.39.9.59 1.41.59.51 0 1.02-.2 1.41-.59l7.78-7.78 2.81-2.81c.8-.78.8-2.07 0-2.86zM5.41 20L4 18.59l7.72-7.72 1.47 1.35L5.41 20z\"/>\n",
              "  </svg>\n",
              "      </button>\n",
              "      \n",
              "  <style>\n",
              "    .colab-df-container {\n",
              "      display:flex;\n",
              "      flex-wrap:wrap;\n",
              "      gap: 12px;\n",
              "    }\n",
              "\n",
              "    .colab-df-convert {\n",
              "      background-color: #E8F0FE;\n",
              "      border: none;\n",
              "      border-radius: 50%;\n",
              "      cursor: pointer;\n",
              "      display: none;\n",
              "      fill: #1967D2;\n",
              "      height: 32px;\n",
              "      padding: 0 0 0 0;\n",
              "      width: 32px;\n",
              "    }\n",
              "\n",
              "    .colab-df-convert:hover {\n",
              "      background-color: #E2EBFA;\n",
              "      box-shadow: 0px 1px 2px rgba(60, 64, 67, 0.3), 0px 1px 3px 1px rgba(60, 64, 67, 0.15);\n",
              "      fill: #174EA6;\n",
              "    }\n",
              "\n",
              "    [theme=dark] .colab-df-convert {\n",
              "      background-color: #3B4455;\n",
              "      fill: #D2E3FC;\n",
              "    }\n",
              "\n",
              "    [theme=dark] .colab-df-convert:hover {\n",
              "      background-color: #434B5C;\n",
              "      box-shadow: 0px 1px 3px 1px rgba(0, 0, 0, 0.15);\n",
              "      filter: drop-shadow(0px 1px 2px rgba(0, 0, 0, 0.3));\n",
              "      fill: #FFFFFF;\n",
              "    }\n",
              "  </style>\n",
              "\n",
              "      <script>\n",
              "        const buttonEl =\n",
              "          document.querySelector('#df-92905552-f997-4083-8576-6a4462f610e1 button.colab-df-convert');\n",
              "        buttonEl.style.display =\n",
              "          google.colab.kernel.accessAllowed ? 'block' : 'none';\n",
              "\n",
              "        async function convertToInteractive(key) {\n",
              "          const element = document.querySelector('#df-92905552-f997-4083-8576-6a4462f610e1');\n",
              "          const dataTable =\n",
              "            await google.colab.kernel.invokeFunction('convertToInteractive',\n",
              "                                                     [key], {});\n",
              "          if (!dataTable) return;\n",
              "\n",
              "          const docLinkHtml = 'Like what you see? Visit the ' +\n",
              "            '<a target=\"_blank\" href=https://colab.research.google.com/notebooks/data_table.ipynb>data table notebook</a>'\n",
              "            + ' to learn more about interactive tables.';\n",
              "          element.innerHTML = '';\n",
              "          dataTable['output_type'] = 'display_data';\n",
              "          await google.colab.output.renderOutput(dataTable, element);\n",
              "          const docLink = document.createElement('div');\n",
              "          docLink.innerHTML = docLinkHtml;\n",
              "          element.appendChild(docLink);\n",
              "        }\n",
              "      </script>\n",
              "    </div>\n",
              "  </div>\n",
              "  "
            ]
          },
          "metadata": {},
          "execution_count": 82
        }
      ]
    },
    {
      "cell_type": "markdown",
      "source": [
        "Para entender un poco más, nos auxiliaremos de una librería para graficar datos geográficos. Esto nos ayudara a tener un mejor entendimiento de ellos.\n",
        "\n",
        "\n"
      ],
      "metadata": {
        "id": "hkPMyAyIDunz"
      }
    },
    {
      "cell_type": "code",
      "source": [
        "import geopandas as gpd\n",
        "import matplotlib.pyplot as plt\n",
        "import pandas as pd\n",
        "\n",
        "from shapely.geometry import Point\n",
        "\n",
        "%matplotlib inline\n",
        "# activate plot theme\n",
        "import qeds\n",
        "qeds.themes.mpl_style();"
      ],
      "metadata": {
        "id": "_blyM4esyJTu"
      },
      "execution_count": 83,
      "outputs": []
    },
    {
      "cell_type": "code",
      "source": [
        "df[\"Coordinates\"] = list(zip(df.longitude, df.latitude))\n",
        "df[\"Coordinates\"] = df[\"Coordinates\"].apply(Point)\n",
        "df.head()"
      ],
      "metadata": {
        "colab": {
          "base_uri": "https://localhost:8080/",
          "height": 206
        },
        "id": "01i0TciKfPco",
        "outputId": "bcb23ab9-813a-43aa-ce7d-2ab53500cc76"
      },
      "execution_count": 84,
      "outputs": [
        {
          "output_type": "execute_result",
          "data": {
            "text/plain": [
              "        name   latitude  longitude  \\\n",
              "0  Alabaster  33.224225 -86.804174   \n",
              "1   Bessemer  33.334550 -86.989778   \n",
              "2     Daphne  30.602875 -87.895932   \n",
              "3    Decatur  34.560148 -86.971559   \n",
              "4     Dothan  31.266061 -85.446422   \n",
              "\n",
              "                                             address         phone  \\\n",
              "0        250 S Colonial Dr, Alabaster, AL 35007-4657  205-564-2608   \n",
              "1       4889 Promenade Pkwy, Bessemer, AL 35022-7305  205-565-3760   \n",
              "2          1698 US Highway 98, Daphne, AL 36526-4252  251-621-3540   \n",
              "3  1235 Point Mallard Pkwy SE, Decatur, AL 35601-...  256-898-3036   \n",
              "4         4601 Montgomery Hwy, Dothan, AL 36303-1522  334-340-1112   \n",
              "\n",
              "                                    website  \\\n",
              "0  https://www.target.com/sl/alabaster/2276   \n",
              "1   https://www.target.com/sl/bessemer/2375   \n",
              "2     https://www.target.com/sl/daphne/1274   \n",
              "3    https://www.target.com/sl/decatur/2084   \n",
              "4     https://www.target.com/sl/dothan/1468   \n",
              "\n",
              "                             Coordinates  \n",
              "0  POINT (-86.80417369999999 33.2242254)  \n",
              "1  POINT (-86.98977789999999 33.3345501)  \n",
              "2  POINT (-87.89593169999999 30.6028747)  \n",
              "3         POINT (-86.9715595 34.5601477)  \n",
              "4         POINT (-85.4464222 31.2660613)  "
            ],
            "text/html": [
              "\n",
              "  <div id=\"df-d2834458-2784-4018-98cf-6a98ea6dd7ea\">\n",
              "    <div class=\"colab-df-container\">\n",
              "      <div>\n",
              "<style scoped>\n",
              "    .dataframe tbody tr th:only-of-type {\n",
              "        vertical-align: middle;\n",
              "    }\n",
              "\n",
              "    .dataframe tbody tr th {\n",
              "        vertical-align: top;\n",
              "    }\n",
              "\n",
              "    .dataframe thead th {\n",
              "        text-align: right;\n",
              "    }\n",
              "</style>\n",
              "<table border=\"1\" class=\"dataframe\">\n",
              "  <thead>\n",
              "    <tr style=\"text-align: right;\">\n",
              "      <th></th>\n",
              "      <th>name</th>\n",
              "      <th>latitude</th>\n",
              "      <th>longitude</th>\n",
              "      <th>address</th>\n",
              "      <th>phone</th>\n",
              "      <th>website</th>\n",
              "      <th>Coordinates</th>\n",
              "    </tr>\n",
              "  </thead>\n",
              "  <tbody>\n",
              "    <tr>\n",
              "      <th>0</th>\n",
              "      <td>Alabaster</td>\n",
              "      <td>33.224225</td>\n",
              "      <td>-86.804174</td>\n",
              "      <td>250 S Colonial Dr, Alabaster, AL 35007-4657</td>\n",
              "      <td>205-564-2608</td>\n",
              "      <td>https://www.target.com/sl/alabaster/2276</td>\n",
              "      <td>POINT (-86.80417369999999 33.2242254)</td>\n",
              "    </tr>\n",
              "    <tr>\n",
              "      <th>1</th>\n",
              "      <td>Bessemer</td>\n",
              "      <td>33.334550</td>\n",
              "      <td>-86.989778</td>\n",
              "      <td>4889 Promenade Pkwy, Bessemer, AL 35022-7305</td>\n",
              "      <td>205-565-3760</td>\n",
              "      <td>https://www.target.com/sl/bessemer/2375</td>\n",
              "      <td>POINT (-86.98977789999999 33.3345501)</td>\n",
              "    </tr>\n",
              "    <tr>\n",
              "      <th>2</th>\n",
              "      <td>Daphne</td>\n",
              "      <td>30.602875</td>\n",
              "      <td>-87.895932</td>\n",
              "      <td>1698 US Highway 98, Daphne, AL 36526-4252</td>\n",
              "      <td>251-621-3540</td>\n",
              "      <td>https://www.target.com/sl/daphne/1274</td>\n",
              "      <td>POINT (-87.89593169999999 30.6028747)</td>\n",
              "    </tr>\n",
              "    <tr>\n",
              "      <th>3</th>\n",
              "      <td>Decatur</td>\n",
              "      <td>34.560148</td>\n",
              "      <td>-86.971559</td>\n",
              "      <td>1235 Point Mallard Pkwy SE, Decatur, AL 35601-...</td>\n",
              "      <td>256-898-3036</td>\n",
              "      <td>https://www.target.com/sl/decatur/2084</td>\n",
              "      <td>POINT (-86.9715595 34.5601477)</td>\n",
              "    </tr>\n",
              "    <tr>\n",
              "      <th>4</th>\n",
              "      <td>Dothan</td>\n",
              "      <td>31.266061</td>\n",
              "      <td>-85.446422</td>\n",
              "      <td>4601 Montgomery Hwy, Dothan, AL 36303-1522</td>\n",
              "      <td>334-340-1112</td>\n",
              "      <td>https://www.target.com/sl/dothan/1468</td>\n",
              "      <td>POINT (-85.4464222 31.2660613)</td>\n",
              "    </tr>\n",
              "  </tbody>\n",
              "</table>\n",
              "</div>\n",
              "      <button class=\"colab-df-convert\" onclick=\"convertToInteractive('df-d2834458-2784-4018-98cf-6a98ea6dd7ea')\"\n",
              "              title=\"Convert this dataframe to an interactive table.\"\n",
              "              style=\"display:none;\">\n",
              "        \n",
              "  <svg xmlns=\"http://www.w3.org/2000/svg\" height=\"24px\"viewBox=\"0 0 24 24\"\n",
              "       width=\"24px\">\n",
              "    <path d=\"M0 0h24v24H0V0z\" fill=\"none\"/>\n",
              "    <path d=\"M18.56 5.44l.94 2.06.94-2.06 2.06-.94-2.06-.94-.94-2.06-.94 2.06-2.06.94zm-11 1L8.5 8.5l.94-2.06 2.06-.94-2.06-.94L8.5 2.5l-.94 2.06-2.06.94zm10 10l.94 2.06.94-2.06 2.06-.94-2.06-.94-.94-2.06-.94 2.06-2.06.94z\"/><path d=\"M17.41 7.96l-1.37-1.37c-.4-.4-.92-.59-1.43-.59-.52 0-1.04.2-1.43.59L10.3 9.45l-7.72 7.72c-.78.78-.78 2.05 0 2.83L4 21.41c.39.39.9.59 1.41.59.51 0 1.02-.2 1.41-.59l7.78-7.78 2.81-2.81c.8-.78.8-2.07 0-2.86zM5.41 20L4 18.59l7.72-7.72 1.47 1.35L5.41 20z\"/>\n",
              "  </svg>\n",
              "      </button>\n",
              "      \n",
              "  <style>\n",
              "    .colab-df-container {\n",
              "      display:flex;\n",
              "      flex-wrap:wrap;\n",
              "      gap: 12px;\n",
              "    }\n",
              "\n",
              "    .colab-df-convert {\n",
              "      background-color: #E8F0FE;\n",
              "      border: none;\n",
              "      border-radius: 50%;\n",
              "      cursor: pointer;\n",
              "      display: none;\n",
              "      fill: #1967D2;\n",
              "      height: 32px;\n",
              "      padding: 0 0 0 0;\n",
              "      width: 32px;\n",
              "    }\n",
              "\n",
              "    .colab-df-convert:hover {\n",
              "      background-color: #E2EBFA;\n",
              "      box-shadow: 0px 1px 2px rgba(60, 64, 67, 0.3), 0px 1px 3px 1px rgba(60, 64, 67, 0.15);\n",
              "      fill: #174EA6;\n",
              "    }\n",
              "\n",
              "    [theme=dark] .colab-df-convert {\n",
              "      background-color: #3B4455;\n",
              "      fill: #D2E3FC;\n",
              "    }\n",
              "\n",
              "    [theme=dark] .colab-df-convert:hover {\n",
              "      background-color: #434B5C;\n",
              "      box-shadow: 0px 1px 3px 1px rgba(0, 0, 0, 0.15);\n",
              "      filter: drop-shadow(0px 1px 2px rgba(0, 0, 0, 0.3));\n",
              "      fill: #FFFFFF;\n",
              "    }\n",
              "  </style>\n",
              "\n",
              "      <script>\n",
              "        const buttonEl =\n",
              "          document.querySelector('#df-d2834458-2784-4018-98cf-6a98ea6dd7ea button.colab-df-convert');\n",
              "        buttonEl.style.display =\n",
              "          google.colab.kernel.accessAllowed ? 'block' : 'none';\n",
              "\n",
              "        async function convertToInteractive(key) {\n",
              "          const element = document.querySelector('#df-d2834458-2784-4018-98cf-6a98ea6dd7ea');\n",
              "          const dataTable =\n",
              "            await google.colab.kernel.invokeFunction('convertToInteractive',\n",
              "                                                     [key], {});\n",
              "          if (!dataTable) return;\n",
              "\n",
              "          const docLinkHtml = 'Like what you see? Visit the ' +\n",
              "            '<a target=\"_blank\" href=https://colab.research.google.com/notebooks/data_table.ipynb>data table notebook</a>'\n",
              "            + ' to learn more about interactive tables.';\n",
              "          element.innerHTML = '';\n",
              "          dataTable['output_type'] = 'display_data';\n",
              "          await google.colab.output.renderOutput(dataTable, element);\n",
              "          const docLink = document.createElement('div');\n",
              "          docLink.innerHTML = docLinkHtml;\n",
              "          element.appendChild(docLink);\n",
              "        }\n",
              "      </script>\n",
              "    </div>\n",
              "  </div>\n",
              "  "
            ]
          },
          "metadata": {},
          "execution_count": 84
        }
      ]
    },
    {
      "cell_type": "code",
      "source": [
        "gdf = gpd.GeoDataFrame(df, geometry=\"Coordinates\")\n",
        "gdf.head()"
      ],
      "metadata": {
        "colab": {
          "base_uri": "https://localhost:8080/",
          "height": 206
        },
        "id": "SBTBrsvlfIU_",
        "outputId": "3ebcbfc5-e000-4e5c-a6cc-d745c4d0328f"
      },
      "execution_count": 85,
      "outputs": [
        {
          "output_type": "execute_result",
          "data": {
            "text/plain": [
              "        name   latitude  longitude  \\\n",
              "0  Alabaster  33.224225 -86.804174   \n",
              "1   Bessemer  33.334550 -86.989778   \n",
              "2     Daphne  30.602875 -87.895932   \n",
              "3    Decatur  34.560148 -86.971559   \n",
              "4     Dothan  31.266061 -85.446422   \n",
              "\n",
              "                                             address         phone  \\\n",
              "0        250 S Colonial Dr, Alabaster, AL 35007-4657  205-564-2608   \n",
              "1       4889 Promenade Pkwy, Bessemer, AL 35022-7305  205-565-3760   \n",
              "2          1698 US Highway 98, Daphne, AL 36526-4252  251-621-3540   \n",
              "3  1235 Point Mallard Pkwy SE, Decatur, AL 35601-...  256-898-3036   \n",
              "4         4601 Montgomery Hwy, Dothan, AL 36303-1522  334-340-1112   \n",
              "\n",
              "                                    website                 Coordinates  \n",
              "0  https://www.target.com/sl/alabaster/2276  POINT (-86.80417 33.22423)  \n",
              "1   https://www.target.com/sl/bessemer/2375  POINT (-86.98978 33.33455)  \n",
              "2     https://www.target.com/sl/daphne/1274  POINT (-87.89593 30.60287)  \n",
              "3    https://www.target.com/sl/decatur/2084  POINT (-86.97156 34.56015)  \n",
              "4     https://www.target.com/sl/dothan/1468  POINT (-85.44642 31.26606)  "
            ],
            "text/html": [
              "\n",
              "  <div id=\"df-0c9f4ccb-61de-4d9f-842d-7412daabae99\">\n",
              "    <div class=\"colab-df-container\">\n",
              "      <div>\n",
              "<style scoped>\n",
              "    .dataframe tbody tr th:only-of-type {\n",
              "        vertical-align: middle;\n",
              "    }\n",
              "\n",
              "    .dataframe tbody tr th {\n",
              "        vertical-align: top;\n",
              "    }\n",
              "\n",
              "    .dataframe thead th {\n",
              "        text-align: right;\n",
              "    }\n",
              "</style>\n",
              "<table border=\"1\" class=\"dataframe\">\n",
              "  <thead>\n",
              "    <tr style=\"text-align: right;\">\n",
              "      <th></th>\n",
              "      <th>name</th>\n",
              "      <th>latitude</th>\n",
              "      <th>longitude</th>\n",
              "      <th>address</th>\n",
              "      <th>phone</th>\n",
              "      <th>website</th>\n",
              "      <th>Coordinates</th>\n",
              "    </tr>\n",
              "  </thead>\n",
              "  <tbody>\n",
              "    <tr>\n",
              "      <th>0</th>\n",
              "      <td>Alabaster</td>\n",
              "      <td>33.224225</td>\n",
              "      <td>-86.804174</td>\n",
              "      <td>250 S Colonial Dr, Alabaster, AL 35007-4657</td>\n",
              "      <td>205-564-2608</td>\n",
              "      <td>https://www.target.com/sl/alabaster/2276</td>\n",
              "      <td>POINT (-86.80417 33.22423)</td>\n",
              "    </tr>\n",
              "    <tr>\n",
              "      <th>1</th>\n",
              "      <td>Bessemer</td>\n",
              "      <td>33.334550</td>\n",
              "      <td>-86.989778</td>\n",
              "      <td>4889 Promenade Pkwy, Bessemer, AL 35022-7305</td>\n",
              "      <td>205-565-3760</td>\n",
              "      <td>https://www.target.com/sl/bessemer/2375</td>\n",
              "      <td>POINT (-86.98978 33.33455)</td>\n",
              "    </tr>\n",
              "    <tr>\n",
              "      <th>2</th>\n",
              "      <td>Daphne</td>\n",
              "      <td>30.602875</td>\n",
              "      <td>-87.895932</td>\n",
              "      <td>1698 US Highway 98, Daphne, AL 36526-4252</td>\n",
              "      <td>251-621-3540</td>\n",
              "      <td>https://www.target.com/sl/daphne/1274</td>\n",
              "      <td>POINT (-87.89593 30.60287)</td>\n",
              "    </tr>\n",
              "    <tr>\n",
              "      <th>3</th>\n",
              "      <td>Decatur</td>\n",
              "      <td>34.560148</td>\n",
              "      <td>-86.971559</td>\n",
              "      <td>1235 Point Mallard Pkwy SE, Decatur, AL 35601-...</td>\n",
              "      <td>256-898-3036</td>\n",
              "      <td>https://www.target.com/sl/decatur/2084</td>\n",
              "      <td>POINT (-86.97156 34.56015)</td>\n",
              "    </tr>\n",
              "    <tr>\n",
              "      <th>4</th>\n",
              "      <td>Dothan</td>\n",
              "      <td>31.266061</td>\n",
              "      <td>-85.446422</td>\n",
              "      <td>4601 Montgomery Hwy, Dothan, AL 36303-1522</td>\n",
              "      <td>334-340-1112</td>\n",
              "      <td>https://www.target.com/sl/dothan/1468</td>\n",
              "      <td>POINT (-85.44642 31.26606)</td>\n",
              "    </tr>\n",
              "  </tbody>\n",
              "</table>\n",
              "</div>\n",
              "      <button class=\"colab-df-convert\" onclick=\"convertToInteractive('df-0c9f4ccb-61de-4d9f-842d-7412daabae99')\"\n",
              "              title=\"Convert this dataframe to an interactive table.\"\n",
              "              style=\"display:none;\">\n",
              "        \n",
              "  <svg xmlns=\"http://www.w3.org/2000/svg\" height=\"24px\"viewBox=\"0 0 24 24\"\n",
              "       width=\"24px\">\n",
              "    <path d=\"M0 0h24v24H0V0z\" fill=\"none\"/>\n",
              "    <path d=\"M18.56 5.44l.94 2.06.94-2.06 2.06-.94-2.06-.94-.94-2.06-.94 2.06-2.06.94zm-11 1L8.5 8.5l.94-2.06 2.06-.94-2.06-.94L8.5 2.5l-.94 2.06-2.06.94zm10 10l.94 2.06.94-2.06 2.06-.94-2.06-.94-.94-2.06-.94 2.06-2.06.94z\"/><path d=\"M17.41 7.96l-1.37-1.37c-.4-.4-.92-.59-1.43-.59-.52 0-1.04.2-1.43.59L10.3 9.45l-7.72 7.72c-.78.78-.78 2.05 0 2.83L4 21.41c.39.39.9.59 1.41.59.51 0 1.02-.2 1.41-.59l7.78-7.78 2.81-2.81c.8-.78.8-2.07 0-2.86zM5.41 20L4 18.59l7.72-7.72 1.47 1.35L5.41 20z\"/>\n",
              "  </svg>\n",
              "      </button>\n",
              "      \n",
              "  <style>\n",
              "    .colab-df-container {\n",
              "      display:flex;\n",
              "      flex-wrap:wrap;\n",
              "      gap: 12px;\n",
              "    }\n",
              "\n",
              "    .colab-df-convert {\n",
              "      background-color: #E8F0FE;\n",
              "      border: none;\n",
              "      border-radius: 50%;\n",
              "      cursor: pointer;\n",
              "      display: none;\n",
              "      fill: #1967D2;\n",
              "      height: 32px;\n",
              "      padding: 0 0 0 0;\n",
              "      width: 32px;\n",
              "    }\n",
              "\n",
              "    .colab-df-convert:hover {\n",
              "      background-color: #E2EBFA;\n",
              "      box-shadow: 0px 1px 2px rgba(60, 64, 67, 0.3), 0px 1px 3px 1px rgba(60, 64, 67, 0.15);\n",
              "      fill: #174EA6;\n",
              "    }\n",
              "\n",
              "    [theme=dark] .colab-df-convert {\n",
              "      background-color: #3B4455;\n",
              "      fill: #D2E3FC;\n",
              "    }\n",
              "\n",
              "    [theme=dark] .colab-df-convert:hover {\n",
              "      background-color: #434B5C;\n",
              "      box-shadow: 0px 1px 3px 1px rgba(0, 0, 0, 0.15);\n",
              "      filter: drop-shadow(0px 1px 2px rgba(0, 0, 0, 0.3));\n",
              "      fill: #FFFFFF;\n",
              "    }\n",
              "  </style>\n",
              "\n",
              "      <script>\n",
              "        const buttonEl =\n",
              "          document.querySelector('#df-0c9f4ccb-61de-4d9f-842d-7412daabae99 button.colab-df-convert');\n",
              "        buttonEl.style.display =\n",
              "          google.colab.kernel.accessAllowed ? 'block' : 'none';\n",
              "\n",
              "        async function convertToInteractive(key) {\n",
              "          const element = document.querySelector('#df-0c9f4ccb-61de-4d9f-842d-7412daabae99');\n",
              "          const dataTable =\n",
              "            await google.colab.kernel.invokeFunction('convertToInteractive',\n",
              "                                                     [key], {});\n",
              "          if (!dataTable) return;\n",
              "\n",
              "          const docLinkHtml = 'Like what you see? Visit the ' +\n",
              "            '<a target=\"_blank\" href=https://colab.research.google.com/notebooks/data_table.ipynb>data table notebook</a>'\n",
              "            + ' to learn more about interactive tables.';\n",
              "          element.innerHTML = '';\n",
              "          dataTable['output_type'] = 'display_data';\n",
              "          await google.colab.output.renderOutput(dataTable, element);\n",
              "          const docLink = document.createElement('div');\n",
              "          docLink.innerHTML = docLinkHtml;\n",
              "          element.appendChild(docLink);\n",
              "        }\n",
              "      </script>\n",
              "    </div>\n",
              "  </div>\n",
              "  "
            ]
          },
          "metadata": {},
          "execution_count": 85
        }
      ]
    },
    {
      "cell_type": "code",
      "source": [
        "#mapa\n",
        "\n",
        "world = gpd.read_file(gpd.datasets.get_path(\"naturalearth_lowres\"))\n",
        "world = world.set_index(\"iso_a3\")\n",
        "\n",
        "world.head()"
      ],
      "metadata": {
        "colab": {
          "base_uri": "https://localhost:8080/",
          "height": 238
        },
        "id": "wB6Jkrvbfef1",
        "outputId": "93ef6930-a5dc-4f1e-f8e1-7fb11d79aa94"
      },
      "execution_count": 86,
      "outputs": [
        {
          "output_type": "execute_result",
          "data": {
            "text/plain": [
              "          pop_est      continent                      name  gdp_md_est  \\\n",
              "iso_a3                                                                   \n",
              "FJI        920938        Oceania                      Fiji      8374.0   \n",
              "TZA      53950935         Africa                  Tanzania    150600.0   \n",
              "ESH        603253         Africa                 W. Sahara       906.5   \n",
              "CAN      35623680  North America                    Canada   1674000.0   \n",
              "USA     326625791  North America  United States of America  18560000.0   \n",
              "\n",
              "                                                 geometry  \n",
              "iso_a3                                                     \n",
              "FJI     MULTIPOLYGON (((180.00000 -16.06713, 180.00000...  \n",
              "TZA     POLYGON ((33.90371 -0.95000, 34.07262 -1.05982...  \n",
              "ESH     POLYGON ((-8.66559 27.65643, -8.66512 27.58948...  \n",
              "CAN     MULTIPOLYGON (((-122.84000 49.00000, -122.9742...  \n",
              "USA     MULTIPOLYGON (((-122.84000 49.00000, -120.0000...  "
            ],
            "text/html": [
              "\n",
              "  <div id=\"df-276d3de5-fae1-44fe-9ae1-f27706ad34eb\">\n",
              "    <div class=\"colab-df-container\">\n",
              "      <div>\n",
              "<style scoped>\n",
              "    .dataframe tbody tr th:only-of-type {\n",
              "        vertical-align: middle;\n",
              "    }\n",
              "\n",
              "    .dataframe tbody tr th {\n",
              "        vertical-align: top;\n",
              "    }\n",
              "\n",
              "    .dataframe thead th {\n",
              "        text-align: right;\n",
              "    }\n",
              "</style>\n",
              "<table border=\"1\" class=\"dataframe\">\n",
              "  <thead>\n",
              "    <tr style=\"text-align: right;\">\n",
              "      <th></th>\n",
              "      <th>pop_est</th>\n",
              "      <th>continent</th>\n",
              "      <th>name</th>\n",
              "      <th>gdp_md_est</th>\n",
              "      <th>geometry</th>\n",
              "    </tr>\n",
              "    <tr>\n",
              "      <th>iso_a3</th>\n",
              "      <th></th>\n",
              "      <th></th>\n",
              "      <th></th>\n",
              "      <th></th>\n",
              "      <th></th>\n",
              "    </tr>\n",
              "  </thead>\n",
              "  <tbody>\n",
              "    <tr>\n",
              "      <th>FJI</th>\n",
              "      <td>920938</td>\n",
              "      <td>Oceania</td>\n",
              "      <td>Fiji</td>\n",
              "      <td>8374.0</td>\n",
              "      <td>MULTIPOLYGON (((180.00000 -16.06713, 180.00000...</td>\n",
              "    </tr>\n",
              "    <tr>\n",
              "      <th>TZA</th>\n",
              "      <td>53950935</td>\n",
              "      <td>Africa</td>\n",
              "      <td>Tanzania</td>\n",
              "      <td>150600.0</td>\n",
              "      <td>POLYGON ((33.90371 -0.95000, 34.07262 -1.05982...</td>\n",
              "    </tr>\n",
              "    <tr>\n",
              "      <th>ESH</th>\n",
              "      <td>603253</td>\n",
              "      <td>Africa</td>\n",
              "      <td>W. Sahara</td>\n",
              "      <td>906.5</td>\n",
              "      <td>POLYGON ((-8.66559 27.65643, -8.66512 27.58948...</td>\n",
              "    </tr>\n",
              "    <tr>\n",
              "      <th>CAN</th>\n",
              "      <td>35623680</td>\n",
              "      <td>North America</td>\n",
              "      <td>Canada</td>\n",
              "      <td>1674000.0</td>\n",
              "      <td>MULTIPOLYGON (((-122.84000 49.00000, -122.9742...</td>\n",
              "    </tr>\n",
              "    <tr>\n",
              "      <th>USA</th>\n",
              "      <td>326625791</td>\n",
              "      <td>North America</td>\n",
              "      <td>United States of America</td>\n",
              "      <td>18560000.0</td>\n",
              "      <td>MULTIPOLYGON (((-122.84000 49.00000, -120.0000...</td>\n",
              "    </tr>\n",
              "  </tbody>\n",
              "</table>\n",
              "</div>\n",
              "      <button class=\"colab-df-convert\" onclick=\"convertToInteractive('df-276d3de5-fae1-44fe-9ae1-f27706ad34eb')\"\n",
              "              title=\"Convert this dataframe to an interactive table.\"\n",
              "              style=\"display:none;\">\n",
              "        \n",
              "  <svg xmlns=\"http://www.w3.org/2000/svg\" height=\"24px\"viewBox=\"0 0 24 24\"\n",
              "       width=\"24px\">\n",
              "    <path d=\"M0 0h24v24H0V0z\" fill=\"none\"/>\n",
              "    <path d=\"M18.56 5.44l.94 2.06.94-2.06 2.06-.94-2.06-.94-.94-2.06-.94 2.06-2.06.94zm-11 1L8.5 8.5l.94-2.06 2.06-.94-2.06-.94L8.5 2.5l-.94 2.06-2.06.94zm10 10l.94 2.06.94-2.06 2.06-.94-2.06-.94-.94-2.06-.94 2.06-2.06.94z\"/><path d=\"M17.41 7.96l-1.37-1.37c-.4-.4-.92-.59-1.43-.59-.52 0-1.04.2-1.43.59L10.3 9.45l-7.72 7.72c-.78.78-.78 2.05 0 2.83L4 21.41c.39.39.9.59 1.41.59.51 0 1.02-.2 1.41-.59l7.78-7.78 2.81-2.81c.8-.78.8-2.07 0-2.86zM5.41 20L4 18.59l7.72-7.72 1.47 1.35L5.41 20z\"/>\n",
              "  </svg>\n",
              "      </button>\n",
              "      \n",
              "  <style>\n",
              "    .colab-df-container {\n",
              "      display:flex;\n",
              "      flex-wrap:wrap;\n",
              "      gap: 12px;\n",
              "    }\n",
              "\n",
              "    .colab-df-convert {\n",
              "      background-color: #E8F0FE;\n",
              "      border: none;\n",
              "      border-radius: 50%;\n",
              "      cursor: pointer;\n",
              "      display: none;\n",
              "      fill: #1967D2;\n",
              "      height: 32px;\n",
              "      padding: 0 0 0 0;\n",
              "      width: 32px;\n",
              "    }\n",
              "\n",
              "    .colab-df-convert:hover {\n",
              "      background-color: #E2EBFA;\n",
              "      box-shadow: 0px 1px 2px rgba(60, 64, 67, 0.3), 0px 1px 3px 1px rgba(60, 64, 67, 0.15);\n",
              "      fill: #174EA6;\n",
              "    }\n",
              "\n",
              "    [theme=dark] .colab-df-convert {\n",
              "      background-color: #3B4455;\n",
              "      fill: #D2E3FC;\n",
              "    }\n",
              "\n",
              "    [theme=dark] .colab-df-convert:hover {\n",
              "      background-color: #434B5C;\n",
              "      box-shadow: 0px 1px 3px 1px rgba(0, 0, 0, 0.15);\n",
              "      filter: drop-shadow(0px 1px 2px rgba(0, 0, 0, 0.3));\n",
              "      fill: #FFFFFF;\n",
              "    }\n",
              "  </style>\n",
              "\n",
              "      <script>\n",
              "        const buttonEl =\n",
              "          document.querySelector('#df-276d3de5-fae1-44fe-9ae1-f27706ad34eb button.colab-df-convert');\n",
              "        buttonEl.style.display =\n",
              "          google.colab.kernel.accessAllowed ? 'block' : 'none';\n",
              "\n",
              "        async function convertToInteractive(key) {\n",
              "          const element = document.querySelector('#df-276d3de5-fae1-44fe-9ae1-f27706ad34eb');\n",
              "          const dataTable =\n",
              "            await google.colab.kernel.invokeFunction('convertToInteractive',\n",
              "                                                     [key], {});\n",
              "          if (!dataTable) return;\n",
              "\n",
              "          const docLinkHtml = 'Like what you see? Visit the ' +\n",
              "            '<a target=\"_blank\" href=https://colab.research.google.com/notebooks/data_table.ipynb>data table notebook</a>'\n",
              "            + ' to learn more about interactive tables.';\n",
              "          element.innerHTML = '';\n",
              "          dataTable['output_type'] = 'display_data';\n",
              "          await google.colab.output.renderOutput(dataTable, element);\n",
              "          const docLink = document.createElement('div');\n",
              "          docLink.innerHTML = docLinkHtml;\n",
              "          element.appendChild(docLink);\n",
              "        }\n",
              "      </script>\n",
              "    </div>\n",
              "  </div>\n",
              "  "
            ]
          },
          "metadata": {},
          "execution_count": 86
        }
      ]
    },
    {
      "cell_type": "code",
      "source": [
        "#graficar el mapa\n",
        "world.name.unique()"
      ],
      "metadata": {
        "colab": {
          "base_uri": "https://localhost:8080/"
        },
        "id": "0qkBCMSUflw_",
        "outputId": "6b8a5d6c-5a8b-449d-c701-29ebb227b7d4"
      },
      "execution_count": 87,
      "outputs": [
        {
          "output_type": "execute_result",
          "data": {
            "text/plain": [
              "array(['Fiji', 'Tanzania', 'W. Sahara', 'Canada',\n",
              "       'United States of America', 'Kazakhstan', 'Uzbekistan',\n",
              "       'Papua New Guinea', 'Indonesia', 'Argentina', 'Chile',\n",
              "       'Dem. Rep. Congo', 'Somalia', 'Kenya', 'Sudan', 'Chad', 'Haiti',\n",
              "       'Dominican Rep.', 'Russia', 'Bahamas', 'Falkland Is.', 'Norway',\n",
              "       'Greenland', 'Fr. S. Antarctic Lands', 'Timor-Leste',\n",
              "       'South Africa', 'Lesotho', 'Mexico', 'Uruguay', 'Brazil',\n",
              "       'Bolivia', 'Peru', 'Colombia', 'Panama', 'Costa Rica', 'Nicaragua',\n",
              "       'Honduras', 'El Salvador', 'Guatemala', 'Belize', 'Venezuela',\n",
              "       'Guyana', 'Suriname', 'France', 'Ecuador', 'Puerto Rico',\n",
              "       'Jamaica', 'Cuba', 'Zimbabwe', 'Botswana', 'Namibia', 'Senegal',\n",
              "       'Mali', 'Mauritania', 'Benin', 'Niger', 'Nigeria', 'Cameroon',\n",
              "       'Togo', 'Ghana', \"Côte d'Ivoire\", 'Guinea', 'Guinea-Bissau',\n",
              "       'Liberia', 'Sierra Leone', 'Burkina Faso', 'Central African Rep.',\n",
              "       'Congo', 'Gabon', 'Eq. Guinea', 'Zambia', 'Malawi', 'Mozambique',\n",
              "       'eSwatini', 'Angola', 'Burundi', 'Israel', 'Lebanon', 'Madagascar',\n",
              "       'Palestine', 'Gambia', 'Tunisia', 'Algeria', 'Jordan',\n",
              "       'United Arab Emirates', 'Qatar', 'Kuwait', 'Iraq', 'Oman',\n",
              "       'Vanuatu', 'Cambodia', 'Thailand', 'Laos', 'Myanmar', 'Vietnam',\n",
              "       'North Korea', 'South Korea', 'Mongolia', 'India', 'Bangladesh',\n",
              "       'Bhutan', 'Nepal', 'Pakistan', 'Afghanistan', 'Tajikistan',\n",
              "       'Kyrgyzstan', 'Turkmenistan', 'Iran', 'Syria', 'Armenia', 'Sweden',\n",
              "       'Belarus', 'Ukraine', 'Poland', 'Austria', 'Hungary', 'Moldova',\n",
              "       'Romania', 'Lithuania', 'Latvia', 'Estonia', 'Germany', 'Bulgaria',\n",
              "       'Greece', 'Turkey', 'Albania', 'Croatia', 'Switzerland',\n",
              "       'Luxembourg', 'Belgium', 'Netherlands', 'Portugal', 'Spain',\n",
              "       'Ireland', 'New Caledonia', 'Solomon Is.', 'New Zealand',\n",
              "       'Australia', 'Sri Lanka', 'China', 'Taiwan', 'Italy', 'Denmark',\n",
              "       'United Kingdom', 'Iceland', 'Azerbaijan', 'Georgia',\n",
              "       'Philippines', 'Malaysia', 'Brunei', 'Slovenia', 'Finland',\n",
              "       'Slovakia', 'Czechia', 'Eritrea', 'Japan', 'Paraguay', 'Yemen',\n",
              "       'Saudi Arabia', 'Antarctica', 'N. Cyprus', 'Cyprus', 'Morocco',\n",
              "       'Egypt', 'Libya', 'Ethiopia', 'Djibouti', 'Somaliland', 'Uganda',\n",
              "       'Rwanda', 'Bosnia and Herz.', 'Macedonia', 'Serbia', 'Montenegro',\n",
              "       'Kosovo', 'Trinidad and Tobago', 'S. Sudan'], dtype=object)"
            ]
          },
          "metadata": {},
          "execution_count": 87
        }
      ]
    },
    {
      "cell_type": "code",
      "source": [
        "fig, gax = plt.subplots(figsize=(10,10))\n",
        "\n",
        "# By only plotting rows in which the continent is 'South America' we only plot SA.\n",
        "world.query(\"name == 'United States of America'\").plot(ax=gax, edgecolor='black',color='white')\n",
        "\n",
        "# By the way, if you haven't read the book 'longitude' by Dava Sobel, you should...\n",
        "gax.set_xlabel('longitude')\n",
        "gax.set_ylabel('latitude')\n",
        "\n",
        "gax.spines['top'].set_visible(False)\n",
        "gax.spines['right'].set_visible(False)"
      ],
      "metadata": {
        "colab": {
          "base_uri": "https://localhost:8080/",
          "height": 476
        },
        "id": "swDogh7dfusl",
        "outputId": "333da353-d2dd-478e-e63d-2a10d224801f"
      },
      "execution_count": 88,
      "outputs": [
        {
          "output_type": "display_data",
          "data": {
            "text/plain": [
              "<Figure size 720x720 with 1 Axes>"
            ],
            "image/png": "[encoded data removed]"
          },
          "metadata": {}
        }
      ]
    },
    {
      "cell_type": "code",
      "source": [
        "# Step 3: Plot the cities onto the map\n",
        "# We mostly use the code from before --- we still want the country borders plotted --- and we\n",
        "# add a command to plot the cities\n",
        "fig, gax = plt.subplots(figsize=(10,10))\n",
        "\n",
        "# By only plotting rows in which the continent is 'South America' we only plot, well,\n",
        "# South America.\n",
        "world.query(\"name == 'United States of America'\").plot(ax = gax, edgecolor='black', color='white')\n",
        "\n",
        "# This plot the cities. It's the same syntax, but we are plotting from a different GeoDataFrame.\n",
        "# I want the cities as pale red dots.\n",
        "gdf.plot(ax=gax, color='red', alpha = 0.5)\n",
        "\n",
        "gax.set_xlabel('longitude')\n",
        "gax.set_ylabel('latitude')\n",
        "gax.set_title('Target en Estados Unidos')\n",
        "\n",
        "gax.spines['top'].set_visible(False)\n",
        "gax.spines['right'].set_visible(False)\n",
        "\n",
        "plt.show()"
      ],
      "metadata": {
        "colab": {
          "base_uri": "https://localhost:8080/",
          "height": 381
        },
        "id": "OR0ydTOvf_Xp",
        "outputId": "0ed6d00b-10e7-4d8f-be76-5963983ae4e8"
      },
      "execution_count": 89,
      "outputs": [
        {
          "output_type": "display_data",
          "data": {
            "text/plain": [
              "<Figure size 720x720 with 1 Axes>"
            ],
            "image/png": "[encoded data removed]"
          },
          "metadata": {}
        }
      ]
    },
    {
      "cell_type": "markdown",
      "source": [
        "¿qué tal ahora?, tiene mayor sentido verdad, entonces los datos lejanos no eran atípicos, de aquí la importancia de ver los datos con el tipo de gráfica correcta.\n",
        "\n",
        "Ahora sí, implementa K means a los datos de latitud y longitud :) y encuentra donde colocar los almacenes. \n",
        "\n",
        "Nota: si te llama la atención implementar alguna otra visualización con otra librería, lo puedes hacer, no hay restricciones."
      ],
      "metadata": {
        "id": "SMkonhsqfgSf"
      }
    },
    {
      "cell_type": "markdown",
      "source": [
        "#**Ejercicio 3**\n",
        "\n",
        "1. Encuentra el numero ideal de almacenes, justifica tu respuesta:\n",
        "\n"
      ],
      "metadata": {
        "id": "TeM183PrjrFW"
      }
    },
    {
      "cell_type": "markdown",
      "source": [
        ">¿Cómo elegiste el número de almacenes?, justifica tu respuesta técnicamente."
      ],
      "metadata": {
        "id": "hjboDKRykSqA"
      }
    },
    {
      "cell_type": "markdown",
      "source": [
        "Comenzaremos por graficar la curva de codo."
      ],
      "metadata": {
        "id": "zul9IVHVqKLP"
      }
    },
    {
      "cell_type": "code",
      "source": [
        "Nc = range(1, 10)\n",
        "kmeans = [KMeans(n_clusters=i) for i in Nc]\n",
        "kmeans\n",
        "score = [kmeans[i].fit(latlong).score(latlong) for i in range(len(kmeans))]\n",
        "score\n",
        "plt.plot(Nc,score)\n",
        "plt.xlabel('Number of Clusters')\n",
        "plt.ylabel('Score')\n",
        "plt.title('Elbow Curve')\n",
        "plt.show()\n"
      ],
      "metadata": {
        "id": "IfXq2ieSgD2e",
        "outputId": "5f13d6f9-215d-4b1b-abe4-c5145d603e65",
        "colab": {
          "base_uri": "https://localhost:8080/",
          "height": 319
        }
      },
      "execution_count": 90,
      "outputs": [
        {
          "output_type": "display_data",
          "data": {
            "text/plain": [
              "<Figure size 432x288 with 1 Axes>"
            ],
            "image/png": "[encoded data removed]"
          },
          "metadata": {}
        }
      ]
    },
    {
      "cell_type": "markdown",
      "source": [
        "**JUSTIFICACIÓN**\n",
        "\n",
        "Según la bibliografía cuando utilizamos Kmeans no hay una manera exacta de establecer el número correcto de clusters. No obstante, uno de los métodos más utilizados es la gráfica Elbow. Este método del codo se utiliza para determinar el número óptimo de clusters en el agrupamiento de k-means. En este sentido la gráfica del método muestra el valor de la función de costo producida por diferentes valores de k. En otras palabras traza la distancia media entre los puntos de datos y su centroide. En este sentido si k aumenta, la distancia media entre los puntos de datos y su centroid disinuye. En otras palabras, la distorsión promedio disminuirá pues cada grupo tendrá menos instancias y las instancias estarán más cerca de sus respectivos centroides.\n",
        "\n",
        "Sin embargo, como lo muestra la gráfica, las mejoras en la distorsión promedio disminuirán a medida que aumente k. El valor de k en el que la mejora en la distorsión disminuye más se denomina codo, en el que debemos dejar de dividir los datos en grupos adicionales. Es como el punto de inflexion de la gráfica.\n",
        "\n",
        "En nuestro caso en particular, K=3 representa el punto codo. Es decir, que cada vex que aumentemos K a un número mayor a 3, la gráfica crecera más lentamente. "
      ],
      "metadata": {
        "id": "Er04zkbCkWdL"
      }
    },
    {
      "cell_type": "markdown",
      "source": [
        "REREFENCIAS:\n",
        "\n",
        "Dangeti, P. (2022). Statistics for Machine Learning. O'Reilly Online Learning. Retrieved November 9, 2022, from https://www.oreilly.com/library/view/statistics-for-machine/9781788295758/c71ea970-0f3c-4973-8d3a-b09a7a6553c1.xhtml#:~:text=The%20elbow%20method%20is%20used,by%20different%20values%20of%20k \n",
        "\n",
        "NA. (2018, March 12). K-Means en Python paso a paso. Aprende Machine Learning. Retrieved November 9, 2022, from https://www.aprendemachinelearning.com/k-means-en-python-paso-a-paso/ "
      ],
      "metadata": {
        "id": "HfOR2RoVoK6E"
      }
    },
    {
      "cell_type": "markdown",
      "source": [
        "> Encuentra las latitudes y longitudes de los almacenes."
      ],
      "metadata": {
        "id": "dKab-a37j2p9"
      }
    },
    {
      "cell_type": "markdown",
      "source": [
        "Ya que sabemos la cantidad de clusters ideal. Realizamos Kmeans y obtenemos nuestros centroides. La ubicación de los centroides correspondera a la localización de nuestros almacenes. "
      ],
      "metadata": {
        "id": "UuS989dBo6uE"
      }
    },
    {
      "cell_type": "code",
      "source": [
        "kmeans = KMeans(n_clusters=3).fit(latlong)\n",
        "centroids = kmeans.cluster_centers_\n",
        "centroids = pd.DataFrame(centroids, columns=['latitude', 'longitude'])\n",
        "print(centroids)"
      ],
      "metadata": {
        "id": "CsO0vDglhT26",
        "outputId": "a5fc5876-a39b-419d-e1bc-0371ef57b680",
        "colab": {
          "base_uri": "https://localhost:8080/"
        }
      },
      "execution_count": 91,
      "outputs": [
        {
          "output_type": "stream",
          "name": "stdout",
          "text": [
            "    latitude   longitude\n",
            "0  37.789554  -78.569908\n",
            "1  37.487342 -118.624473\n",
            "2  37.980063  -93.327172\n"
          ]
        }
      ]
    },
    {
      "cell_type": "markdown",
      "source": [
        "A continuación gráficaremos nuestros almacenes y visualizaremos a cuales tiendas surtiran en USA. "
      ],
      "metadata": {
        "id": "HzTlZ8GypGsp"
      }
    },
    {
      "cell_type": "code",
      "source": [
        "labels = kmeans.predict(latlong)\n",
        "\n",
        "\n",
        "colores=['green','cyan','yellow']\n",
        "asignar=[]\n",
        "for row in labels:\n",
        "    asignar.append(colores[row])\n",
        " \n",
        "fig, ax= plt.subplots(figsize=(10,10))\n",
        "world.query(\"name == 'United States of America'\").plot(ax = ax, edgecolor='black', color='white') #utilizamos el grafico en forma de mapa.\n",
        "ax.scatter( latlong[\"longitude\"],latlong[\"latitude\"], c=asignar,s=20) # se dividiran las tiendas por colores de acuerdo al almacen que las surtira\n",
        "ax.scatter(centroids[\"longitude\"],centroids[\"latitude\"], marker='*', c='black', s=1000) #mostraremos los almacenes con una estrella"
      ],
      "metadata": {
        "id": "Y-TngWLQhdsC",
        "outputId": "8c3b8e8f-e4f3-48be-a4f2-7329e619a8df",
        "colab": {
          "base_uri": "https://localhost:8080/",
          "height": 471
        }
      },
      "execution_count": 92,
      "outputs": [
        {
          "output_type": "execute_result",
          "data": {
            "text/plain": [
              "<matplotlib.collections.PathCollection at 0x7ff5e6cf7150>"
            ]
          },
          "metadata": {},
          "execution_count": 92
        },
        {
          "output_type": "display_data",
          "data": {
            "text/plain": [
              "<Figure size 720x720 with 1 Axes>"
            ],
            "image/png": "[encoded data removed]"
          },
          "metadata": {}
        }
      ]
    },
    {
      "cell_type": "markdown",
      "source": [
        "Ahora utilizaremos una libreria que nos ayudara a convertir la longitud y latitud de nuestros centroides en una direccion con ciudad y estado. De esta manera, sabremos la ciudad en la que esta localizado cada almacen. "
      ],
      "metadata": {
        "id": "rgajlI29phll"
      }
    },
    {
      "cell_type": "code",
      "source": [
        "Centroid1= str(centroids['latitude'][0])+','+ str(centroids['longitude'][0]) #primero tenemos que convertir en string nuestros datos para que funcione \n",
        "Centroid2=str(centroids['latitude'][1])+','+ str(centroids['longitude'][1])\n",
        "Centroid3= str(centroids['latitude'][2])+','+ str(centroids['longitude'][2])"
      ],
      "metadata": {
        "id": "33hgJpS1xovx"
      },
      "execution_count": 93,
      "outputs": []
    },
    {
      "cell_type": "code",
      "source": [
        "from geopy.geocoders.yandex import Location\n",
        "from geopy.geocoders import Nominatim\n",
        "from geopy.distance import geodesic\n",
        "\n",
        "\n",
        "citylocator= Nominatim(user_agent='my-application')\n",
        "Centroids_loc=[Centroid1, Centroid2, Centroid3]\n",
        "\n",
        "for i in Centroids_loc:\n",
        "  location= citylocator.reverse(i)\n",
        "\n",
        "  print(location.address)"
      ],
      "metadata": {
        "id": "hDcXus5Kyzt4",
        "outputId": "96c8bee6-d3de-433f-fd91-3604df2dc147",
        "colab": {
          "base_uri": "https://localhost:8080/"
        }
      },
      "execution_count": 94,
      "outputs": [
        {
          "output_type": "stream",
          "name": "stdout",
          "text": [
            "Langhorne Road, Totier Hills, Albemarle County, Virginia, 22946, United States\n",
            "Paradise Estates, Mono County, California, United States\n",
            "Hickory County, Missouri, United States\n"
          ]
        }
      ]
    },
    {
      "cell_type": "markdown",
      "source": [
        "Ahora que sabemos en que lugar de USA estarán nuestros almacenes procederemos a revisar la cantidad de tiendas que surtiran cada uno."
      ],
      "metadata": {
        "id": "qyuss34WpzBK"
      }
    },
    {
      "cell_type": "code",
      "source": [
        "pd.Series.value_counts(labels) #esta funcion nos devuelve el numero de instancias en cada cluster"
      ],
      "metadata": {
        "id": "KdcvJeHzv84p",
        "outputId": "9adb01dd-3b9f-453c-c7fa-a362dd691e28",
        "colab": {
          "base_uri": "https://localhost:8080/"
        }
      },
      "execution_count": 95,
      "outputs": [
        {
          "output_type": "execute_result",
          "data": {
            "text/plain": [
              "0    826\n",
              "2    628\n",
              "1    385\n",
              "dtype: int64"
            ]
          },
          "metadata": {},
          "execution_count": 95
        }
      ]
    },
    {
      "cell_type": "markdown",
      "source": [
        ">¿qué ciudad es?, ¿a cuantas tiendas va surtir?, ¿sabes a que distancia estará?\n",
        "\n",
        "A continuación se muestra un resumen que responde todas las preguntas planteadas en el ejercicio 3"
      ],
      "metadata": {
        "id": "nWVQg2avkBtT"
      }
    },
    {
      "cell_type": "code",
      "source": [
        "Almacenes_Summary= pd.DataFrame()\n",
        "Almacenes_Summary['Almace_latitude']=centroids['latitude']\n",
        "Almacenes_Summary['Almace_logitude']=centroids['longitude']\n",
        "Almacenes_Summary['Almacen_Estado']= ['Virginia', 'Missouri', 'California']\n",
        "Almacenes_Summary['Tiendas_atentidas']=pd.Series.value_counts(labels)\n",
        "Almacenes_Summary"
      ],
      "metadata": {
        "id": "WH8c4Puk1bKx",
        "outputId": "e14ea8ff-637d-4c37-8da6-255241d5ada3",
        "colab": {
          "base_uri": "https://localhost:8080/",
          "height": 143
        }
      },
      "execution_count": 96,
      "outputs": [
        {
          "output_type": "execute_result",
          "data": {
            "text/plain": [
              "   Almace_latitude  Almace_logitude Almacen_Estado  Tiendas_atentidas\n",
              "0        37.789554       -78.569908       Virginia                826\n",
              "1        37.487342      -118.624473       Missouri                385\n",
              "2        37.980063       -93.327172     California                628"
            ],
            "text/html": [
              "\n",
              "  <div id=\"df-fdf970ee-de83-4a64-a515-681736dc1b3f\">\n",
              "    <div class=\"colab-df-container\">\n",
              "      <div>\n",
              "<style scoped>\n",
              "    .dataframe tbody tr th:only-of-type {\n",
              "        vertical-align: middle;\n",
              "    }\n",
              "\n",
              "    .dataframe tbody tr th {\n",
              "        vertical-align: top;\n",
              "    }\n",
              "\n",
              "    .dataframe thead th {\n",
              "        text-align: right;\n",
              "    }\n",
              "</style>\n",
              "<table border=\"1\" class=\"dataframe\">\n",
              "  <thead>\n",
              "    <tr style=\"text-align: right;\">\n",
              "      <th></th>\n",
              "      <th>Almace_latitude</th>\n",
              "      <th>Almace_logitude</th>\n",
              "      <th>Almacen_Estado</th>\n",
              "      <th>Tiendas_atentidas</th>\n",
              "    </tr>\n",
              "  </thead>\n",
              "  <tbody>\n",
              "    <tr>\n",
              "      <th>0</th>\n",
              "      <td>37.789554</td>\n",
              "      <td>-78.569908</td>\n",
              "      <td>Virginia</td>\n",
              "      <td>826</td>\n",
              "    </tr>\n",
              "    <tr>\n",
              "      <th>1</th>\n",
              "      <td>37.487342</td>\n",
              "      <td>-118.624473</td>\n",
              "      <td>Missouri</td>\n",
              "      <td>385</td>\n",
              "    </tr>\n",
              "    <tr>\n",
              "      <th>2</th>\n",
              "      <td>37.980063</td>\n",
              "      <td>-93.327172</td>\n",
              "      <td>California</td>\n",
              "      <td>628</td>\n",
              "    </tr>\n",
              "  </tbody>\n",
              "</table>\n",
              "</div>\n",
              "      <button class=\"colab-df-convert\" onclick=\"convertToInteractive('df-fdf970ee-de83-4a64-a515-681736dc1b3f')\"\n",
              "              title=\"Convert this dataframe to an interactive table.\"\n",
              "              style=\"display:none;\">\n",
              "        \n",
              "  <svg xmlns=\"http://www.w3.org/2000/svg\" height=\"24px\"viewBox=\"0 0 24 24\"\n",
              "       width=\"24px\">\n",
              "    <path d=\"M0 0h24v24H0V0z\" fill=\"none\"/>\n",
              "    <path d=\"M18.56 5.44l.94 2.06.94-2.06 2.06-.94-2.06-.94-.94-2.06-.94 2.06-2.06.94zm-11 1L8.5 8.5l.94-2.06 2.06-.94-2.06-.94L8.5 2.5l-.94 2.06-2.06.94zm10 10l.94 2.06.94-2.06 2.06-.94-2.06-.94-.94-2.06-.94 2.06-2.06.94z\"/><path d=\"M17.41 7.96l-1.37-1.37c-.4-.4-.92-.59-1.43-.59-.52 0-1.04.2-1.43.59L10.3 9.45l-7.72 7.72c-.78.78-.78 2.05 0 2.83L4 21.41c.39.39.9.59 1.41.59.51 0 1.02-.2 1.41-.59l7.78-7.78 2.81-2.81c.8-.78.8-2.07 0-2.86zM5.41 20L4 18.59l7.72-7.72 1.47 1.35L5.41 20z\"/>\n",
              "  </svg>\n",
              "      </button>\n",
              "      \n",
              "  <style>\n",
              "    .colab-df-container {\n",
              "      display:flex;\n",
              "      flex-wrap:wrap;\n",
              "      gap: 12px;\n",
              "    }\n",
              "\n",
              "    .colab-df-convert {\n",
              "      background-color: #E8F0FE;\n",
              "      border: none;\n",
              "      border-radius: 50%;\n",
              "      cursor: pointer;\n",
              "      display: none;\n",
              "      fill: #1967D2;\n",
              "      height: 32px;\n",
              "      padding: 0 0 0 0;\n",
              "      width: 32px;\n",
              "    }\n",
              "\n",
              "    .colab-df-convert:hover {\n",
              "      background-color: #E2EBFA;\n",
              "      box-shadow: 0px 1px 2px rgba(60, 64, 67, 0.3), 0px 1px 3px 1px rgba(60, 64, 67, 0.15);\n",
              "      fill: #174EA6;\n",
              "    }\n",
              "\n",
              "    [theme=dark] .colab-df-convert {\n",
              "      background-color: #3B4455;\n",
              "      fill: #D2E3FC;\n",
              "    }\n",
              "\n",
              "    [theme=dark] .colab-df-convert:hover {\n",
              "      background-color: #434B5C;\n",
              "      box-shadow: 0px 1px 3px 1px rgba(0, 0, 0, 0.15);\n",
              "      filter: drop-shadow(0px 1px 2px rgba(0, 0, 0, 0.3));\n",
              "      fill: #FFFFFF;\n",
              "    }\n",
              "  </style>\n",
              "\n",
              "      <script>\n",
              "        const buttonEl =\n",
              "          document.querySelector('#df-fdf970ee-de83-4a64-a515-681736dc1b3f button.colab-df-convert');\n",
              "        buttonEl.style.display =\n",
              "          google.colab.kernel.accessAllowed ? 'block' : 'none';\n",
              "\n",
              "        async function convertToInteractive(key) {\n",
              "          const element = document.querySelector('#df-fdf970ee-de83-4a64-a515-681736dc1b3f');\n",
              "          const dataTable =\n",
              "            await google.colab.kernel.invokeFunction('convertToInteractive',\n",
              "                                                     [key], {});\n",
              "          if (!dataTable) return;\n",
              "\n",
              "          const docLinkHtml = 'Like what you see? Visit the ' +\n",
              "            '<a target=\"_blank\" href=https://colab.research.google.com/notebooks/data_table.ipynb>data table notebook</a>'\n",
              "            + ' to learn more about interactive tables.';\n",
              "          element.innerHTML = '';\n",
              "          dataTable['output_type'] = 'display_data';\n",
              "          await google.colab.output.renderOutput(dataTable, element);\n",
              "          const docLink = document.createElement('div');\n",
              "          docLink.innerHTML = docLinkHtml;\n",
              "          element.appendChild(docLink);\n",
              "        }\n",
              "      </script>\n",
              "    </div>\n",
              "  </div>\n",
              "  "
            ]
          },
          "metadata": {},
          "execution_count": 96
        }
      ]
    },
    {
      "cell_type": "code",
      "source": [
        "distancia1= str(geodesic(Centroid1,Centroid2).miles)\n",
        "print('La distancia entre el almacen de Virginia a Missouri es de', distancia1, 'millas')\n",
        "distancia2= str(geodesic(Centroid2,Centroid3).miles)\n",
        "print('La distancia entre el almacen de Missouri a California es de', distancia2, 'millas')\n",
        "distancia3= str(geodesic(Centroid1,Centroid3).miles)\n",
        "print('La distancia entre el almacen de Virginia a California es de', distancia3, 'millas')"
      ],
      "metadata": {
        "id": "xqCUJvbQhvZP",
        "outputId": "9429bbab-49e4-4bb3-e6d0-d1520a6178ba",
        "colab": {
          "base_uri": "https://localhost:8080/"
        }
      },
      "execution_count": 97,
      "outputs": [
        {
          "output_type": "stream",
          "name": "stdout",
          "text": [
            "La distancia entre el almacen de Virginia a Missouri es de 2179.654449831999 millas\n",
            "La distancia entre el almacen de Missouri a California es de 1381.7597109962394 millas\n",
            "La distancia entre el almacen de Virginia a California es de 805.9209470497035 millas\n"
          ]
        }
      ]
    },
    {
      "cell_type": "markdown",
      "source": [
        "2. **Adicionalmente, en el notebook notaras que al inicio exploramos los datos y los graficamos de manera simple, después nos auxiliamos de una librería de datos geográficos.**\n",
        "\n",
        ">¿qué librerías nos pueden ayudar a graficar este tipo de datos?\n",
        "\n",
        "1. Geopy: Esta es la librería que se utilizo para traducir la longitud y latitud de nuestros centroides en Estados de EUA. El geocoding es el proceso computacional de transformar la descripción de una dirección física en una ubicación en la superficie de la Tierra. En este sentido, geopy es una librería altamente utilizada pare geocoding. En mi opinion, geopy realmente facilita geopy facilita utilizar las coordenadas de direcciones, ciudades, países y puntos de referencia para ubicarnos en el mundo geográfico. \n",
        "\n",
        "2. ipyleaflet: Esta es una librería de suma importancia pues nos permite crear mapas  interactivos en nuestro notebook. COn esta librearia se puede controlar una variedad de personalizaciones como cargar mapas base, geojson y widgets. También ofrece una amplia gama de tipos de mapas para elegir, incluyendo coropletas, datos de velocidad y vistas de lado a lado. Cómo hemos visto a lo largo de maestría, la manera en la que presentas y se vizualizan tus datos es de suma importancia por lo que poder crear mapas interactivos, en mi opinión, a porta bastante a la experiencia que el usuario puede tener con tu database. \n",
        "\n",
        "3. Geemap: Por lo que he leido de esta librería, su uso es un poco más específico que el resto. No obstante, esto la hace super útil. La carácteristica principla de Geemap es que está destinado más a la ciencia y el análisis de datos utilizando Google Earth Engine (GEE). Aunque tiene otras funciones, esta se usa específicamente para explorar el catálogo de múltiples petabytes de imágenes satelitales en GEE para sus aplicaciones y usos específicos con datos de detección remota. En mi opinión esto es super interesante y útil pues la detección remota de fenomenos por medio de satelites es sumamente importante para la toma de decisiones en situaciones de crisis, por ejemplo, en incendios forestales. \n",
        "\n",
        "> Consideras importante que se grafique en un mapa?, ¿por qué?\n",
        "\n",
        "Claro que existen situaciones donde graficar un mapa es clave. Como ya he mencionado, en la ciencia de datos no solo es importante la manera en la que limpias y procesas tu dataset, sino también la manera en la que se lo presentas al público. Si en este caso, estamos hablando de coordenadas en donde van a estar localizadas nuestras tiendas y almacenes, es muy probable que si presentamos esos números a nuestros stakeholders no les signifique mucho. Al final, son números cuyo significado es díficil de imagnar. Por el contrario, si con ayuda de Python y sus librerías, logramos convertir esa información en un mapa para obtener una mejor visualización de datos, entonces esto claramente ayudará a la toma de decisiones acertada. \n",
        "\n",
        ">Agrega las conclusiones\n",
        "\n",
        "Finalmente, después de realizar este ejercicio, podemos concluir que dentro del tipo de datos que podemos recibir por parte de un cliente o un socio se pueden encontrar datos geofráficos. Estos datos, incluso, pueden ser los más significativos para resolver un problema. En este sentido, es importante conocer que existen muchas liberías en python que nos ayudan a procesar, analizar y gráficar estos datos geográficor por medio de geocoding. Especificamente, en este ejercicio, fuimos capaces de localizar en un mapa todas las tiendas Target en Estados Unidos. Adicionalmente, por medio de K-means pudimos agrupar esas tiendas en cluster que compartieran un centroide de manera que la distancia a ese centrofuera la mínima efectiva. Gracias a la Elbow Curve fuimos capaces determinar que establecer tres clusters con 3 centroides era lo más efectivo. De esta mamera y utilziando geociding, determinamos el lugar donde estaráan estos almacenes, la distancia entre ellos y la cantidad de tiendas que atenderán. \n",
        "\n",
        "\n",
        "REFERENCIAS: \n",
        "\n",
        " Abdishakur (2019). Geocode with python. how to convert physical addresses to… | by ... TowardsDataScience. Retrieved November 9, 2022, from https://towardsdatascience.com/geocode-with-python-161ec1e62b89 \n",
        "\n",
        " Abdishakur (2020). IpyLeaflet: Interactive mapping in jupyter notebook. TowardsDataScience. Retrieved November 9, 2022, from https://towardsdatascience.com/ipyleaflet-interactive-mapping-in-jupyter-notebook-994f19611e79 \n",
        "\n",
        "Geopy (2022). Welcome to GeoPy's documentation!¶. Welcome to GeoPy's documentation! - GeoPy 2.2.0 documentation. Retrieved November 9, 2022, from https://geopy.readthedocs.io/en/stable/ \n",
        "\n",
        "GISGeography (2022, June 5). 15 python libraries for GIS and mapping. GIS Geography. Retrieved November 9, 2022, from https://gisgeography.com/python-libraries-gis-mapping/ \n",
        "\n"
      ],
      "metadata": {
        "id": "YLVoz05FqdEm"
      }
    }
  ]
}