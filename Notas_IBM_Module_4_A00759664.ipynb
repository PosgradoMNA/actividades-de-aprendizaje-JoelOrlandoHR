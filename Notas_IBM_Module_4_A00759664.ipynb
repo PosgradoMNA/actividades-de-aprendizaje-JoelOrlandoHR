{
  "nbformat": 4,
  "nbformat_minor": 0,
  "metadata": {
    "colab": {
      "provenance": [],
      "authorship_tag": "ABX9TyNhbj676UOHRNpple+WMe8k",
      "include_colab_link": true
    },
    "kernelspec": {
      "name": "python3",
      "display_name": "Python 3"
    },
    "language_info": {
      "name": "python"
    }
  },
  "cells": [
    {
      "cell_type": "markdown",
      "metadata": {
        "id": "view-in-github",
        "colab_type": "text"
      },
      "source": [
        "<a href=\"https://colab.research.google.com/github/PosgradoMNA/actividades-de-aprendizaje-JoelOrlandoHR/blob/main/Notas_IBM_Module_4_A00759664.ipynb\" target=\"_parent\"><img src=\"https://colab.research.google.com/assets/colab-badge.svg\" alt=\"Open In Colab\"/></a>"
      ]
    },
    {
      "cell_type": "markdown",
      "source": [
        "**FIRST VIDEO SUMMARY: READING FILES WITH OPEN**\n",
        "\n",
        "\n",
        "In python we can use the function \"open\" to get a file object. For example:<br>\n",
        "\n",
        "file1= open(\"nameofthefile.txt, w\") <br>\n",
        "where the function is open, then we have the path and finally w is the mode (w=writing).\n",
        "\n",
        "Attributes of the object file are .name, .mode. \n",
        "\n",
        "As for methods, we can use:\n",
        "\n",
        "*   .close() to close the file reading\n",
        "*   .readlines() to output every line as en element in a list. \n",
        "*   .read read the whole file. If inside the parenthesis we specify a number this number will print the corresponding amount of characters in the string. \n",
        "\n",
        "The with statemtent automatically closes the file when we stop coding inside the corresponding indexation to the statement. \n",
        "\n",
        "\n",
        "\n"
      ],
      "metadata": {
        "id": "3Ha-S_2ENFgV"
      }
    },
    {
      "cell_type": "code",
      "source": [
        "file1=open(\"/content/sample_data/README.md\")\n",
        "print(file1)\n",
        "\n",
        "file1.name\n",
        "file1.mode\n"
      ],
      "metadata": {
        "colab": {
          "base_uri": "https://localhost:8080/",
          "height": 53
        },
        "id": "YY-l8MXtPlV0",
        "outputId": "9a00a094-1ffe-4be1-c183-44a6f49717d8"
      },
      "execution_count": 8,
      "outputs": [
        {
          "output_type": "stream",
          "name": "stdout",
          "text": [
            "<_io.TextIOWrapper name='/content/sample_data/README.md' mode='r' encoding='UTF-8'>\n"
          ]
        },
        {
          "output_type": "execute_result",
          "data": {
            "text/plain": [
              "'r'"
            ],
            "application/vnd.google.colaboratory.intrinsic+json": {
              "type": "string"
            }
          },
          "metadata": {},
          "execution_count": 8
        }
      ]
    },
    {
      "cell_type": "markdown",
      "source": [
        "**IMPORTANT NOTES ON THE LAB FOR READING FILES WITH OPEN**"
      ],
      "metadata": {
        "id": "vckV5r9iTAlT"
      }
    },
    {
      "cell_type": "code",
      "source": [
        "##This cell should only be run once to download the example file from the lab.\n",
        "\n",
        "import urllib.request\n",
        "url = 'https://cf-courses-data.s3.us.cloud-object-storage.appdomain.cloud/IBMDeveloperSkillsNetwork-PY0101EN-SkillsNetwork/labs/Module%204/data/example1.txt'\n",
        "filename = 'Example1.txt'\n",
        "urllib.request.urlretrieve(url, filename)\n",
        "!wget -O /resources/data/Example1.txt  https://cf-courses-data.s3.us.cloud-object-storage.appdomain.cloud/IBMDeveloperSkillsNetwork-PY0101EN-SkillsNetwork/labs/Module%204/data/example1.txt"
      ],
      "metadata": {
        "id": "j7volx2OT0st"
      },
      "execution_count": null,
      "outputs": []
    },
    {
      "cell_type": "code",
      "source": [
        "example1 = \"Example1.txt\"\n",
        "file1 = open(example1, \"r\") #abrir el archivo #reading is the default mode for opening a file\n",
        "\n",
        "file1.name    #atributo del objeto file1 \n",
        "\n",
        "FileCnt = file1.read()  #read is a function that literally prints what is inside the file. In this case it also reads the blank spaces given by /n\n",
        "FileCnt"
      ],
      "metadata": {
        "colab": {
          "base_uri": "https://localhost:8080/",
          "height": 35
        },
        "id": "2zWKaqbeRL9Q",
        "outputId": "e4eccfc3-e72f-43c1-a3d1-b2e4802b21f2"
      },
      "execution_count": 49,
      "outputs": [
        {
          "output_type": "execute_result",
          "data": {
            "text/plain": [
              "'This is line 1 \\nThis is line 2\\nThis is line 3'"
            ],
            "application/vnd.google.colaboratory.intrinsic+json": {
              "type": "string"
            }
          },
          "metadata": {},
          "execution_count": 49
        }
      ]
    },
    {
      "cell_type": "code",
      "source": [
        "with open(example1, \"r\") as file1: # with statement automatically closes the file.\n",
        "    FileCnt = file1.read() #reads the whole file\n",
        "    print(FileCnt)\n",
        "\n",
        "with open(example1, \"r\") as file1:\n",
        "    print(file1.read(4)) #does not read the whole files but only four characters specified in the parenthesis\n",
        "    print(file1.readline(20)) # continue reading the next characters. However, because we are using readlines this will not read past the content of the line. \n",
        "    print(file1.read(20)) # Returns the next 20 chars. Read does prints beyond the line"
      ],
      "metadata": {
        "colab": {
          "base_uri": "https://localhost:8080/"
        },
        "id": "O0PHGwnLUaV5",
        "outputId": "090e1598-3f07-47c7-db64-aa2d00183fb6"
      },
      "execution_count": 51,
      "outputs": [
        {
          "output_type": "stream",
          "name": "stdout",
          "text": [
            "This is line 1 \n",
            "This is line 2\n",
            "This is line 3\n",
            "This\n",
            " is line 1 \n",
            "\n",
            "This is line 2\n",
            "This \n"
          ]
        }
      ]
    },
    {
      "cell_type": "markdown",
      "source": [
        "**SECOND VIDEO SUMMARY: WRITING FILES WITH OPEN**\n",
        "\n",
        "\n",
        "In python we can use the function \"write\" to get a write data into that file object. For example:<br>\n",
        "\n",
        "file1= open(\"nameofthefile.txt, w\") <br>\n",
        "where the function is open, then we have the path and finally w is the mode (w=writing). By specifing that we want the writing mode we imply to python that we want to create a file where we will be sending information to be stored. If there is a file in the path wiht the same name as the one you specified in your code this will re-written. \n",
        "\n",
        "file1.write('This is line A') will input the quoted text into the file we just created. \n",
        "\n",
        "file1= open(\"nameofthefile.txt, a\") <br>\n",
        "\n",
        "In this case, the only thing that we are changing is the mode to append. When we usi this mode it allows us to write over a existing file. \n",
        "\n",
        "Finally, it is imporatnt to mention that we can copy one file to a new file by using the readfile function.\n"
      ],
      "metadata": {
        "id": "RP_es948Woqf"
      }
    },
    {
      "cell_type": "markdown",
      "source": [
        "**IMPORTANT NOTES ON THE LAB FOR WRITING FILES WITH OPEN**"
      ],
      "metadata": {
        "id": "Ib-ayCHjadWB"
      }
    },
    {
      "cell_type": "code",
      "source": [
        "ejemplo2 = 'Example2.txt'\n",
        "with open(ejemplo2, 'w') as writefile:    #we create a file \n",
        "    writefile.write(\"This is line A\") #we write inside the file\n",
        "    \n",
        "    #print(writefile.read()) # is we try to execute this line we would get an error because the file is not readble. We would need to call it in \"r\" mode when opening.\n",
        "\n",
        "with open(ejemplo2, 'r') as readthewrittenfile: #here we open ejemplo2 as readable so therefore we can print its content. \n",
        "    print(readthewrittenfile.read())  \n",
        "\n",
        "\n"
      ],
      "metadata": {
        "colab": {
          "base_uri": "https://localhost:8080/"
        },
        "id": "MpkrTb5Hab9L",
        "outputId": "a9d01e76-dde2-4b67-ca4a-7ddd71565f4f"
      },
      "execution_count": 67,
      "outputs": [
        {
          "output_type": "stream",
          "name": "stdout",
          "text": [
            "This is line A\n"
          ]
        }
      ]
    },
    {
      "cell_type": "code",
      "source": [
        "#There are several ways we can add information to the file we can do it manually\n",
        "\n",
        "with open(ejemplo2, 'w') as writefile:\n",
        "    writefile.write(\"This is line A\\n\")\n",
        "    writefile.write(\"This is line B\\n\")\n",
        "\n",
        "# we can also use a list as an input. \n",
        "\n",
        "Lines = [\"This is line A\\n\", \"This is line B\\n\", \"This is line C\\n\"]\n",
        "with open('Example2.txt', 'w') as writefile:\n",
        "    for line in Lines:\n",
        "        print(line)\n",
        "        writefile.write(line)"
      ],
      "metadata": {
        "colab": {
          "base_uri": "https://localhost:8080/"
        },
        "id": "lX1W91cec9jd",
        "outputId": "94c4237a-c380-45e8-8d1f-c364b548cb8f"
      },
      "execution_count": 75,
      "outputs": [
        {
          "output_type": "stream",
          "name": "stdout",
          "text": [
            "This is line A\n",
            "\n",
            "This is line B\n",
            "\n",
            "This is line C\n",
            "\n"
          ]
        }
      ]
    },
    {
      "cell_type": "code",
      "source": [
        "#remember that every time we open a file an set it in w mode then we are overwritting it\n",
        "with open('Example2.txt', 'w') as writefile:\n",
        "    writefile.write(\"Overwrite\\n\")\n",
        "with open('Example2.txt', 'r') as testwritefile:\n",
        "    print(testwritefile.read())  #here you will notice that line a b c will be deleted and only the word Overwrite will appear."
      ],
      "metadata": {
        "colab": {
          "base_uri": "https://localhost:8080/"
        },
        "id": "s4c0-w1QdWXG",
        "outputId": "b9a4b269-658e-4b3d-a41f-5e2eb703dde9"
      },
      "execution_count": 76,
      "outputs": [
        {
          "output_type": "stream",
          "name": "stdout",
          "text": [
            "Overwrite\n",
            "\n"
          ]
        }
      ]
    },
    {
      "cell_type": "code",
      "source": [
        "with open('Example2.txt', 'a') as testwritefile:  # we cann add information to an existing file by using the append mode(a)\n",
        "    testwritefile.write(\"This is line C\\n\")\n",
        "    testwritefile.write(\"This is line D\\n\")\n",
        "    testwritefile.write(\"This is line E\\n\")\n",
        "with open('Example2.txt', 'r') as testwritefile:\n",
        "    print(testwritefile.read())"
      ],
      "metadata": {
        "colab": {
          "base_uri": "https://localhost:8080/"
        },
        "id": "o7_4do-Re-yE",
        "outputId": "0a78a8e2-e81e-4f20-c031-d2e92876b1f8"
      },
      "execution_count": 77,
      "outputs": [
        {
          "output_type": "stream",
          "name": "stdout",
          "text": [
            "Overwrite\n",
            "This is line C\n",
            "This is line D\n",
            "This is line E\n",
            "\n"
          ]
        }
      ]
    },
    {
      "cell_type": "markdown",
      "source": [
        "There are some extra modes that avoids us from opening and closing a file to change between read and write. (as we have been doing in our code)\n",
        "\n",
        "*  r+ : Reading and writing. Cannot truncate the file.\n",
        "\n",
        "*  w+ : Writing and reading. Truncates the file.\n",
        "\n",
        "*  a+ : Appending and Reading. Creates a new file, if none exists.\n",
        "\n",
        "When using the appending and reading mode you should know that the location in the file where the cursor is. Therefore, we should use . tell and . seek(offset, from). The first one returns the current position in bytes, while the second changes the position by 'offset' bytes with respect to 'from'.\n",
        "\n"
      ],
      "metadata": {
        "id": "WsyuQFxFfKm0"
      }
    },
    {
      "cell_type": "code",
      "source": [
        "with open('Example2.txt', 'a+') as testwritefile:\n",
        "    print(\"Initial Location: {}\".format(testwritefile.tell()))\n",
        "    \n",
        "    data = testwritefile.read()\n",
        "    if (not data):  #this condition returns false when there are empty strings\n",
        "            print('Read nothing') \n",
        "    else: \n",
        "            print(testwritefile.read())\n",
        "            \n",
        "    testwritefile.seek(0,0) # move 0 bytes from beginning.\n",
        "    \n",
        "    print(\"\\nNew Location : {}\".format(testwritefile.tell()))\n",
        "    data = testwritefile.read()\n",
        "    if (not data):   #this condition returns false when there are empty strings\n",
        "            print('Read nothing') \n",
        "    else: \n",
        "            print(data)\n",
        "    \n",
        "    print(\"Location after read: {}\".format(testwritefile.tell()) )"
      ],
      "metadata": {
        "colab": {
          "base_uri": "https://localhost:8080/"
        },
        "id": "_PeOmFcIhIi-",
        "outputId": "1b0c932f-fd76-45ce-957f-d82d54890303"
      },
      "execution_count": 78,
      "outputs": [
        {
          "output_type": "stream",
          "name": "stdout",
          "text": [
            "Initial Location: 55\n",
            "Read nothing\n",
            "\n",
            "New Location : 0\n",
            "Overwrite\n",
            "This is line C\n",
            "This is line D\n",
            "This is line E\n",
            "\n",
            "Location after read: 55\n"
          ]
        }
      ]
    },
    {
      "cell_type": "markdown",
      "source": [
        "The r+ and w+ have basically the same function. However, r+ does not tuncate the file. This means that if we are using r+ and we start writing the code from the beginning, when we finished we can have reamining strings from the previous version of the file. just as shown in the example below. "
      ],
      "metadata": {
        "id": "ZyvFSBbnjJ-c"
      }
    },
    {
      "cell_type": "code",
      "source": [
        "with open('Example2.txt', 'r+') as testwritefile:\n",
        "    data = testwritefile.readlines()\n",
        "    testwritefile.seek(0,0) \n",
        "   \n",
        "    testwritefile.write(\"Line 1\" + \"\\n\")\n",
        "    testwritefile.write(\"Line 2\" + \"\\n\")\n",
        "    testwritefile.write(\"Line 3\" + \"\\n\")\n",
        "    testwritefile.write(\"finished\\n\")\n",
        "    testwritefile.seek(0,0)\n",
        "    print(testwritefile.read())"
      ],
      "metadata": {
        "colab": {
          "base_uri": "https://localhost:8080/"
        },
        "id": "YfwpFssKiGSy",
        "outputId": "1c4fa042-7378-4ef8-fded-288782da991a"
      },
      "execution_count": 79,
      "outputs": [
        {
          "output_type": "stream",
          "name": "stdout",
          "text": [
            "Line 1\n",
            "Line 2\n",
            "Line 3\n",
            "finished\n",
            "is line D\n",
            "This is line E\n",
            "\n"
          ]
        }
      ]
    },
    {
      "cell_type": "markdown",
      "source": [
        "The difference with the code above is that here we are using the .truncate function. Therefore we will overwrite the file from the beginning and delete the rest from the previous version."
      ],
      "metadata": {
        "id": "jRL3ccs_jp2a"
      }
    },
    {
      "cell_type": "code",
      "source": [
        "with open('Example2.txt', 'r+') as testwritefile:\n",
        "    data = testwritefile.readlines()\n",
        "    testwritefile.seek(0,0) \n",
        "   \n",
        "    testwritefile.write(\"Line 1\" + \"\\n\")\n",
        "    testwritefile.write(\"Line 2\" + \"\\n\")\n",
        "    testwritefile.write(\"Line 3\" + \"\\n\")\n",
        "    testwritefile.write(\"finished\\n\")\n",
        "    testwritefile.truncate()\n",
        "    testwritefile.seek(0,0)\n",
        "    print(testwritefile.read())"
      ],
      "metadata": {
        "colab": {
          "base_uri": "https://localhost:8080/"
        },
        "id": "lO9sD_S_jArQ",
        "outputId": "2b8e6800-b6a9-4234-d2ae-d06743a70006"
      },
      "execution_count": 80,
      "outputs": [
        {
          "output_type": "stream",
          "name": "stdout",
          "text": [
            "Line 1\n",
            "Line 2\n",
            "Line 3\n",
            "finished\n",
            "\n"
          ]
        }
      ]
    },
    {
      "cell_type": "markdown",
      "source": [
        "Finally we can copy the text of one file from another by using the following loop."
      ],
      "metadata": {
        "id": "vwwnXsxFkIjP"
      }
    },
    {
      "cell_type": "code",
      "source": [
        "with open('Example2.txt','r') as readfile:\n",
        "    with open('Example3.txt','w') as writefile:\n",
        "          for line in readfile:\n",
        "                writefile.write(line)\n",
        "\n",
        "with open('Example3.txt','r') as testwritefile:\n",
        "    print(testwritefile.read())\n"
      ],
      "metadata": {
        "colab": {
          "base_uri": "https://localhost:8080/"
        },
        "id": "mJtIB2d5kDF-",
        "outputId": "12458c2d-7d36-48b9-a4f5-87795339a1d6"
      },
      "execution_count": 81,
      "outputs": [
        {
          "output_type": "stream",
          "name": "stdout",
          "text": [
            "Line 1\n",
            "Line 2\n",
            "Line 3\n",
            "finished\n",
            "\n"
          ]
        }
      ]
    },
    {
      "cell_type": "markdown",
      "source": [
        "**LAB EXERCISE FOR THE WRITING FILES WITH OPEN FUNCTION**\n",
        "\n",
        "Your local university's Raptors fan club maintains a register of its active members on a .txt document. Every month they update the file by removing the members who are not active. You have been tasked with automating this with your Python skills.<br>\n",
        "Given the file currentMem, Remove each member with a 'no' in their Active column. Keep track of each of the removed members and append them to the exMem file. Make sure that the format of the original files is preserved. (Hint: Do this by reading/writing whole lines and ensuring the header remains )<br>\n",
        "Run the code block below prior to starting the exercise. The skeleton code has been provided for you. Edit only the cleanFiles function.<br>"
      ],
      "metadata": {
        "id": "XmkVU9wRkofS"
      }
    },
    {
      "cell_type": "code",
      "source": [
        "#Run this prior to starting the exercise. This was copy pasted from the lab as it was indicated that way by the exercise. Is a pre-requisite.\n",
        "from random import randint as rnd\n",
        "\n",
        "memReg = 'members.txt'\n",
        "exReg = 'inactive.txt'\n",
        "fee =('yes','no')\n",
        "\n",
        "def genFiles(current,old):\n",
        "    with open(current,'w+') as writefile: \n",
        "        writefile.write('Membership No  Date Joined  Active  \\n')\n",
        "        data = \"{:^13}  {:<11}  {:<6}\\n\"\n",
        "\n",
        "        for rowno in range(20):\n",
        "            date = str(rnd(2015,2020))+ '-' + str(rnd(1,12))+'-'+str(rnd(1,25))\n",
        "            writefile.write(data.format(rnd(10000,99999),date,fee[rnd(0,1)]))\n",
        "\n",
        "\n",
        "    with open(old,'w+') as writefile: \n",
        "        writefile.write('Membership No  Date Joined  Active  \\n')\n",
        "        data = \"{:^13}  {:<11}  {:<6}\\n\"\n",
        "        for rowno in range(3):\n",
        "            date = str(rnd(2015,2020))+ '-' + str(rnd(1,12))+'-'+str(rnd(1,25))\n",
        "            writefile.write(data.format(rnd(10000,99999),date,fee[1]))\n",
        "\n",
        "\n",
        "genFiles(memReg,exReg)\n"
      ],
      "metadata": {
        "id": "_xaQIA6Tkypa"
      },
      "execution_count": 85,
      "outputs": []
    },
    {
      "cell_type": "code",
      "source": [
        "def cleanFiles(currentMem, exMem):\n",
        "  with open(currentMem, 'r+') as writefile:\n",
        "    with open(exMem, 'a+') as appendfile:\n",
        "      writefile.seek(0)\n",
        "      members=writefile.readlines()\n",
        "      header= members.pop(0) #this will remove the header from the list and also will save the headers in the variable for later use.\n",
        "\n",
        "      inactive=[] #we create a variable were we will store the inactive members\n",
        "      for active_members in members:\n",
        "        if 'no' in active_members:\n",
        "          inactive.append(active_members)\n",
        "     \n",
        "      writefile.seek(0) \n",
        "      writefile.write(header)  #we re state the header. \n",
        "      for member in members:\n",
        "        if (member in inactive):\n",
        "            appendfile.write(member)  #we add all the new exmembers into the file\n",
        "        else:\n",
        "            writefile.write(member)   #we leave the rest in the active members file \n",
        "      writefile.truncate()  # we truncate because we are using r+ function\n",
        "\n",
        "\n",
        "# The code below is to help you view the files.\n",
        "# Do not modify this code for this exercise.\n",
        "memReg = 'members.txt'\n",
        "exReg = 'inactive.txt'\n",
        "cleanFiles(memReg,exReg)\n",
        "\n",
        "\n",
        "headers = \"Membership No  Date Joined  Active  \\n\"\n",
        "with open(memReg,'r') as readFile:\n",
        "    print(\"Active Members: \\n\\n\")\n",
        "    print(readFile.read())\n",
        "    \n",
        "with open(exReg,'r') as readFile:\n",
        "    print(\"Inactive Members: \\n\\n\")\n",
        "    print(readFile.read())\n",
        "                "
      ],
      "metadata": {
        "colab": {
          "base_uri": "https://localhost:8080/"
        },
        "id": "KqaKFJ9glLAE",
        "outputId": "68137d10-88d5-4781-d0ed-6bd4682b9bd8"
      },
      "execution_count": 96,
      "outputs": [
        {
          "output_type": "stream",
          "name": "stdout",
          "text": [
            "Active Members: \n",
            "\n",
            "\n",
            "Membership No  Date Joined  Active  \n",
            "    33438      2017-10-15   yes   \n",
            "    45279      2018-8-19    yes   \n",
            "    95798      2019-8-9     yes   \n",
            "    75424      2016-2-22    yes   \n",
            "    11276      2019-6-24    yes   \n",
            "    12471      2017-2-16    yes   \n",
            "    93398      2015-4-19    yes   \n",
            "\n",
            "Inactive Members: \n",
            "\n",
            "\n",
            "Membership No  Date Joined  Active  \n",
            "    50893      2017-3-18    no    \n",
            "    79385      2019-5-21    no    \n",
            "    20151      2019-1-24    no    \n",
            "    54759      2015-3-5     no    \n",
            "    59298      2020-3-5     no    \n",
            "    79933      2018-4-24    no    \n",
            "    90010      2015-5-15    no    \n",
            "    14738      2020-6-4     no    \n",
            "    96768      2017-9-17    no    \n",
            "    21710      2019-10-8    no    \n",
            "    69408      2020-4-24    no    \n",
            "    82132      2020-9-22    no    \n",
            "    88344      2017-8-25    no    \n",
            "    42931      2017-10-21   no    \n",
            "    76496      2015-12-24   no    \n",
            "    37688      2017-4-4     no    \n",
            "\n"
          ]
        }
      ]
    },
    {
      "cell_type": "markdown",
      "source": [
        "**THIRD VIDEO SUMMARY: LOADING DATA WITH PANDAS**\n",
        "\n",
        "Dependancies or libraries are pre-written code to help solve problems. Panda is one of the most commons.\n",
        "\n",
        "We acces to panda by using the following code: import pandas. <br>\n",
        "\n",
        "With this lineof code we have access to all its classes and functions assuming that the library is already installed in our python environment.\n",
        "\n",
        "By using the \"as\" statement we can shorten pandas to pd. This way we dont have to write pandas everytime we want to use a function from the library. \n",
        "\n",
        "The .read_csv is a function that allows you to read a .csv file. \n",
        "\n",
        "We can create dataframes by importing files like. csv or excel files. However we can also create dataframse our of dictionaires where the kers correspond to the column labels and the values are lists corresponding to the rows. Other way o seeing it is that the keys are the headers and the values are the rows.  \n",
        "\n",
        "We can extract a portion of a dataframe by casting the name of the header. \n",
        "\n",
        "newdataframe=['columnheadername']\n",
        "\n",
        "You can access individual items in a data frame by using the .ix method. In the coordinates of this function the first index refers to the row and the second to the column. You can use this coordinates to slice your dateframes. \n"
      ],
      "metadata": {
        "id": "ZpzPXINxsELC"
      }
    },
    {
      "cell_type": "markdown",
      "source": [
        "**SOLVING THE QUESTIONS BELOW THE VIDEO**\n",
        "\n",
        "QUESTION 1\n",
        "\n",
        "Consider the dataframe df. How would you find the element in the second row and first column?"
      ],
      "metadata": {
        "id": "T9Qj5VSzvapr"
      }
    },
    {
      "cell_type": "code",
      "source": [
        "import pandas as pd\n",
        "\n",
        "df= pd.DataFrame({'a':[11,21,31],'b':[21,22,23]})\n",
        "\n",
        "df.head()\n",
        "\n",
        "df.iloc[1,0]"
      ],
      "metadata": {
        "colab": {
          "base_uri": "https://localhost:8080/"
        },
        "id": "HmYQOAspvaMk",
        "outputId": "6d437411-fbb9-4c13-ee3b-1e82c91dc2da"
      },
      "execution_count": 109,
      "outputs": [
        {
          "output_type": "execute_result",
          "data": {
            "text/plain": [
              "21"
            ]
          },
          "metadata": {},
          "execution_count": 109
        }
      ]
    },
    {
      "cell_type": "markdown",
      "source": [
        "QUESTION 2\n",
        "\n",
        "Will the following code run?\n"
      ],
      "metadata": {
        "id": "X3M9M2x8xOr4"
      }
    },
    {
      "cell_type": "code",
      "source": [
        "import pandas as banana\n",
        "\n",
        "df=banana.DataFrame({'a':[11,21,31],'b':[21,22,23]})\n",
        "\n",
        "df.head()"
      ],
      "metadata": {
        "colab": {
          "base_uri": "https://localhost:8080/",
          "height": 143
        },
        "id": "NRv7sweKusvQ",
        "outputId": "3a477e48-9fb8-4616-b616-e538d70b50d9"
      },
      "execution_count": 110,
      "outputs": [
        {
          "output_type": "execute_result",
          "data": {
            "text/plain": [
              "    a   b\n",
              "0  11  21\n",
              "1  21  22\n",
              "2  31  23"
            ],
            "text/html": [
              "\n",
              "  <div id=\"df-7002f365-f44c-4869-bc9e-2c0f460f08b9\">\n",
              "    <div class=\"colab-df-container\">\n",
              "      <div>\n",
              "<style scoped>\n",
              "    .dataframe tbody tr th:only-of-type {\n",
              "        vertical-align: middle;\n",
              "    }\n",
              "\n",
              "    .dataframe tbody tr th {\n",
              "        vertical-align: top;\n",
              "    }\n",
              "\n",
              "    .dataframe thead th {\n",
              "        text-align: right;\n",
              "    }\n",
              "</style>\n",
              "<table border=\"1\" class=\"dataframe\">\n",
              "  <thead>\n",
              "    <tr style=\"text-align: right;\">\n",
              "      <th></th>\n",
              "      <th>a</th>\n",
              "      <th>b</th>\n",
              "    </tr>\n",
              "  </thead>\n",
              "  <tbody>\n",
              "    <tr>\n",
              "      <th>0</th>\n",
              "      <td>11</td>\n",
              "      <td>21</td>\n",
              "    </tr>\n",
              "    <tr>\n",
              "      <th>1</th>\n",
              "      <td>21</td>\n",
              "      <td>22</td>\n",
              "    </tr>\n",
              "    <tr>\n",
              "      <th>2</th>\n",
              "      <td>31</td>\n",
              "      <td>23</td>\n",
              "    </tr>\n",
              "  </tbody>\n",
              "</table>\n",
              "</div>\n",
              "      <button class=\"colab-df-convert\" onclick=\"convertToInteractive('df-7002f365-f44c-4869-bc9e-2c0f460f08b9')\"\n",
              "              title=\"Convert this dataframe to an interactive table.\"\n",
              "              style=\"display:none;\">\n",
              "        \n",
              "  <svg xmlns=\"http://www.w3.org/2000/svg\" height=\"24px\"viewBox=\"0 0 24 24\"\n",
              "       width=\"24px\">\n",
              "    <path d=\"M0 0h24v24H0V0z\" fill=\"none\"/>\n",
              "    <path d=\"M18.56 5.44l.94 2.06.94-2.06 2.06-.94-2.06-.94-.94-2.06-.94 2.06-2.06.94zm-11 1L8.5 8.5l.94-2.06 2.06-.94-2.06-.94L8.5 2.5l-.94 2.06-2.06.94zm10 10l.94 2.06.94-2.06 2.06-.94-2.06-.94-.94-2.06-.94 2.06-2.06.94z\"/><path d=\"M17.41 7.96l-1.37-1.37c-.4-.4-.92-.59-1.43-.59-.52 0-1.04.2-1.43.59L10.3 9.45l-7.72 7.72c-.78.78-.78 2.05 0 2.83L4 21.41c.39.39.9.59 1.41.59.51 0 1.02-.2 1.41-.59l7.78-7.78 2.81-2.81c.8-.78.8-2.07 0-2.86zM5.41 20L4 18.59l7.72-7.72 1.47 1.35L5.41 20z\"/>\n",
              "  </svg>\n",
              "      </button>\n",
              "      \n",
              "  <style>\n",
              "    .colab-df-container {\n",
              "      display:flex;\n",
              "      flex-wrap:wrap;\n",
              "      gap: 12px;\n",
              "    }\n",
              "\n",
              "    .colab-df-convert {\n",
              "      background-color: #E8F0FE;\n",
              "      border: none;\n",
              "      border-radius: 50%;\n",
              "      cursor: pointer;\n",
              "      display: none;\n",
              "      fill: #1967D2;\n",
              "      height: 32px;\n",
              "      padding: 0 0 0 0;\n",
              "      width: 32px;\n",
              "    }\n",
              "\n",
              "    .colab-df-convert:hover {\n",
              "      background-color: #E2EBFA;\n",
              "      box-shadow: 0px 1px 2px rgba(60, 64, 67, 0.3), 0px 1px 3px 1px rgba(60, 64, 67, 0.15);\n",
              "      fill: #174EA6;\n",
              "    }\n",
              "\n",
              "    [theme=dark] .colab-df-convert {\n",
              "      background-color: #3B4455;\n",
              "      fill: #D2E3FC;\n",
              "    }\n",
              "\n",
              "    [theme=dark] .colab-df-convert:hover {\n",
              "      background-color: #434B5C;\n",
              "      box-shadow: 0px 1px 3px 1px rgba(0, 0, 0, 0.15);\n",
              "      filter: drop-shadow(0px 1px 2px rgba(0, 0, 0, 0.3));\n",
              "      fill: #FFFFFF;\n",
              "    }\n",
              "  </style>\n",
              "\n",
              "      <script>\n",
              "        const buttonEl =\n",
              "          document.querySelector('#df-7002f365-f44c-4869-bc9e-2c0f460f08b9 button.colab-df-convert');\n",
              "        buttonEl.style.display =\n",
              "          google.colab.kernel.accessAllowed ? 'block' : 'none';\n",
              "\n",
              "        async function convertToInteractive(key) {\n",
              "          const element = document.querySelector('#df-7002f365-f44c-4869-bc9e-2c0f460f08b9');\n",
              "          const dataTable =\n",
              "            await google.colab.kernel.invokeFunction('convertToInteractive',\n",
              "                                                     [key], {});\n",
              "          if (!dataTable) return;\n",
              "\n",
              "          const docLinkHtml = 'Like what you see? Visit the ' +\n",
              "            '<a target=\"_blank\" href=https://colab.research.google.com/notebooks/data_table.ipynb>data table notebook</a>'\n",
              "            + ' to learn more about interactive tables.';\n",
              "          element.innerHTML = '';\n",
              "          dataTable['output_type'] = 'display_data';\n",
              "          await google.colab.output.renderOutput(dataTable, element);\n",
              "          const docLink = document.createElement('div');\n",
              "          docLink.innerHTML = docLinkHtml;\n",
              "          element.appendChild(docLink);\n",
              "        }\n",
              "      </script>\n",
              "    </div>\n",
              "  </div>\n",
              "  "
            ]
          },
          "metadata": {},
          "execution_count": 110
        }
      ]
    },
    {
      "cell_type": "markdown",
      "source": [
        "**LAB FOR LOADING DATA WITH PANDAS**\n",
        "\n"
      ],
      "metadata": {
        "id": "Y9D7blTAyCIQ"
      }
    },
    {
      "cell_type": "code",
      "source": [
        "import pandas as pd\n",
        "\n",
        "df=pd.DataFrame({'a':[11,21,31],'b':[21,22,23]})\n",
        "\n",
        "#Display the first 3 rows:\n",
        "\n",
        "df.head(3)\n",
        "\n",
        "\n",
        "\n"
      ],
      "metadata": {
        "colab": {
          "base_uri": "https://localhost:8080/",
          "height": 143
        },
        "id": "24exNts9ySN2",
        "outputId": "678b58ae-5d45-4171-c127-bbceb184b509"
      },
      "execution_count": 112,
      "outputs": [
        {
          "output_type": "execute_result",
          "data": {
            "text/plain": [
              "    a   b\n",
              "0  11  21\n",
              "1  21  22\n",
              "2  31  23"
            ],
            "text/html": [
              "\n",
              "  <div id=\"df-a8438c67-c220-4a69-a168-e6d7a26bd9e6\">\n",
              "    <div class=\"colab-df-container\">\n",
              "      <div>\n",
              "<style scoped>\n",
              "    .dataframe tbody tr th:only-of-type {\n",
              "        vertical-align: middle;\n",
              "    }\n",
              "\n",
              "    .dataframe tbody tr th {\n",
              "        vertical-align: top;\n",
              "    }\n",
              "\n",
              "    .dataframe thead th {\n",
              "        text-align: right;\n",
              "    }\n",
              "</style>\n",
              "<table border=\"1\" class=\"dataframe\">\n",
              "  <thead>\n",
              "    <tr style=\"text-align: right;\">\n",
              "      <th></th>\n",
              "      <th>a</th>\n",
              "      <th>b</th>\n",
              "    </tr>\n",
              "  </thead>\n",
              "  <tbody>\n",
              "    <tr>\n",
              "      <th>0</th>\n",
              "      <td>11</td>\n",
              "      <td>21</td>\n",
              "    </tr>\n",
              "    <tr>\n",
              "      <th>1</th>\n",
              "      <td>21</td>\n",
              "      <td>22</td>\n",
              "    </tr>\n",
              "    <tr>\n",
              "      <th>2</th>\n",
              "      <td>31</td>\n",
              "      <td>23</td>\n",
              "    </tr>\n",
              "  </tbody>\n",
              "</table>\n",
              "</div>\n",
              "      <button class=\"colab-df-convert\" onclick=\"convertToInteractive('df-a8438c67-c220-4a69-a168-e6d7a26bd9e6')\"\n",
              "              title=\"Convert this dataframe to an interactive table.\"\n",
              "              style=\"display:none;\">\n",
              "        \n",
              "  <svg xmlns=\"http://www.w3.org/2000/svg\" height=\"24px\"viewBox=\"0 0 24 24\"\n",
              "       width=\"24px\">\n",
              "    <path d=\"M0 0h24v24H0V0z\" fill=\"none\"/>\n",
              "    <path d=\"M18.56 5.44l.94 2.06.94-2.06 2.06-.94-2.06-.94-.94-2.06-.94 2.06-2.06.94zm-11 1L8.5 8.5l.94-2.06 2.06-.94-2.06-.94L8.5 2.5l-.94 2.06-2.06.94zm10 10l.94 2.06.94-2.06 2.06-.94-2.06-.94-.94-2.06-.94 2.06-2.06.94z\"/><path d=\"M17.41 7.96l-1.37-1.37c-.4-.4-.92-.59-1.43-.59-.52 0-1.04.2-1.43.59L10.3 9.45l-7.72 7.72c-.78.78-.78 2.05 0 2.83L4 21.41c.39.39.9.59 1.41.59.51 0 1.02-.2 1.41-.59l7.78-7.78 2.81-2.81c.8-.78.8-2.07 0-2.86zM5.41 20L4 18.59l7.72-7.72 1.47 1.35L5.41 20z\"/>\n",
              "  </svg>\n",
              "      </button>\n",
              "      \n",
              "  <style>\n",
              "    .colab-df-container {\n",
              "      display:flex;\n",
              "      flex-wrap:wrap;\n",
              "      gap: 12px;\n",
              "    }\n",
              "\n",
              "    .colab-df-convert {\n",
              "      background-color: #E8F0FE;\n",
              "      border: none;\n",
              "      border-radius: 50%;\n",
              "      cursor: pointer;\n",
              "      display: none;\n",
              "      fill: #1967D2;\n",
              "      height: 32px;\n",
              "      padding: 0 0 0 0;\n",
              "      width: 32px;\n",
              "    }\n",
              "\n",
              "    .colab-df-convert:hover {\n",
              "      background-color: #E2EBFA;\n",
              "      box-shadow: 0px 1px 2px rgba(60, 64, 67, 0.3), 0px 1px 3px 1px rgba(60, 64, 67, 0.15);\n",
              "      fill: #174EA6;\n",
              "    }\n",
              "\n",
              "    [theme=dark] .colab-df-convert {\n",
              "      background-color: #3B4455;\n",
              "      fill: #D2E3FC;\n",
              "    }\n",
              "\n",
              "    [theme=dark] .colab-df-convert:hover {\n",
              "      background-color: #434B5C;\n",
              "      box-shadow: 0px 1px 3px 1px rgba(0, 0, 0, 0.15);\n",
              "      filter: drop-shadow(0px 1px 2px rgba(0, 0, 0, 0.3));\n",
              "      fill: #FFFFFF;\n",
              "    }\n",
              "  </style>\n",
              "\n",
              "      <script>\n",
              "        const buttonEl =\n",
              "          document.querySelector('#df-a8438c67-c220-4a69-a168-e6d7a26bd9e6 button.colab-df-convert');\n",
              "        buttonEl.style.display =\n",
              "          google.colab.kernel.accessAllowed ? 'block' : 'none';\n",
              "\n",
              "        async function convertToInteractive(key) {\n",
              "          const element = document.querySelector('#df-a8438c67-c220-4a69-a168-e6d7a26bd9e6');\n",
              "          const dataTable =\n",
              "            await google.colab.kernel.invokeFunction('convertToInteractive',\n",
              "                                                     [key], {});\n",
              "          if (!dataTable) return;\n",
              "\n",
              "          const docLinkHtml = 'Like what you see? Visit the ' +\n",
              "            '<a target=\"_blank\" href=https://colab.research.google.com/notebooks/data_table.ipynb>data table notebook</a>'\n",
              "            + ' to learn more about interactive tables.';\n",
              "          element.innerHTML = '';\n",
              "          dataTable['output_type'] = 'display_data';\n",
              "          await google.colab.output.renderOutput(dataTable, element);\n",
              "          const docLink = document.createElement('div');\n",
              "          docLink.innerHTML = docLinkHtml;\n",
              "          element.appendChild(docLink);\n",
              "        }\n",
              "      </script>\n",
              "    </div>\n",
              "  </div>\n",
              "  "
            ]
          },
          "metadata": {},
          "execution_count": 112
        }
      ]
    },
    {
      "cell_type": "code",
      "source": [
        "#Obtain column  'a' : \n",
        "\n",
        "df['a']"
      ],
      "metadata": {
        "colab": {
          "base_uri": "https://localhost:8080/"
        },
        "id": "DE08ZPsZyclg",
        "outputId": "8eef8d22-e591-490b-ac80-c917bf5ab1f5"
      },
      "execution_count": 113,
      "outputs": [
        {
          "output_type": "execute_result",
          "data": {
            "text/plain": [
              "0    11\n",
              "1    21\n",
              "2    31\n",
              "Name: a, dtype: int64"
            ]
          },
          "metadata": {},
          "execution_count": 113
        }
      ]
    },
    {
      "cell_type": "markdown",
      "source": [
        "**FOURTH VIDEO SUMMARY: Working with and Saving data with Pandas**\n",
        "\n",
        "Withs oandas we can work with data and save the results in other formats.\n",
        "\n",
        "For example, unique is a method that returns the unique elements in a dataframe. \n",
        "\n",
        "We can also creates new databases consisting of specific characteristics like for example a list of songs released after 1979. To do that we would use inequality operators.\n",
        "\n",
        "for example: df1=df[df['Released']>=1980]\n",
        "\n",
        "This would create a new dataframe for each album released after 1979. We can sabe this file into csv file with the method  df1.to_csv('nameofthefile.csv')"
      ],
      "metadata": {
        "id": "IwbJzT_gKv2i"
      }
    },
    {
      "cell_type": "markdown",
      "source": [
        "**SOLVING THE QUESTIONS BELOW THE VIDEO**\n",
        "\n",
        "\n",
        " QUESTION 1<BR>\n",
        "Consider the dataframe: df=pd.DataFrame({'a':[1,2,1],'b':[1,1,1]})\n",
        "\n",
        "What type does the following return: df['a']==1 ?"
      ],
      "metadata": {
        "id": "VSaFk3RaM-ah"
      }
    },
    {
      "cell_type": "code",
      "source": [
        "import pandas as pd\n",
        "\n",
        "df=pd.DataFrame({'a':[1,2,1],'b':[1,1,1]})\n",
        "\n",
        "df['a']==1"
      ],
      "metadata": {
        "colab": {
          "base_uri": "https://localhost:8080/"
        },
        "id": "y0Ada7g-M68V",
        "outputId": "648fc02e-3e3e-4e8d-f7fd-84bb431666e5"
      },
      "execution_count": 3,
      "outputs": [
        {
          "output_type": "execute_result",
          "data": {
            "text/plain": [
              "0     True\n",
              "1    False\n",
              "2     True\n",
              "Name: a, dtype: bool"
            ]
          },
          "metadata": {},
          "execution_count": 3
        }
      ]
    },
    {
      "cell_type": "markdown",
      "source": [
        "QUESTION 2 <BR>\n",
        "\n",
        "What task does the following method perform: df.to_csv(\"file.csv\")?\n",
        "\n",
        "save a dataframe to a csv file. "
      ],
      "metadata": {
        "id": "FWV4mRgPNmos"
      }
    }
  ]
}