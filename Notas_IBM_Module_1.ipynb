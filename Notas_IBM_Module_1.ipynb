{
  "nbformat": 4,
  "nbformat_minor": 0,
  "metadata": {
    "colab": {
      "provenance": [],
      "collapsed_sections": [],
      "authorship_tag": "ABX9TyMJqb/dLt7+uoiRpw7sCOlg",
      "include_colab_link": true
    },
    "kernelspec": {
      "name": "python3",
      "display_name": "Python 3"
    },
    "language_info": {
      "name": "python"
    }
  },
  "cells": [
    {
      "cell_type": "markdown",
      "metadata": {
        "id": "view-in-github",
        "colab_type": "text"
      },
      "source": [
        "<a href=\"https://colab.research.google.com/github/PosgradoMNA/actividades-de-aprendizaje-JoelOrlandoHR/blob/main/Notas_IBM_Module_1.ipynb\" target=\"_parent\"><img src=\"https://colab.research.google.com/assets/colab-badge.svg\" alt=\"Open In Colab\"/></a>"
      ]
    },
    {
      "cell_type": "code",
      "execution_count": null,
      "metadata": {
        "id": "SYsJV1EjW5iR"
      },
      "outputs": [],
      "source": [
        "#IBM - My first program\n",
        "\n",
        "print (\"Hello Python 101\") #easiest way to make a code\n",
        "\n",
        "print(\"Hello\\nWorld!\") #this prints the code in two different lines\n",
        " \n",
        "\n"
      ]
    },
    {
      "cell_type": "code",
      "source": [
        "#IBM - Types\n",
        "\n",
        "#si se quiere ver el resultado de cada uno. Le tienes que agregar print antes.\n",
        "type(1.1) # este es float\n",
        "type(2) # este es integer\n",
        "type(\"1\") #este es string\n",
        "type(True) # este es boolean\n",
        "\n",
        "print(int(\"1\"))\n",
        "print(bool(\"1.0\"))\n"
      ],
      "metadata": {
        "id": "y4MUH3vvBEI-"
      },
      "execution_count": null,
      "outputs": []
    },
    {
      "cell_type": "code",
      "source": [
        "\n",
        "#IBM Expressions and Variables\n",
        "\n",
        "    #Operands and operators are terms referred to mathematical expressions\n",
        "\n",
        "print(24//5)  #In this case using double slash for a division gives you an integer."
      ],
      "metadata": {
        "id": "OAmIBXD2HTta"
      },
      "execution_count": null,
      "outputs": []
    },
    {
      "cell_type": "code",
      "source": [
        "\n",
        "#IBM String Operations\n",
        "\n",
        "    #There are several operations you can do with strings. Mainly:\n",
        "    #Indexing. Example: variable[2]\n",
        "    #Slicing a word. Example: variable[0:4]\n",
        "    #Strive a string. [::2] will take the string characther that is located every two places.\n",
        "    #String.Upper changes all characters to capital letter.\n",
        "    #String.replace(what you are looking for, what you want to replace it with)\n",
        "    #len for the length of the string\n",
        "    # use the plus (+) sign to concatenate strings\n",
        "    #use slash (/) for escape sequences. /n for a new line /t for tab\n",
        "\n",
        "\n",
        "Letters=\"ABCDEFGHIJK\"\n",
        "print(Letters[0:4]) #Slicing\n",
        "Good=\"GsoAo+d\"\n",
        "print(Good[::2]) #Strides\n",
        "\n",
        "name=\"joel hernandez\"\n",
        "\n",
        "print(\"joel hernandez\".upper())\n",
        "print(name.upper())\n",
        "\n",
        "\"0123456\".find('1')"
      ],
      "metadata": {
        "id": "3PYhJBjZHcba"
      },
      "execution_count": null,
      "outputs": []
    },
    {
      "cell_type": "code",
      "source": [
        "#Review Questions\n",
        "\n",
        "print(3 + 2 * 2)\n",
        "\n",
        "name = 'Lizz'\n",
        "print(name[0:2])\n",
        "\n",
        "var = '01234567'\n",
        "print(var[::2])\n",
        "\n",
        "print('1'+'2')\n",
        "\n",
        "myvar = 'hello'\n",
        "myvar.upper()"
      ],
      "metadata": {
        "colab": {
          "base_uri": "https://localhost:8080/",
          "height": 104
        },
        "id": "mw5_8x5CHgtl",
        "outputId": "0cbcd086-44f3-40c1-c663-e5c1a4d00293"
      },
      "execution_count": 17,
      "outputs": [
        {
          "output_type": "stream",
          "name": "stdout",
          "text": [
            "7\n",
            "Li\n",
            "0246\n",
            "12\n"
          ]
        },
        {
          "output_type": "execute_result",
          "data": {
            "text/plain": [
              "'HELLO'"
            ],
            "application/vnd.google.colaboratory.intrinsic+json": {
              "type": "string"
            }
          },
          "metadata": {},
          "execution_count": 17
        }
      ]
    }
  ]
}